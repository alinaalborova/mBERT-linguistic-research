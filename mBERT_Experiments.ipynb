{
  "nbformat": 4,
  "nbformat_minor": 0,
  "metadata": {
    "colab": {
      "name": "Graphs.ipynb",
      "provenance": [],
      "collapsed_sections": [],
      "toc_visible": true
    },
    "kernelspec": {
      "name": "python3",
      "display_name": "Python 3"
    },
    "accelerator": "GPU",
    "widgets": {
      "application/vnd.jupyter.widget-state+json": {
        "973e51bcb94246688ffe5eb0dd4b2b05": {
          "model_module": "@jupyter-widgets/controls",
          "model_name": "HBoxModel",
          "state": {
            "_view_name": "HBoxView",
            "_dom_classes": [],
            "_model_name": "HBoxModel",
            "_view_module": "@jupyter-widgets/controls",
            "_model_module_version": "1.5.0",
            "_view_count": null,
            "_view_module_version": "1.5.0",
            "box_style": "",
            "layout": "IPY_MODEL_a95ea328842346feb9526ba53c688540",
            "_model_module": "@jupyter-widgets/controls",
            "children": [
              "IPY_MODEL_11b8f41c47bd4e0bb602a8a698a305fd",
              "IPY_MODEL_b20ebebf23fc4cbe8d5975bce9258b7d"
            ]
          }
        },
        "a95ea328842346feb9526ba53c688540": {
          "model_module": "@jupyter-widgets/base",
          "model_name": "LayoutModel",
          "state": {
            "_view_name": "LayoutView",
            "grid_template_rows": null,
            "right": null,
            "justify_content": null,
            "_view_module": "@jupyter-widgets/base",
            "overflow": null,
            "_model_module_version": "1.2.0",
            "_view_count": null,
            "flex_flow": null,
            "width": null,
            "min_width": null,
            "border": null,
            "align_items": null,
            "bottom": null,
            "_model_module": "@jupyter-widgets/base",
            "top": null,
            "grid_column": null,
            "overflow_y": null,
            "overflow_x": null,
            "grid_auto_flow": null,
            "grid_area": null,
            "grid_template_columns": null,
            "flex": null,
            "_model_name": "LayoutModel",
            "justify_items": null,
            "grid_row": null,
            "max_height": null,
            "align_content": null,
            "visibility": null,
            "align_self": null,
            "height": null,
            "min_height": null,
            "padding": null,
            "grid_auto_rows": null,
            "grid_gap": null,
            "max_width": null,
            "order": null,
            "_view_module_version": "1.2.0",
            "grid_template_areas": null,
            "object_position": null,
            "object_fit": null,
            "grid_auto_columns": null,
            "margin": null,
            "display": null,
            "left": null
          }
        },
        "11b8f41c47bd4e0bb602a8a698a305fd": {
          "model_module": "@jupyter-widgets/controls",
          "model_name": "FloatProgressModel",
          "state": {
            "_view_name": "ProgressView",
            "style": "IPY_MODEL_21b426f492c94e6ea1f7b03d1abaad30",
            "_dom_classes": [],
            "description": "",
            "_model_name": "FloatProgressModel",
            "bar_style": "success",
            "max": 1,
            "_view_module": "@jupyter-widgets/controls",
            "_model_module_version": "1.5.0",
            "value": 1,
            "_view_count": null,
            "_view_module_version": "1.5.0",
            "orientation": "horizontal",
            "min": 0,
            "description_tooltip": null,
            "_model_module": "@jupyter-widgets/controls",
            "layout": "IPY_MODEL_31bf7e7348f34a098acf2f816ba19d63"
          }
        },
        "b20ebebf23fc4cbe8d5975bce9258b7d": {
          "model_module": "@jupyter-widgets/controls",
          "model_name": "HTMLModel",
          "state": {
            "_view_name": "HTMLView",
            "style": "IPY_MODEL_a55cae57ee82490eb6522f0bd5cd07d6",
            "_dom_classes": [],
            "description": "",
            "_model_name": "HTMLModel",
            "placeholder": "​",
            "_view_module": "@jupyter-widgets/controls",
            "_model_module_version": "1.5.0",
            "value": " 20000/? [05:27&lt;00:00, 61.14it/s]",
            "_view_count": null,
            "_view_module_version": "1.5.0",
            "description_tooltip": null,
            "_model_module": "@jupyter-widgets/controls",
            "layout": "IPY_MODEL_30ba9e763c1b4bd696440c67b97ee4f0"
          }
        },
        "21b426f492c94e6ea1f7b03d1abaad30": {
          "model_module": "@jupyter-widgets/controls",
          "model_name": "ProgressStyleModel",
          "state": {
            "_view_name": "StyleView",
            "_model_name": "ProgressStyleModel",
            "description_width": "initial",
            "_view_module": "@jupyter-widgets/base",
            "_model_module_version": "1.5.0",
            "_view_count": null,
            "_view_module_version": "1.2.0",
            "bar_color": null,
            "_model_module": "@jupyter-widgets/controls"
          }
        },
        "31bf7e7348f34a098acf2f816ba19d63": {
          "model_module": "@jupyter-widgets/base",
          "model_name": "LayoutModel",
          "state": {
            "_view_name": "LayoutView",
            "grid_template_rows": null,
            "right": null,
            "justify_content": null,
            "_view_module": "@jupyter-widgets/base",
            "overflow": null,
            "_model_module_version": "1.2.0",
            "_view_count": null,
            "flex_flow": null,
            "width": null,
            "min_width": null,
            "border": null,
            "align_items": null,
            "bottom": null,
            "_model_module": "@jupyter-widgets/base",
            "top": null,
            "grid_column": null,
            "overflow_y": null,
            "overflow_x": null,
            "grid_auto_flow": null,
            "grid_area": null,
            "grid_template_columns": null,
            "flex": null,
            "_model_name": "LayoutModel",
            "justify_items": null,
            "grid_row": null,
            "max_height": null,
            "align_content": null,
            "visibility": null,
            "align_self": null,
            "height": null,
            "min_height": null,
            "padding": null,
            "grid_auto_rows": null,
            "grid_gap": null,
            "max_width": null,
            "order": null,
            "_view_module_version": "1.2.0",
            "grid_template_areas": null,
            "object_position": null,
            "object_fit": null,
            "grid_auto_columns": null,
            "margin": null,
            "display": null,
            "left": null
          }
        },
        "a55cae57ee82490eb6522f0bd5cd07d6": {
          "model_module": "@jupyter-widgets/controls",
          "model_name": "DescriptionStyleModel",
          "state": {
            "_view_name": "StyleView",
            "_model_name": "DescriptionStyleModel",
            "description_width": "",
            "_view_module": "@jupyter-widgets/base",
            "_model_module_version": "1.5.0",
            "_view_count": null,
            "_view_module_version": "1.2.0",
            "_model_module": "@jupyter-widgets/controls"
          }
        },
        "30ba9e763c1b4bd696440c67b97ee4f0": {
          "model_module": "@jupyter-widgets/base",
          "model_name": "LayoutModel",
          "state": {
            "_view_name": "LayoutView",
            "grid_template_rows": null,
            "right": null,
            "justify_content": null,
            "_view_module": "@jupyter-widgets/base",
            "overflow": null,
            "_model_module_version": "1.2.0",
            "_view_count": null,
            "flex_flow": null,
            "width": null,
            "min_width": null,
            "border": null,
            "align_items": null,
            "bottom": null,
            "_model_module": "@jupyter-widgets/base",
            "top": null,
            "grid_column": null,
            "overflow_y": null,
            "overflow_x": null,
            "grid_auto_flow": null,
            "grid_area": null,
            "grid_template_columns": null,
            "flex": null,
            "_model_name": "LayoutModel",
            "justify_items": null,
            "grid_row": null,
            "max_height": null,
            "align_content": null,
            "visibility": null,
            "align_self": null,
            "height": null,
            "min_height": null,
            "padding": null,
            "grid_auto_rows": null,
            "grid_gap": null,
            "max_width": null,
            "order": null,
            "_view_module_version": "1.2.0",
            "grid_template_areas": null,
            "object_position": null,
            "object_fit": null,
            "grid_auto_columns": null,
            "margin": null,
            "display": null,
            "left": null
          }
        },
        "58e060f805b74699add3e49bfb353300": {
          "model_module": "@jupyter-widgets/controls",
          "model_name": "HBoxModel",
          "state": {
            "_view_name": "HBoxView",
            "_dom_classes": [],
            "_model_name": "HBoxModel",
            "_view_module": "@jupyter-widgets/controls",
            "_model_module_version": "1.5.0",
            "_view_count": null,
            "_view_module_version": "1.5.0",
            "box_style": "",
            "layout": "IPY_MODEL_48d8bc3af7cb471881a81e07eb7349ff",
            "_model_module": "@jupyter-widgets/controls",
            "children": [
              "IPY_MODEL_698715b3d19b47f2b71213116b851895",
              "IPY_MODEL_c6e38bb63898455abcbbf2bcd6a4fbe3"
            ]
          }
        },
        "48d8bc3af7cb471881a81e07eb7349ff": {
          "model_module": "@jupyter-widgets/base",
          "model_name": "LayoutModel",
          "state": {
            "_view_name": "LayoutView",
            "grid_template_rows": null,
            "right": null,
            "justify_content": null,
            "_view_module": "@jupyter-widgets/base",
            "overflow": null,
            "_model_module_version": "1.2.0",
            "_view_count": null,
            "flex_flow": null,
            "width": null,
            "min_width": null,
            "border": null,
            "align_items": null,
            "bottom": null,
            "_model_module": "@jupyter-widgets/base",
            "top": null,
            "grid_column": null,
            "overflow_y": null,
            "overflow_x": null,
            "grid_auto_flow": null,
            "grid_area": null,
            "grid_template_columns": null,
            "flex": null,
            "_model_name": "LayoutModel",
            "justify_items": null,
            "grid_row": null,
            "max_height": null,
            "align_content": null,
            "visibility": null,
            "align_self": null,
            "height": null,
            "min_height": null,
            "padding": null,
            "grid_auto_rows": null,
            "grid_gap": null,
            "max_width": null,
            "order": null,
            "_view_module_version": "1.2.0",
            "grid_template_areas": null,
            "object_position": null,
            "object_fit": null,
            "grid_auto_columns": null,
            "margin": null,
            "display": null,
            "left": null
          }
        },
        "698715b3d19b47f2b71213116b851895": {
          "model_module": "@jupyter-widgets/controls",
          "model_name": "FloatProgressModel",
          "state": {
            "_view_name": "ProgressView",
            "style": "IPY_MODEL_488e0a0ef12c400b928e3397a6130bc1",
            "_dom_classes": [],
            "description": "",
            "_model_name": "FloatProgressModel",
            "bar_style": "success",
            "max": 1,
            "_view_module": "@jupyter-widgets/controls",
            "_model_module_version": "1.5.0",
            "value": 1,
            "_view_count": null,
            "_view_module_version": "1.5.0",
            "orientation": "horizontal",
            "min": 0,
            "description_tooltip": null,
            "_model_module": "@jupyter-widgets/controls",
            "layout": "IPY_MODEL_2f92bdbd2ffa43ddbc0d52e6d2cca3d7"
          }
        },
        "c6e38bb63898455abcbbf2bcd6a4fbe3": {
          "model_module": "@jupyter-widgets/controls",
          "model_name": "HTMLModel",
          "state": {
            "_view_name": "HTMLView",
            "style": "IPY_MODEL_5c70957e9f9942ce864b5d4fa9c2142b",
            "_dom_classes": [],
            "description": "",
            "_model_name": "HTMLModel",
            "placeholder": "​",
            "_view_module": "@jupyter-widgets/controls",
            "_model_module_version": "1.5.0",
            "value": " 20000/? [03:36&lt;00:00, 92.26it/s]",
            "_view_count": null,
            "_view_module_version": "1.5.0",
            "description_tooltip": null,
            "_model_module": "@jupyter-widgets/controls",
            "layout": "IPY_MODEL_857d474ea8894bd5be9494ad5ff188f7"
          }
        },
        "488e0a0ef12c400b928e3397a6130bc1": {
          "model_module": "@jupyter-widgets/controls",
          "model_name": "ProgressStyleModel",
          "state": {
            "_view_name": "StyleView",
            "_model_name": "ProgressStyleModel",
            "description_width": "initial",
            "_view_module": "@jupyter-widgets/base",
            "_model_module_version": "1.5.0",
            "_view_count": null,
            "_view_module_version": "1.2.0",
            "bar_color": null,
            "_model_module": "@jupyter-widgets/controls"
          }
        },
        "2f92bdbd2ffa43ddbc0d52e6d2cca3d7": {
          "model_module": "@jupyter-widgets/base",
          "model_name": "LayoutModel",
          "state": {
            "_view_name": "LayoutView",
            "grid_template_rows": null,
            "right": null,
            "justify_content": null,
            "_view_module": "@jupyter-widgets/base",
            "overflow": null,
            "_model_module_version": "1.2.0",
            "_view_count": null,
            "flex_flow": null,
            "width": null,
            "min_width": null,
            "border": null,
            "align_items": null,
            "bottom": null,
            "_model_module": "@jupyter-widgets/base",
            "top": null,
            "grid_column": null,
            "overflow_y": null,
            "overflow_x": null,
            "grid_auto_flow": null,
            "grid_area": null,
            "grid_template_columns": null,
            "flex": null,
            "_model_name": "LayoutModel",
            "justify_items": null,
            "grid_row": null,
            "max_height": null,
            "align_content": null,
            "visibility": null,
            "align_self": null,
            "height": null,
            "min_height": null,
            "padding": null,
            "grid_auto_rows": null,
            "grid_gap": null,
            "max_width": null,
            "order": null,
            "_view_module_version": "1.2.0",
            "grid_template_areas": null,
            "object_position": null,
            "object_fit": null,
            "grid_auto_columns": null,
            "margin": null,
            "display": null,
            "left": null
          }
        },
        "5c70957e9f9942ce864b5d4fa9c2142b": {
          "model_module": "@jupyter-widgets/controls",
          "model_name": "DescriptionStyleModel",
          "state": {
            "_view_name": "StyleView",
            "_model_name": "DescriptionStyleModel",
            "description_width": "",
            "_view_module": "@jupyter-widgets/base",
            "_model_module_version": "1.5.0",
            "_view_count": null,
            "_view_module_version": "1.2.0",
            "_model_module": "@jupyter-widgets/controls"
          }
        },
        "857d474ea8894bd5be9494ad5ff188f7": {
          "model_module": "@jupyter-widgets/base",
          "model_name": "LayoutModel",
          "state": {
            "_view_name": "LayoutView",
            "grid_template_rows": null,
            "right": null,
            "justify_content": null,
            "_view_module": "@jupyter-widgets/base",
            "overflow": null,
            "_model_module_version": "1.2.0",
            "_view_count": null,
            "flex_flow": null,
            "width": null,
            "min_width": null,
            "border": null,
            "align_items": null,
            "bottom": null,
            "_model_module": "@jupyter-widgets/base",
            "top": null,
            "grid_column": null,
            "overflow_y": null,
            "overflow_x": null,
            "grid_auto_flow": null,
            "grid_area": null,
            "grid_template_columns": null,
            "flex": null,
            "_model_name": "LayoutModel",
            "justify_items": null,
            "grid_row": null,
            "max_height": null,
            "align_content": null,
            "visibility": null,
            "align_self": null,
            "height": null,
            "min_height": null,
            "padding": null,
            "grid_auto_rows": null,
            "grid_gap": null,
            "max_width": null,
            "order": null,
            "_view_module_version": "1.2.0",
            "grid_template_areas": null,
            "object_position": null,
            "object_fit": null,
            "grid_auto_columns": null,
            "margin": null,
            "display": null,
            "left": null
          }
        },
        "641d0aaa1a404f3da47b9c319a1822a7": {
          "model_module": "@jupyter-widgets/controls",
          "model_name": "HBoxModel",
          "state": {
            "_view_name": "HBoxView",
            "_dom_classes": [],
            "_model_name": "HBoxModel",
            "_view_module": "@jupyter-widgets/controls",
            "_model_module_version": "1.5.0",
            "_view_count": null,
            "_view_module_version": "1.5.0",
            "box_style": "",
            "layout": "IPY_MODEL_c93cf7ebecd04b4887368555937682a2",
            "_model_module": "@jupyter-widgets/controls",
            "children": [
              "IPY_MODEL_c7f688010c764a1580c5fe5f7c22a8f3",
              "IPY_MODEL_ecf0b20eb5934af0856e02129ef46207"
            ]
          }
        },
        "c93cf7ebecd04b4887368555937682a2": {
          "model_module": "@jupyter-widgets/base",
          "model_name": "LayoutModel",
          "state": {
            "_view_name": "LayoutView",
            "grid_template_rows": null,
            "right": null,
            "justify_content": null,
            "_view_module": "@jupyter-widgets/base",
            "overflow": null,
            "_model_module_version": "1.2.0",
            "_view_count": null,
            "flex_flow": null,
            "width": null,
            "min_width": null,
            "border": null,
            "align_items": null,
            "bottom": null,
            "_model_module": "@jupyter-widgets/base",
            "top": null,
            "grid_column": null,
            "overflow_y": null,
            "overflow_x": null,
            "grid_auto_flow": null,
            "grid_area": null,
            "grid_template_columns": null,
            "flex": null,
            "_model_name": "LayoutModel",
            "justify_items": null,
            "grid_row": null,
            "max_height": null,
            "align_content": null,
            "visibility": null,
            "align_self": null,
            "height": null,
            "min_height": null,
            "padding": null,
            "grid_auto_rows": null,
            "grid_gap": null,
            "max_width": null,
            "order": null,
            "_view_module_version": "1.2.0",
            "grid_template_areas": null,
            "object_position": null,
            "object_fit": null,
            "grid_auto_columns": null,
            "margin": null,
            "display": null,
            "left": null
          }
        },
        "c7f688010c764a1580c5fe5f7c22a8f3": {
          "model_module": "@jupyter-widgets/controls",
          "model_name": "FloatProgressModel",
          "state": {
            "_view_name": "ProgressView",
            "style": "IPY_MODEL_c5366083ba4140fbb3697a80f2eddae3",
            "_dom_classes": [],
            "description": "",
            "_model_name": "FloatProgressModel",
            "bar_style": "success",
            "max": 1,
            "_view_module": "@jupyter-widgets/controls",
            "_model_module_version": "1.5.0",
            "value": 1,
            "_view_count": null,
            "_view_module_version": "1.5.0",
            "orientation": "horizontal",
            "min": 0,
            "description_tooltip": null,
            "_model_module": "@jupyter-widgets/controls",
            "layout": "IPY_MODEL_9ea9617ac1da42038915a50e55a68bbc"
          }
        },
        "ecf0b20eb5934af0856e02129ef46207": {
          "model_module": "@jupyter-widgets/controls",
          "model_name": "HTMLModel",
          "state": {
            "_view_name": "HTMLView",
            "style": "IPY_MODEL_d8ee0539422b4562b7d672ef239afa27",
            "_dom_classes": [],
            "description": "",
            "_model_name": "HTMLModel",
            "placeholder": "​",
            "_view_module": "@jupyter-widgets/controls",
            "_model_module_version": "1.5.0",
            "value": " 20000/? [19:54&lt;00:00, 16.75it/s]",
            "_view_count": null,
            "_view_module_version": "1.5.0",
            "description_tooltip": null,
            "_model_module": "@jupyter-widgets/controls",
            "layout": "IPY_MODEL_39660b6b9dd8428b9545d174b28603bd"
          }
        },
        "c5366083ba4140fbb3697a80f2eddae3": {
          "model_module": "@jupyter-widgets/controls",
          "model_name": "ProgressStyleModel",
          "state": {
            "_view_name": "StyleView",
            "_model_name": "ProgressStyleModel",
            "description_width": "initial",
            "_view_module": "@jupyter-widgets/base",
            "_model_module_version": "1.5.0",
            "_view_count": null,
            "_view_module_version": "1.2.0",
            "bar_color": null,
            "_model_module": "@jupyter-widgets/controls"
          }
        },
        "9ea9617ac1da42038915a50e55a68bbc": {
          "model_module": "@jupyter-widgets/base",
          "model_name": "LayoutModel",
          "state": {
            "_view_name": "LayoutView",
            "grid_template_rows": null,
            "right": null,
            "justify_content": null,
            "_view_module": "@jupyter-widgets/base",
            "overflow": null,
            "_model_module_version": "1.2.0",
            "_view_count": null,
            "flex_flow": null,
            "width": null,
            "min_width": null,
            "border": null,
            "align_items": null,
            "bottom": null,
            "_model_module": "@jupyter-widgets/base",
            "top": null,
            "grid_column": null,
            "overflow_y": null,
            "overflow_x": null,
            "grid_auto_flow": null,
            "grid_area": null,
            "grid_template_columns": null,
            "flex": null,
            "_model_name": "LayoutModel",
            "justify_items": null,
            "grid_row": null,
            "max_height": null,
            "align_content": null,
            "visibility": null,
            "align_self": null,
            "height": null,
            "min_height": null,
            "padding": null,
            "grid_auto_rows": null,
            "grid_gap": null,
            "max_width": null,
            "order": null,
            "_view_module_version": "1.2.0",
            "grid_template_areas": null,
            "object_position": null,
            "object_fit": null,
            "grid_auto_columns": null,
            "margin": null,
            "display": null,
            "left": null
          }
        },
        "d8ee0539422b4562b7d672ef239afa27": {
          "model_module": "@jupyter-widgets/controls",
          "model_name": "DescriptionStyleModel",
          "state": {
            "_view_name": "StyleView",
            "_model_name": "DescriptionStyleModel",
            "description_width": "",
            "_view_module": "@jupyter-widgets/base",
            "_model_module_version": "1.5.0",
            "_view_count": null,
            "_view_module_version": "1.2.0",
            "_model_module": "@jupyter-widgets/controls"
          }
        },
        "39660b6b9dd8428b9545d174b28603bd": {
          "model_module": "@jupyter-widgets/base",
          "model_name": "LayoutModel",
          "state": {
            "_view_name": "LayoutView",
            "grid_template_rows": null,
            "right": null,
            "justify_content": null,
            "_view_module": "@jupyter-widgets/base",
            "overflow": null,
            "_model_module_version": "1.2.0",
            "_view_count": null,
            "flex_flow": null,
            "width": null,
            "min_width": null,
            "border": null,
            "align_items": null,
            "bottom": null,
            "_model_module": "@jupyter-widgets/base",
            "top": null,
            "grid_column": null,
            "overflow_y": null,
            "overflow_x": null,
            "grid_auto_flow": null,
            "grid_area": null,
            "grid_template_columns": null,
            "flex": null,
            "_model_name": "LayoutModel",
            "justify_items": null,
            "grid_row": null,
            "max_height": null,
            "align_content": null,
            "visibility": null,
            "align_self": null,
            "height": null,
            "min_height": null,
            "padding": null,
            "grid_auto_rows": null,
            "grid_gap": null,
            "max_width": null,
            "order": null,
            "_view_module_version": "1.2.0",
            "grid_template_areas": null,
            "object_position": null,
            "object_fit": null,
            "grid_auto_columns": null,
            "margin": null,
            "display": null,
            "left": null
          }
        },
        "6b5e4be4d4a7482fa33987c3016d16a9": {
          "model_module": "@jupyter-widgets/controls",
          "model_name": "HBoxModel",
          "state": {
            "_view_name": "HBoxView",
            "_dom_classes": [],
            "_model_name": "HBoxModel",
            "_view_module": "@jupyter-widgets/controls",
            "_model_module_version": "1.5.0",
            "_view_count": null,
            "_view_module_version": "1.5.0",
            "box_style": "",
            "layout": "IPY_MODEL_93d44f1faa3c40b885ce74683affdc62",
            "_model_module": "@jupyter-widgets/controls",
            "children": [
              "IPY_MODEL_37e54679d8124d06a37aa23dc36c72e9",
              "IPY_MODEL_cfd00094605645538ca00afbf6f71c9d"
            ]
          }
        },
        "93d44f1faa3c40b885ce74683affdc62": {
          "model_module": "@jupyter-widgets/base",
          "model_name": "LayoutModel",
          "state": {
            "_view_name": "LayoutView",
            "grid_template_rows": null,
            "right": null,
            "justify_content": null,
            "_view_module": "@jupyter-widgets/base",
            "overflow": null,
            "_model_module_version": "1.2.0",
            "_view_count": null,
            "flex_flow": null,
            "width": null,
            "min_width": null,
            "border": null,
            "align_items": null,
            "bottom": null,
            "_model_module": "@jupyter-widgets/base",
            "top": null,
            "grid_column": null,
            "overflow_y": null,
            "overflow_x": null,
            "grid_auto_flow": null,
            "grid_area": null,
            "grid_template_columns": null,
            "flex": null,
            "_model_name": "LayoutModel",
            "justify_items": null,
            "grid_row": null,
            "max_height": null,
            "align_content": null,
            "visibility": null,
            "align_self": null,
            "height": null,
            "min_height": null,
            "padding": null,
            "grid_auto_rows": null,
            "grid_gap": null,
            "max_width": null,
            "order": null,
            "_view_module_version": "1.2.0",
            "grid_template_areas": null,
            "object_position": null,
            "object_fit": null,
            "grid_auto_columns": null,
            "margin": null,
            "display": null,
            "left": null
          }
        },
        "37e54679d8124d06a37aa23dc36c72e9": {
          "model_module": "@jupyter-widgets/controls",
          "model_name": "FloatProgressModel",
          "state": {
            "_view_name": "ProgressView",
            "style": "IPY_MODEL_c847ee2ea51d4926bba5756e1c68e2d2",
            "_dom_classes": [],
            "description": "",
            "_model_name": "FloatProgressModel",
            "bar_style": "success",
            "max": 1,
            "_view_module": "@jupyter-widgets/controls",
            "_model_module_version": "1.5.0",
            "value": 1,
            "_view_count": null,
            "_view_module_version": "1.5.0",
            "orientation": "horizontal",
            "min": 0,
            "description_tooltip": null,
            "_model_module": "@jupyter-widgets/controls",
            "layout": "IPY_MODEL_e582cffd73444a848491ccdaf753934c"
          }
        },
        "cfd00094605645538ca00afbf6f71c9d": {
          "model_module": "@jupyter-widgets/controls",
          "model_name": "HTMLModel",
          "state": {
            "_view_name": "HTMLView",
            "style": "IPY_MODEL_7bcee75245964fd8b80d4f33d974b127",
            "_dom_classes": [],
            "description": "",
            "_model_name": "HTMLModel",
            "placeholder": "​",
            "_view_module": "@jupyter-widgets/controls",
            "_model_module_version": "1.5.0",
            "value": " 20000/? [04:02&lt;00:00, 82.34it/s]",
            "_view_count": null,
            "_view_module_version": "1.5.0",
            "description_tooltip": null,
            "_model_module": "@jupyter-widgets/controls",
            "layout": "IPY_MODEL_baa13e05c0f64996a1ba82de75d134aa"
          }
        },
        "c847ee2ea51d4926bba5756e1c68e2d2": {
          "model_module": "@jupyter-widgets/controls",
          "model_name": "ProgressStyleModel",
          "state": {
            "_view_name": "StyleView",
            "_model_name": "ProgressStyleModel",
            "description_width": "initial",
            "_view_module": "@jupyter-widgets/base",
            "_model_module_version": "1.5.0",
            "_view_count": null,
            "_view_module_version": "1.2.0",
            "bar_color": null,
            "_model_module": "@jupyter-widgets/controls"
          }
        },
        "e582cffd73444a848491ccdaf753934c": {
          "model_module": "@jupyter-widgets/base",
          "model_name": "LayoutModel",
          "state": {
            "_view_name": "LayoutView",
            "grid_template_rows": null,
            "right": null,
            "justify_content": null,
            "_view_module": "@jupyter-widgets/base",
            "overflow": null,
            "_model_module_version": "1.2.0",
            "_view_count": null,
            "flex_flow": null,
            "width": null,
            "min_width": null,
            "border": null,
            "align_items": null,
            "bottom": null,
            "_model_module": "@jupyter-widgets/base",
            "top": null,
            "grid_column": null,
            "overflow_y": null,
            "overflow_x": null,
            "grid_auto_flow": null,
            "grid_area": null,
            "grid_template_columns": null,
            "flex": null,
            "_model_name": "LayoutModel",
            "justify_items": null,
            "grid_row": null,
            "max_height": null,
            "align_content": null,
            "visibility": null,
            "align_self": null,
            "height": null,
            "min_height": null,
            "padding": null,
            "grid_auto_rows": null,
            "grid_gap": null,
            "max_width": null,
            "order": null,
            "_view_module_version": "1.2.0",
            "grid_template_areas": null,
            "object_position": null,
            "object_fit": null,
            "grid_auto_columns": null,
            "margin": null,
            "display": null,
            "left": null
          }
        },
        "7bcee75245964fd8b80d4f33d974b127": {
          "model_module": "@jupyter-widgets/controls",
          "model_name": "DescriptionStyleModel",
          "state": {
            "_view_name": "StyleView",
            "_model_name": "DescriptionStyleModel",
            "description_width": "",
            "_view_module": "@jupyter-widgets/base",
            "_model_module_version": "1.5.0",
            "_view_count": null,
            "_view_module_version": "1.2.0",
            "_model_module": "@jupyter-widgets/controls"
          }
        },
        "baa13e05c0f64996a1ba82de75d134aa": {
          "model_module": "@jupyter-widgets/base",
          "model_name": "LayoutModel",
          "state": {
            "_view_name": "LayoutView",
            "grid_template_rows": null,
            "right": null,
            "justify_content": null,
            "_view_module": "@jupyter-widgets/base",
            "overflow": null,
            "_model_module_version": "1.2.0",
            "_view_count": null,
            "flex_flow": null,
            "width": null,
            "min_width": null,
            "border": null,
            "align_items": null,
            "bottom": null,
            "_model_module": "@jupyter-widgets/base",
            "top": null,
            "grid_column": null,
            "overflow_y": null,
            "overflow_x": null,
            "grid_auto_flow": null,
            "grid_area": null,
            "grid_template_columns": null,
            "flex": null,
            "_model_name": "LayoutModel",
            "justify_items": null,
            "grid_row": null,
            "max_height": null,
            "align_content": null,
            "visibility": null,
            "align_self": null,
            "height": null,
            "min_height": null,
            "padding": null,
            "grid_auto_rows": null,
            "grid_gap": null,
            "max_width": null,
            "order": null,
            "_view_module_version": "1.2.0",
            "grid_template_areas": null,
            "object_position": null,
            "object_fit": null,
            "grid_auto_columns": null,
            "margin": null,
            "display": null,
            "left": null
          }
        },
        "855a508366754ae1b315b083b6e5601b": {
          "model_module": "@jupyter-widgets/controls",
          "model_name": "HBoxModel",
          "state": {
            "_view_name": "HBoxView",
            "_dom_classes": [],
            "_model_name": "HBoxModel",
            "_view_module": "@jupyter-widgets/controls",
            "_model_module_version": "1.5.0",
            "_view_count": null,
            "_view_module_version": "1.5.0",
            "box_style": "",
            "layout": "IPY_MODEL_98d102aa1b0f4a79aa27d111d766e42e",
            "_model_module": "@jupyter-widgets/controls",
            "children": [
              "IPY_MODEL_f568d5351b704d979c6c70f94bc4bca9",
              "IPY_MODEL_e4eaf1459de446d0926082199fa0a630"
            ]
          }
        },
        "98d102aa1b0f4a79aa27d111d766e42e": {
          "model_module": "@jupyter-widgets/base",
          "model_name": "LayoutModel",
          "state": {
            "_view_name": "LayoutView",
            "grid_template_rows": null,
            "right": null,
            "justify_content": null,
            "_view_module": "@jupyter-widgets/base",
            "overflow": null,
            "_model_module_version": "1.2.0",
            "_view_count": null,
            "flex_flow": null,
            "width": null,
            "min_width": null,
            "border": null,
            "align_items": null,
            "bottom": null,
            "_model_module": "@jupyter-widgets/base",
            "top": null,
            "grid_column": null,
            "overflow_y": null,
            "overflow_x": null,
            "grid_auto_flow": null,
            "grid_area": null,
            "grid_template_columns": null,
            "flex": null,
            "_model_name": "LayoutModel",
            "justify_items": null,
            "grid_row": null,
            "max_height": null,
            "align_content": null,
            "visibility": null,
            "align_self": null,
            "height": null,
            "min_height": null,
            "padding": null,
            "grid_auto_rows": null,
            "grid_gap": null,
            "max_width": null,
            "order": null,
            "_view_module_version": "1.2.0",
            "grid_template_areas": null,
            "object_position": null,
            "object_fit": null,
            "grid_auto_columns": null,
            "margin": null,
            "display": null,
            "left": null
          }
        },
        "f568d5351b704d979c6c70f94bc4bca9": {
          "model_module": "@jupyter-widgets/controls",
          "model_name": "FloatProgressModel",
          "state": {
            "_view_name": "ProgressView",
            "style": "IPY_MODEL_fc912883768a4248ad3658844bee5034",
            "_dom_classes": [],
            "description": "",
            "_model_name": "FloatProgressModel",
            "bar_style": "success",
            "max": 1,
            "_view_module": "@jupyter-widgets/controls",
            "_model_module_version": "1.5.0",
            "value": 1,
            "_view_count": null,
            "_view_module_version": "1.5.0",
            "orientation": "horizontal",
            "min": 0,
            "description_tooltip": null,
            "_model_module": "@jupyter-widgets/controls",
            "layout": "IPY_MODEL_20d5da2411f74792b3991c5c03734528"
          }
        },
        "e4eaf1459de446d0926082199fa0a630": {
          "model_module": "@jupyter-widgets/controls",
          "model_name": "HTMLModel",
          "state": {
            "_view_name": "HTMLView",
            "style": "IPY_MODEL_2cbfe0a68e9b4fb5a3a017eeebd4da70",
            "_dom_classes": [],
            "description": "",
            "_model_name": "HTMLModel",
            "placeholder": "​",
            "_view_module": "@jupyter-widgets/controls",
            "_model_module_version": "1.5.0",
            "value": " 20000/? [04:02&lt;00:00, 82.53it/s]",
            "_view_count": null,
            "_view_module_version": "1.5.0",
            "description_tooltip": null,
            "_model_module": "@jupyter-widgets/controls",
            "layout": "IPY_MODEL_cebf002dd1914e8b940ffab358e2857a"
          }
        },
        "fc912883768a4248ad3658844bee5034": {
          "model_module": "@jupyter-widgets/controls",
          "model_name": "ProgressStyleModel",
          "state": {
            "_view_name": "StyleView",
            "_model_name": "ProgressStyleModel",
            "description_width": "initial",
            "_view_module": "@jupyter-widgets/base",
            "_model_module_version": "1.5.0",
            "_view_count": null,
            "_view_module_version": "1.2.0",
            "bar_color": null,
            "_model_module": "@jupyter-widgets/controls"
          }
        },
        "20d5da2411f74792b3991c5c03734528": {
          "model_module": "@jupyter-widgets/base",
          "model_name": "LayoutModel",
          "state": {
            "_view_name": "LayoutView",
            "grid_template_rows": null,
            "right": null,
            "justify_content": null,
            "_view_module": "@jupyter-widgets/base",
            "overflow": null,
            "_model_module_version": "1.2.0",
            "_view_count": null,
            "flex_flow": null,
            "width": null,
            "min_width": null,
            "border": null,
            "align_items": null,
            "bottom": null,
            "_model_module": "@jupyter-widgets/base",
            "top": null,
            "grid_column": null,
            "overflow_y": null,
            "overflow_x": null,
            "grid_auto_flow": null,
            "grid_area": null,
            "grid_template_columns": null,
            "flex": null,
            "_model_name": "LayoutModel",
            "justify_items": null,
            "grid_row": null,
            "max_height": null,
            "align_content": null,
            "visibility": null,
            "align_self": null,
            "height": null,
            "min_height": null,
            "padding": null,
            "grid_auto_rows": null,
            "grid_gap": null,
            "max_width": null,
            "order": null,
            "_view_module_version": "1.2.0",
            "grid_template_areas": null,
            "object_position": null,
            "object_fit": null,
            "grid_auto_columns": null,
            "margin": null,
            "display": null,
            "left": null
          }
        },
        "2cbfe0a68e9b4fb5a3a017eeebd4da70": {
          "model_module": "@jupyter-widgets/controls",
          "model_name": "DescriptionStyleModel",
          "state": {
            "_view_name": "StyleView",
            "_model_name": "DescriptionStyleModel",
            "description_width": "",
            "_view_module": "@jupyter-widgets/base",
            "_model_module_version": "1.5.0",
            "_view_count": null,
            "_view_module_version": "1.2.0",
            "_model_module": "@jupyter-widgets/controls"
          }
        },
        "cebf002dd1914e8b940ffab358e2857a": {
          "model_module": "@jupyter-widgets/base",
          "model_name": "LayoutModel",
          "state": {
            "_view_name": "LayoutView",
            "grid_template_rows": null,
            "right": null,
            "justify_content": null,
            "_view_module": "@jupyter-widgets/base",
            "overflow": null,
            "_model_module_version": "1.2.0",
            "_view_count": null,
            "flex_flow": null,
            "width": null,
            "min_width": null,
            "border": null,
            "align_items": null,
            "bottom": null,
            "_model_module": "@jupyter-widgets/base",
            "top": null,
            "grid_column": null,
            "overflow_y": null,
            "overflow_x": null,
            "grid_auto_flow": null,
            "grid_area": null,
            "grid_template_columns": null,
            "flex": null,
            "_model_name": "LayoutModel",
            "justify_items": null,
            "grid_row": null,
            "max_height": null,
            "align_content": null,
            "visibility": null,
            "align_self": null,
            "height": null,
            "min_height": null,
            "padding": null,
            "grid_auto_rows": null,
            "grid_gap": null,
            "max_width": null,
            "order": null,
            "_view_module_version": "1.2.0",
            "grid_template_areas": null,
            "object_position": null,
            "object_fit": null,
            "grid_auto_columns": null,
            "margin": null,
            "display": null,
            "left": null
          }
        },
        "c2b7061d63e342d1a74b67e77c7ce34e": {
          "model_module": "@jupyter-widgets/controls",
          "model_name": "HBoxModel",
          "state": {
            "_view_name": "HBoxView",
            "_dom_classes": [],
            "_model_name": "HBoxModel",
            "_view_module": "@jupyter-widgets/controls",
            "_model_module_version": "1.5.0",
            "_view_count": null,
            "_view_module_version": "1.5.0",
            "box_style": "",
            "layout": "IPY_MODEL_48dcaa9645ec47129381673d8b4214d7",
            "_model_module": "@jupyter-widgets/controls",
            "children": [
              "IPY_MODEL_eeba67a79bea483ead83a7e2ec8c9323",
              "IPY_MODEL_97a700132dae4d828229d6aa4ded867a"
            ]
          }
        },
        "48dcaa9645ec47129381673d8b4214d7": {
          "model_module": "@jupyter-widgets/base",
          "model_name": "LayoutModel",
          "state": {
            "_view_name": "LayoutView",
            "grid_template_rows": null,
            "right": null,
            "justify_content": null,
            "_view_module": "@jupyter-widgets/base",
            "overflow": null,
            "_model_module_version": "1.2.0",
            "_view_count": null,
            "flex_flow": null,
            "width": null,
            "min_width": null,
            "border": null,
            "align_items": null,
            "bottom": null,
            "_model_module": "@jupyter-widgets/base",
            "top": null,
            "grid_column": null,
            "overflow_y": null,
            "overflow_x": null,
            "grid_auto_flow": null,
            "grid_area": null,
            "grid_template_columns": null,
            "flex": null,
            "_model_name": "LayoutModel",
            "justify_items": null,
            "grid_row": null,
            "max_height": null,
            "align_content": null,
            "visibility": null,
            "align_self": null,
            "height": null,
            "min_height": null,
            "padding": null,
            "grid_auto_rows": null,
            "grid_gap": null,
            "max_width": null,
            "order": null,
            "_view_module_version": "1.2.0",
            "grid_template_areas": null,
            "object_position": null,
            "object_fit": null,
            "grid_auto_columns": null,
            "margin": null,
            "display": null,
            "left": null
          }
        },
        "eeba67a79bea483ead83a7e2ec8c9323": {
          "model_module": "@jupyter-widgets/controls",
          "model_name": "FloatProgressModel",
          "state": {
            "_view_name": "ProgressView",
            "style": "IPY_MODEL_a111025a81e34d7a977c73c22b863a83",
            "_dom_classes": [],
            "description": "",
            "_model_name": "FloatProgressModel",
            "bar_style": "success",
            "max": 1,
            "_view_module": "@jupyter-widgets/controls",
            "_model_module_version": "1.5.0",
            "value": 1,
            "_view_count": null,
            "_view_module_version": "1.5.0",
            "orientation": "horizontal",
            "min": 0,
            "description_tooltip": null,
            "_model_module": "@jupyter-widgets/controls",
            "layout": "IPY_MODEL_500b8a76f7ff4d32be5bb6b9dcf77935"
          }
        },
        "97a700132dae4d828229d6aa4ded867a": {
          "model_module": "@jupyter-widgets/controls",
          "model_name": "HTMLModel",
          "state": {
            "_view_name": "HTMLView",
            "style": "IPY_MODEL_0e4fe94691404f8db9439e51a8a52860",
            "_dom_classes": [],
            "description": "",
            "_model_name": "HTMLModel",
            "placeholder": "​",
            "_view_module": "@jupyter-widgets/controls",
            "_model_module_version": "1.5.0",
            "value": " 20000/? [00:00&lt;00:00, 46077.15it/s]",
            "_view_count": null,
            "_view_module_version": "1.5.0",
            "description_tooltip": null,
            "_model_module": "@jupyter-widgets/controls",
            "layout": "IPY_MODEL_358c08c2b0614be2818a2e3edb815ecb"
          }
        },
        "a111025a81e34d7a977c73c22b863a83": {
          "model_module": "@jupyter-widgets/controls",
          "model_name": "ProgressStyleModel",
          "state": {
            "_view_name": "StyleView",
            "_model_name": "ProgressStyleModel",
            "description_width": "initial",
            "_view_module": "@jupyter-widgets/base",
            "_model_module_version": "1.5.0",
            "_view_count": null,
            "_view_module_version": "1.2.0",
            "bar_color": null,
            "_model_module": "@jupyter-widgets/controls"
          }
        },
        "500b8a76f7ff4d32be5bb6b9dcf77935": {
          "model_module": "@jupyter-widgets/base",
          "model_name": "LayoutModel",
          "state": {
            "_view_name": "LayoutView",
            "grid_template_rows": null,
            "right": null,
            "justify_content": null,
            "_view_module": "@jupyter-widgets/base",
            "overflow": null,
            "_model_module_version": "1.2.0",
            "_view_count": null,
            "flex_flow": null,
            "width": null,
            "min_width": null,
            "border": null,
            "align_items": null,
            "bottom": null,
            "_model_module": "@jupyter-widgets/base",
            "top": null,
            "grid_column": null,
            "overflow_y": null,
            "overflow_x": null,
            "grid_auto_flow": null,
            "grid_area": null,
            "grid_template_columns": null,
            "flex": null,
            "_model_name": "LayoutModel",
            "justify_items": null,
            "grid_row": null,
            "max_height": null,
            "align_content": null,
            "visibility": null,
            "align_self": null,
            "height": null,
            "min_height": null,
            "padding": null,
            "grid_auto_rows": null,
            "grid_gap": null,
            "max_width": null,
            "order": null,
            "_view_module_version": "1.2.0",
            "grid_template_areas": null,
            "object_position": null,
            "object_fit": null,
            "grid_auto_columns": null,
            "margin": null,
            "display": null,
            "left": null
          }
        },
        "0e4fe94691404f8db9439e51a8a52860": {
          "model_module": "@jupyter-widgets/controls",
          "model_name": "DescriptionStyleModel",
          "state": {
            "_view_name": "StyleView",
            "_model_name": "DescriptionStyleModel",
            "description_width": "",
            "_view_module": "@jupyter-widgets/base",
            "_model_module_version": "1.5.0",
            "_view_count": null,
            "_view_module_version": "1.2.0",
            "_model_module": "@jupyter-widgets/controls"
          }
        },
        "358c08c2b0614be2818a2e3edb815ecb": {
          "model_module": "@jupyter-widgets/base",
          "model_name": "LayoutModel",
          "state": {
            "_view_name": "LayoutView",
            "grid_template_rows": null,
            "right": null,
            "justify_content": null,
            "_view_module": "@jupyter-widgets/base",
            "overflow": null,
            "_model_module_version": "1.2.0",
            "_view_count": null,
            "flex_flow": null,
            "width": null,
            "min_width": null,
            "border": null,
            "align_items": null,
            "bottom": null,
            "_model_module": "@jupyter-widgets/base",
            "top": null,
            "grid_column": null,
            "overflow_y": null,
            "overflow_x": null,
            "grid_auto_flow": null,
            "grid_area": null,
            "grid_template_columns": null,
            "flex": null,
            "_model_name": "LayoutModel",
            "justify_items": null,
            "grid_row": null,
            "max_height": null,
            "align_content": null,
            "visibility": null,
            "align_self": null,
            "height": null,
            "min_height": null,
            "padding": null,
            "grid_auto_rows": null,
            "grid_gap": null,
            "max_width": null,
            "order": null,
            "_view_module_version": "1.2.0",
            "grid_template_areas": null,
            "object_position": null,
            "object_fit": null,
            "grid_auto_columns": null,
            "margin": null,
            "display": null,
            "left": null
          }
        },
        "ba3b4d0b001b401b891b1b17c98f0de3": {
          "model_module": "@jupyter-widgets/controls",
          "model_name": "HBoxModel",
          "state": {
            "_view_name": "HBoxView",
            "_dom_classes": [],
            "_model_name": "HBoxModel",
            "_view_module": "@jupyter-widgets/controls",
            "_model_module_version": "1.5.0",
            "_view_count": null,
            "_view_module_version": "1.5.0",
            "box_style": "",
            "layout": "IPY_MODEL_f10d1d8db2b44402854f25acb41d0bcf",
            "_model_module": "@jupyter-widgets/controls",
            "children": [
              "IPY_MODEL_a823aff1b1b54438b6b65a3caa86598a",
              "IPY_MODEL_50bd331249e74b35b706c23cfc433fdd"
            ]
          }
        },
        "f10d1d8db2b44402854f25acb41d0bcf": {
          "model_module": "@jupyter-widgets/base",
          "model_name": "LayoutModel",
          "state": {
            "_view_name": "LayoutView",
            "grid_template_rows": null,
            "right": null,
            "justify_content": null,
            "_view_module": "@jupyter-widgets/base",
            "overflow": null,
            "_model_module_version": "1.2.0",
            "_view_count": null,
            "flex_flow": null,
            "width": null,
            "min_width": null,
            "border": null,
            "align_items": null,
            "bottom": null,
            "_model_module": "@jupyter-widgets/base",
            "top": null,
            "grid_column": null,
            "overflow_y": null,
            "overflow_x": null,
            "grid_auto_flow": null,
            "grid_area": null,
            "grid_template_columns": null,
            "flex": null,
            "_model_name": "LayoutModel",
            "justify_items": null,
            "grid_row": null,
            "max_height": null,
            "align_content": null,
            "visibility": null,
            "align_self": null,
            "height": null,
            "min_height": null,
            "padding": null,
            "grid_auto_rows": null,
            "grid_gap": null,
            "max_width": null,
            "order": null,
            "_view_module_version": "1.2.0",
            "grid_template_areas": null,
            "object_position": null,
            "object_fit": null,
            "grid_auto_columns": null,
            "margin": null,
            "display": null,
            "left": null
          }
        },
        "a823aff1b1b54438b6b65a3caa86598a": {
          "model_module": "@jupyter-widgets/controls",
          "model_name": "FloatProgressModel",
          "state": {
            "_view_name": "ProgressView",
            "style": "IPY_MODEL_693648d91f57490098bf243e0eb50549",
            "_dom_classes": [],
            "description": "",
            "_model_name": "FloatProgressModel",
            "bar_style": "success",
            "max": 1,
            "_view_module": "@jupyter-widgets/controls",
            "_model_module_version": "1.5.0",
            "value": 1,
            "_view_count": null,
            "_view_module_version": "1.5.0",
            "orientation": "horizontal",
            "min": 0,
            "description_tooltip": null,
            "_model_module": "@jupyter-widgets/controls",
            "layout": "IPY_MODEL_fae6c9acbcee470fa5fe02846b7b6316"
          }
        },
        "50bd331249e74b35b706c23cfc433fdd": {
          "model_module": "@jupyter-widgets/controls",
          "model_name": "HTMLModel",
          "state": {
            "_view_name": "HTMLView",
            "style": "IPY_MODEL_15673651f676411897a93e2d8c79041e",
            "_dom_classes": [],
            "description": "",
            "_model_name": "HTMLModel",
            "placeholder": "​",
            "_view_module": "@jupyter-widgets/controls",
            "_model_module_version": "1.5.0",
            "value": " 20000/? [01:44&lt;00:00, 190.52it/s]",
            "_view_count": null,
            "_view_module_version": "1.5.0",
            "description_tooltip": null,
            "_model_module": "@jupyter-widgets/controls",
            "layout": "IPY_MODEL_1e16cb8d31c84254945853e4d01c0a46"
          }
        },
        "693648d91f57490098bf243e0eb50549": {
          "model_module": "@jupyter-widgets/controls",
          "model_name": "ProgressStyleModel",
          "state": {
            "_view_name": "StyleView",
            "_model_name": "ProgressStyleModel",
            "description_width": "initial",
            "_view_module": "@jupyter-widgets/base",
            "_model_module_version": "1.5.0",
            "_view_count": null,
            "_view_module_version": "1.2.0",
            "bar_color": null,
            "_model_module": "@jupyter-widgets/controls"
          }
        },
        "fae6c9acbcee470fa5fe02846b7b6316": {
          "model_module": "@jupyter-widgets/base",
          "model_name": "LayoutModel",
          "state": {
            "_view_name": "LayoutView",
            "grid_template_rows": null,
            "right": null,
            "justify_content": null,
            "_view_module": "@jupyter-widgets/base",
            "overflow": null,
            "_model_module_version": "1.2.0",
            "_view_count": null,
            "flex_flow": null,
            "width": null,
            "min_width": null,
            "border": null,
            "align_items": null,
            "bottom": null,
            "_model_module": "@jupyter-widgets/base",
            "top": null,
            "grid_column": null,
            "overflow_y": null,
            "overflow_x": null,
            "grid_auto_flow": null,
            "grid_area": null,
            "grid_template_columns": null,
            "flex": null,
            "_model_name": "LayoutModel",
            "justify_items": null,
            "grid_row": null,
            "max_height": null,
            "align_content": null,
            "visibility": null,
            "align_self": null,
            "height": null,
            "min_height": null,
            "padding": null,
            "grid_auto_rows": null,
            "grid_gap": null,
            "max_width": null,
            "order": null,
            "_view_module_version": "1.2.0",
            "grid_template_areas": null,
            "object_position": null,
            "object_fit": null,
            "grid_auto_columns": null,
            "margin": null,
            "display": null,
            "left": null
          }
        },
        "15673651f676411897a93e2d8c79041e": {
          "model_module": "@jupyter-widgets/controls",
          "model_name": "DescriptionStyleModel",
          "state": {
            "_view_name": "StyleView",
            "_model_name": "DescriptionStyleModel",
            "description_width": "",
            "_view_module": "@jupyter-widgets/base",
            "_model_module_version": "1.5.0",
            "_view_count": null,
            "_view_module_version": "1.2.0",
            "_model_module": "@jupyter-widgets/controls"
          }
        },
        "1e16cb8d31c84254945853e4d01c0a46": {
          "model_module": "@jupyter-widgets/base",
          "model_name": "LayoutModel",
          "state": {
            "_view_name": "LayoutView",
            "grid_template_rows": null,
            "right": null,
            "justify_content": null,
            "_view_module": "@jupyter-widgets/base",
            "overflow": null,
            "_model_module_version": "1.2.0",
            "_view_count": null,
            "flex_flow": null,
            "width": null,
            "min_width": null,
            "border": null,
            "align_items": null,
            "bottom": null,
            "_model_module": "@jupyter-widgets/base",
            "top": null,
            "grid_column": null,
            "overflow_y": null,
            "overflow_x": null,
            "grid_auto_flow": null,
            "grid_area": null,
            "grid_template_columns": null,
            "flex": null,
            "_model_name": "LayoutModel",
            "justify_items": null,
            "grid_row": null,
            "max_height": null,
            "align_content": null,
            "visibility": null,
            "align_self": null,
            "height": null,
            "min_height": null,
            "padding": null,
            "grid_auto_rows": null,
            "grid_gap": null,
            "max_width": null,
            "order": null,
            "_view_module_version": "1.2.0",
            "grid_template_areas": null,
            "object_position": null,
            "object_fit": null,
            "grid_auto_columns": null,
            "margin": null,
            "display": null,
            "left": null
          }
        },
        "058f86c1e6fb4ce0afd1047233168715": {
          "model_module": "@jupyter-widgets/controls",
          "model_name": "HBoxModel",
          "state": {
            "_view_name": "HBoxView",
            "_dom_classes": [],
            "_model_name": "HBoxModel",
            "_view_module": "@jupyter-widgets/controls",
            "_model_module_version": "1.5.0",
            "_view_count": null,
            "_view_module_version": "1.5.0",
            "box_style": "",
            "layout": "IPY_MODEL_a4d59bc8a2b84fe692243628746f6d7d",
            "_model_module": "@jupyter-widgets/controls",
            "children": [
              "IPY_MODEL_de0fc557b4274fb293545adb4a622f0b",
              "IPY_MODEL_423e304dd99c40aab314e4d443409223"
            ]
          }
        },
        "a4d59bc8a2b84fe692243628746f6d7d": {
          "model_module": "@jupyter-widgets/base",
          "model_name": "LayoutModel",
          "state": {
            "_view_name": "LayoutView",
            "grid_template_rows": null,
            "right": null,
            "justify_content": null,
            "_view_module": "@jupyter-widgets/base",
            "overflow": null,
            "_model_module_version": "1.2.0",
            "_view_count": null,
            "flex_flow": null,
            "width": null,
            "min_width": null,
            "border": null,
            "align_items": null,
            "bottom": null,
            "_model_module": "@jupyter-widgets/base",
            "top": null,
            "grid_column": null,
            "overflow_y": null,
            "overflow_x": null,
            "grid_auto_flow": null,
            "grid_area": null,
            "grid_template_columns": null,
            "flex": null,
            "_model_name": "LayoutModel",
            "justify_items": null,
            "grid_row": null,
            "max_height": null,
            "align_content": null,
            "visibility": null,
            "align_self": null,
            "height": null,
            "min_height": null,
            "padding": null,
            "grid_auto_rows": null,
            "grid_gap": null,
            "max_width": null,
            "order": null,
            "_view_module_version": "1.2.0",
            "grid_template_areas": null,
            "object_position": null,
            "object_fit": null,
            "grid_auto_columns": null,
            "margin": null,
            "display": null,
            "left": null
          }
        },
        "de0fc557b4274fb293545adb4a622f0b": {
          "model_module": "@jupyter-widgets/controls",
          "model_name": "FloatProgressModel",
          "state": {
            "_view_name": "ProgressView",
            "style": "IPY_MODEL_61f7bbca498e4215af84c23525fa79b0",
            "_dom_classes": [],
            "description": "",
            "_model_name": "FloatProgressModel",
            "bar_style": "success",
            "max": 1,
            "_view_module": "@jupyter-widgets/controls",
            "_model_module_version": "1.5.0",
            "value": 1,
            "_view_count": null,
            "_view_module_version": "1.5.0",
            "orientation": "horizontal",
            "min": 0,
            "description_tooltip": null,
            "_model_module": "@jupyter-widgets/controls",
            "layout": "IPY_MODEL_630c31ba12d84f3fae368b5b56633fea"
          }
        },
        "423e304dd99c40aab314e4d443409223": {
          "model_module": "@jupyter-widgets/controls",
          "model_name": "HTMLModel",
          "state": {
            "_view_name": "HTMLView",
            "style": "IPY_MODEL_ce3c9f696ee3403886dba32c36e1a3a4",
            "_dom_classes": [],
            "description": "",
            "_model_name": "HTMLModel",
            "placeholder": "​",
            "_view_module": "@jupyter-widgets/controls",
            "_model_module_version": "1.5.0",
            "value": " 20000/? [00:52&lt;00:00, 379.49it/s]",
            "_view_count": null,
            "_view_module_version": "1.5.0",
            "description_tooltip": null,
            "_model_module": "@jupyter-widgets/controls",
            "layout": "IPY_MODEL_2fee86845ca84c3fa7e58edb29fd9990"
          }
        },
        "61f7bbca498e4215af84c23525fa79b0": {
          "model_module": "@jupyter-widgets/controls",
          "model_name": "ProgressStyleModel",
          "state": {
            "_view_name": "StyleView",
            "_model_name": "ProgressStyleModel",
            "description_width": "initial",
            "_view_module": "@jupyter-widgets/base",
            "_model_module_version": "1.5.0",
            "_view_count": null,
            "_view_module_version": "1.2.0",
            "bar_color": null,
            "_model_module": "@jupyter-widgets/controls"
          }
        },
        "630c31ba12d84f3fae368b5b56633fea": {
          "model_module": "@jupyter-widgets/base",
          "model_name": "LayoutModel",
          "state": {
            "_view_name": "LayoutView",
            "grid_template_rows": null,
            "right": null,
            "justify_content": null,
            "_view_module": "@jupyter-widgets/base",
            "overflow": null,
            "_model_module_version": "1.2.0",
            "_view_count": null,
            "flex_flow": null,
            "width": null,
            "min_width": null,
            "border": null,
            "align_items": null,
            "bottom": null,
            "_model_module": "@jupyter-widgets/base",
            "top": null,
            "grid_column": null,
            "overflow_y": null,
            "overflow_x": null,
            "grid_auto_flow": null,
            "grid_area": null,
            "grid_template_columns": null,
            "flex": null,
            "_model_name": "LayoutModel",
            "justify_items": null,
            "grid_row": null,
            "max_height": null,
            "align_content": null,
            "visibility": null,
            "align_self": null,
            "height": null,
            "min_height": null,
            "padding": null,
            "grid_auto_rows": null,
            "grid_gap": null,
            "max_width": null,
            "order": null,
            "_view_module_version": "1.2.0",
            "grid_template_areas": null,
            "object_position": null,
            "object_fit": null,
            "grid_auto_columns": null,
            "margin": null,
            "display": null,
            "left": null
          }
        },
        "ce3c9f696ee3403886dba32c36e1a3a4": {
          "model_module": "@jupyter-widgets/controls",
          "model_name": "DescriptionStyleModel",
          "state": {
            "_view_name": "StyleView",
            "_model_name": "DescriptionStyleModel",
            "description_width": "",
            "_view_module": "@jupyter-widgets/base",
            "_model_module_version": "1.5.0",
            "_view_count": null,
            "_view_module_version": "1.2.0",
            "_model_module": "@jupyter-widgets/controls"
          }
        },
        "2fee86845ca84c3fa7e58edb29fd9990": {
          "model_module": "@jupyter-widgets/base",
          "model_name": "LayoutModel",
          "state": {
            "_view_name": "LayoutView",
            "grid_template_rows": null,
            "right": null,
            "justify_content": null,
            "_view_module": "@jupyter-widgets/base",
            "overflow": null,
            "_model_module_version": "1.2.0",
            "_view_count": null,
            "flex_flow": null,
            "width": null,
            "min_width": null,
            "border": null,
            "align_items": null,
            "bottom": null,
            "_model_module": "@jupyter-widgets/base",
            "top": null,
            "grid_column": null,
            "overflow_y": null,
            "overflow_x": null,
            "grid_auto_flow": null,
            "grid_area": null,
            "grid_template_columns": null,
            "flex": null,
            "_model_name": "LayoutModel",
            "justify_items": null,
            "grid_row": null,
            "max_height": null,
            "align_content": null,
            "visibility": null,
            "align_self": null,
            "height": null,
            "min_height": null,
            "padding": null,
            "grid_auto_rows": null,
            "grid_gap": null,
            "max_width": null,
            "order": null,
            "_view_module_version": "1.2.0",
            "grid_template_areas": null,
            "object_position": null,
            "object_fit": null,
            "grid_auto_columns": null,
            "margin": null,
            "display": null,
            "left": null
          }
        },
        "c06020266a404e5dab369d615a99a69a": {
          "model_module": "@jupyter-widgets/controls",
          "model_name": "HBoxModel",
          "state": {
            "_view_name": "HBoxView",
            "_dom_classes": [],
            "_model_name": "HBoxModel",
            "_view_module": "@jupyter-widgets/controls",
            "_model_module_version": "1.5.0",
            "_view_count": null,
            "_view_module_version": "1.5.0",
            "box_style": "",
            "layout": "IPY_MODEL_33aa5dfb44f94d5c9c477d990344bbf8",
            "_model_module": "@jupyter-widgets/controls",
            "children": [
              "IPY_MODEL_238587ce39b84819bd5b3c279a52bfe3",
              "IPY_MODEL_c63f530c464546538f54c34b203216cc"
            ]
          }
        },
        "33aa5dfb44f94d5c9c477d990344bbf8": {
          "model_module": "@jupyter-widgets/base",
          "model_name": "LayoutModel",
          "state": {
            "_view_name": "LayoutView",
            "grid_template_rows": null,
            "right": null,
            "justify_content": null,
            "_view_module": "@jupyter-widgets/base",
            "overflow": null,
            "_model_module_version": "1.2.0",
            "_view_count": null,
            "flex_flow": null,
            "width": null,
            "min_width": null,
            "border": null,
            "align_items": null,
            "bottom": null,
            "_model_module": "@jupyter-widgets/base",
            "top": null,
            "grid_column": null,
            "overflow_y": null,
            "overflow_x": null,
            "grid_auto_flow": null,
            "grid_area": null,
            "grid_template_columns": null,
            "flex": null,
            "_model_name": "LayoutModel",
            "justify_items": null,
            "grid_row": null,
            "max_height": null,
            "align_content": null,
            "visibility": null,
            "align_self": null,
            "height": null,
            "min_height": null,
            "padding": null,
            "grid_auto_rows": null,
            "grid_gap": null,
            "max_width": null,
            "order": null,
            "_view_module_version": "1.2.0",
            "grid_template_areas": null,
            "object_position": null,
            "object_fit": null,
            "grid_auto_columns": null,
            "margin": null,
            "display": null,
            "left": null
          }
        },
        "238587ce39b84819bd5b3c279a52bfe3": {
          "model_module": "@jupyter-widgets/controls",
          "model_name": "FloatProgressModel",
          "state": {
            "_view_name": "ProgressView",
            "style": "IPY_MODEL_d04822e9dea8450090e714488b7bce20",
            "_dom_classes": [],
            "description": "",
            "_model_name": "FloatProgressModel",
            "bar_style": "success",
            "max": 1,
            "_view_module": "@jupyter-widgets/controls",
            "_model_module_version": "1.5.0",
            "value": 1,
            "_view_count": null,
            "_view_module_version": "1.5.0",
            "orientation": "horizontal",
            "min": 0,
            "description_tooltip": null,
            "_model_module": "@jupyter-widgets/controls",
            "layout": "IPY_MODEL_a27898eaa4d04de19bc228a88d31e5c6"
          }
        },
        "c63f530c464546538f54c34b203216cc": {
          "model_module": "@jupyter-widgets/controls",
          "model_name": "HTMLModel",
          "state": {
            "_view_name": "HTMLView",
            "style": "IPY_MODEL_a6afe26fb3344246bd74bed93f26d549",
            "_dom_classes": [],
            "description": "",
            "_model_name": "HTMLModel",
            "placeholder": "​",
            "_view_module": "@jupyter-widgets/controls",
            "_model_module_version": "1.5.0",
            "value": " 19999/? [00:52&lt;00:00, 383.02it/s]",
            "_view_count": null,
            "_view_module_version": "1.5.0",
            "description_tooltip": null,
            "_model_module": "@jupyter-widgets/controls",
            "layout": "IPY_MODEL_48d57f17bed44c6db627939165e8b99e"
          }
        },
        "d04822e9dea8450090e714488b7bce20": {
          "model_module": "@jupyter-widgets/controls",
          "model_name": "ProgressStyleModel",
          "state": {
            "_view_name": "StyleView",
            "_model_name": "ProgressStyleModel",
            "description_width": "initial",
            "_view_module": "@jupyter-widgets/base",
            "_model_module_version": "1.5.0",
            "_view_count": null,
            "_view_module_version": "1.2.0",
            "bar_color": null,
            "_model_module": "@jupyter-widgets/controls"
          }
        },
        "a27898eaa4d04de19bc228a88d31e5c6": {
          "model_module": "@jupyter-widgets/base",
          "model_name": "LayoutModel",
          "state": {
            "_view_name": "LayoutView",
            "grid_template_rows": null,
            "right": null,
            "justify_content": null,
            "_view_module": "@jupyter-widgets/base",
            "overflow": null,
            "_model_module_version": "1.2.0",
            "_view_count": null,
            "flex_flow": null,
            "width": null,
            "min_width": null,
            "border": null,
            "align_items": null,
            "bottom": null,
            "_model_module": "@jupyter-widgets/base",
            "top": null,
            "grid_column": null,
            "overflow_y": null,
            "overflow_x": null,
            "grid_auto_flow": null,
            "grid_area": null,
            "grid_template_columns": null,
            "flex": null,
            "_model_name": "LayoutModel",
            "justify_items": null,
            "grid_row": null,
            "max_height": null,
            "align_content": null,
            "visibility": null,
            "align_self": null,
            "height": null,
            "min_height": null,
            "padding": null,
            "grid_auto_rows": null,
            "grid_gap": null,
            "max_width": null,
            "order": null,
            "_view_module_version": "1.2.0",
            "grid_template_areas": null,
            "object_position": null,
            "object_fit": null,
            "grid_auto_columns": null,
            "margin": null,
            "display": null,
            "left": null
          }
        },
        "a6afe26fb3344246bd74bed93f26d549": {
          "model_module": "@jupyter-widgets/controls",
          "model_name": "DescriptionStyleModel",
          "state": {
            "_view_name": "StyleView",
            "_model_name": "DescriptionStyleModel",
            "description_width": "",
            "_view_module": "@jupyter-widgets/base",
            "_model_module_version": "1.5.0",
            "_view_count": null,
            "_view_module_version": "1.2.0",
            "_model_module": "@jupyter-widgets/controls"
          }
        },
        "48d57f17bed44c6db627939165e8b99e": {
          "model_module": "@jupyter-widgets/base",
          "model_name": "LayoutModel",
          "state": {
            "_view_name": "LayoutView",
            "grid_template_rows": null,
            "right": null,
            "justify_content": null,
            "_view_module": "@jupyter-widgets/base",
            "overflow": null,
            "_model_module_version": "1.2.0",
            "_view_count": null,
            "flex_flow": null,
            "width": null,
            "min_width": null,
            "border": null,
            "align_items": null,
            "bottom": null,
            "_model_module": "@jupyter-widgets/base",
            "top": null,
            "grid_column": null,
            "overflow_y": null,
            "overflow_x": null,
            "grid_auto_flow": null,
            "grid_area": null,
            "grid_template_columns": null,
            "flex": null,
            "_model_name": "LayoutModel",
            "justify_items": null,
            "grid_row": null,
            "max_height": null,
            "align_content": null,
            "visibility": null,
            "align_self": null,
            "height": null,
            "min_height": null,
            "padding": null,
            "grid_auto_rows": null,
            "grid_gap": null,
            "max_width": null,
            "order": null,
            "_view_module_version": "1.2.0",
            "grid_template_areas": null,
            "object_position": null,
            "object_fit": null,
            "grid_auto_columns": null,
            "margin": null,
            "display": null,
            "left": null
          }
        },
        "9a880cad530d478fb41aaf6cf52eef77": {
          "model_module": "@jupyter-widgets/controls",
          "model_name": "HBoxModel",
          "state": {
            "_view_name": "HBoxView",
            "_dom_classes": [],
            "_model_name": "HBoxModel",
            "_view_module": "@jupyter-widgets/controls",
            "_model_module_version": "1.5.0",
            "_view_count": null,
            "_view_module_version": "1.5.0",
            "box_style": "",
            "layout": "IPY_MODEL_fd8dc021a93b4075a3da7c4487364bff",
            "_model_module": "@jupyter-widgets/controls",
            "children": [
              "IPY_MODEL_d229439326f14f8d8b984dfac1483f70",
              "IPY_MODEL_27067d079a04400cae8dc5bf75c737c0"
            ]
          }
        },
        "fd8dc021a93b4075a3da7c4487364bff": {
          "model_module": "@jupyter-widgets/base",
          "model_name": "LayoutModel",
          "state": {
            "_view_name": "LayoutView",
            "grid_template_rows": null,
            "right": null,
            "justify_content": null,
            "_view_module": "@jupyter-widgets/base",
            "overflow": null,
            "_model_module_version": "1.2.0",
            "_view_count": null,
            "flex_flow": null,
            "width": null,
            "min_width": null,
            "border": null,
            "align_items": null,
            "bottom": null,
            "_model_module": "@jupyter-widgets/base",
            "top": null,
            "grid_column": null,
            "overflow_y": null,
            "overflow_x": null,
            "grid_auto_flow": null,
            "grid_area": null,
            "grid_template_columns": null,
            "flex": null,
            "_model_name": "LayoutModel",
            "justify_items": null,
            "grid_row": null,
            "max_height": null,
            "align_content": null,
            "visibility": null,
            "align_self": null,
            "height": null,
            "min_height": null,
            "padding": null,
            "grid_auto_rows": null,
            "grid_gap": null,
            "max_width": null,
            "order": null,
            "_view_module_version": "1.2.0",
            "grid_template_areas": null,
            "object_position": null,
            "object_fit": null,
            "grid_auto_columns": null,
            "margin": null,
            "display": null,
            "left": null
          }
        },
        "d229439326f14f8d8b984dfac1483f70": {
          "model_module": "@jupyter-widgets/controls",
          "model_name": "FloatProgressModel",
          "state": {
            "_view_name": "ProgressView",
            "style": "IPY_MODEL_d8ea9d29f8c845f8a4f0b40c0d3a6ca7",
            "_dom_classes": [],
            "description": "",
            "_model_name": "FloatProgressModel",
            "bar_style": "success",
            "max": 1,
            "_view_module": "@jupyter-widgets/controls",
            "_model_module_version": "1.5.0",
            "value": 1,
            "_view_count": null,
            "_view_module_version": "1.5.0",
            "orientation": "horizontal",
            "min": 0,
            "description_tooltip": null,
            "_model_module": "@jupyter-widgets/controls",
            "layout": "IPY_MODEL_956df2df27fc4df08cc07cf8fb6f17e8"
          }
        },
        "27067d079a04400cae8dc5bf75c737c0": {
          "model_module": "@jupyter-widgets/controls",
          "model_name": "HTMLModel",
          "state": {
            "_view_name": "HTMLView",
            "style": "IPY_MODEL_3861ec57a4c341018d5bc17bcd681174",
            "_dom_classes": [],
            "description": "",
            "_model_name": "HTMLModel",
            "placeholder": "​",
            "_view_module": "@jupyter-widgets/controls",
            "_model_module_version": "1.5.0",
            "value": " 19999/? [01:46&lt;00:00, 187.64it/s]",
            "_view_count": null,
            "_view_module_version": "1.5.0",
            "description_tooltip": null,
            "_model_module": "@jupyter-widgets/controls",
            "layout": "IPY_MODEL_220d1894b3e14423b30371e8ebd724b7"
          }
        },
        "d8ea9d29f8c845f8a4f0b40c0d3a6ca7": {
          "model_module": "@jupyter-widgets/controls",
          "model_name": "ProgressStyleModel",
          "state": {
            "_view_name": "StyleView",
            "_model_name": "ProgressStyleModel",
            "description_width": "initial",
            "_view_module": "@jupyter-widgets/base",
            "_model_module_version": "1.5.0",
            "_view_count": null,
            "_view_module_version": "1.2.0",
            "bar_color": null,
            "_model_module": "@jupyter-widgets/controls"
          }
        },
        "956df2df27fc4df08cc07cf8fb6f17e8": {
          "model_module": "@jupyter-widgets/base",
          "model_name": "LayoutModel",
          "state": {
            "_view_name": "LayoutView",
            "grid_template_rows": null,
            "right": null,
            "justify_content": null,
            "_view_module": "@jupyter-widgets/base",
            "overflow": null,
            "_model_module_version": "1.2.0",
            "_view_count": null,
            "flex_flow": null,
            "width": null,
            "min_width": null,
            "border": null,
            "align_items": null,
            "bottom": null,
            "_model_module": "@jupyter-widgets/base",
            "top": null,
            "grid_column": null,
            "overflow_y": null,
            "overflow_x": null,
            "grid_auto_flow": null,
            "grid_area": null,
            "grid_template_columns": null,
            "flex": null,
            "_model_name": "LayoutModel",
            "justify_items": null,
            "grid_row": null,
            "max_height": null,
            "align_content": null,
            "visibility": null,
            "align_self": null,
            "height": null,
            "min_height": null,
            "padding": null,
            "grid_auto_rows": null,
            "grid_gap": null,
            "max_width": null,
            "order": null,
            "_view_module_version": "1.2.0",
            "grid_template_areas": null,
            "object_position": null,
            "object_fit": null,
            "grid_auto_columns": null,
            "margin": null,
            "display": null,
            "left": null
          }
        },
        "3861ec57a4c341018d5bc17bcd681174": {
          "model_module": "@jupyter-widgets/controls",
          "model_name": "DescriptionStyleModel",
          "state": {
            "_view_name": "StyleView",
            "_model_name": "DescriptionStyleModel",
            "description_width": "",
            "_view_module": "@jupyter-widgets/base",
            "_model_module_version": "1.5.0",
            "_view_count": null,
            "_view_module_version": "1.2.0",
            "_model_module": "@jupyter-widgets/controls"
          }
        },
        "220d1894b3e14423b30371e8ebd724b7": {
          "model_module": "@jupyter-widgets/base",
          "model_name": "LayoutModel",
          "state": {
            "_view_name": "LayoutView",
            "grid_template_rows": null,
            "right": null,
            "justify_content": null,
            "_view_module": "@jupyter-widgets/base",
            "overflow": null,
            "_model_module_version": "1.2.0",
            "_view_count": null,
            "flex_flow": null,
            "width": null,
            "min_width": null,
            "border": null,
            "align_items": null,
            "bottom": null,
            "_model_module": "@jupyter-widgets/base",
            "top": null,
            "grid_column": null,
            "overflow_y": null,
            "overflow_x": null,
            "grid_auto_flow": null,
            "grid_area": null,
            "grid_template_columns": null,
            "flex": null,
            "_model_name": "LayoutModel",
            "justify_items": null,
            "grid_row": null,
            "max_height": null,
            "align_content": null,
            "visibility": null,
            "align_self": null,
            "height": null,
            "min_height": null,
            "padding": null,
            "grid_auto_rows": null,
            "grid_gap": null,
            "max_width": null,
            "order": null,
            "_view_module_version": "1.2.0",
            "grid_template_areas": null,
            "object_position": null,
            "object_fit": null,
            "grid_auto_columns": null,
            "margin": null,
            "display": null,
            "left": null
          }
        },
        "0f7815cd444340439df8a2395bd773b3": {
          "model_module": "@jupyter-widgets/controls",
          "model_name": "HBoxModel",
          "state": {
            "_view_name": "HBoxView",
            "_dom_classes": [],
            "_model_name": "HBoxModel",
            "_view_module": "@jupyter-widgets/controls",
            "_model_module_version": "1.5.0",
            "_view_count": null,
            "_view_module_version": "1.5.0",
            "box_style": "",
            "layout": "IPY_MODEL_4dc8802b0158446ab2c0d52442b9b318",
            "_model_module": "@jupyter-widgets/controls",
            "children": [
              "IPY_MODEL_3c3a53d734f74e3ca31f2e67411bb441",
              "IPY_MODEL_545346463c7544049155e28f1189d178"
            ]
          }
        },
        "4dc8802b0158446ab2c0d52442b9b318": {
          "model_module": "@jupyter-widgets/base",
          "model_name": "LayoutModel",
          "state": {
            "_view_name": "LayoutView",
            "grid_template_rows": null,
            "right": null,
            "justify_content": null,
            "_view_module": "@jupyter-widgets/base",
            "overflow": null,
            "_model_module_version": "1.2.0",
            "_view_count": null,
            "flex_flow": null,
            "width": null,
            "min_width": null,
            "border": null,
            "align_items": null,
            "bottom": null,
            "_model_module": "@jupyter-widgets/base",
            "top": null,
            "grid_column": null,
            "overflow_y": null,
            "overflow_x": null,
            "grid_auto_flow": null,
            "grid_area": null,
            "grid_template_columns": null,
            "flex": null,
            "_model_name": "LayoutModel",
            "justify_items": null,
            "grid_row": null,
            "max_height": null,
            "align_content": null,
            "visibility": null,
            "align_self": null,
            "height": null,
            "min_height": null,
            "padding": null,
            "grid_auto_rows": null,
            "grid_gap": null,
            "max_width": null,
            "order": null,
            "_view_module_version": "1.2.0",
            "grid_template_areas": null,
            "object_position": null,
            "object_fit": null,
            "grid_auto_columns": null,
            "margin": null,
            "display": null,
            "left": null
          }
        },
        "3c3a53d734f74e3ca31f2e67411bb441": {
          "model_module": "@jupyter-widgets/controls",
          "model_name": "FloatProgressModel",
          "state": {
            "_view_name": "ProgressView",
            "style": "IPY_MODEL_5fcf49305d9644e19da24b7ed71bad84",
            "_dom_classes": [],
            "description": "",
            "_model_name": "FloatProgressModel",
            "bar_style": "success",
            "max": 1,
            "_view_module": "@jupyter-widgets/controls",
            "_model_module_version": "1.5.0",
            "value": 1,
            "_view_count": null,
            "_view_module_version": "1.5.0",
            "orientation": "horizontal",
            "min": 0,
            "description_tooltip": null,
            "_model_module": "@jupyter-widgets/controls",
            "layout": "IPY_MODEL_e504ae9d3e784c74b155539048156a91"
          }
        },
        "545346463c7544049155e28f1189d178": {
          "model_module": "@jupyter-widgets/controls",
          "model_name": "HTMLModel",
          "state": {
            "_view_name": "HTMLView",
            "style": "IPY_MODEL_aad35a30a95f446db7de3587483bf721",
            "_dom_classes": [],
            "description": "",
            "_model_name": "HTMLModel",
            "placeholder": "​",
            "_view_module": "@jupyter-widgets/controls",
            "_model_module_version": "1.5.0",
            "value": " 19999/? [00:52&lt;00:00, 378.59it/s]",
            "_view_count": null,
            "_view_module_version": "1.5.0",
            "description_tooltip": null,
            "_model_module": "@jupyter-widgets/controls",
            "layout": "IPY_MODEL_c15ae3fab33c4a80af609aee4640ef2e"
          }
        },
        "5fcf49305d9644e19da24b7ed71bad84": {
          "model_module": "@jupyter-widgets/controls",
          "model_name": "ProgressStyleModel",
          "state": {
            "_view_name": "StyleView",
            "_model_name": "ProgressStyleModel",
            "description_width": "initial",
            "_view_module": "@jupyter-widgets/base",
            "_model_module_version": "1.5.0",
            "_view_count": null,
            "_view_module_version": "1.2.0",
            "bar_color": null,
            "_model_module": "@jupyter-widgets/controls"
          }
        },
        "e504ae9d3e784c74b155539048156a91": {
          "model_module": "@jupyter-widgets/base",
          "model_name": "LayoutModel",
          "state": {
            "_view_name": "LayoutView",
            "grid_template_rows": null,
            "right": null,
            "justify_content": null,
            "_view_module": "@jupyter-widgets/base",
            "overflow": null,
            "_model_module_version": "1.2.0",
            "_view_count": null,
            "flex_flow": null,
            "width": null,
            "min_width": null,
            "border": null,
            "align_items": null,
            "bottom": null,
            "_model_module": "@jupyter-widgets/base",
            "top": null,
            "grid_column": null,
            "overflow_y": null,
            "overflow_x": null,
            "grid_auto_flow": null,
            "grid_area": null,
            "grid_template_columns": null,
            "flex": null,
            "_model_name": "LayoutModel",
            "justify_items": null,
            "grid_row": null,
            "max_height": null,
            "align_content": null,
            "visibility": null,
            "align_self": null,
            "height": null,
            "min_height": null,
            "padding": null,
            "grid_auto_rows": null,
            "grid_gap": null,
            "max_width": null,
            "order": null,
            "_view_module_version": "1.2.0",
            "grid_template_areas": null,
            "object_position": null,
            "object_fit": null,
            "grid_auto_columns": null,
            "margin": null,
            "display": null,
            "left": null
          }
        },
        "aad35a30a95f446db7de3587483bf721": {
          "model_module": "@jupyter-widgets/controls",
          "model_name": "DescriptionStyleModel",
          "state": {
            "_view_name": "StyleView",
            "_model_name": "DescriptionStyleModel",
            "description_width": "",
            "_view_module": "@jupyter-widgets/base",
            "_model_module_version": "1.5.0",
            "_view_count": null,
            "_view_module_version": "1.2.0",
            "_model_module": "@jupyter-widgets/controls"
          }
        },
        "c15ae3fab33c4a80af609aee4640ef2e": {
          "model_module": "@jupyter-widgets/base",
          "model_name": "LayoutModel",
          "state": {
            "_view_name": "LayoutView",
            "grid_template_rows": null,
            "right": null,
            "justify_content": null,
            "_view_module": "@jupyter-widgets/base",
            "overflow": null,
            "_model_module_version": "1.2.0",
            "_view_count": null,
            "flex_flow": null,
            "width": null,
            "min_width": null,
            "border": null,
            "align_items": null,
            "bottom": null,
            "_model_module": "@jupyter-widgets/base",
            "top": null,
            "grid_column": null,
            "overflow_y": null,
            "overflow_x": null,
            "grid_auto_flow": null,
            "grid_area": null,
            "grid_template_columns": null,
            "flex": null,
            "_model_name": "LayoutModel",
            "justify_items": null,
            "grid_row": null,
            "max_height": null,
            "align_content": null,
            "visibility": null,
            "align_self": null,
            "height": null,
            "min_height": null,
            "padding": null,
            "grid_auto_rows": null,
            "grid_gap": null,
            "max_width": null,
            "order": null,
            "_view_module_version": "1.2.0",
            "grid_template_areas": null,
            "object_position": null,
            "object_fit": null,
            "grid_auto_columns": null,
            "margin": null,
            "display": null,
            "left": null
          }
        },
        "1335499dbc1f4e7095365a23ae0d869a": {
          "model_module": "@jupyter-widgets/controls",
          "model_name": "HBoxModel",
          "state": {
            "_view_name": "HBoxView",
            "_dom_classes": [],
            "_model_name": "HBoxModel",
            "_view_module": "@jupyter-widgets/controls",
            "_model_module_version": "1.5.0",
            "_view_count": null,
            "_view_module_version": "1.5.0",
            "box_style": "",
            "layout": "IPY_MODEL_b28928dad6244d1289b254add35b71df",
            "_model_module": "@jupyter-widgets/controls",
            "children": [
              "IPY_MODEL_a411a6111f564dd68838faf9da82343e",
              "IPY_MODEL_82fc180d9f6f48609b6b3ee7208797af"
            ]
          }
        },
        "b28928dad6244d1289b254add35b71df": {
          "model_module": "@jupyter-widgets/base",
          "model_name": "LayoutModel",
          "state": {
            "_view_name": "LayoutView",
            "grid_template_rows": null,
            "right": null,
            "justify_content": null,
            "_view_module": "@jupyter-widgets/base",
            "overflow": null,
            "_model_module_version": "1.2.0",
            "_view_count": null,
            "flex_flow": null,
            "width": null,
            "min_width": null,
            "border": null,
            "align_items": null,
            "bottom": null,
            "_model_module": "@jupyter-widgets/base",
            "top": null,
            "grid_column": null,
            "overflow_y": null,
            "overflow_x": null,
            "grid_auto_flow": null,
            "grid_area": null,
            "grid_template_columns": null,
            "flex": null,
            "_model_name": "LayoutModel",
            "justify_items": null,
            "grid_row": null,
            "max_height": null,
            "align_content": null,
            "visibility": null,
            "align_self": null,
            "height": null,
            "min_height": null,
            "padding": null,
            "grid_auto_rows": null,
            "grid_gap": null,
            "max_width": null,
            "order": null,
            "_view_module_version": "1.2.0",
            "grid_template_areas": null,
            "object_position": null,
            "object_fit": null,
            "grid_auto_columns": null,
            "margin": null,
            "display": null,
            "left": null
          }
        },
        "a411a6111f564dd68838faf9da82343e": {
          "model_module": "@jupyter-widgets/controls",
          "model_name": "FloatProgressModel",
          "state": {
            "_view_name": "ProgressView",
            "style": "IPY_MODEL_6c5bab69e601459495bdfc33e7d1c83e",
            "_dom_classes": [],
            "description": "",
            "_model_name": "FloatProgressModel",
            "bar_style": "success",
            "max": 1,
            "_view_module": "@jupyter-widgets/controls",
            "_model_module_version": "1.5.0",
            "value": 1,
            "_view_count": null,
            "_view_module_version": "1.5.0",
            "orientation": "horizontal",
            "min": 0,
            "description_tooltip": null,
            "_model_module": "@jupyter-widgets/controls",
            "layout": "IPY_MODEL_18011cb68b6e4dd6bfc3ed23db6f2b3b"
          }
        },
        "82fc180d9f6f48609b6b3ee7208797af": {
          "model_module": "@jupyter-widgets/controls",
          "model_name": "HTMLModel",
          "state": {
            "_view_name": "HTMLView",
            "style": "IPY_MODEL_5ad7377649224f29a5f7a4683ad07b45",
            "_dom_classes": [],
            "description": "",
            "_model_name": "HTMLModel",
            "placeholder": "​",
            "_view_module": "@jupyter-widgets/controls",
            "_model_module_version": "1.5.0",
            "value": " 20000/? [00:00&lt;00:00, 73026.27it/s]",
            "_view_count": null,
            "_view_module_version": "1.5.0",
            "description_tooltip": null,
            "_model_module": "@jupyter-widgets/controls",
            "layout": "IPY_MODEL_d8d85e6807704a78936b76cc06c6195a"
          }
        },
        "6c5bab69e601459495bdfc33e7d1c83e": {
          "model_module": "@jupyter-widgets/controls",
          "model_name": "ProgressStyleModel",
          "state": {
            "_view_name": "StyleView",
            "_model_name": "ProgressStyleModel",
            "description_width": "initial",
            "_view_module": "@jupyter-widgets/base",
            "_model_module_version": "1.5.0",
            "_view_count": null,
            "_view_module_version": "1.2.0",
            "bar_color": null,
            "_model_module": "@jupyter-widgets/controls"
          }
        },
        "18011cb68b6e4dd6bfc3ed23db6f2b3b": {
          "model_module": "@jupyter-widgets/base",
          "model_name": "LayoutModel",
          "state": {
            "_view_name": "LayoutView",
            "grid_template_rows": null,
            "right": null,
            "justify_content": null,
            "_view_module": "@jupyter-widgets/base",
            "overflow": null,
            "_model_module_version": "1.2.0",
            "_view_count": null,
            "flex_flow": null,
            "width": null,
            "min_width": null,
            "border": null,
            "align_items": null,
            "bottom": null,
            "_model_module": "@jupyter-widgets/base",
            "top": null,
            "grid_column": null,
            "overflow_y": null,
            "overflow_x": null,
            "grid_auto_flow": null,
            "grid_area": null,
            "grid_template_columns": null,
            "flex": null,
            "_model_name": "LayoutModel",
            "justify_items": null,
            "grid_row": null,
            "max_height": null,
            "align_content": null,
            "visibility": null,
            "align_self": null,
            "height": null,
            "min_height": null,
            "padding": null,
            "grid_auto_rows": null,
            "grid_gap": null,
            "max_width": null,
            "order": null,
            "_view_module_version": "1.2.0",
            "grid_template_areas": null,
            "object_position": null,
            "object_fit": null,
            "grid_auto_columns": null,
            "margin": null,
            "display": null,
            "left": null
          }
        },
        "5ad7377649224f29a5f7a4683ad07b45": {
          "model_module": "@jupyter-widgets/controls",
          "model_name": "DescriptionStyleModel",
          "state": {
            "_view_name": "StyleView",
            "_model_name": "DescriptionStyleModel",
            "description_width": "",
            "_view_module": "@jupyter-widgets/base",
            "_model_module_version": "1.5.0",
            "_view_count": null,
            "_view_module_version": "1.2.0",
            "_model_module": "@jupyter-widgets/controls"
          }
        },
        "d8d85e6807704a78936b76cc06c6195a": {
          "model_module": "@jupyter-widgets/base",
          "model_name": "LayoutModel",
          "state": {
            "_view_name": "LayoutView",
            "grid_template_rows": null,
            "right": null,
            "justify_content": null,
            "_view_module": "@jupyter-widgets/base",
            "overflow": null,
            "_model_module_version": "1.2.0",
            "_view_count": null,
            "flex_flow": null,
            "width": null,
            "min_width": null,
            "border": null,
            "align_items": null,
            "bottom": null,
            "_model_module": "@jupyter-widgets/base",
            "top": null,
            "grid_column": null,
            "overflow_y": null,
            "overflow_x": null,
            "grid_auto_flow": null,
            "grid_area": null,
            "grid_template_columns": null,
            "flex": null,
            "_model_name": "LayoutModel",
            "justify_items": null,
            "grid_row": null,
            "max_height": null,
            "align_content": null,
            "visibility": null,
            "align_self": null,
            "height": null,
            "min_height": null,
            "padding": null,
            "grid_auto_rows": null,
            "grid_gap": null,
            "max_width": null,
            "order": null,
            "_view_module_version": "1.2.0",
            "grid_template_areas": null,
            "object_position": null,
            "object_fit": null,
            "grid_auto_columns": null,
            "margin": null,
            "display": null,
            "left": null
          }
        },
        "7f92e8762ae647fc97427c3304edf82a": {
          "model_module": "@jupyter-widgets/controls",
          "model_name": "HBoxModel",
          "state": {
            "_view_name": "HBoxView",
            "_dom_classes": [],
            "_model_name": "HBoxModel",
            "_view_module": "@jupyter-widgets/controls",
            "_model_module_version": "1.5.0",
            "_view_count": null,
            "_view_module_version": "1.5.0",
            "box_style": "",
            "layout": "IPY_MODEL_8220222d1c954dc594ac5d97dee90269",
            "_model_module": "@jupyter-widgets/controls",
            "children": [
              "IPY_MODEL_1f36e1ae42c54e1682d81d40d4146da8",
              "IPY_MODEL_6a1dfc096085487ca2b821fda021765c"
            ]
          }
        },
        "8220222d1c954dc594ac5d97dee90269": {
          "model_module": "@jupyter-widgets/base",
          "model_name": "LayoutModel",
          "state": {
            "_view_name": "LayoutView",
            "grid_template_rows": null,
            "right": null,
            "justify_content": null,
            "_view_module": "@jupyter-widgets/base",
            "overflow": null,
            "_model_module_version": "1.2.0",
            "_view_count": null,
            "flex_flow": null,
            "width": null,
            "min_width": null,
            "border": null,
            "align_items": null,
            "bottom": null,
            "_model_module": "@jupyter-widgets/base",
            "top": null,
            "grid_column": null,
            "overflow_y": null,
            "overflow_x": null,
            "grid_auto_flow": null,
            "grid_area": null,
            "grid_template_columns": null,
            "flex": null,
            "_model_name": "LayoutModel",
            "justify_items": null,
            "grid_row": null,
            "max_height": null,
            "align_content": null,
            "visibility": null,
            "align_self": null,
            "height": null,
            "min_height": null,
            "padding": null,
            "grid_auto_rows": null,
            "grid_gap": null,
            "max_width": null,
            "order": null,
            "_view_module_version": "1.2.0",
            "grid_template_areas": null,
            "object_position": null,
            "object_fit": null,
            "grid_auto_columns": null,
            "margin": null,
            "display": null,
            "left": null
          }
        },
        "1f36e1ae42c54e1682d81d40d4146da8": {
          "model_module": "@jupyter-widgets/controls",
          "model_name": "FloatProgressModel",
          "state": {
            "_view_name": "ProgressView",
            "style": "IPY_MODEL_962d7846a4fd4f289f07b021962171e6",
            "_dom_classes": [],
            "description": "",
            "_model_name": "FloatProgressModel",
            "bar_style": "success",
            "max": 1,
            "_view_module": "@jupyter-widgets/controls",
            "_model_module_version": "1.5.0",
            "value": 1,
            "_view_count": null,
            "_view_module_version": "1.5.0",
            "orientation": "horizontal",
            "min": 0,
            "description_tooltip": null,
            "_model_module": "@jupyter-widgets/controls",
            "layout": "IPY_MODEL_776c77ada48a46b399639bfacbacb7f8"
          }
        },
        "6a1dfc096085487ca2b821fda021765c": {
          "model_module": "@jupyter-widgets/controls",
          "model_name": "HTMLModel",
          "state": {
            "_view_name": "HTMLView",
            "style": "IPY_MODEL_ea4a8a30ae974006b103c9c9eeb4dc9c",
            "_dom_classes": [],
            "description": "",
            "_model_name": "HTMLModel",
            "placeholder": "​",
            "_view_module": "@jupyter-widgets/controls",
            "_model_module_version": "1.5.0",
            "value": " 19999/? [00:00&lt;00:00, 151889.22it/s]",
            "_view_count": null,
            "_view_module_version": "1.5.0",
            "description_tooltip": null,
            "_model_module": "@jupyter-widgets/controls",
            "layout": "IPY_MODEL_eed6d122519347e5854d9b4bd2522169"
          }
        },
        "962d7846a4fd4f289f07b021962171e6": {
          "model_module": "@jupyter-widgets/controls",
          "model_name": "ProgressStyleModel",
          "state": {
            "_view_name": "StyleView",
            "_model_name": "ProgressStyleModel",
            "description_width": "initial",
            "_view_module": "@jupyter-widgets/base",
            "_model_module_version": "1.5.0",
            "_view_count": null,
            "_view_module_version": "1.2.0",
            "bar_color": null,
            "_model_module": "@jupyter-widgets/controls"
          }
        },
        "776c77ada48a46b399639bfacbacb7f8": {
          "model_module": "@jupyter-widgets/base",
          "model_name": "LayoutModel",
          "state": {
            "_view_name": "LayoutView",
            "grid_template_rows": null,
            "right": null,
            "justify_content": null,
            "_view_module": "@jupyter-widgets/base",
            "overflow": null,
            "_model_module_version": "1.2.0",
            "_view_count": null,
            "flex_flow": null,
            "width": null,
            "min_width": null,
            "border": null,
            "align_items": null,
            "bottom": null,
            "_model_module": "@jupyter-widgets/base",
            "top": null,
            "grid_column": null,
            "overflow_y": null,
            "overflow_x": null,
            "grid_auto_flow": null,
            "grid_area": null,
            "grid_template_columns": null,
            "flex": null,
            "_model_name": "LayoutModel",
            "justify_items": null,
            "grid_row": null,
            "max_height": null,
            "align_content": null,
            "visibility": null,
            "align_self": null,
            "height": null,
            "min_height": null,
            "padding": null,
            "grid_auto_rows": null,
            "grid_gap": null,
            "max_width": null,
            "order": null,
            "_view_module_version": "1.2.0",
            "grid_template_areas": null,
            "object_position": null,
            "object_fit": null,
            "grid_auto_columns": null,
            "margin": null,
            "display": null,
            "left": null
          }
        },
        "ea4a8a30ae974006b103c9c9eeb4dc9c": {
          "model_module": "@jupyter-widgets/controls",
          "model_name": "DescriptionStyleModel",
          "state": {
            "_view_name": "StyleView",
            "_model_name": "DescriptionStyleModel",
            "description_width": "",
            "_view_module": "@jupyter-widgets/base",
            "_model_module_version": "1.5.0",
            "_view_count": null,
            "_view_module_version": "1.2.0",
            "_model_module": "@jupyter-widgets/controls"
          }
        },
        "eed6d122519347e5854d9b4bd2522169": {
          "model_module": "@jupyter-widgets/base",
          "model_name": "LayoutModel",
          "state": {
            "_view_name": "LayoutView",
            "grid_template_rows": null,
            "right": null,
            "justify_content": null,
            "_view_module": "@jupyter-widgets/base",
            "overflow": null,
            "_model_module_version": "1.2.0",
            "_view_count": null,
            "flex_flow": null,
            "width": null,
            "min_width": null,
            "border": null,
            "align_items": null,
            "bottom": null,
            "_model_module": "@jupyter-widgets/base",
            "top": null,
            "grid_column": null,
            "overflow_y": null,
            "overflow_x": null,
            "grid_auto_flow": null,
            "grid_area": null,
            "grid_template_columns": null,
            "flex": null,
            "_model_name": "LayoutModel",
            "justify_items": null,
            "grid_row": null,
            "max_height": null,
            "align_content": null,
            "visibility": null,
            "align_self": null,
            "height": null,
            "min_height": null,
            "padding": null,
            "grid_auto_rows": null,
            "grid_gap": null,
            "max_width": null,
            "order": null,
            "_view_module_version": "1.2.0",
            "grid_template_areas": null,
            "object_position": null,
            "object_fit": null,
            "grid_auto_columns": null,
            "margin": null,
            "display": null,
            "left": null
          }
        },
        "0e20caef60154ff1aab1ac6de3f0ffbe": {
          "model_module": "@jupyter-widgets/controls",
          "model_name": "HBoxModel",
          "state": {
            "_view_name": "HBoxView",
            "_dom_classes": [],
            "_model_name": "HBoxModel",
            "_view_module": "@jupyter-widgets/controls",
            "_model_module_version": "1.5.0",
            "_view_count": null,
            "_view_module_version": "1.5.0",
            "box_style": "",
            "layout": "IPY_MODEL_ed9e50ff4be647959b2b23cd7340b102",
            "_model_module": "@jupyter-widgets/controls",
            "children": [
              "IPY_MODEL_e446bf46c56641d997c8cd4e8444d852",
              "IPY_MODEL_d35ef7689d274dcfa421e111513f48fb"
            ]
          }
        },
        "ed9e50ff4be647959b2b23cd7340b102": {
          "model_module": "@jupyter-widgets/base",
          "model_name": "LayoutModel",
          "state": {
            "_view_name": "LayoutView",
            "grid_template_rows": null,
            "right": null,
            "justify_content": null,
            "_view_module": "@jupyter-widgets/base",
            "overflow": null,
            "_model_module_version": "1.2.0",
            "_view_count": null,
            "flex_flow": null,
            "width": null,
            "min_width": null,
            "border": null,
            "align_items": null,
            "bottom": null,
            "_model_module": "@jupyter-widgets/base",
            "top": null,
            "grid_column": null,
            "overflow_y": null,
            "overflow_x": null,
            "grid_auto_flow": null,
            "grid_area": null,
            "grid_template_columns": null,
            "flex": null,
            "_model_name": "LayoutModel",
            "justify_items": null,
            "grid_row": null,
            "max_height": null,
            "align_content": null,
            "visibility": null,
            "align_self": null,
            "height": null,
            "min_height": null,
            "padding": null,
            "grid_auto_rows": null,
            "grid_gap": null,
            "max_width": null,
            "order": null,
            "_view_module_version": "1.2.0",
            "grid_template_areas": null,
            "object_position": null,
            "object_fit": null,
            "grid_auto_columns": null,
            "margin": null,
            "display": null,
            "left": null
          }
        },
        "e446bf46c56641d997c8cd4e8444d852": {
          "model_module": "@jupyter-widgets/controls",
          "model_name": "FloatProgressModel",
          "state": {
            "_view_name": "ProgressView",
            "style": "IPY_MODEL_06f1eb47be844915b2d4b8018e346521",
            "_dom_classes": [],
            "description": "",
            "_model_name": "FloatProgressModel",
            "bar_style": "success",
            "max": 1,
            "_view_module": "@jupyter-widgets/controls",
            "_model_module_version": "1.5.0",
            "value": 1,
            "_view_count": null,
            "_view_module_version": "1.5.0",
            "orientation": "horizontal",
            "min": 0,
            "description_tooltip": null,
            "_model_module": "@jupyter-widgets/controls",
            "layout": "IPY_MODEL_0e0397f8e21c4c7f8b1905fc19c8c5b0"
          }
        },
        "d35ef7689d274dcfa421e111513f48fb": {
          "model_module": "@jupyter-widgets/controls",
          "model_name": "HTMLModel",
          "state": {
            "_view_name": "HTMLView",
            "style": "IPY_MODEL_3bb711d6db1d4c36bd08a2b610d2c112",
            "_dom_classes": [],
            "description": "",
            "_model_name": "HTMLModel",
            "placeholder": "​",
            "_view_module": "@jupyter-widgets/controls",
            "_model_module_version": "1.5.0",
            "value": " 19999/? [03:50&lt;00:00, 86.93it/s]",
            "_view_count": null,
            "_view_module_version": "1.5.0",
            "description_tooltip": null,
            "_model_module": "@jupyter-widgets/controls",
            "layout": "IPY_MODEL_6fb2e324c67c49e3a36aa12c60e0d2f9"
          }
        },
        "06f1eb47be844915b2d4b8018e346521": {
          "model_module": "@jupyter-widgets/controls",
          "model_name": "ProgressStyleModel",
          "state": {
            "_view_name": "StyleView",
            "_model_name": "ProgressStyleModel",
            "description_width": "initial",
            "_view_module": "@jupyter-widgets/base",
            "_model_module_version": "1.5.0",
            "_view_count": null,
            "_view_module_version": "1.2.0",
            "bar_color": null,
            "_model_module": "@jupyter-widgets/controls"
          }
        },
        "0e0397f8e21c4c7f8b1905fc19c8c5b0": {
          "model_module": "@jupyter-widgets/base",
          "model_name": "LayoutModel",
          "state": {
            "_view_name": "LayoutView",
            "grid_template_rows": null,
            "right": null,
            "justify_content": null,
            "_view_module": "@jupyter-widgets/base",
            "overflow": null,
            "_model_module_version": "1.2.0",
            "_view_count": null,
            "flex_flow": null,
            "width": null,
            "min_width": null,
            "border": null,
            "align_items": null,
            "bottom": null,
            "_model_module": "@jupyter-widgets/base",
            "top": null,
            "grid_column": null,
            "overflow_y": null,
            "overflow_x": null,
            "grid_auto_flow": null,
            "grid_area": null,
            "grid_template_columns": null,
            "flex": null,
            "_model_name": "LayoutModel",
            "justify_items": null,
            "grid_row": null,
            "max_height": null,
            "align_content": null,
            "visibility": null,
            "align_self": null,
            "height": null,
            "min_height": null,
            "padding": null,
            "grid_auto_rows": null,
            "grid_gap": null,
            "max_width": null,
            "order": null,
            "_view_module_version": "1.2.0",
            "grid_template_areas": null,
            "object_position": null,
            "object_fit": null,
            "grid_auto_columns": null,
            "margin": null,
            "display": null,
            "left": null
          }
        },
        "3bb711d6db1d4c36bd08a2b610d2c112": {
          "model_module": "@jupyter-widgets/controls",
          "model_name": "DescriptionStyleModel",
          "state": {
            "_view_name": "StyleView",
            "_model_name": "DescriptionStyleModel",
            "description_width": "",
            "_view_module": "@jupyter-widgets/base",
            "_model_module_version": "1.5.0",
            "_view_count": null,
            "_view_module_version": "1.2.0",
            "_model_module": "@jupyter-widgets/controls"
          }
        },
        "6fb2e324c67c49e3a36aa12c60e0d2f9": {
          "model_module": "@jupyter-widgets/base",
          "model_name": "LayoutModel",
          "state": {
            "_view_name": "LayoutView",
            "grid_template_rows": null,
            "right": null,
            "justify_content": null,
            "_view_module": "@jupyter-widgets/base",
            "overflow": null,
            "_model_module_version": "1.2.0",
            "_view_count": null,
            "flex_flow": null,
            "width": null,
            "min_width": null,
            "border": null,
            "align_items": null,
            "bottom": null,
            "_model_module": "@jupyter-widgets/base",
            "top": null,
            "grid_column": null,
            "overflow_y": null,
            "overflow_x": null,
            "grid_auto_flow": null,
            "grid_area": null,
            "grid_template_columns": null,
            "flex": null,
            "_model_name": "LayoutModel",
            "justify_items": null,
            "grid_row": null,
            "max_height": null,
            "align_content": null,
            "visibility": null,
            "align_self": null,
            "height": null,
            "min_height": null,
            "padding": null,
            "grid_auto_rows": null,
            "grid_gap": null,
            "max_width": null,
            "order": null,
            "_view_module_version": "1.2.0",
            "grid_template_areas": null,
            "object_position": null,
            "object_fit": null,
            "grid_auto_columns": null,
            "margin": null,
            "display": null,
            "left": null
          }
        },
        "749e05edd0454f418426fc7a59022a04": {
          "model_module": "@jupyter-widgets/controls",
          "model_name": "HBoxModel",
          "state": {
            "_view_name": "HBoxView",
            "_dom_classes": [],
            "_model_name": "HBoxModel",
            "_view_module": "@jupyter-widgets/controls",
            "_model_module_version": "1.5.0",
            "_view_count": null,
            "_view_module_version": "1.5.0",
            "box_style": "",
            "layout": "IPY_MODEL_84c80003edbb4aff8f70a1298730eaf3",
            "_model_module": "@jupyter-widgets/controls",
            "children": [
              "IPY_MODEL_81874406880c4d7fa8779dc8cf241163",
              "IPY_MODEL_8ba63cab608a47ea84c4ecabc4c10bda"
            ]
          }
        },
        "84c80003edbb4aff8f70a1298730eaf3": {
          "model_module": "@jupyter-widgets/base",
          "model_name": "LayoutModel",
          "state": {
            "_view_name": "LayoutView",
            "grid_template_rows": null,
            "right": null,
            "justify_content": null,
            "_view_module": "@jupyter-widgets/base",
            "overflow": null,
            "_model_module_version": "1.2.0",
            "_view_count": null,
            "flex_flow": null,
            "width": null,
            "min_width": null,
            "border": null,
            "align_items": null,
            "bottom": null,
            "_model_module": "@jupyter-widgets/base",
            "top": null,
            "grid_column": null,
            "overflow_y": null,
            "overflow_x": null,
            "grid_auto_flow": null,
            "grid_area": null,
            "grid_template_columns": null,
            "flex": null,
            "_model_name": "LayoutModel",
            "justify_items": null,
            "grid_row": null,
            "max_height": null,
            "align_content": null,
            "visibility": null,
            "align_self": null,
            "height": null,
            "min_height": null,
            "padding": null,
            "grid_auto_rows": null,
            "grid_gap": null,
            "max_width": null,
            "order": null,
            "_view_module_version": "1.2.0",
            "grid_template_areas": null,
            "object_position": null,
            "object_fit": null,
            "grid_auto_columns": null,
            "margin": null,
            "display": null,
            "left": null
          }
        },
        "81874406880c4d7fa8779dc8cf241163": {
          "model_module": "@jupyter-widgets/controls",
          "model_name": "FloatProgressModel",
          "state": {
            "_view_name": "ProgressView",
            "style": "IPY_MODEL_b4e87aaafc4642fdbd60e2d4d9137a79",
            "_dom_classes": [],
            "description": "",
            "_model_name": "FloatProgressModel",
            "bar_style": "success",
            "max": 1,
            "_view_module": "@jupyter-widgets/controls",
            "_model_module_version": "1.5.0",
            "value": 1,
            "_view_count": null,
            "_view_module_version": "1.5.0",
            "orientation": "horizontal",
            "min": 0,
            "description_tooltip": null,
            "_model_module": "@jupyter-widgets/controls",
            "layout": "IPY_MODEL_fc3096f1e9e94edab118e7046ca85160"
          }
        },
        "8ba63cab608a47ea84c4ecabc4c10bda": {
          "model_module": "@jupyter-widgets/controls",
          "model_name": "HTMLModel",
          "state": {
            "_view_name": "HTMLView",
            "style": "IPY_MODEL_d9c4a4a600b4475eb146d831ec73c27c",
            "_dom_classes": [],
            "description": "",
            "_model_name": "HTMLModel",
            "placeholder": "​",
            "_view_module": "@jupyter-widgets/controls",
            "_model_module_version": "1.5.0",
            "value": " 19999/? [03:02&lt;00:00, 109.54it/s]",
            "_view_count": null,
            "_view_module_version": "1.5.0",
            "description_tooltip": null,
            "_model_module": "@jupyter-widgets/controls",
            "layout": "IPY_MODEL_476b23151e2b4820be775e60865b2515"
          }
        },
        "b4e87aaafc4642fdbd60e2d4d9137a79": {
          "model_module": "@jupyter-widgets/controls",
          "model_name": "ProgressStyleModel",
          "state": {
            "_view_name": "StyleView",
            "_model_name": "ProgressStyleModel",
            "description_width": "initial",
            "_view_module": "@jupyter-widgets/base",
            "_model_module_version": "1.5.0",
            "_view_count": null,
            "_view_module_version": "1.2.0",
            "bar_color": null,
            "_model_module": "@jupyter-widgets/controls"
          }
        },
        "fc3096f1e9e94edab118e7046ca85160": {
          "model_module": "@jupyter-widgets/base",
          "model_name": "LayoutModel",
          "state": {
            "_view_name": "LayoutView",
            "grid_template_rows": null,
            "right": null,
            "justify_content": null,
            "_view_module": "@jupyter-widgets/base",
            "overflow": null,
            "_model_module_version": "1.2.0",
            "_view_count": null,
            "flex_flow": null,
            "width": null,
            "min_width": null,
            "border": null,
            "align_items": null,
            "bottom": null,
            "_model_module": "@jupyter-widgets/base",
            "top": null,
            "grid_column": null,
            "overflow_y": null,
            "overflow_x": null,
            "grid_auto_flow": null,
            "grid_area": null,
            "grid_template_columns": null,
            "flex": null,
            "_model_name": "LayoutModel",
            "justify_items": null,
            "grid_row": null,
            "max_height": null,
            "align_content": null,
            "visibility": null,
            "align_self": null,
            "height": null,
            "min_height": null,
            "padding": null,
            "grid_auto_rows": null,
            "grid_gap": null,
            "max_width": null,
            "order": null,
            "_view_module_version": "1.2.0",
            "grid_template_areas": null,
            "object_position": null,
            "object_fit": null,
            "grid_auto_columns": null,
            "margin": null,
            "display": null,
            "left": null
          }
        },
        "d9c4a4a600b4475eb146d831ec73c27c": {
          "model_module": "@jupyter-widgets/controls",
          "model_name": "DescriptionStyleModel",
          "state": {
            "_view_name": "StyleView",
            "_model_name": "DescriptionStyleModel",
            "description_width": "",
            "_view_module": "@jupyter-widgets/base",
            "_model_module_version": "1.5.0",
            "_view_count": null,
            "_view_module_version": "1.2.0",
            "_model_module": "@jupyter-widgets/controls"
          }
        },
        "476b23151e2b4820be775e60865b2515": {
          "model_module": "@jupyter-widgets/base",
          "model_name": "LayoutModel",
          "state": {
            "_view_name": "LayoutView",
            "grid_template_rows": null,
            "right": null,
            "justify_content": null,
            "_view_module": "@jupyter-widgets/base",
            "overflow": null,
            "_model_module_version": "1.2.0",
            "_view_count": null,
            "flex_flow": null,
            "width": null,
            "min_width": null,
            "border": null,
            "align_items": null,
            "bottom": null,
            "_model_module": "@jupyter-widgets/base",
            "top": null,
            "grid_column": null,
            "overflow_y": null,
            "overflow_x": null,
            "grid_auto_flow": null,
            "grid_area": null,
            "grid_template_columns": null,
            "flex": null,
            "_model_name": "LayoutModel",
            "justify_items": null,
            "grid_row": null,
            "max_height": null,
            "align_content": null,
            "visibility": null,
            "align_self": null,
            "height": null,
            "min_height": null,
            "padding": null,
            "grid_auto_rows": null,
            "grid_gap": null,
            "max_width": null,
            "order": null,
            "_view_module_version": "1.2.0",
            "grid_template_areas": null,
            "object_position": null,
            "object_fit": null,
            "grid_auto_columns": null,
            "margin": null,
            "display": null,
            "left": null
          }
        },
        "8861c3c9b440408d86571bf72a5e88fb": {
          "model_module": "@jupyter-widgets/controls",
          "model_name": "HBoxModel",
          "state": {
            "_view_name": "HBoxView",
            "_dom_classes": [],
            "_model_name": "HBoxModel",
            "_view_module": "@jupyter-widgets/controls",
            "_model_module_version": "1.5.0",
            "_view_count": null,
            "_view_module_version": "1.5.0",
            "box_style": "",
            "layout": "IPY_MODEL_b6ce5d74e93a4fe0a8259a2da4b47b44",
            "_model_module": "@jupyter-widgets/controls",
            "children": [
              "IPY_MODEL_a91f96384c514a638cf0896cb6dbda3d",
              "IPY_MODEL_6cc7a553762d4979980eb6cf68d30eed"
            ]
          }
        },
        "b6ce5d74e93a4fe0a8259a2da4b47b44": {
          "model_module": "@jupyter-widgets/base",
          "model_name": "LayoutModel",
          "state": {
            "_view_name": "LayoutView",
            "grid_template_rows": null,
            "right": null,
            "justify_content": null,
            "_view_module": "@jupyter-widgets/base",
            "overflow": null,
            "_model_module_version": "1.2.0",
            "_view_count": null,
            "flex_flow": null,
            "width": null,
            "min_width": null,
            "border": null,
            "align_items": null,
            "bottom": null,
            "_model_module": "@jupyter-widgets/base",
            "top": null,
            "grid_column": null,
            "overflow_y": null,
            "overflow_x": null,
            "grid_auto_flow": null,
            "grid_area": null,
            "grid_template_columns": null,
            "flex": null,
            "_model_name": "LayoutModel",
            "justify_items": null,
            "grid_row": null,
            "max_height": null,
            "align_content": null,
            "visibility": null,
            "align_self": null,
            "height": null,
            "min_height": null,
            "padding": null,
            "grid_auto_rows": null,
            "grid_gap": null,
            "max_width": null,
            "order": null,
            "_view_module_version": "1.2.0",
            "grid_template_areas": null,
            "object_position": null,
            "object_fit": null,
            "grid_auto_columns": null,
            "margin": null,
            "display": null,
            "left": null
          }
        },
        "a91f96384c514a638cf0896cb6dbda3d": {
          "model_module": "@jupyter-widgets/controls",
          "model_name": "FloatProgressModel",
          "state": {
            "_view_name": "ProgressView",
            "style": "IPY_MODEL_a30f0ca10dc54b13a4d2fa07081aa4bf",
            "_dom_classes": [],
            "description": "",
            "_model_name": "FloatProgressModel",
            "bar_style": "success",
            "max": 1,
            "_view_module": "@jupyter-widgets/controls",
            "_model_module_version": "1.5.0",
            "value": 1,
            "_view_count": null,
            "_view_module_version": "1.5.0",
            "orientation": "horizontal",
            "min": 0,
            "description_tooltip": null,
            "_model_module": "@jupyter-widgets/controls",
            "layout": "IPY_MODEL_d417b5868a6e4f6cb025e770f8eca9ba"
          }
        },
        "6cc7a553762d4979980eb6cf68d30eed": {
          "model_module": "@jupyter-widgets/controls",
          "model_name": "HTMLModel",
          "state": {
            "_view_name": "HTMLView",
            "style": "IPY_MODEL_d550325508ce4e66a9315ae6c2434893",
            "_dom_classes": [],
            "description": "",
            "_model_name": "HTMLModel",
            "placeholder": "​",
            "_view_module": "@jupyter-widgets/controls",
            "_model_module_version": "1.5.0",
            "value": " 20000/? [00:00&lt;00:00, 37211.55it/s]",
            "_view_count": null,
            "_view_module_version": "1.5.0",
            "description_tooltip": null,
            "_model_module": "@jupyter-widgets/controls",
            "layout": "IPY_MODEL_78bf9a2de1294641bdaa1c30f9644a0d"
          }
        },
        "a30f0ca10dc54b13a4d2fa07081aa4bf": {
          "model_module": "@jupyter-widgets/controls",
          "model_name": "ProgressStyleModel",
          "state": {
            "_view_name": "StyleView",
            "_model_name": "ProgressStyleModel",
            "description_width": "initial",
            "_view_module": "@jupyter-widgets/base",
            "_model_module_version": "1.5.0",
            "_view_count": null,
            "_view_module_version": "1.2.0",
            "bar_color": null,
            "_model_module": "@jupyter-widgets/controls"
          }
        },
        "d417b5868a6e4f6cb025e770f8eca9ba": {
          "model_module": "@jupyter-widgets/base",
          "model_name": "LayoutModel",
          "state": {
            "_view_name": "LayoutView",
            "grid_template_rows": null,
            "right": null,
            "justify_content": null,
            "_view_module": "@jupyter-widgets/base",
            "overflow": null,
            "_model_module_version": "1.2.0",
            "_view_count": null,
            "flex_flow": null,
            "width": null,
            "min_width": null,
            "border": null,
            "align_items": null,
            "bottom": null,
            "_model_module": "@jupyter-widgets/base",
            "top": null,
            "grid_column": null,
            "overflow_y": null,
            "overflow_x": null,
            "grid_auto_flow": null,
            "grid_area": null,
            "grid_template_columns": null,
            "flex": null,
            "_model_name": "LayoutModel",
            "justify_items": null,
            "grid_row": null,
            "max_height": null,
            "align_content": null,
            "visibility": null,
            "align_self": null,
            "height": null,
            "min_height": null,
            "padding": null,
            "grid_auto_rows": null,
            "grid_gap": null,
            "max_width": null,
            "order": null,
            "_view_module_version": "1.2.0",
            "grid_template_areas": null,
            "object_position": null,
            "object_fit": null,
            "grid_auto_columns": null,
            "margin": null,
            "display": null,
            "left": null
          }
        },
        "d550325508ce4e66a9315ae6c2434893": {
          "model_module": "@jupyter-widgets/controls",
          "model_name": "DescriptionStyleModel",
          "state": {
            "_view_name": "StyleView",
            "_model_name": "DescriptionStyleModel",
            "description_width": "",
            "_view_module": "@jupyter-widgets/base",
            "_model_module_version": "1.5.0",
            "_view_count": null,
            "_view_module_version": "1.2.0",
            "_model_module": "@jupyter-widgets/controls"
          }
        },
        "78bf9a2de1294641bdaa1c30f9644a0d": {
          "model_module": "@jupyter-widgets/base",
          "model_name": "LayoutModel",
          "state": {
            "_view_name": "LayoutView",
            "grid_template_rows": null,
            "right": null,
            "justify_content": null,
            "_view_module": "@jupyter-widgets/base",
            "overflow": null,
            "_model_module_version": "1.2.0",
            "_view_count": null,
            "flex_flow": null,
            "width": null,
            "min_width": null,
            "border": null,
            "align_items": null,
            "bottom": null,
            "_model_module": "@jupyter-widgets/base",
            "top": null,
            "grid_column": null,
            "overflow_y": null,
            "overflow_x": null,
            "grid_auto_flow": null,
            "grid_area": null,
            "grid_template_columns": null,
            "flex": null,
            "_model_name": "LayoutModel",
            "justify_items": null,
            "grid_row": null,
            "max_height": null,
            "align_content": null,
            "visibility": null,
            "align_self": null,
            "height": null,
            "min_height": null,
            "padding": null,
            "grid_auto_rows": null,
            "grid_gap": null,
            "max_width": null,
            "order": null,
            "_view_module_version": "1.2.0",
            "grid_template_areas": null,
            "object_position": null,
            "object_fit": null,
            "grid_auto_columns": null,
            "margin": null,
            "display": null,
            "left": null
          }
        },
        "23efd9ff7a04471aaf05feb368d2fed5": {
          "model_module": "@jupyter-widgets/controls",
          "model_name": "HBoxModel",
          "state": {
            "_view_name": "HBoxView",
            "_dom_classes": [],
            "_model_name": "HBoxModel",
            "_view_module": "@jupyter-widgets/controls",
            "_model_module_version": "1.5.0",
            "_view_count": null,
            "_view_module_version": "1.5.0",
            "box_style": "",
            "layout": "IPY_MODEL_e93a0791eb2d4c5eb21231b839f6397c",
            "_model_module": "@jupyter-widgets/controls",
            "children": [
              "IPY_MODEL_5d0e74d1e6824c1881c17a654e016476",
              "IPY_MODEL_c2e974675b3549a68290a9c508d5d07a"
            ]
          }
        },
        "e93a0791eb2d4c5eb21231b839f6397c": {
          "model_module": "@jupyter-widgets/base",
          "model_name": "LayoutModel",
          "state": {
            "_view_name": "LayoutView",
            "grid_template_rows": null,
            "right": null,
            "justify_content": null,
            "_view_module": "@jupyter-widgets/base",
            "overflow": null,
            "_model_module_version": "1.2.0",
            "_view_count": null,
            "flex_flow": null,
            "width": null,
            "min_width": null,
            "border": null,
            "align_items": null,
            "bottom": null,
            "_model_module": "@jupyter-widgets/base",
            "top": null,
            "grid_column": null,
            "overflow_y": null,
            "overflow_x": null,
            "grid_auto_flow": null,
            "grid_area": null,
            "grid_template_columns": null,
            "flex": null,
            "_model_name": "LayoutModel",
            "justify_items": null,
            "grid_row": null,
            "max_height": null,
            "align_content": null,
            "visibility": null,
            "align_self": null,
            "height": null,
            "min_height": null,
            "padding": null,
            "grid_auto_rows": null,
            "grid_gap": null,
            "max_width": null,
            "order": null,
            "_view_module_version": "1.2.0",
            "grid_template_areas": null,
            "object_position": null,
            "object_fit": null,
            "grid_auto_columns": null,
            "margin": null,
            "display": null,
            "left": null
          }
        },
        "5d0e74d1e6824c1881c17a654e016476": {
          "model_module": "@jupyter-widgets/controls",
          "model_name": "FloatProgressModel",
          "state": {
            "_view_name": "ProgressView",
            "style": "IPY_MODEL_e962b6a23f3644beae536010219594ea",
            "_dom_classes": [],
            "description": "",
            "_model_name": "FloatProgressModel",
            "bar_style": "success",
            "max": 1,
            "_view_module": "@jupyter-widgets/controls",
            "_model_module_version": "1.5.0",
            "value": 1,
            "_view_count": null,
            "_view_module_version": "1.5.0",
            "orientation": "horizontal",
            "min": 0,
            "description_tooltip": null,
            "_model_module": "@jupyter-widgets/controls",
            "layout": "IPY_MODEL_ebf56a0fb569468ab79691ce50561cda"
          }
        },
        "c2e974675b3549a68290a9c508d5d07a": {
          "model_module": "@jupyter-widgets/controls",
          "model_name": "HTMLModel",
          "state": {
            "_view_name": "HTMLView",
            "style": "IPY_MODEL_23e1a00529474292903954e5f26245bc",
            "_dom_classes": [],
            "description": "",
            "_model_name": "HTMLModel",
            "placeholder": "​",
            "_view_module": "@jupyter-widgets/controls",
            "_model_module_version": "1.5.0",
            "value": " 19999/? [02:34&lt;00:00, 129.55it/s]",
            "_view_count": null,
            "_view_module_version": "1.5.0",
            "description_tooltip": null,
            "_model_module": "@jupyter-widgets/controls",
            "layout": "IPY_MODEL_bd27702cff8c427e8e6ba96d10318062"
          }
        },
        "e962b6a23f3644beae536010219594ea": {
          "model_module": "@jupyter-widgets/controls",
          "model_name": "ProgressStyleModel",
          "state": {
            "_view_name": "StyleView",
            "_model_name": "ProgressStyleModel",
            "description_width": "initial",
            "_view_module": "@jupyter-widgets/base",
            "_model_module_version": "1.5.0",
            "_view_count": null,
            "_view_module_version": "1.2.0",
            "bar_color": null,
            "_model_module": "@jupyter-widgets/controls"
          }
        },
        "ebf56a0fb569468ab79691ce50561cda": {
          "model_module": "@jupyter-widgets/base",
          "model_name": "LayoutModel",
          "state": {
            "_view_name": "LayoutView",
            "grid_template_rows": null,
            "right": null,
            "justify_content": null,
            "_view_module": "@jupyter-widgets/base",
            "overflow": null,
            "_model_module_version": "1.2.0",
            "_view_count": null,
            "flex_flow": null,
            "width": null,
            "min_width": null,
            "border": null,
            "align_items": null,
            "bottom": null,
            "_model_module": "@jupyter-widgets/base",
            "top": null,
            "grid_column": null,
            "overflow_y": null,
            "overflow_x": null,
            "grid_auto_flow": null,
            "grid_area": null,
            "grid_template_columns": null,
            "flex": null,
            "_model_name": "LayoutModel",
            "justify_items": null,
            "grid_row": null,
            "max_height": null,
            "align_content": null,
            "visibility": null,
            "align_self": null,
            "height": null,
            "min_height": null,
            "padding": null,
            "grid_auto_rows": null,
            "grid_gap": null,
            "max_width": null,
            "order": null,
            "_view_module_version": "1.2.0",
            "grid_template_areas": null,
            "object_position": null,
            "object_fit": null,
            "grid_auto_columns": null,
            "margin": null,
            "display": null,
            "left": null
          }
        },
        "23e1a00529474292903954e5f26245bc": {
          "model_module": "@jupyter-widgets/controls",
          "model_name": "DescriptionStyleModel",
          "state": {
            "_view_name": "StyleView",
            "_model_name": "DescriptionStyleModel",
            "description_width": "",
            "_view_module": "@jupyter-widgets/base",
            "_model_module_version": "1.5.0",
            "_view_count": null,
            "_view_module_version": "1.2.0",
            "_model_module": "@jupyter-widgets/controls"
          }
        },
        "bd27702cff8c427e8e6ba96d10318062": {
          "model_module": "@jupyter-widgets/base",
          "model_name": "LayoutModel",
          "state": {
            "_view_name": "LayoutView",
            "grid_template_rows": null,
            "right": null,
            "justify_content": null,
            "_view_module": "@jupyter-widgets/base",
            "overflow": null,
            "_model_module_version": "1.2.0",
            "_view_count": null,
            "flex_flow": null,
            "width": null,
            "min_width": null,
            "border": null,
            "align_items": null,
            "bottom": null,
            "_model_module": "@jupyter-widgets/base",
            "top": null,
            "grid_column": null,
            "overflow_y": null,
            "overflow_x": null,
            "grid_auto_flow": null,
            "grid_area": null,
            "grid_template_columns": null,
            "flex": null,
            "_model_name": "LayoutModel",
            "justify_items": null,
            "grid_row": null,
            "max_height": null,
            "align_content": null,
            "visibility": null,
            "align_self": null,
            "height": null,
            "min_height": null,
            "padding": null,
            "grid_auto_rows": null,
            "grid_gap": null,
            "max_width": null,
            "order": null,
            "_view_module_version": "1.2.0",
            "grid_template_areas": null,
            "object_position": null,
            "object_fit": null,
            "grid_auto_columns": null,
            "margin": null,
            "display": null,
            "left": null
          }
        },
        "849f51a0628042faa882a3309a955bdd": {
          "model_module": "@jupyter-widgets/controls",
          "model_name": "HBoxModel",
          "state": {
            "_view_name": "HBoxView",
            "_dom_classes": [],
            "_model_name": "HBoxModel",
            "_view_module": "@jupyter-widgets/controls",
            "_model_module_version": "1.5.0",
            "_view_count": null,
            "_view_module_version": "1.5.0",
            "box_style": "",
            "layout": "IPY_MODEL_1f6b78e049464b478826cc4c42db1b9a",
            "_model_module": "@jupyter-widgets/controls",
            "children": [
              "IPY_MODEL_fe77331f92b945668697b6cb6a9a16cc",
              "IPY_MODEL_97f1a4148fdf49d9b14fbfc21231aaf6"
            ]
          }
        },
        "1f6b78e049464b478826cc4c42db1b9a": {
          "model_module": "@jupyter-widgets/base",
          "model_name": "LayoutModel",
          "state": {
            "_view_name": "LayoutView",
            "grid_template_rows": null,
            "right": null,
            "justify_content": null,
            "_view_module": "@jupyter-widgets/base",
            "overflow": null,
            "_model_module_version": "1.2.0",
            "_view_count": null,
            "flex_flow": null,
            "width": null,
            "min_width": null,
            "border": null,
            "align_items": null,
            "bottom": null,
            "_model_module": "@jupyter-widgets/base",
            "top": null,
            "grid_column": null,
            "overflow_y": null,
            "overflow_x": null,
            "grid_auto_flow": null,
            "grid_area": null,
            "grid_template_columns": null,
            "flex": null,
            "_model_name": "LayoutModel",
            "justify_items": null,
            "grid_row": null,
            "max_height": null,
            "align_content": null,
            "visibility": null,
            "align_self": null,
            "height": null,
            "min_height": null,
            "padding": null,
            "grid_auto_rows": null,
            "grid_gap": null,
            "max_width": null,
            "order": null,
            "_view_module_version": "1.2.0",
            "grid_template_areas": null,
            "object_position": null,
            "object_fit": null,
            "grid_auto_columns": null,
            "margin": null,
            "display": null,
            "left": null
          }
        },
        "fe77331f92b945668697b6cb6a9a16cc": {
          "model_module": "@jupyter-widgets/controls",
          "model_name": "FloatProgressModel",
          "state": {
            "_view_name": "ProgressView",
            "style": "IPY_MODEL_f56dcab9cd5e406b8bb14584d2f3142a",
            "_dom_classes": [],
            "description": "",
            "_model_name": "FloatProgressModel",
            "bar_style": "success",
            "max": 1,
            "_view_module": "@jupyter-widgets/controls",
            "_model_module_version": "1.5.0",
            "value": 1,
            "_view_count": null,
            "_view_module_version": "1.5.0",
            "orientation": "horizontal",
            "min": 0,
            "description_tooltip": null,
            "_model_module": "@jupyter-widgets/controls",
            "layout": "IPY_MODEL_4fe4396df814446e96e03ff4a11e8bf7"
          }
        },
        "97f1a4148fdf49d9b14fbfc21231aaf6": {
          "model_module": "@jupyter-widgets/controls",
          "model_name": "HTMLModel",
          "state": {
            "_view_name": "HTMLView",
            "style": "IPY_MODEL_90eae0dffcb5451ab35cf032be885002",
            "_dom_classes": [],
            "description": "",
            "_model_name": "HTMLModel",
            "placeholder": "​",
            "_view_module": "@jupyter-widgets/controls",
            "_model_module_version": "1.5.0",
            "value": " 19999/? [01:43&lt;00:00, 192.41it/s]",
            "_view_count": null,
            "_view_module_version": "1.5.0",
            "description_tooltip": null,
            "_model_module": "@jupyter-widgets/controls",
            "layout": "IPY_MODEL_068048b3ba0e43c2a3e90589919bcdd0"
          }
        },
        "f56dcab9cd5e406b8bb14584d2f3142a": {
          "model_module": "@jupyter-widgets/controls",
          "model_name": "ProgressStyleModel",
          "state": {
            "_view_name": "StyleView",
            "_model_name": "ProgressStyleModel",
            "description_width": "initial",
            "_view_module": "@jupyter-widgets/base",
            "_model_module_version": "1.5.0",
            "_view_count": null,
            "_view_module_version": "1.2.0",
            "bar_color": null,
            "_model_module": "@jupyter-widgets/controls"
          }
        },
        "4fe4396df814446e96e03ff4a11e8bf7": {
          "model_module": "@jupyter-widgets/base",
          "model_name": "LayoutModel",
          "state": {
            "_view_name": "LayoutView",
            "grid_template_rows": null,
            "right": null,
            "justify_content": null,
            "_view_module": "@jupyter-widgets/base",
            "overflow": null,
            "_model_module_version": "1.2.0",
            "_view_count": null,
            "flex_flow": null,
            "width": null,
            "min_width": null,
            "border": null,
            "align_items": null,
            "bottom": null,
            "_model_module": "@jupyter-widgets/base",
            "top": null,
            "grid_column": null,
            "overflow_y": null,
            "overflow_x": null,
            "grid_auto_flow": null,
            "grid_area": null,
            "grid_template_columns": null,
            "flex": null,
            "_model_name": "LayoutModel",
            "justify_items": null,
            "grid_row": null,
            "max_height": null,
            "align_content": null,
            "visibility": null,
            "align_self": null,
            "height": null,
            "min_height": null,
            "padding": null,
            "grid_auto_rows": null,
            "grid_gap": null,
            "max_width": null,
            "order": null,
            "_view_module_version": "1.2.0",
            "grid_template_areas": null,
            "object_position": null,
            "object_fit": null,
            "grid_auto_columns": null,
            "margin": null,
            "display": null,
            "left": null
          }
        },
        "90eae0dffcb5451ab35cf032be885002": {
          "model_module": "@jupyter-widgets/controls",
          "model_name": "DescriptionStyleModel",
          "state": {
            "_view_name": "StyleView",
            "_model_name": "DescriptionStyleModel",
            "description_width": "",
            "_view_module": "@jupyter-widgets/base",
            "_model_module_version": "1.5.0",
            "_view_count": null,
            "_view_module_version": "1.2.0",
            "_model_module": "@jupyter-widgets/controls"
          }
        },
        "068048b3ba0e43c2a3e90589919bcdd0": {
          "model_module": "@jupyter-widgets/base",
          "model_name": "LayoutModel",
          "state": {
            "_view_name": "LayoutView",
            "grid_template_rows": null,
            "right": null,
            "justify_content": null,
            "_view_module": "@jupyter-widgets/base",
            "overflow": null,
            "_model_module_version": "1.2.0",
            "_view_count": null,
            "flex_flow": null,
            "width": null,
            "min_width": null,
            "border": null,
            "align_items": null,
            "bottom": null,
            "_model_module": "@jupyter-widgets/base",
            "top": null,
            "grid_column": null,
            "overflow_y": null,
            "overflow_x": null,
            "grid_auto_flow": null,
            "grid_area": null,
            "grid_template_columns": null,
            "flex": null,
            "_model_name": "LayoutModel",
            "justify_items": null,
            "grid_row": null,
            "max_height": null,
            "align_content": null,
            "visibility": null,
            "align_self": null,
            "height": null,
            "min_height": null,
            "padding": null,
            "grid_auto_rows": null,
            "grid_gap": null,
            "max_width": null,
            "order": null,
            "_view_module_version": "1.2.0",
            "grid_template_areas": null,
            "object_position": null,
            "object_fit": null,
            "grid_auto_columns": null,
            "margin": null,
            "display": null,
            "left": null
          }
        },
        "0537e10f8cf34fbfad07e27051a19c5c": {
          "model_module": "@jupyter-widgets/controls",
          "model_name": "HBoxModel",
          "state": {
            "_view_name": "HBoxView",
            "_dom_classes": [],
            "_model_name": "HBoxModel",
            "_view_module": "@jupyter-widgets/controls",
            "_model_module_version": "1.5.0",
            "_view_count": null,
            "_view_module_version": "1.5.0",
            "box_style": "",
            "layout": "IPY_MODEL_b1b1fc73637e4569ba2f951322167a70",
            "_model_module": "@jupyter-widgets/controls",
            "children": [
              "IPY_MODEL_ca94f3da97c048239f81a461e77dcacb",
              "IPY_MODEL_fbaf45d2a27845b29b4f7f38e0516a06"
            ]
          }
        },
        "b1b1fc73637e4569ba2f951322167a70": {
          "model_module": "@jupyter-widgets/base",
          "model_name": "LayoutModel",
          "state": {
            "_view_name": "LayoutView",
            "grid_template_rows": null,
            "right": null,
            "justify_content": null,
            "_view_module": "@jupyter-widgets/base",
            "overflow": null,
            "_model_module_version": "1.2.0",
            "_view_count": null,
            "flex_flow": null,
            "width": null,
            "min_width": null,
            "border": null,
            "align_items": null,
            "bottom": null,
            "_model_module": "@jupyter-widgets/base",
            "top": null,
            "grid_column": null,
            "overflow_y": null,
            "overflow_x": null,
            "grid_auto_flow": null,
            "grid_area": null,
            "grid_template_columns": null,
            "flex": null,
            "_model_name": "LayoutModel",
            "justify_items": null,
            "grid_row": null,
            "max_height": null,
            "align_content": null,
            "visibility": null,
            "align_self": null,
            "height": null,
            "min_height": null,
            "padding": null,
            "grid_auto_rows": null,
            "grid_gap": null,
            "max_width": null,
            "order": null,
            "_view_module_version": "1.2.0",
            "grid_template_areas": null,
            "object_position": null,
            "object_fit": null,
            "grid_auto_columns": null,
            "margin": null,
            "display": null,
            "left": null
          }
        },
        "ca94f3da97c048239f81a461e77dcacb": {
          "model_module": "@jupyter-widgets/controls",
          "model_name": "FloatProgressModel",
          "state": {
            "_view_name": "ProgressView",
            "style": "IPY_MODEL_3639ffe95f8244a997a0ff36d649390c",
            "_dom_classes": [],
            "description": "",
            "_model_name": "FloatProgressModel",
            "bar_style": "success",
            "max": 1,
            "_view_module": "@jupyter-widgets/controls",
            "_model_module_version": "1.5.0",
            "value": 1,
            "_view_count": null,
            "_view_module_version": "1.5.0",
            "orientation": "horizontal",
            "min": 0,
            "description_tooltip": null,
            "_model_module": "@jupyter-widgets/controls",
            "layout": "IPY_MODEL_69d17635a78c4bc3b037fc395af7ec00"
          }
        },
        "fbaf45d2a27845b29b4f7f38e0516a06": {
          "model_module": "@jupyter-widgets/controls",
          "model_name": "HTMLModel",
          "state": {
            "_view_name": "HTMLView",
            "style": "IPY_MODEL_7f6737b2b5444981bbe1810b247ad455",
            "_dom_classes": [],
            "description": "",
            "_model_name": "HTMLModel",
            "placeholder": "​",
            "_view_module": "@jupyter-widgets/controls",
            "_model_module_version": "1.5.0",
            "value": " 19999/? [00:52&lt;00:00, 377.66it/s]",
            "_view_count": null,
            "_view_module_version": "1.5.0",
            "description_tooltip": null,
            "_model_module": "@jupyter-widgets/controls",
            "layout": "IPY_MODEL_74759128b8e3493da8e3b593822e3f62"
          }
        },
        "3639ffe95f8244a997a0ff36d649390c": {
          "model_module": "@jupyter-widgets/controls",
          "model_name": "ProgressStyleModel",
          "state": {
            "_view_name": "StyleView",
            "_model_name": "ProgressStyleModel",
            "description_width": "initial",
            "_view_module": "@jupyter-widgets/base",
            "_model_module_version": "1.5.0",
            "_view_count": null,
            "_view_module_version": "1.2.0",
            "bar_color": null,
            "_model_module": "@jupyter-widgets/controls"
          }
        },
        "69d17635a78c4bc3b037fc395af7ec00": {
          "model_module": "@jupyter-widgets/base",
          "model_name": "LayoutModel",
          "state": {
            "_view_name": "LayoutView",
            "grid_template_rows": null,
            "right": null,
            "justify_content": null,
            "_view_module": "@jupyter-widgets/base",
            "overflow": null,
            "_model_module_version": "1.2.0",
            "_view_count": null,
            "flex_flow": null,
            "width": null,
            "min_width": null,
            "border": null,
            "align_items": null,
            "bottom": null,
            "_model_module": "@jupyter-widgets/base",
            "top": null,
            "grid_column": null,
            "overflow_y": null,
            "overflow_x": null,
            "grid_auto_flow": null,
            "grid_area": null,
            "grid_template_columns": null,
            "flex": null,
            "_model_name": "LayoutModel",
            "justify_items": null,
            "grid_row": null,
            "max_height": null,
            "align_content": null,
            "visibility": null,
            "align_self": null,
            "height": null,
            "min_height": null,
            "padding": null,
            "grid_auto_rows": null,
            "grid_gap": null,
            "max_width": null,
            "order": null,
            "_view_module_version": "1.2.0",
            "grid_template_areas": null,
            "object_position": null,
            "object_fit": null,
            "grid_auto_columns": null,
            "margin": null,
            "display": null,
            "left": null
          }
        },
        "7f6737b2b5444981bbe1810b247ad455": {
          "model_module": "@jupyter-widgets/controls",
          "model_name": "DescriptionStyleModel",
          "state": {
            "_view_name": "StyleView",
            "_model_name": "DescriptionStyleModel",
            "description_width": "",
            "_view_module": "@jupyter-widgets/base",
            "_model_module_version": "1.5.0",
            "_view_count": null,
            "_view_module_version": "1.2.0",
            "_model_module": "@jupyter-widgets/controls"
          }
        },
        "74759128b8e3493da8e3b593822e3f62": {
          "model_module": "@jupyter-widgets/base",
          "model_name": "LayoutModel",
          "state": {
            "_view_name": "LayoutView",
            "grid_template_rows": null,
            "right": null,
            "justify_content": null,
            "_view_module": "@jupyter-widgets/base",
            "overflow": null,
            "_model_module_version": "1.2.0",
            "_view_count": null,
            "flex_flow": null,
            "width": null,
            "min_width": null,
            "border": null,
            "align_items": null,
            "bottom": null,
            "_model_module": "@jupyter-widgets/base",
            "top": null,
            "grid_column": null,
            "overflow_y": null,
            "overflow_x": null,
            "grid_auto_flow": null,
            "grid_area": null,
            "grid_template_columns": null,
            "flex": null,
            "_model_name": "LayoutModel",
            "justify_items": null,
            "grid_row": null,
            "max_height": null,
            "align_content": null,
            "visibility": null,
            "align_self": null,
            "height": null,
            "min_height": null,
            "padding": null,
            "grid_auto_rows": null,
            "grid_gap": null,
            "max_width": null,
            "order": null,
            "_view_module_version": "1.2.0",
            "grid_template_areas": null,
            "object_position": null,
            "object_fit": null,
            "grid_auto_columns": null,
            "margin": null,
            "display": null,
            "left": null
          }
        },
        "b153d458427541a8bb39d5bd12ed36ea": {
          "model_module": "@jupyter-widgets/controls",
          "model_name": "HBoxModel",
          "state": {
            "_view_name": "HBoxView",
            "_dom_classes": [],
            "_model_name": "HBoxModel",
            "_view_module": "@jupyter-widgets/controls",
            "_model_module_version": "1.5.0",
            "_view_count": null,
            "_view_module_version": "1.5.0",
            "box_style": "",
            "layout": "IPY_MODEL_e1949831e7e74941bb3669b746559b66",
            "_model_module": "@jupyter-widgets/controls",
            "children": [
              "IPY_MODEL_c5ec28d38635498bb8a094081ffcffa7",
              "IPY_MODEL_df200274fd2443ed926b4cb3cd835276"
            ]
          }
        },
        "e1949831e7e74941bb3669b746559b66": {
          "model_module": "@jupyter-widgets/base",
          "model_name": "LayoutModel",
          "state": {
            "_view_name": "LayoutView",
            "grid_template_rows": null,
            "right": null,
            "justify_content": null,
            "_view_module": "@jupyter-widgets/base",
            "overflow": null,
            "_model_module_version": "1.2.0",
            "_view_count": null,
            "flex_flow": null,
            "width": null,
            "min_width": null,
            "border": null,
            "align_items": null,
            "bottom": null,
            "_model_module": "@jupyter-widgets/base",
            "top": null,
            "grid_column": null,
            "overflow_y": null,
            "overflow_x": null,
            "grid_auto_flow": null,
            "grid_area": null,
            "grid_template_columns": null,
            "flex": null,
            "_model_name": "LayoutModel",
            "justify_items": null,
            "grid_row": null,
            "max_height": null,
            "align_content": null,
            "visibility": null,
            "align_self": null,
            "height": null,
            "min_height": null,
            "padding": null,
            "grid_auto_rows": null,
            "grid_gap": null,
            "max_width": null,
            "order": null,
            "_view_module_version": "1.2.0",
            "grid_template_areas": null,
            "object_position": null,
            "object_fit": null,
            "grid_auto_columns": null,
            "margin": null,
            "display": null,
            "left": null
          }
        },
        "c5ec28d38635498bb8a094081ffcffa7": {
          "model_module": "@jupyter-widgets/controls",
          "model_name": "FloatProgressModel",
          "state": {
            "_view_name": "ProgressView",
            "style": "IPY_MODEL_c1e4ca3c9f3c4ada9b1f1e973f5ca87b",
            "_dom_classes": [],
            "description": "",
            "_model_name": "FloatProgressModel",
            "bar_style": "success",
            "max": 1,
            "_view_module": "@jupyter-widgets/controls",
            "_model_module_version": "1.5.0",
            "value": 1,
            "_view_count": null,
            "_view_module_version": "1.5.0",
            "orientation": "horizontal",
            "min": 0,
            "description_tooltip": null,
            "_model_module": "@jupyter-widgets/controls",
            "layout": "IPY_MODEL_64109b7681384adda84290f4ae2c08da"
          }
        },
        "df200274fd2443ed926b4cb3cd835276": {
          "model_module": "@jupyter-widgets/controls",
          "model_name": "HTMLModel",
          "state": {
            "_view_name": "HTMLView",
            "style": "IPY_MODEL_2f494dff480a463a8394434bb41373d3",
            "_dom_classes": [],
            "description": "",
            "_model_name": "HTMLModel",
            "placeholder": "​",
            "_view_module": "@jupyter-widgets/controls",
            "_model_module_version": "1.5.0",
            "value": " 20000/? [00:00&lt;00:00, 38528.60it/s]",
            "_view_count": null,
            "_view_module_version": "1.5.0",
            "description_tooltip": null,
            "_model_module": "@jupyter-widgets/controls",
            "layout": "IPY_MODEL_58fc4dae9a86459e9b3f5fce0945b250"
          }
        },
        "c1e4ca3c9f3c4ada9b1f1e973f5ca87b": {
          "model_module": "@jupyter-widgets/controls",
          "model_name": "ProgressStyleModel",
          "state": {
            "_view_name": "StyleView",
            "_model_name": "ProgressStyleModel",
            "description_width": "initial",
            "_view_module": "@jupyter-widgets/base",
            "_model_module_version": "1.5.0",
            "_view_count": null,
            "_view_module_version": "1.2.0",
            "bar_color": null,
            "_model_module": "@jupyter-widgets/controls"
          }
        },
        "64109b7681384adda84290f4ae2c08da": {
          "model_module": "@jupyter-widgets/base",
          "model_name": "LayoutModel",
          "state": {
            "_view_name": "LayoutView",
            "grid_template_rows": null,
            "right": null,
            "justify_content": null,
            "_view_module": "@jupyter-widgets/base",
            "overflow": null,
            "_model_module_version": "1.2.0",
            "_view_count": null,
            "flex_flow": null,
            "width": null,
            "min_width": null,
            "border": null,
            "align_items": null,
            "bottom": null,
            "_model_module": "@jupyter-widgets/base",
            "top": null,
            "grid_column": null,
            "overflow_y": null,
            "overflow_x": null,
            "grid_auto_flow": null,
            "grid_area": null,
            "grid_template_columns": null,
            "flex": null,
            "_model_name": "LayoutModel",
            "justify_items": null,
            "grid_row": null,
            "max_height": null,
            "align_content": null,
            "visibility": null,
            "align_self": null,
            "height": null,
            "min_height": null,
            "padding": null,
            "grid_auto_rows": null,
            "grid_gap": null,
            "max_width": null,
            "order": null,
            "_view_module_version": "1.2.0",
            "grid_template_areas": null,
            "object_position": null,
            "object_fit": null,
            "grid_auto_columns": null,
            "margin": null,
            "display": null,
            "left": null
          }
        },
        "2f494dff480a463a8394434bb41373d3": {
          "model_module": "@jupyter-widgets/controls",
          "model_name": "DescriptionStyleModel",
          "state": {
            "_view_name": "StyleView",
            "_model_name": "DescriptionStyleModel",
            "description_width": "",
            "_view_module": "@jupyter-widgets/base",
            "_model_module_version": "1.5.0",
            "_view_count": null,
            "_view_module_version": "1.2.0",
            "_model_module": "@jupyter-widgets/controls"
          }
        },
        "58fc4dae9a86459e9b3f5fce0945b250": {
          "model_module": "@jupyter-widgets/base",
          "model_name": "LayoutModel",
          "state": {
            "_view_name": "LayoutView",
            "grid_template_rows": null,
            "right": null,
            "justify_content": null,
            "_view_module": "@jupyter-widgets/base",
            "overflow": null,
            "_model_module_version": "1.2.0",
            "_view_count": null,
            "flex_flow": null,
            "width": null,
            "min_width": null,
            "border": null,
            "align_items": null,
            "bottom": null,
            "_model_module": "@jupyter-widgets/base",
            "top": null,
            "grid_column": null,
            "overflow_y": null,
            "overflow_x": null,
            "grid_auto_flow": null,
            "grid_area": null,
            "grid_template_columns": null,
            "flex": null,
            "_model_name": "LayoutModel",
            "justify_items": null,
            "grid_row": null,
            "max_height": null,
            "align_content": null,
            "visibility": null,
            "align_self": null,
            "height": null,
            "min_height": null,
            "padding": null,
            "grid_auto_rows": null,
            "grid_gap": null,
            "max_width": null,
            "order": null,
            "_view_module_version": "1.2.0",
            "grid_template_areas": null,
            "object_position": null,
            "object_fit": null,
            "grid_auto_columns": null,
            "margin": null,
            "display": null,
            "left": null
          }
        },
        "cb551f0b57f24daca27220412b9df333": {
          "model_module": "@jupyter-widgets/controls",
          "model_name": "HBoxModel",
          "state": {
            "_view_name": "HBoxView",
            "_dom_classes": [],
            "_model_name": "HBoxModel",
            "_view_module": "@jupyter-widgets/controls",
            "_model_module_version": "1.5.0",
            "_view_count": null,
            "_view_module_version": "1.5.0",
            "box_style": "",
            "layout": "IPY_MODEL_44e80221621b4fc1834b7bd1448b2926",
            "_model_module": "@jupyter-widgets/controls",
            "children": [
              "IPY_MODEL_5622db20669546888ff443e7a66892a6",
              "IPY_MODEL_fc162016cc8f476998cd60cf1d569af6"
            ]
          }
        },
        "44e80221621b4fc1834b7bd1448b2926": {
          "model_module": "@jupyter-widgets/base",
          "model_name": "LayoutModel",
          "state": {
            "_view_name": "LayoutView",
            "grid_template_rows": null,
            "right": null,
            "justify_content": null,
            "_view_module": "@jupyter-widgets/base",
            "overflow": null,
            "_model_module_version": "1.2.0",
            "_view_count": null,
            "flex_flow": null,
            "width": null,
            "min_width": null,
            "border": null,
            "align_items": null,
            "bottom": null,
            "_model_module": "@jupyter-widgets/base",
            "top": null,
            "grid_column": null,
            "overflow_y": null,
            "overflow_x": null,
            "grid_auto_flow": null,
            "grid_area": null,
            "grid_template_columns": null,
            "flex": null,
            "_model_name": "LayoutModel",
            "justify_items": null,
            "grid_row": null,
            "max_height": null,
            "align_content": null,
            "visibility": null,
            "align_self": null,
            "height": null,
            "min_height": null,
            "padding": null,
            "grid_auto_rows": null,
            "grid_gap": null,
            "max_width": null,
            "order": null,
            "_view_module_version": "1.2.0",
            "grid_template_areas": null,
            "object_position": null,
            "object_fit": null,
            "grid_auto_columns": null,
            "margin": null,
            "display": null,
            "left": null
          }
        },
        "5622db20669546888ff443e7a66892a6": {
          "model_module": "@jupyter-widgets/controls",
          "model_name": "FloatProgressModel",
          "state": {
            "_view_name": "ProgressView",
            "style": "IPY_MODEL_1940fc3a364a4f58b6a9959576f446d9",
            "_dom_classes": [],
            "description": "",
            "_model_name": "FloatProgressModel",
            "bar_style": "success",
            "max": 1,
            "_view_module": "@jupyter-widgets/controls",
            "_model_module_version": "1.5.0",
            "value": 1,
            "_view_count": null,
            "_view_module_version": "1.5.0",
            "orientation": "horizontal",
            "min": 0,
            "description_tooltip": null,
            "_model_module": "@jupyter-widgets/controls",
            "layout": "IPY_MODEL_942b50664113459facbf84be9005b107"
          }
        },
        "fc162016cc8f476998cd60cf1d569af6": {
          "model_module": "@jupyter-widgets/controls",
          "model_name": "HTMLModel",
          "state": {
            "_view_name": "HTMLView",
            "style": "IPY_MODEL_0561a8bf6ef44c8dba3309b9ba5faa1b",
            "_dom_classes": [],
            "description": "",
            "_model_name": "HTMLModel",
            "placeholder": "​",
            "_view_module": "@jupyter-widgets/controls",
            "_model_module_version": "1.5.0",
            "value": " 19994/? [02:25&lt;00:00, 137.29it/s]",
            "_view_count": null,
            "_view_module_version": "1.5.0",
            "description_tooltip": null,
            "_model_module": "@jupyter-widgets/controls",
            "layout": "IPY_MODEL_9cf1d0ba61464312bbdbbf03f723eaf1"
          }
        },
        "1940fc3a364a4f58b6a9959576f446d9": {
          "model_module": "@jupyter-widgets/controls",
          "model_name": "ProgressStyleModel",
          "state": {
            "_view_name": "StyleView",
            "_model_name": "ProgressStyleModel",
            "description_width": "initial",
            "_view_module": "@jupyter-widgets/base",
            "_model_module_version": "1.5.0",
            "_view_count": null,
            "_view_module_version": "1.2.0",
            "bar_color": null,
            "_model_module": "@jupyter-widgets/controls"
          }
        },
        "942b50664113459facbf84be9005b107": {
          "model_module": "@jupyter-widgets/base",
          "model_name": "LayoutModel",
          "state": {
            "_view_name": "LayoutView",
            "grid_template_rows": null,
            "right": null,
            "justify_content": null,
            "_view_module": "@jupyter-widgets/base",
            "overflow": null,
            "_model_module_version": "1.2.0",
            "_view_count": null,
            "flex_flow": null,
            "width": null,
            "min_width": null,
            "border": null,
            "align_items": null,
            "bottom": null,
            "_model_module": "@jupyter-widgets/base",
            "top": null,
            "grid_column": null,
            "overflow_y": null,
            "overflow_x": null,
            "grid_auto_flow": null,
            "grid_area": null,
            "grid_template_columns": null,
            "flex": null,
            "_model_name": "LayoutModel",
            "justify_items": null,
            "grid_row": null,
            "max_height": null,
            "align_content": null,
            "visibility": null,
            "align_self": null,
            "height": null,
            "min_height": null,
            "padding": null,
            "grid_auto_rows": null,
            "grid_gap": null,
            "max_width": null,
            "order": null,
            "_view_module_version": "1.2.0",
            "grid_template_areas": null,
            "object_position": null,
            "object_fit": null,
            "grid_auto_columns": null,
            "margin": null,
            "display": null,
            "left": null
          }
        },
        "0561a8bf6ef44c8dba3309b9ba5faa1b": {
          "model_module": "@jupyter-widgets/controls",
          "model_name": "DescriptionStyleModel",
          "state": {
            "_view_name": "StyleView",
            "_model_name": "DescriptionStyleModel",
            "description_width": "",
            "_view_module": "@jupyter-widgets/base",
            "_model_module_version": "1.5.0",
            "_view_count": null,
            "_view_module_version": "1.2.0",
            "_model_module": "@jupyter-widgets/controls"
          }
        },
        "9cf1d0ba61464312bbdbbf03f723eaf1": {
          "model_module": "@jupyter-widgets/base",
          "model_name": "LayoutModel",
          "state": {
            "_view_name": "LayoutView",
            "grid_template_rows": null,
            "right": null,
            "justify_content": null,
            "_view_module": "@jupyter-widgets/base",
            "overflow": null,
            "_model_module_version": "1.2.0",
            "_view_count": null,
            "flex_flow": null,
            "width": null,
            "min_width": null,
            "border": null,
            "align_items": null,
            "bottom": null,
            "_model_module": "@jupyter-widgets/base",
            "top": null,
            "grid_column": null,
            "overflow_y": null,
            "overflow_x": null,
            "grid_auto_flow": null,
            "grid_area": null,
            "grid_template_columns": null,
            "flex": null,
            "_model_name": "LayoutModel",
            "justify_items": null,
            "grid_row": null,
            "max_height": null,
            "align_content": null,
            "visibility": null,
            "align_self": null,
            "height": null,
            "min_height": null,
            "padding": null,
            "grid_auto_rows": null,
            "grid_gap": null,
            "max_width": null,
            "order": null,
            "_view_module_version": "1.2.0",
            "grid_template_areas": null,
            "object_position": null,
            "object_fit": null,
            "grid_auto_columns": null,
            "margin": null,
            "display": null,
            "left": null
          }
        },
        "13e2f290edc748039a79d0d7ab685a95": {
          "model_module": "@jupyter-widgets/controls",
          "model_name": "HBoxModel",
          "state": {
            "_view_name": "HBoxView",
            "_dom_classes": [],
            "_model_name": "HBoxModel",
            "_view_module": "@jupyter-widgets/controls",
            "_model_module_version": "1.5.0",
            "_view_count": null,
            "_view_module_version": "1.5.0",
            "box_style": "",
            "layout": "IPY_MODEL_1559fe65d7244749a3d761fbc0bf480a",
            "_model_module": "@jupyter-widgets/controls",
            "children": [
              "IPY_MODEL_c6a2a228d6ba4a319c18a941ed52c4c5",
              "IPY_MODEL_03101026dba948e4bed63890b1c1ce8a"
            ]
          }
        },
        "1559fe65d7244749a3d761fbc0bf480a": {
          "model_module": "@jupyter-widgets/base",
          "model_name": "LayoutModel",
          "state": {
            "_view_name": "LayoutView",
            "grid_template_rows": null,
            "right": null,
            "justify_content": null,
            "_view_module": "@jupyter-widgets/base",
            "overflow": null,
            "_model_module_version": "1.2.0",
            "_view_count": null,
            "flex_flow": null,
            "width": null,
            "min_width": null,
            "border": null,
            "align_items": null,
            "bottom": null,
            "_model_module": "@jupyter-widgets/base",
            "top": null,
            "grid_column": null,
            "overflow_y": null,
            "overflow_x": null,
            "grid_auto_flow": null,
            "grid_area": null,
            "grid_template_columns": null,
            "flex": null,
            "_model_name": "LayoutModel",
            "justify_items": null,
            "grid_row": null,
            "max_height": null,
            "align_content": null,
            "visibility": null,
            "align_self": null,
            "height": null,
            "min_height": null,
            "padding": null,
            "grid_auto_rows": null,
            "grid_gap": null,
            "max_width": null,
            "order": null,
            "_view_module_version": "1.2.0",
            "grid_template_areas": null,
            "object_position": null,
            "object_fit": null,
            "grid_auto_columns": null,
            "margin": null,
            "display": null,
            "left": null
          }
        },
        "c6a2a228d6ba4a319c18a941ed52c4c5": {
          "model_module": "@jupyter-widgets/controls",
          "model_name": "FloatProgressModel",
          "state": {
            "_view_name": "ProgressView",
            "style": "IPY_MODEL_9f00b90a9f4d467586fe18992034d3b4",
            "_dom_classes": [],
            "description": "",
            "_model_name": "FloatProgressModel",
            "bar_style": "success",
            "max": 1,
            "_view_module": "@jupyter-widgets/controls",
            "_model_module_version": "1.5.0",
            "value": 1,
            "_view_count": null,
            "_view_module_version": "1.5.0",
            "orientation": "horizontal",
            "min": 0,
            "description_tooltip": null,
            "_model_module": "@jupyter-widgets/controls",
            "layout": "IPY_MODEL_21606505503b42ce96701de79279b9ee"
          }
        },
        "03101026dba948e4bed63890b1c1ce8a": {
          "model_module": "@jupyter-widgets/controls",
          "model_name": "HTMLModel",
          "state": {
            "_view_name": "HTMLView",
            "style": "IPY_MODEL_309f59ff5e9c4aad95e588b31e6bea31",
            "_dom_classes": [],
            "description": "",
            "_model_name": "HTMLModel",
            "placeholder": "​",
            "_view_module": "@jupyter-widgets/controls",
            "_model_module_version": "1.5.0",
            "value": " 19994/? [01:33&lt;00:00, 213.80it/s]",
            "_view_count": null,
            "_view_module_version": "1.5.0",
            "description_tooltip": null,
            "_model_module": "@jupyter-widgets/controls",
            "layout": "IPY_MODEL_6999b7a09af749878834c03a4809a653"
          }
        },
        "9f00b90a9f4d467586fe18992034d3b4": {
          "model_module": "@jupyter-widgets/controls",
          "model_name": "ProgressStyleModel",
          "state": {
            "_view_name": "StyleView",
            "_model_name": "ProgressStyleModel",
            "description_width": "initial",
            "_view_module": "@jupyter-widgets/base",
            "_model_module_version": "1.5.0",
            "_view_count": null,
            "_view_module_version": "1.2.0",
            "bar_color": null,
            "_model_module": "@jupyter-widgets/controls"
          }
        },
        "21606505503b42ce96701de79279b9ee": {
          "model_module": "@jupyter-widgets/base",
          "model_name": "LayoutModel",
          "state": {
            "_view_name": "LayoutView",
            "grid_template_rows": null,
            "right": null,
            "justify_content": null,
            "_view_module": "@jupyter-widgets/base",
            "overflow": null,
            "_model_module_version": "1.2.0",
            "_view_count": null,
            "flex_flow": null,
            "width": null,
            "min_width": null,
            "border": null,
            "align_items": null,
            "bottom": null,
            "_model_module": "@jupyter-widgets/base",
            "top": null,
            "grid_column": null,
            "overflow_y": null,
            "overflow_x": null,
            "grid_auto_flow": null,
            "grid_area": null,
            "grid_template_columns": null,
            "flex": null,
            "_model_name": "LayoutModel",
            "justify_items": null,
            "grid_row": null,
            "max_height": null,
            "align_content": null,
            "visibility": null,
            "align_self": null,
            "height": null,
            "min_height": null,
            "padding": null,
            "grid_auto_rows": null,
            "grid_gap": null,
            "max_width": null,
            "order": null,
            "_view_module_version": "1.2.0",
            "grid_template_areas": null,
            "object_position": null,
            "object_fit": null,
            "grid_auto_columns": null,
            "margin": null,
            "display": null,
            "left": null
          }
        },
        "309f59ff5e9c4aad95e588b31e6bea31": {
          "model_module": "@jupyter-widgets/controls",
          "model_name": "DescriptionStyleModel",
          "state": {
            "_view_name": "StyleView",
            "_model_name": "DescriptionStyleModel",
            "description_width": "",
            "_view_module": "@jupyter-widgets/base",
            "_model_module_version": "1.5.0",
            "_view_count": null,
            "_view_module_version": "1.2.0",
            "_model_module": "@jupyter-widgets/controls"
          }
        },
        "6999b7a09af749878834c03a4809a653": {
          "model_module": "@jupyter-widgets/base",
          "model_name": "LayoutModel",
          "state": {
            "_view_name": "LayoutView",
            "grid_template_rows": null,
            "right": null,
            "justify_content": null,
            "_view_module": "@jupyter-widgets/base",
            "overflow": null,
            "_model_module_version": "1.2.0",
            "_view_count": null,
            "flex_flow": null,
            "width": null,
            "min_width": null,
            "border": null,
            "align_items": null,
            "bottom": null,
            "_model_module": "@jupyter-widgets/base",
            "top": null,
            "grid_column": null,
            "overflow_y": null,
            "overflow_x": null,
            "grid_auto_flow": null,
            "grid_area": null,
            "grid_template_columns": null,
            "flex": null,
            "_model_name": "LayoutModel",
            "justify_items": null,
            "grid_row": null,
            "max_height": null,
            "align_content": null,
            "visibility": null,
            "align_self": null,
            "height": null,
            "min_height": null,
            "padding": null,
            "grid_auto_rows": null,
            "grid_gap": null,
            "max_width": null,
            "order": null,
            "_view_module_version": "1.2.0",
            "grid_template_areas": null,
            "object_position": null,
            "object_fit": null,
            "grid_auto_columns": null,
            "margin": null,
            "display": null,
            "left": null
          }
        },
        "18d27c4297924aeeae06c197997251ab": {
          "model_module": "@jupyter-widgets/controls",
          "model_name": "HBoxModel",
          "state": {
            "_view_name": "HBoxView",
            "_dom_classes": [],
            "_model_name": "HBoxModel",
            "_view_module": "@jupyter-widgets/controls",
            "_model_module_version": "1.5.0",
            "_view_count": null,
            "_view_module_version": "1.5.0",
            "box_style": "",
            "layout": "IPY_MODEL_0392526da8084206b17d7bb7b3e3cdd6",
            "_model_module": "@jupyter-widgets/controls",
            "children": [
              "IPY_MODEL_33d0249269544c47aa648786fb2ac780",
              "IPY_MODEL_b9fe5d070bf042c39584013b80e8d8c1"
            ]
          }
        },
        "0392526da8084206b17d7bb7b3e3cdd6": {
          "model_module": "@jupyter-widgets/base",
          "model_name": "LayoutModel",
          "state": {
            "_view_name": "LayoutView",
            "grid_template_rows": null,
            "right": null,
            "justify_content": null,
            "_view_module": "@jupyter-widgets/base",
            "overflow": null,
            "_model_module_version": "1.2.0",
            "_view_count": null,
            "flex_flow": null,
            "width": null,
            "min_width": null,
            "border": null,
            "align_items": null,
            "bottom": null,
            "_model_module": "@jupyter-widgets/base",
            "top": null,
            "grid_column": null,
            "overflow_y": null,
            "overflow_x": null,
            "grid_auto_flow": null,
            "grid_area": null,
            "grid_template_columns": null,
            "flex": null,
            "_model_name": "LayoutModel",
            "justify_items": null,
            "grid_row": null,
            "max_height": null,
            "align_content": null,
            "visibility": null,
            "align_self": null,
            "height": null,
            "min_height": null,
            "padding": null,
            "grid_auto_rows": null,
            "grid_gap": null,
            "max_width": null,
            "order": null,
            "_view_module_version": "1.2.0",
            "grid_template_areas": null,
            "object_position": null,
            "object_fit": null,
            "grid_auto_columns": null,
            "margin": null,
            "display": null,
            "left": null
          }
        },
        "33d0249269544c47aa648786fb2ac780": {
          "model_module": "@jupyter-widgets/controls",
          "model_name": "FloatProgressModel",
          "state": {
            "_view_name": "ProgressView",
            "style": "IPY_MODEL_827ce971a98f477fac89e06d3b73f09f",
            "_dom_classes": [],
            "description": "",
            "_model_name": "FloatProgressModel",
            "bar_style": "success",
            "max": 1,
            "_view_module": "@jupyter-widgets/controls",
            "_model_module_version": "1.5.0",
            "value": 1,
            "_view_count": null,
            "_view_module_version": "1.5.0",
            "orientation": "horizontal",
            "min": 0,
            "description_tooltip": null,
            "_model_module": "@jupyter-widgets/controls",
            "layout": "IPY_MODEL_7d4e4ee5135d49f190834ded3b8cb5d5"
          }
        },
        "b9fe5d070bf042c39584013b80e8d8c1": {
          "model_module": "@jupyter-widgets/controls",
          "model_name": "HTMLModel",
          "state": {
            "_view_name": "HTMLView",
            "style": "IPY_MODEL_4d99b00028c146278a4a49979738a754",
            "_dom_classes": [],
            "description": "",
            "_model_name": "HTMLModel",
            "placeholder": "​",
            "_view_module": "@jupyter-widgets/controls",
            "_model_module_version": "1.5.0",
            "value": " 19994/? [00:40&lt;00:00, 489.45it/s]",
            "_view_count": null,
            "_view_module_version": "1.5.0",
            "description_tooltip": null,
            "_model_module": "@jupyter-widgets/controls",
            "layout": "IPY_MODEL_5dae90e535ec49a4a3a7a4b716db58ff"
          }
        },
        "827ce971a98f477fac89e06d3b73f09f": {
          "model_module": "@jupyter-widgets/controls",
          "model_name": "ProgressStyleModel",
          "state": {
            "_view_name": "StyleView",
            "_model_name": "ProgressStyleModel",
            "description_width": "initial",
            "_view_module": "@jupyter-widgets/base",
            "_model_module_version": "1.5.0",
            "_view_count": null,
            "_view_module_version": "1.2.0",
            "bar_color": null,
            "_model_module": "@jupyter-widgets/controls"
          }
        },
        "7d4e4ee5135d49f190834ded3b8cb5d5": {
          "model_module": "@jupyter-widgets/base",
          "model_name": "LayoutModel",
          "state": {
            "_view_name": "LayoutView",
            "grid_template_rows": null,
            "right": null,
            "justify_content": null,
            "_view_module": "@jupyter-widgets/base",
            "overflow": null,
            "_model_module_version": "1.2.0",
            "_view_count": null,
            "flex_flow": null,
            "width": null,
            "min_width": null,
            "border": null,
            "align_items": null,
            "bottom": null,
            "_model_module": "@jupyter-widgets/base",
            "top": null,
            "grid_column": null,
            "overflow_y": null,
            "overflow_x": null,
            "grid_auto_flow": null,
            "grid_area": null,
            "grid_template_columns": null,
            "flex": null,
            "_model_name": "LayoutModel",
            "justify_items": null,
            "grid_row": null,
            "max_height": null,
            "align_content": null,
            "visibility": null,
            "align_self": null,
            "height": null,
            "min_height": null,
            "padding": null,
            "grid_auto_rows": null,
            "grid_gap": null,
            "max_width": null,
            "order": null,
            "_view_module_version": "1.2.0",
            "grid_template_areas": null,
            "object_position": null,
            "object_fit": null,
            "grid_auto_columns": null,
            "margin": null,
            "display": null,
            "left": null
          }
        },
        "4d99b00028c146278a4a49979738a754": {
          "model_module": "@jupyter-widgets/controls",
          "model_name": "DescriptionStyleModel",
          "state": {
            "_view_name": "StyleView",
            "_model_name": "DescriptionStyleModel",
            "description_width": "",
            "_view_module": "@jupyter-widgets/base",
            "_model_module_version": "1.5.0",
            "_view_count": null,
            "_view_module_version": "1.2.0",
            "_model_module": "@jupyter-widgets/controls"
          }
        },
        "5dae90e535ec49a4a3a7a4b716db58ff": {
          "model_module": "@jupyter-widgets/base",
          "model_name": "LayoutModel",
          "state": {
            "_view_name": "LayoutView",
            "grid_template_rows": null,
            "right": null,
            "justify_content": null,
            "_view_module": "@jupyter-widgets/base",
            "overflow": null,
            "_model_module_version": "1.2.0",
            "_view_count": null,
            "flex_flow": null,
            "width": null,
            "min_width": null,
            "border": null,
            "align_items": null,
            "bottom": null,
            "_model_module": "@jupyter-widgets/base",
            "top": null,
            "grid_column": null,
            "overflow_y": null,
            "overflow_x": null,
            "grid_auto_flow": null,
            "grid_area": null,
            "grid_template_columns": null,
            "flex": null,
            "_model_name": "LayoutModel",
            "justify_items": null,
            "grid_row": null,
            "max_height": null,
            "align_content": null,
            "visibility": null,
            "align_self": null,
            "height": null,
            "min_height": null,
            "padding": null,
            "grid_auto_rows": null,
            "grid_gap": null,
            "max_width": null,
            "order": null,
            "_view_module_version": "1.2.0",
            "grid_template_areas": null,
            "object_position": null,
            "object_fit": null,
            "grid_auto_columns": null,
            "margin": null,
            "display": null,
            "left": null
          }
        },
        "f4fb818e90f244e1b0fade3460f3a1d8": {
          "model_module": "@jupyter-widgets/controls",
          "model_name": "HBoxModel",
          "state": {
            "_view_name": "HBoxView",
            "_dom_classes": [],
            "_model_name": "HBoxModel",
            "_view_module": "@jupyter-widgets/controls",
            "_model_module_version": "1.5.0",
            "_view_count": null,
            "_view_module_version": "1.5.0",
            "box_style": "",
            "layout": "IPY_MODEL_61901b7bd4134a86aea691a2e7e08c58",
            "_model_module": "@jupyter-widgets/controls",
            "children": [
              "IPY_MODEL_2be0a6a351874c69a1a95ea9f184e96e",
              "IPY_MODEL_998c6bfde90f40948beba2bc33579c04"
            ]
          }
        },
        "61901b7bd4134a86aea691a2e7e08c58": {
          "model_module": "@jupyter-widgets/base",
          "model_name": "LayoutModel",
          "state": {
            "_view_name": "LayoutView",
            "grid_template_rows": null,
            "right": null,
            "justify_content": null,
            "_view_module": "@jupyter-widgets/base",
            "overflow": null,
            "_model_module_version": "1.2.0",
            "_view_count": null,
            "flex_flow": null,
            "width": null,
            "min_width": null,
            "border": null,
            "align_items": null,
            "bottom": null,
            "_model_module": "@jupyter-widgets/base",
            "top": null,
            "grid_column": null,
            "overflow_y": null,
            "overflow_x": null,
            "grid_auto_flow": null,
            "grid_area": null,
            "grid_template_columns": null,
            "flex": null,
            "_model_name": "LayoutModel",
            "justify_items": null,
            "grid_row": null,
            "max_height": null,
            "align_content": null,
            "visibility": null,
            "align_self": null,
            "height": null,
            "min_height": null,
            "padding": null,
            "grid_auto_rows": null,
            "grid_gap": null,
            "max_width": null,
            "order": null,
            "_view_module_version": "1.2.0",
            "grid_template_areas": null,
            "object_position": null,
            "object_fit": null,
            "grid_auto_columns": null,
            "margin": null,
            "display": null,
            "left": null
          }
        },
        "2be0a6a351874c69a1a95ea9f184e96e": {
          "model_module": "@jupyter-widgets/controls",
          "model_name": "FloatProgressModel",
          "state": {
            "_view_name": "ProgressView",
            "style": "IPY_MODEL_d39876e8f4bf4714982b2c5ae9c94d75",
            "_dom_classes": [],
            "description": "",
            "_model_name": "FloatProgressModel",
            "bar_style": "success",
            "max": 1,
            "_view_module": "@jupyter-widgets/controls",
            "_model_module_version": "1.5.0",
            "value": 1,
            "_view_count": null,
            "_view_module_version": "1.5.0",
            "orientation": "horizontal",
            "min": 0,
            "description_tooltip": null,
            "_model_module": "@jupyter-widgets/controls",
            "layout": "IPY_MODEL_100798ff10c64a0bb7bc057485c64342"
          }
        },
        "998c6bfde90f40948beba2bc33579c04": {
          "model_module": "@jupyter-widgets/controls",
          "model_name": "HTMLModel",
          "state": {
            "_view_name": "HTMLView",
            "style": "IPY_MODEL_c4142639ebb744e7bc7589994aa2724f",
            "_dom_classes": [],
            "description": "",
            "_model_name": "HTMLModel",
            "placeholder": "​",
            "_view_module": "@jupyter-widgets/controls",
            "_model_module_version": "1.5.0",
            "value": " 20000/? [00:53&lt;00:00, 374.99it/s]",
            "_view_count": null,
            "_view_module_version": "1.5.0",
            "description_tooltip": null,
            "_model_module": "@jupyter-widgets/controls",
            "layout": "IPY_MODEL_aa46903b6ac647b38da3bff4a70f1670"
          }
        },
        "d39876e8f4bf4714982b2c5ae9c94d75": {
          "model_module": "@jupyter-widgets/controls",
          "model_name": "ProgressStyleModel",
          "state": {
            "_view_name": "StyleView",
            "_model_name": "ProgressStyleModel",
            "description_width": "initial",
            "_view_module": "@jupyter-widgets/base",
            "_model_module_version": "1.5.0",
            "_view_count": null,
            "_view_module_version": "1.2.0",
            "bar_color": null,
            "_model_module": "@jupyter-widgets/controls"
          }
        },
        "100798ff10c64a0bb7bc057485c64342": {
          "model_module": "@jupyter-widgets/base",
          "model_name": "LayoutModel",
          "state": {
            "_view_name": "LayoutView",
            "grid_template_rows": null,
            "right": null,
            "justify_content": null,
            "_view_module": "@jupyter-widgets/base",
            "overflow": null,
            "_model_module_version": "1.2.0",
            "_view_count": null,
            "flex_flow": null,
            "width": null,
            "min_width": null,
            "border": null,
            "align_items": null,
            "bottom": null,
            "_model_module": "@jupyter-widgets/base",
            "top": null,
            "grid_column": null,
            "overflow_y": null,
            "overflow_x": null,
            "grid_auto_flow": null,
            "grid_area": null,
            "grid_template_columns": null,
            "flex": null,
            "_model_name": "LayoutModel",
            "justify_items": null,
            "grid_row": null,
            "max_height": null,
            "align_content": null,
            "visibility": null,
            "align_self": null,
            "height": null,
            "min_height": null,
            "padding": null,
            "grid_auto_rows": null,
            "grid_gap": null,
            "max_width": null,
            "order": null,
            "_view_module_version": "1.2.0",
            "grid_template_areas": null,
            "object_position": null,
            "object_fit": null,
            "grid_auto_columns": null,
            "margin": null,
            "display": null,
            "left": null
          }
        },
        "c4142639ebb744e7bc7589994aa2724f": {
          "model_module": "@jupyter-widgets/controls",
          "model_name": "DescriptionStyleModel",
          "state": {
            "_view_name": "StyleView",
            "_model_name": "DescriptionStyleModel",
            "description_width": "",
            "_view_module": "@jupyter-widgets/base",
            "_model_module_version": "1.5.0",
            "_view_count": null,
            "_view_module_version": "1.2.0",
            "_model_module": "@jupyter-widgets/controls"
          }
        },
        "aa46903b6ac647b38da3bff4a70f1670": {
          "model_module": "@jupyter-widgets/base",
          "model_name": "LayoutModel",
          "state": {
            "_view_name": "LayoutView",
            "grid_template_rows": null,
            "right": null,
            "justify_content": null,
            "_view_module": "@jupyter-widgets/base",
            "overflow": null,
            "_model_module_version": "1.2.0",
            "_view_count": null,
            "flex_flow": null,
            "width": null,
            "min_width": null,
            "border": null,
            "align_items": null,
            "bottom": null,
            "_model_module": "@jupyter-widgets/base",
            "top": null,
            "grid_column": null,
            "overflow_y": null,
            "overflow_x": null,
            "grid_auto_flow": null,
            "grid_area": null,
            "grid_template_columns": null,
            "flex": null,
            "_model_name": "LayoutModel",
            "justify_items": null,
            "grid_row": null,
            "max_height": null,
            "align_content": null,
            "visibility": null,
            "align_self": null,
            "height": null,
            "min_height": null,
            "padding": null,
            "grid_auto_rows": null,
            "grid_gap": null,
            "max_width": null,
            "order": null,
            "_view_module_version": "1.2.0",
            "grid_template_areas": null,
            "object_position": null,
            "object_fit": null,
            "grid_auto_columns": null,
            "margin": null,
            "display": null,
            "left": null
          }
        },
        "8a195e7f2d844aae886ae4ea57322e56": {
          "model_module": "@jupyter-widgets/controls",
          "model_name": "HBoxModel",
          "state": {
            "_view_name": "HBoxView",
            "_dom_classes": [],
            "_model_name": "HBoxModel",
            "_view_module": "@jupyter-widgets/controls",
            "_model_module_version": "1.5.0",
            "_view_count": null,
            "_view_module_version": "1.5.0",
            "box_style": "",
            "layout": "IPY_MODEL_955a4b20ef7247609b4585b99bc28527",
            "_model_module": "@jupyter-widgets/controls",
            "children": [
              "IPY_MODEL_dd2b4437ef4d4bb78c96431bb60323aa",
              "IPY_MODEL_673d14e498a046d2ad5c69c38756c166"
            ]
          }
        },
        "955a4b20ef7247609b4585b99bc28527": {
          "model_module": "@jupyter-widgets/base",
          "model_name": "LayoutModel",
          "state": {
            "_view_name": "LayoutView",
            "grid_template_rows": null,
            "right": null,
            "justify_content": null,
            "_view_module": "@jupyter-widgets/base",
            "overflow": null,
            "_model_module_version": "1.2.0",
            "_view_count": null,
            "flex_flow": null,
            "width": null,
            "min_width": null,
            "border": null,
            "align_items": null,
            "bottom": null,
            "_model_module": "@jupyter-widgets/base",
            "top": null,
            "grid_column": null,
            "overflow_y": null,
            "overflow_x": null,
            "grid_auto_flow": null,
            "grid_area": null,
            "grid_template_columns": null,
            "flex": null,
            "_model_name": "LayoutModel",
            "justify_items": null,
            "grid_row": null,
            "max_height": null,
            "align_content": null,
            "visibility": null,
            "align_self": null,
            "height": null,
            "min_height": null,
            "padding": null,
            "grid_auto_rows": null,
            "grid_gap": null,
            "max_width": null,
            "order": null,
            "_view_module_version": "1.2.0",
            "grid_template_areas": null,
            "object_position": null,
            "object_fit": null,
            "grid_auto_columns": null,
            "margin": null,
            "display": null,
            "left": null
          }
        },
        "dd2b4437ef4d4bb78c96431bb60323aa": {
          "model_module": "@jupyter-widgets/controls",
          "model_name": "FloatProgressModel",
          "state": {
            "_view_name": "ProgressView",
            "style": "IPY_MODEL_41ea94052f8d4b67978915b6353c4bba",
            "_dom_classes": [],
            "description": "",
            "_model_name": "FloatProgressModel",
            "bar_style": "success",
            "max": 1,
            "_view_module": "@jupyter-widgets/controls",
            "_model_module_version": "1.5.0",
            "value": 1,
            "_view_count": null,
            "_view_module_version": "1.5.0",
            "orientation": "horizontal",
            "min": 0,
            "description_tooltip": null,
            "_model_module": "@jupyter-widgets/controls",
            "layout": "IPY_MODEL_69e62b2f674f4a909a952cf4f3fcf9a9"
          }
        },
        "673d14e498a046d2ad5c69c38756c166": {
          "model_module": "@jupyter-widgets/controls",
          "model_name": "HTMLModel",
          "state": {
            "_view_name": "HTMLView",
            "style": "IPY_MODEL_504f4317dabf486fb47b6ebef65f7739",
            "_dom_classes": [],
            "description": "",
            "_model_name": "HTMLModel",
            "placeholder": "​",
            "_view_module": "@jupyter-widgets/controls",
            "_model_module_version": "1.5.0",
            "value": " 20000/? [00:53&lt;00:00, 376.47it/s]",
            "_view_count": null,
            "_view_module_version": "1.5.0",
            "description_tooltip": null,
            "_model_module": "@jupyter-widgets/controls",
            "layout": "IPY_MODEL_e26495dae8f646918d31c815156ffa7e"
          }
        },
        "41ea94052f8d4b67978915b6353c4bba": {
          "model_module": "@jupyter-widgets/controls",
          "model_name": "ProgressStyleModel",
          "state": {
            "_view_name": "StyleView",
            "_model_name": "ProgressStyleModel",
            "description_width": "initial",
            "_view_module": "@jupyter-widgets/base",
            "_model_module_version": "1.5.0",
            "_view_count": null,
            "_view_module_version": "1.2.0",
            "bar_color": null,
            "_model_module": "@jupyter-widgets/controls"
          }
        },
        "69e62b2f674f4a909a952cf4f3fcf9a9": {
          "model_module": "@jupyter-widgets/base",
          "model_name": "LayoutModel",
          "state": {
            "_view_name": "LayoutView",
            "grid_template_rows": null,
            "right": null,
            "justify_content": null,
            "_view_module": "@jupyter-widgets/base",
            "overflow": null,
            "_model_module_version": "1.2.0",
            "_view_count": null,
            "flex_flow": null,
            "width": null,
            "min_width": null,
            "border": null,
            "align_items": null,
            "bottom": null,
            "_model_module": "@jupyter-widgets/base",
            "top": null,
            "grid_column": null,
            "overflow_y": null,
            "overflow_x": null,
            "grid_auto_flow": null,
            "grid_area": null,
            "grid_template_columns": null,
            "flex": null,
            "_model_name": "LayoutModel",
            "justify_items": null,
            "grid_row": null,
            "max_height": null,
            "align_content": null,
            "visibility": null,
            "align_self": null,
            "height": null,
            "min_height": null,
            "padding": null,
            "grid_auto_rows": null,
            "grid_gap": null,
            "max_width": null,
            "order": null,
            "_view_module_version": "1.2.0",
            "grid_template_areas": null,
            "object_position": null,
            "object_fit": null,
            "grid_auto_columns": null,
            "margin": null,
            "display": null,
            "left": null
          }
        },
        "504f4317dabf486fb47b6ebef65f7739": {
          "model_module": "@jupyter-widgets/controls",
          "model_name": "DescriptionStyleModel",
          "state": {
            "_view_name": "StyleView",
            "_model_name": "DescriptionStyleModel",
            "description_width": "",
            "_view_module": "@jupyter-widgets/base",
            "_model_module_version": "1.5.0",
            "_view_count": null,
            "_view_module_version": "1.2.0",
            "_model_module": "@jupyter-widgets/controls"
          }
        },
        "e26495dae8f646918d31c815156ffa7e": {
          "model_module": "@jupyter-widgets/base",
          "model_name": "LayoutModel",
          "state": {
            "_view_name": "LayoutView",
            "grid_template_rows": null,
            "right": null,
            "justify_content": null,
            "_view_module": "@jupyter-widgets/base",
            "overflow": null,
            "_model_module_version": "1.2.0",
            "_view_count": null,
            "flex_flow": null,
            "width": null,
            "min_width": null,
            "border": null,
            "align_items": null,
            "bottom": null,
            "_model_module": "@jupyter-widgets/base",
            "top": null,
            "grid_column": null,
            "overflow_y": null,
            "overflow_x": null,
            "grid_auto_flow": null,
            "grid_area": null,
            "grid_template_columns": null,
            "flex": null,
            "_model_name": "LayoutModel",
            "justify_items": null,
            "grid_row": null,
            "max_height": null,
            "align_content": null,
            "visibility": null,
            "align_self": null,
            "height": null,
            "min_height": null,
            "padding": null,
            "grid_auto_rows": null,
            "grid_gap": null,
            "max_width": null,
            "order": null,
            "_view_module_version": "1.2.0",
            "grid_template_areas": null,
            "object_position": null,
            "object_fit": null,
            "grid_auto_columns": null,
            "margin": null,
            "display": null,
            "left": null
          }
        },
        "244ea57a312e459bac1d0697158fc3cc": {
          "model_module": "@jupyter-widgets/controls",
          "model_name": "HBoxModel",
          "state": {
            "_view_name": "HBoxView",
            "_dom_classes": [],
            "_model_name": "HBoxModel",
            "_view_module": "@jupyter-widgets/controls",
            "_model_module_version": "1.5.0",
            "_view_count": null,
            "_view_module_version": "1.5.0",
            "box_style": "",
            "layout": "IPY_MODEL_3d4e098911b0488f8937c101c2ea161a",
            "_model_module": "@jupyter-widgets/controls",
            "children": [
              "IPY_MODEL_0b7c85ce95eb4113b87deda70461b530",
              "IPY_MODEL_dd3837b73c574cb8913cf183e86b5bf7"
            ]
          }
        },
        "3d4e098911b0488f8937c101c2ea161a": {
          "model_module": "@jupyter-widgets/base",
          "model_name": "LayoutModel",
          "state": {
            "_view_name": "LayoutView",
            "grid_template_rows": null,
            "right": null,
            "justify_content": null,
            "_view_module": "@jupyter-widgets/base",
            "overflow": null,
            "_model_module_version": "1.2.0",
            "_view_count": null,
            "flex_flow": null,
            "width": null,
            "min_width": null,
            "border": null,
            "align_items": null,
            "bottom": null,
            "_model_module": "@jupyter-widgets/base",
            "top": null,
            "grid_column": null,
            "overflow_y": null,
            "overflow_x": null,
            "grid_auto_flow": null,
            "grid_area": null,
            "grid_template_columns": null,
            "flex": null,
            "_model_name": "LayoutModel",
            "justify_items": null,
            "grid_row": null,
            "max_height": null,
            "align_content": null,
            "visibility": null,
            "align_self": null,
            "height": null,
            "min_height": null,
            "padding": null,
            "grid_auto_rows": null,
            "grid_gap": null,
            "max_width": null,
            "order": null,
            "_view_module_version": "1.2.0",
            "grid_template_areas": null,
            "object_position": null,
            "object_fit": null,
            "grid_auto_columns": null,
            "margin": null,
            "display": null,
            "left": null
          }
        },
        "0b7c85ce95eb4113b87deda70461b530": {
          "model_module": "@jupyter-widgets/controls",
          "model_name": "FloatProgressModel",
          "state": {
            "_view_name": "ProgressView",
            "style": "IPY_MODEL_0619228e7fbc4ff2b3182605370d5190",
            "_dom_classes": [],
            "description": "",
            "_model_name": "FloatProgressModel",
            "bar_style": "success",
            "max": 1,
            "_view_module": "@jupyter-widgets/controls",
            "_model_module_version": "1.5.0",
            "value": 1,
            "_view_count": null,
            "_view_module_version": "1.5.0",
            "orientation": "horizontal",
            "min": 0,
            "description_tooltip": null,
            "_model_module": "@jupyter-widgets/controls",
            "layout": "IPY_MODEL_f0a70463227f4792a0745d2bcbcda66a"
          }
        },
        "dd3837b73c574cb8913cf183e86b5bf7": {
          "model_module": "@jupyter-widgets/controls",
          "model_name": "HTMLModel",
          "state": {
            "_view_name": "HTMLView",
            "style": "IPY_MODEL_41ae06cbe36c446987c181294c75f984",
            "_dom_classes": [],
            "description": "",
            "_model_name": "HTMLModel",
            "placeholder": "​",
            "_view_module": "@jupyter-widgets/controls",
            "_model_module_version": "1.5.0",
            "value": " 20000/? [02:11&lt;00:00, 151.59it/s]",
            "_view_count": null,
            "_view_module_version": "1.5.0",
            "description_tooltip": null,
            "_model_module": "@jupyter-widgets/controls",
            "layout": "IPY_MODEL_3236053679e54727b20c3fe288fd9e7f"
          }
        },
        "0619228e7fbc4ff2b3182605370d5190": {
          "model_module": "@jupyter-widgets/controls",
          "model_name": "ProgressStyleModel",
          "state": {
            "_view_name": "StyleView",
            "_model_name": "ProgressStyleModel",
            "description_width": "initial",
            "_view_module": "@jupyter-widgets/base",
            "_model_module_version": "1.5.0",
            "_view_count": null,
            "_view_module_version": "1.2.0",
            "bar_color": null,
            "_model_module": "@jupyter-widgets/controls"
          }
        },
        "f0a70463227f4792a0745d2bcbcda66a": {
          "model_module": "@jupyter-widgets/base",
          "model_name": "LayoutModel",
          "state": {
            "_view_name": "LayoutView",
            "grid_template_rows": null,
            "right": null,
            "justify_content": null,
            "_view_module": "@jupyter-widgets/base",
            "overflow": null,
            "_model_module_version": "1.2.0",
            "_view_count": null,
            "flex_flow": null,
            "width": null,
            "min_width": null,
            "border": null,
            "align_items": null,
            "bottom": null,
            "_model_module": "@jupyter-widgets/base",
            "top": null,
            "grid_column": null,
            "overflow_y": null,
            "overflow_x": null,
            "grid_auto_flow": null,
            "grid_area": null,
            "grid_template_columns": null,
            "flex": null,
            "_model_name": "LayoutModel",
            "justify_items": null,
            "grid_row": null,
            "max_height": null,
            "align_content": null,
            "visibility": null,
            "align_self": null,
            "height": null,
            "min_height": null,
            "padding": null,
            "grid_auto_rows": null,
            "grid_gap": null,
            "max_width": null,
            "order": null,
            "_view_module_version": "1.2.0",
            "grid_template_areas": null,
            "object_position": null,
            "object_fit": null,
            "grid_auto_columns": null,
            "margin": null,
            "display": null,
            "left": null
          }
        },
        "41ae06cbe36c446987c181294c75f984": {
          "model_module": "@jupyter-widgets/controls",
          "model_name": "DescriptionStyleModel",
          "state": {
            "_view_name": "StyleView",
            "_model_name": "DescriptionStyleModel",
            "description_width": "",
            "_view_module": "@jupyter-widgets/base",
            "_model_module_version": "1.5.0",
            "_view_count": null,
            "_view_module_version": "1.2.0",
            "_model_module": "@jupyter-widgets/controls"
          }
        },
        "3236053679e54727b20c3fe288fd9e7f": {
          "model_module": "@jupyter-widgets/base",
          "model_name": "LayoutModel",
          "state": {
            "_view_name": "LayoutView",
            "grid_template_rows": null,
            "right": null,
            "justify_content": null,
            "_view_module": "@jupyter-widgets/base",
            "overflow": null,
            "_model_module_version": "1.2.0",
            "_view_count": null,
            "flex_flow": null,
            "width": null,
            "min_width": null,
            "border": null,
            "align_items": null,
            "bottom": null,
            "_model_module": "@jupyter-widgets/base",
            "top": null,
            "grid_column": null,
            "overflow_y": null,
            "overflow_x": null,
            "grid_auto_flow": null,
            "grid_area": null,
            "grid_template_columns": null,
            "flex": null,
            "_model_name": "LayoutModel",
            "justify_items": null,
            "grid_row": null,
            "max_height": null,
            "align_content": null,
            "visibility": null,
            "align_self": null,
            "height": null,
            "min_height": null,
            "padding": null,
            "grid_auto_rows": null,
            "grid_gap": null,
            "max_width": null,
            "order": null,
            "_view_module_version": "1.2.0",
            "grid_template_areas": null,
            "object_position": null,
            "object_fit": null,
            "grid_auto_columns": null,
            "margin": null,
            "display": null,
            "left": null
          }
        },
        "e2dec42e113248b39b2fb9a437d091b7": {
          "model_module": "@jupyter-widgets/controls",
          "model_name": "HBoxModel",
          "state": {
            "_view_name": "HBoxView",
            "_dom_classes": [],
            "_model_name": "HBoxModel",
            "_view_module": "@jupyter-widgets/controls",
            "_model_module_version": "1.5.0",
            "_view_count": null,
            "_view_module_version": "1.5.0",
            "box_style": "",
            "layout": "IPY_MODEL_13b9b9fb24294f0286eca31618c32fdc",
            "_model_module": "@jupyter-widgets/controls",
            "children": [
              "IPY_MODEL_0cf406c24cbd4477b05720992ba5240b",
              "IPY_MODEL_12d20c18c69d4e029f166c6bac76b9ca"
            ]
          }
        },
        "13b9b9fb24294f0286eca31618c32fdc": {
          "model_module": "@jupyter-widgets/base",
          "model_name": "LayoutModel",
          "state": {
            "_view_name": "LayoutView",
            "grid_template_rows": null,
            "right": null,
            "justify_content": null,
            "_view_module": "@jupyter-widgets/base",
            "overflow": null,
            "_model_module_version": "1.2.0",
            "_view_count": null,
            "flex_flow": null,
            "width": null,
            "min_width": null,
            "border": null,
            "align_items": null,
            "bottom": null,
            "_model_module": "@jupyter-widgets/base",
            "top": null,
            "grid_column": null,
            "overflow_y": null,
            "overflow_x": null,
            "grid_auto_flow": null,
            "grid_area": null,
            "grid_template_columns": null,
            "flex": null,
            "_model_name": "LayoutModel",
            "justify_items": null,
            "grid_row": null,
            "max_height": null,
            "align_content": null,
            "visibility": null,
            "align_self": null,
            "height": null,
            "min_height": null,
            "padding": null,
            "grid_auto_rows": null,
            "grid_gap": null,
            "max_width": null,
            "order": null,
            "_view_module_version": "1.2.0",
            "grid_template_areas": null,
            "object_position": null,
            "object_fit": null,
            "grid_auto_columns": null,
            "margin": null,
            "display": null,
            "left": null
          }
        },
        "0cf406c24cbd4477b05720992ba5240b": {
          "model_module": "@jupyter-widgets/controls",
          "model_name": "FloatProgressModel",
          "state": {
            "_view_name": "ProgressView",
            "style": "IPY_MODEL_2ec9f320133c476b8c567e356128b596",
            "_dom_classes": [],
            "description": "",
            "_model_name": "FloatProgressModel",
            "bar_style": "success",
            "max": 1,
            "_view_module": "@jupyter-widgets/controls",
            "_model_module_version": "1.5.0",
            "value": 1,
            "_view_count": null,
            "_view_module_version": "1.5.0",
            "orientation": "horizontal",
            "min": 0,
            "description_tooltip": null,
            "_model_module": "@jupyter-widgets/controls",
            "layout": "IPY_MODEL_90152949746146fb9044a3c306cb33ed"
          }
        },
        "12d20c18c69d4e029f166c6bac76b9ca": {
          "model_module": "@jupyter-widgets/controls",
          "model_name": "HTMLModel",
          "state": {
            "_view_name": "HTMLView",
            "style": "IPY_MODEL_51ef66b00ad6446c9b64dce36b9b626a",
            "_dom_classes": [],
            "description": "",
            "_model_name": "HTMLModel",
            "placeholder": "​",
            "_view_module": "@jupyter-widgets/controls",
            "_model_module_version": "1.5.0",
            "value": " 20000/? [00:00&lt;00:00, 51883.06it/s]",
            "_view_count": null,
            "_view_module_version": "1.5.0",
            "description_tooltip": null,
            "_model_module": "@jupyter-widgets/controls",
            "layout": "IPY_MODEL_bdf6acbdd73a4f6ca1d7874cc0c8d685"
          }
        },
        "2ec9f320133c476b8c567e356128b596": {
          "model_module": "@jupyter-widgets/controls",
          "model_name": "ProgressStyleModel",
          "state": {
            "_view_name": "StyleView",
            "_model_name": "ProgressStyleModel",
            "description_width": "initial",
            "_view_module": "@jupyter-widgets/base",
            "_model_module_version": "1.5.0",
            "_view_count": null,
            "_view_module_version": "1.2.0",
            "bar_color": null,
            "_model_module": "@jupyter-widgets/controls"
          }
        },
        "90152949746146fb9044a3c306cb33ed": {
          "model_module": "@jupyter-widgets/base",
          "model_name": "LayoutModel",
          "state": {
            "_view_name": "LayoutView",
            "grid_template_rows": null,
            "right": null,
            "justify_content": null,
            "_view_module": "@jupyter-widgets/base",
            "overflow": null,
            "_model_module_version": "1.2.0",
            "_view_count": null,
            "flex_flow": null,
            "width": null,
            "min_width": null,
            "border": null,
            "align_items": null,
            "bottom": null,
            "_model_module": "@jupyter-widgets/base",
            "top": null,
            "grid_column": null,
            "overflow_y": null,
            "overflow_x": null,
            "grid_auto_flow": null,
            "grid_area": null,
            "grid_template_columns": null,
            "flex": null,
            "_model_name": "LayoutModel",
            "justify_items": null,
            "grid_row": null,
            "max_height": null,
            "align_content": null,
            "visibility": null,
            "align_self": null,
            "height": null,
            "min_height": null,
            "padding": null,
            "grid_auto_rows": null,
            "grid_gap": null,
            "max_width": null,
            "order": null,
            "_view_module_version": "1.2.0",
            "grid_template_areas": null,
            "object_position": null,
            "object_fit": null,
            "grid_auto_columns": null,
            "margin": null,
            "display": null,
            "left": null
          }
        },
        "51ef66b00ad6446c9b64dce36b9b626a": {
          "model_module": "@jupyter-widgets/controls",
          "model_name": "DescriptionStyleModel",
          "state": {
            "_view_name": "StyleView",
            "_model_name": "DescriptionStyleModel",
            "description_width": "",
            "_view_module": "@jupyter-widgets/base",
            "_model_module_version": "1.5.0",
            "_view_count": null,
            "_view_module_version": "1.2.0",
            "_model_module": "@jupyter-widgets/controls"
          }
        },
        "bdf6acbdd73a4f6ca1d7874cc0c8d685": {
          "model_module": "@jupyter-widgets/base",
          "model_name": "LayoutModel",
          "state": {
            "_view_name": "LayoutView",
            "grid_template_rows": null,
            "right": null,
            "justify_content": null,
            "_view_module": "@jupyter-widgets/base",
            "overflow": null,
            "_model_module_version": "1.2.0",
            "_view_count": null,
            "flex_flow": null,
            "width": null,
            "min_width": null,
            "border": null,
            "align_items": null,
            "bottom": null,
            "_model_module": "@jupyter-widgets/base",
            "top": null,
            "grid_column": null,
            "overflow_y": null,
            "overflow_x": null,
            "grid_auto_flow": null,
            "grid_area": null,
            "grid_template_columns": null,
            "flex": null,
            "_model_name": "LayoutModel",
            "justify_items": null,
            "grid_row": null,
            "max_height": null,
            "align_content": null,
            "visibility": null,
            "align_self": null,
            "height": null,
            "min_height": null,
            "padding": null,
            "grid_auto_rows": null,
            "grid_gap": null,
            "max_width": null,
            "order": null,
            "_view_module_version": "1.2.0",
            "grid_template_areas": null,
            "object_position": null,
            "object_fit": null,
            "grid_auto_columns": null,
            "margin": null,
            "display": null,
            "left": null
          }
        },
        "749180c0ed4d463c964cace079c5e3cd": {
          "model_module": "@jupyter-widgets/controls",
          "model_name": "HBoxModel",
          "state": {
            "_view_name": "HBoxView",
            "_dom_classes": [],
            "_model_name": "HBoxModel",
            "_view_module": "@jupyter-widgets/controls",
            "_model_module_version": "1.5.0",
            "_view_count": null,
            "_view_module_version": "1.5.0",
            "box_style": "",
            "layout": "IPY_MODEL_a59440f6fce64efdaeac0749c23d9b1e",
            "_model_module": "@jupyter-widgets/controls",
            "children": [
              "IPY_MODEL_e9ab6b7c2880412f9271eb2006cc6461",
              "IPY_MODEL_7f623cd0a66746b6b5b3b3bf6bfb4ba5"
            ]
          }
        },
        "a59440f6fce64efdaeac0749c23d9b1e": {
          "model_module": "@jupyter-widgets/base",
          "model_name": "LayoutModel",
          "state": {
            "_view_name": "LayoutView",
            "grid_template_rows": null,
            "right": null,
            "justify_content": null,
            "_view_module": "@jupyter-widgets/base",
            "overflow": null,
            "_model_module_version": "1.2.0",
            "_view_count": null,
            "flex_flow": null,
            "width": null,
            "min_width": null,
            "border": null,
            "align_items": null,
            "bottom": null,
            "_model_module": "@jupyter-widgets/base",
            "top": null,
            "grid_column": null,
            "overflow_y": null,
            "overflow_x": null,
            "grid_auto_flow": null,
            "grid_area": null,
            "grid_template_columns": null,
            "flex": null,
            "_model_name": "LayoutModel",
            "justify_items": null,
            "grid_row": null,
            "max_height": null,
            "align_content": null,
            "visibility": null,
            "align_self": null,
            "height": null,
            "min_height": null,
            "padding": null,
            "grid_auto_rows": null,
            "grid_gap": null,
            "max_width": null,
            "order": null,
            "_view_module_version": "1.2.0",
            "grid_template_areas": null,
            "object_position": null,
            "object_fit": null,
            "grid_auto_columns": null,
            "margin": null,
            "display": null,
            "left": null
          }
        },
        "e9ab6b7c2880412f9271eb2006cc6461": {
          "model_module": "@jupyter-widgets/controls",
          "model_name": "FloatProgressModel",
          "state": {
            "_view_name": "ProgressView",
            "style": "IPY_MODEL_18d7955c48784f738799f5a45a000e67",
            "_dom_classes": [],
            "description": "",
            "_model_name": "FloatProgressModel",
            "bar_style": "success",
            "max": 1,
            "_view_module": "@jupyter-widgets/controls",
            "_model_module_version": "1.5.0",
            "value": 1,
            "_view_count": null,
            "_view_module_version": "1.5.0",
            "orientation": "horizontal",
            "min": 0,
            "description_tooltip": null,
            "_model_module": "@jupyter-widgets/controls",
            "layout": "IPY_MODEL_a967285de43345c3b47fbabc705df050"
          }
        },
        "7f623cd0a66746b6b5b3b3bf6bfb4ba5": {
          "model_module": "@jupyter-widgets/controls",
          "model_name": "HTMLModel",
          "state": {
            "_view_name": "HTMLView",
            "style": "IPY_MODEL_3411d886d2e54ea09b9ae3d94b4d666c",
            "_dom_classes": [],
            "description": "",
            "_model_name": "HTMLModel",
            "placeholder": "​",
            "_view_module": "@jupyter-widgets/controls",
            "_model_module_version": "1.5.0",
            "value": " 10815/? [00:25&lt;00:00, 419.44it/s]",
            "_view_count": null,
            "_view_module_version": "1.5.0",
            "description_tooltip": null,
            "_model_module": "@jupyter-widgets/controls",
            "layout": "IPY_MODEL_3f6c8d5a4daa449da97c6a3d747e1f9c"
          }
        },
        "18d7955c48784f738799f5a45a000e67": {
          "model_module": "@jupyter-widgets/controls",
          "model_name": "ProgressStyleModel",
          "state": {
            "_view_name": "StyleView",
            "_model_name": "ProgressStyleModel",
            "description_width": "initial",
            "_view_module": "@jupyter-widgets/base",
            "_model_module_version": "1.5.0",
            "_view_count": null,
            "_view_module_version": "1.2.0",
            "bar_color": null,
            "_model_module": "@jupyter-widgets/controls"
          }
        },
        "a967285de43345c3b47fbabc705df050": {
          "model_module": "@jupyter-widgets/base",
          "model_name": "LayoutModel",
          "state": {
            "_view_name": "LayoutView",
            "grid_template_rows": null,
            "right": null,
            "justify_content": null,
            "_view_module": "@jupyter-widgets/base",
            "overflow": null,
            "_model_module_version": "1.2.0",
            "_view_count": null,
            "flex_flow": null,
            "width": null,
            "min_width": null,
            "border": null,
            "align_items": null,
            "bottom": null,
            "_model_module": "@jupyter-widgets/base",
            "top": null,
            "grid_column": null,
            "overflow_y": null,
            "overflow_x": null,
            "grid_auto_flow": null,
            "grid_area": null,
            "grid_template_columns": null,
            "flex": null,
            "_model_name": "LayoutModel",
            "justify_items": null,
            "grid_row": null,
            "max_height": null,
            "align_content": null,
            "visibility": null,
            "align_self": null,
            "height": null,
            "min_height": null,
            "padding": null,
            "grid_auto_rows": null,
            "grid_gap": null,
            "max_width": null,
            "order": null,
            "_view_module_version": "1.2.0",
            "grid_template_areas": null,
            "object_position": null,
            "object_fit": null,
            "grid_auto_columns": null,
            "margin": null,
            "display": null,
            "left": null
          }
        },
        "3411d886d2e54ea09b9ae3d94b4d666c": {
          "model_module": "@jupyter-widgets/controls",
          "model_name": "DescriptionStyleModel",
          "state": {
            "_view_name": "StyleView",
            "_model_name": "DescriptionStyleModel",
            "description_width": "",
            "_view_module": "@jupyter-widgets/base",
            "_model_module_version": "1.5.0",
            "_view_count": null,
            "_view_module_version": "1.2.0",
            "_model_module": "@jupyter-widgets/controls"
          }
        },
        "3f6c8d5a4daa449da97c6a3d747e1f9c": {
          "model_module": "@jupyter-widgets/base",
          "model_name": "LayoutModel",
          "state": {
            "_view_name": "LayoutView",
            "grid_template_rows": null,
            "right": null,
            "justify_content": null,
            "_view_module": "@jupyter-widgets/base",
            "overflow": null,
            "_model_module_version": "1.2.0",
            "_view_count": null,
            "flex_flow": null,
            "width": null,
            "min_width": null,
            "border": null,
            "align_items": null,
            "bottom": null,
            "_model_module": "@jupyter-widgets/base",
            "top": null,
            "grid_column": null,
            "overflow_y": null,
            "overflow_x": null,
            "grid_auto_flow": null,
            "grid_area": null,
            "grid_template_columns": null,
            "flex": null,
            "_model_name": "LayoutModel",
            "justify_items": null,
            "grid_row": null,
            "max_height": null,
            "align_content": null,
            "visibility": null,
            "align_self": null,
            "height": null,
            "min_height": null,
            "padding": null,
            "grid_auto_rows": null,
            "grid_gap": null,
            "max_width": null,
            "order": null,
            "_view_module_version": "1.2.0",
            "grid_template_areas": null,
            "object_position": null,
            "object_fit": null,
            "grid_auto_columns": null,
            "margin": null,
            "display": null,
            "left": null
          }
        },
        "34d2f9358b2f4e1e8825bbbbac03ef52": {
          "model_module": "@jupyter-widgets/controls",
          "model_name": "HBoxModel",
          "state": {
            "_view_name": "HBoxView",
            "_dom_classes": [],
            "_model_name": "HBoxModel",
            "_view_module": "@jupyter-widgets/controls",
            "_model_module_version": "1.5.0",
            "_view_count": null,
            "_view_module_version": "1.5.0",
            "box_style": "",
            "layout": "IPY_MODEL_9bb3a7aab9244ffa873adcfe9e3ef92c",
            "_model_module": "@jupyter-widgets/controls",
            "children": [
              "IPY_MODEL_d71ca112df4f4a34af53657bea6b8a78",
              "IPY_MODEL_b1a18489b4e04e5d83012a52a0ff400d"
            ]
          }
        },
        "9bb3a7aab9244ffa873adcfe9e3ef92c": {
          "model_module": "@jupyter-widgets/base",
          "model_name": "LayoutModel",
          "state": {
            "_view_name": "LayoutView",
            "grid_template_rows": null,
            "right": null,
            "justify_content": null,
            "_view_module": "@jupyter-widgets/base",
            "overflow": null,
            "_model_module_version": "1.2.0",
            "_view_count": null,
            "flex_flow": null,
            "width": null,
            "min_width": null,
            "border": null,
            "align_items": null,
            "bottom": null,
            "_model_module": "@jupyter-widgets/base",
            "top": null,
            "grid_column": null,
            "overflow_y": null,
            "overflow_x": null,
            "grid_auto_flow": null,
            "grid_area": null,
            "grid_template_columns": null,
            "flex": null,
            "_model_name": "LayoutModel",
            "justify_items": null,
            "grid_row": null,
            "max_height": null,
            "align_content": null,
            "visibility": null,
            "align_self": null,
            "height": null,
            "min_height": null,
            "padding": null,
            "grid_auto_rows": null,
            "grid_gap": null,
            "max_width": null,
            "order": null,
            "_view_module_version": "1.2.0",
            "grid_template_areas": null,
            "object_position": null,
            "object_fit": null,
            "grid_auto_columns": null,
            "margin": null,
            "display": null,
            "left": null
          }
        },
        "d71ca112df4f4a34af53657bea6b8a78": {
          "model_module": "@jupyter-widgets/controls",
          "model_name": "FloatProgressModel",
          "state": {
            "_view_name": "ProgressView",
            "style": "IPY_MODEL_94eb936ed5a3494aa9613d2bc4388363",
            "_dom_classes": [],
            "description": "",
            "_model_name": "FloatProgressModel",
            "bar_style": "success",
            "max": 1,
            "_view_module": "@jupyter-widgets/controls",
            "_model_module_version": "1.5.0",
            "value": 1,
            "_view_count": null,
            "_view_module_version": "1.5.0",
            "orientation": "horizontal",
            "min": 0,
            "description_tooltip": null,
            "_model_module": "@jupyter-widgets/controls",
            "layout": "IPY_MODEL_1dc62f0c7ae64415b739ca3934a79ba4"
          }
        },
        "b1a18489b4e04e5d83012a52a0ff400d": {
          "model_module": "@jupyter-widgets/controls",
          "model_name": "HTMLModel",
          "state": {
            "_view_name": "HTMLView",
            "style": "IPY_MODEL_ad8e918b3b434304a360243a823336da",
            "_dom_classes": [],
            "description": "",
            "_model_name": "HTMLModel",
            "placeholder": "​",
            "_view_module": "@jupyter-widgets/controls",
            "_model_module_version": "1.5.0",
            "value": " 10814/? [00:25&lt;00:00, 421.67it/s]",
            "_view_count": null,
            "_view_module_version": "1.5.0",
            "description_tooltip": null,
            "_model_module": "@jupyter-widgets/controls",
            "layout": "IPY_MODEL_7028e7fca03543889d3c8ea004c9a52d"
          }
        },
        "94eb936ed5a3494aa9613d2bc4388363": {
          "model_module": "@jupyter-widgets/controls",
          "model_name": "ProgressStyleModel",
          "state": {
            "_view_name": "StyleView",
            "_model_name": "ProgressStyleModel",
            "description_width": "initial",
            "_view_module": "@jupyter-widgets/base",
            "_model_module_version": "1.5.0",
            "_view_count": null,
            "_view_module_version": "1.2.0",
            "bar_color": null,
            "_model_module": "@jupyter-widgets/controls"
          }
        },
        "1dc62f0c7ae64415b739ca3934a79ba4": {
          "model_module": "@jupyter-widgets/base",
          "model_name": "LayoutModel",
          "state": {
            "_view_name": "LayoutView",
            "grid_template_rows": null,
            "right": null,
            "justify_content": null,
            "_view_module": "@jupyter-widgets/base",
            "overflow": null,
            "_model_module_version": "1.2.0",
            "_view_count": null,
            "flex_flow": null,
            "width": null,
            "min_width": null,
            "border": null,
            "align_items": null,
            "bottom": null,
            "_model_module": "@jupyter-widgets/base",
            "top": null,
            "grid_column": null,
            "overflow_y": null,
            "overflow_x": null,
            "grid_auto_flow": null,
            "grid_area": null,
            "grid_template_columns": null,
            "flex": null,
            "_model_name": "LayoutModel",
            "justify_items": null,
            "grid_row": null,
            "max_height": null,
            "align_content": null,
            "visibility": null,
            "align_self": null,
            "height": null,
            "min_height": null,
            "padding": null,
            "grid_auto_rows": null,
            "grid_gap": null,
            "max_width": null,
            "order": null,
            "_view_module_version": "1.2.0",
            "grid_template_areas": null,
            "object_position": null,
            "object_fit": null,
            "grid_auto_columns": null,
            "margin": null,
            "display": null,
            "left": null
          }
        },
        "ad8e918b3b434304a360243a823336da": {
          "model_module": "@jupyter-widgets/controls",
          "model_name": "DescriptionStyleModel",
          "state": {
            "_view_name": "StyleView",
            "_model_name": "DescriptionStyleModel",
            "description_width": "",
            "_view_module": "@jupyter-widgets/base",
            "_model_module_version": "1.5.0",
            "_view_count": null,
            "_view_module_version": "1.2.0",
            "_model_module": "@jupyter-widgets/controls"
          }
        },
        "7028e7fca03543889d3c8ea004c9a52d": {
          "model_module": "@jupyter-widgets/base",
          "model_name": "LayoutModel",
          "state": {
            "_view_name": "LayoutView",
            "grid_template_rows": null,
            "right": null,
            "justify_content": null,
            "_view_module": "@jupyter-widgets/base",
            "overflow": null,
            "_model_module_version": "1.2.0",
            "_view_count": null,
            "flex_flow": null,
            "width": null,
            "min_width": null,
            "border": null,
            "align_items": null,
            "bottom": null,
            "_model_module": "@jupyter-widgets/base",
            "top": null,
            "grid_column": null,
            "overflow_y": null,
            "overflow_x": null,
            "grid_auto_flow": null,
            "grid_area": null,
            "grid_template_columns": null,
            "flex": null,
            "_model_name": "LayoutModel",
            "justify_items": null,
            "grid_row": null,
            "max_height": null,
            "align_content": null,
            "visibility": null,
            "align_self": null,
            "height": null,
            "min_height": null,
            "padding": null,
            "grid_auto_rows": null,
            "grid_gap": null,
            "max_width": null,
            "order": null,
            "_view_module_version": "1.2.0",
            "grid_template_areas": null,
            "object_position": null,
            "object_fit": null,
            "grid_auto_columns": null,
            "margin": null,
            "display": null,
            "left": null
          }
        },
        "40f0100345c44b0fa025a029e6a071f1": {
          "model_module": "@jupyter-widgets/controls",
          "model_name": "HBoxModel",
          "state": {
            "_view_name": "HBoxView",
            "_dom_classes": [],
            "_model_name": "HBoxModel",
            "_view_module": "@jupyter-widgets/controls",
            "_model_module_version": "1.5.0",
            "_view_count": null,
            "_view_module_version": "1.5.0",
            "box_style": "",
            "layout": "IPY_MODEL_ead9bd6578634a02885aaa245e51baa3",
            "_model_module": "@jupyter-widgets/controls",
            "children": [
              "IPY_MODEL_7329ab1ff4694a3e9f3cf438afd1fca9",
              "IPY_MODEL_733e55ed6b9c477cb028dcca0f02153d"
            ]
          }
        },
        "ead9bd6578634a02885aaa245e51baa3": {
          "model_module": "@jupyter-widgets/base",
          "model_name": "LayoutModel",
          "state": {
            "_view_name": "LayoutView",
            "grid_template_rows": null,
            "right": null,
            "justify_content": null,
            "_view_module": "@jupyter-widgets/base",
            "overflow": null,
            "_model_module_version": "1.2.0",
            "_view_count": null,
            "flex_flow": null,
            "width": null,
            "min_width": null,
            "border": null,
            "align_items": null,
            "bottom": null,
            "_model_module": "@jupyter-widgets/base",
            "top": null,
            "grid_column": null,
            "overflow_y": null,
            "overflow_x": null,
            "grid_auto_flow": null,
            "grid_area": null,
            "grid_template_columns": null,
            "flex": null,
            "_model_name": "LayoutModel",
            "justify_items": null,
            "grid_row": null,
            "max_height": null,
            "align_content": null,
            "visibility": null,
            "align_self": null,
            "height": null,
            "min_height": null,
            "padding": null,
            "grid_auto_rows": null,
            "grid_gap": null,
            "max_width": null,
            "order": null,
            "_view_module_version": "1.2.0",
            "grid_template_areas": null,
            "object_position": null,
            "object_fit": null,
            "grid_auto_columns": null,
            "margin": null,
            "display": null,
            "left": null
          }
        },
        "7329ab1ff4694a3e9f3cf438afd1fca9": {
          "model_module": "@jupyter-widgets/controls",
          "model_name": "FloatProgressModel",
          "state": {
            "_view_name": "ProgressView",
            "style": "IPY_MODEL_0baeec483f9d41a5979ae825c3ac5e28",
            "_dom_classes": [],
            "description": "",
            "_model_name": "FloatProgressModel",
            "bar_style": "success",
            "max": 1,
            "_view_module": "@jupyter-widgets/controls",
            "_model_module_version": "1.5.0",
            "value": 1,
            "_view_count": null,
            "_view_module_version": "1.5.0",
            "orientation": "horizontal",
            "min": 0,
            "description_tooltip": null,
            "_model_module": "@jupyter-widgets/controls",
            "layout": "IPY_MODEL_6f2d67fe3de74910921c6865d221187f"
          }
        },
        "733e55ed6b9c477cb028dcca0f02153d": {
          "model_module": "@jupyter-widgets/controls",
          "model_name": "HTMLModel",
          "state": {
            "_view_name": "HTMLView",
            "style": "IPY_MODEL_2addb36ed18840b499feedd221230573",
            "_dom_classes": [],
            "description": "",
            "_model_name": "HTMLModel",
            "placeholder": "​",
            "_view_module": "@jupyter-widgets/controls",
            "_model_module_version": "1.5.0",
            "value": " 10814/? [01:50&lt;00:00, 97.43it/s]",
            "_view_count": null,
            "_view_module_version": "1.5.0",
            "description_tooltip": null,
            "_model_module": "@jupyter-widgets/controls",
            "layout": "IPY_MODEL_ca701e154a724a0bb4ef82b7262af295"
          }
        },
        "0baeec483f9d41a5979ae825c3ac5e28": {
          "model_module": "@jupyter-widgets/controls",
          "model_name": "ProgressStyleModel",
          "state": {
            "_view_name": "StyleView",
            "_model_name": "ProgressStyleModel",
            "description_width": "initial",
            "_view_module": "@jupyter-widgets/base",
            "_model_module_version": "1.5.0",
            "_view_count": null,
            "_view_module_version": "1.2.0",
            "bar_color": null,
            "_model_module": "@jupyter-widgets/controls"
          }
        },
        "6f2d67fe3de74910921c6865d221187f": {
          "model_module": "@jupyter-widgets/base",
          "model_name": "LayoutModel",
          "state": {
            "_view_name": "LayoutView",
            "grid_template_rows": null,
            "right": null,
            "justify_content": null,
            "_view_module": "@jupyter-widgets/base",
            "overflow": null,
            "_model_module_version": "1.2.0",
            "_view_count": null,
            "flex_flow": null,
            "width": null,
            "min_width": null,
            "border": null,
            "align_items": null,
            "bottom": null,
            "_model_module": "@jupyter-widgets/base",
            "top": null,
            "grid_column": null,
            "overflow_y": null,
            "overflow_x": null,
            "grid_auto_flow": null,
            "grid_area": null,
            "grid_template_columns": null,
            "flex": null,
            "_model_name": "LayoutModel",
            "justify_items": null,
            "grid_row": null,
            "max_height": null,
            "align_content": null,
            "visibility": null,
            "align_self": null,
            "height": null,
            "min_height": null,
            "padding": null,
            "grid_auto_rows": null,
            "grid_gap": null,
            "max_width": null,
            "order": null,
            "_view_module_version": "1.2.0",
            "grid_template_areas": null,
            "object_position": null,
            "object_fit": null,
            "grid_auto_columns": null,
            "margin": null,
            "display": null,
            "left": null
          }
        },
        "2addb36ed18840b499feedd221230573": {
          "model_module": "@jupyter-widgets/controls",
          "model_name": "DescriptionStyleModel",
          "state": {
            "_view_name": "StyleView",
            "_model_name": "DescriptionStyleModel",
            "description_width": "",
            "_view_module": "@jupyter-widgets/base",
            "_model_module_version": "1.5.0",
            "_view_count": null,
            "_view_module_version": "1.2.0",
            "_model_module": "@jupyter-widgets/controls"
          }
        },
        "ca701e154a724a0bb4ef82b7262af295": {
          "model_module": "@jupyter-widgets/base",
          "model_name": "LayoutModel",
          "state": {
            "_view_name": "LayoutView",
            "grid_template_rows": null,
            "right": null,
            "justify_content": null,
            "_view_module": "@jupyter-widgets/base",
            "overflow": null,
            "_model_module_version": "1.2.0",
            "_view_count": null,
            "flex_flow": null,
            "width": null,
            "min_width": null,
            "border": null,
            "align_items": null,
            "bottom": null,
            "_model_module": "@jupyter-widgets/base",
            "top": null,
            "grid_column": null,
            "overflow_y": null,
            "overflow_x": null,
            "grid_auto_flow": null,
            "grid_area": null,
            "grid_template_columns": null,
            "flex": null,
            "_model_name": "LayoutModel",
            "justify_items": null,
            "grid_row": null,
            "max_height": null,
            "align_content": null,
            "visibility": null,
            "align_self": null,
            "height": null,
            "min_height": null,
            "padding": null,
            "grid_auto_rows": null,
            "grid_gap": null,
            "max_width": null,
            "order": null,
            "_view_module_version": "1.2.0",
            "grid_template_areas": null,
            "object_position": null,
            "object_fit": null,
            "grid_auto_columns": null,
            "margin": null,
            "display": null,
            "left": null
          }
        },
        "1c9bb1e632df45bcbe66ba2080a906ab": {
          "model_module": "@jupyter-widgets/controls",
          "model_name": "HBoxModel",
          "state": {
            "_view_name": "HBoxView",
            "_dom_classes": [],
            "_model_name": "HBoxModel",
            "_view_module": "@jupyter-widgets/controls",
            "_model_module_version": "1.5.0",
            "_view_count": null,
            "_view_module_version": "1.5.0",
            "box_style": "",
            "layout": "IPY_MODEL_4c186ca865734d3caf9e302189a77b16",
            "_model_module": "@jupyter-widgets/controls",
            "children": [
              "IPY_MODEL_038dcb2c27eb4a7699572c81325d3ab0",
              "IPY_MODEL_3c64997f945e4512b3ca9a36e1fa20b2"
            ]
          }
        },
        "4c186ca865734d3caf9e302189a77b16": {
          "model_module": "@jupyter-widgets/base",
          "model_name": "LayoutModel",
          "state": {
            "_view_name": "LayoutView",
            "grid_template_rows": null,
            "right": null,
            "justify_content": null,
            "_view_module": "@jupyter-widgets/base",
            "overflow": null,
            "_model_module_version": "1.2.0",
            "_view_count": null,
            "flex_flow": null,
            "width": null,
            "min_width": null,
            "border": null,
            "align_items": null,
            "bottom": null,
            "_model_module": "@jupyter-widgets/base",
            "top": null,
            "grid_column": null,
            "overflow_y": null,
            "overflow_x": null,
            "grid_auto_flow": null,
            "grid_area": null,
            "grid_template_columns": null,
            "flex": null,
            "_model_name": "LayoutModel",
            "justify_items": null,
            "grid_row": null,
            "max_height": null,
            "align_content": null,
            "visibility": null,
            "align_self": null,
            "height": null,
            "min_height": null,
            "padding": null,
            "grid_auto_rows": null,
            "grid_gap": null,
            "max_width": null,
            "order": null,
            "_view_module_version": "1.2.0",
            "grid_template_areas": null,
            "object_position": null,
            "object_fit": null,
            "grid_auto_columns": null,
            "margin": null,
            "display": null,
            "left": null
          }
        },
        "038dcb2c27eb4a7699572c81325d3ab0": {
          "model_module": "@jupyter-widgets/controls",
          "model_name": "FloatProgressModel",
          "state": {
            "_view_name": "ProgressView",
            "style": "IPY_MODEL_26f696dc165e4cc497c66e9c61cd12d0",
            "_dom_classes": [],
            "description": "",
            "_model_name": "FloatProgressModel",
            "bar_style": "success",
            "max": 1,
            "_view_module": "@jupyter-widgets/controls",
            "_model_module_version": "1.5.0",
            "value": 1,
            "_view_count": null,
            "_view_module_version": "1.5.0",
            "orientation": "horizontal",
            "min": 0,
            "description_tooltip": null,
            "_model_module": "@jupyter-widgets/controls",
            "layout": "IPY_MODEL_a0851097eed6411f9be55a1d9d75ccae"
          }
        },
        "3c64997f945e4512b3ca9a36e1fa20b2": {
          "model_module": "@jupyter-widgets/controls",
          "model_name": "HTMLModel",
          "state": {
            "_view_name": "HTMLView",
            "style": "IPY_MODEL_e6643d57cfe345529b488f3555ecd66f",
            "_dom_classes": [],
            "description": "",
            "_model_name": "HTMLModel",
            "placeholder": "​",
            "_view_module": "@jupyter-widgets/controls",
            "_model_module_version": "1.5.0",
            "value": " 10814/? [01:25&lt;00:00, 127.03it/s]",
            "_view_count": null,
            "_view_module_version": "1.5.0",
            "description_tooltip": null,
            "_model_module": "@jupyter-widgets/controls",
            "layout": "IPY_MODEL_660cb7a25e1942b597cf8f397d6f0a84"
          }
        },
        "26f696dc165e4cc497c66e9c61cd12d0": {
          "model_module": "@jupyter-widgets/controls",
          "model_name": "ProgressStyleModel",
          "state": {
            "_view_name": "StyleView",
            "_model_name": "ProgressStyleModel",
            "description_width": "initial",
            "_view_module": "@jupyter-widgets/base",
            "_model_module_version": "1.5.0",
            "_view_count": null,
            "_view_module_version": "1.2.0",
            "bar_color": null,
            "_model_module": "@jupyter-widgets/controls"
          }
        },
        "a0851097eed6411f9be55a1d9d75ccae": {
          "model_module": "@jupyter-widgets/base",
          "model_name": "LayoutModel",
          "state": {
            "_view_name": "LayoutView",
            "grid_template_rows": null,
            "right": null,
            "justify_content": null,
            "_view_module": "@jupyter-widgets/base",
            "overflow": null,
            "_model_module_version": "1.2.0",
            "_view_count": null,
            "flex_flow": null,
            "width": null,
            "min_width": null,
            "border": null,
            "align_items": null,
            "bottom": null,
            "_model_module": "@jupyter-widgets/base",
            "top": null,
            "grid_column": null,
            "overflow_y": null,
            "overflow_x": null,
            "grid_auto_flow": null,
            "grid_area": null,
            "grid_template_columns": null,
            "flex": null,
            "_model_name": "LayoutModel",
            "justify_items": null,
            "grid_row": null,
            "max_height": null,
            "align_content": null,
            "visibility": null,
            "align_self": null,
            "height": null,
            "min_height": null,
            "padding": null,
            "grid_auto_rows": null,
            "grid_gap": null,
            "max_width": null,
            "order": null,
            "_view_module_version": "1.2.0",
            "grid_template_areas": null,
            "object_position": null,
            "object_fit": null,
            "grid_auto_columns": null,
            "margin": null,
            "display": null,
            "left": null
          }
        },
        "e6643d57cfe345529b488f3555ecd66f": {
          "model_module": "@jupyter-widgets/controls",
          "model_name": "DescriptionStyleModel",
          "state": {
            "_view_name": "StyleView",
            "_model_name": "DescriptionStyleModel",
            "description_width": "",
            "_view_module": "@jupyter-widgets/base",
            "_model_module_version": "1.5.0",
            "_view_count": null,
            "_view_module_version": "1.2.0",
            "_model_module": "@jupyter-widgets/controls"
          }
        },
        "660cb7a25e1942b597cf8f397d6f0a84": {
          "model_module": "@jupyter-widgets/base",
          "model_name": "LayoutModel",
          "state": {
            "_view_name": "LayoutView",
            "grid_template_rows": null,
            "right": null,
            "justify_content": null,
            "_view_module": "@jupyter-widgets/base",
            "overflow": null,
            "_model_module_version": "1.2.0",
            "_view_count": null,
            "flex_flow": null,
            "width": null,
            "min_width": null,
            "border": null,
            "align_items": null,
            "bottom": null,
            "_model_module": "@jupyter-widgets/base",
            "top": null,
            "grid_column": null,
            "overflow_y": null,
            "overflow_x": null,
            "grid_auto_flow": null,
            "grid_area": null,
            "grid_template_columns": null,
            "flex": null,
            "_model_name": "LayoutModel",
            "justify_items": null,
            "grid_row": null,
            "max_height": null,
            "align_content": null,
            "visibility": null,
            "align_self": null,
            "height": null,
            "min_height": null,
            "padding": null,
            "grid_auto_rows": null,
            "grid_gap": null,
            "max_width": null,
            "order": null,
            "_view_module_version": "1.2.0",
            "grid_template_areas": null,
            "object_position": null,
            "object_fit": null,
            "grid_auto_columns": null,
            "margin": null,
            "display": null,
            "left": null
          }
        },
        "660dab89ebea41008ad00dedc49916df": {
          "model_module": "@jupyter-widgets/controls",
          "model_name": "HBoxModel",
          "state": {
            "_view_name": "HBoxView",
            "_dom_classes": [],
            "_model_name": "HBoxModel",
            "_view_module": "@jupyter-widgets/controls",
            "_model_module_version": "1.5.0",
            "_view_count": null,
            "_view_module_version": "1.5.0",
            "box_style": "",
            "layout": "IPY_MODEL_4b29d77a3bb5432c8b1a47f5dbc590bd",
            "_model_module": "@jupyter-widgets/controls",
            "children": [
              "IPY_MODEL_ca7cd9369426430d95243c64cf7714c3",
              "IPY_MODEL_8253ba752f14438289cb2ccdf17654f0"
            ]
          }
        },
        "4b29d77a3bb5432c8b1a47f5dbc590bd": {
          "model_module": "@jupyter-widgets/base",
          "model_name": "LayoutModel",
          "state": {
            "_view_name": "LayoutView",
            "grid_template_rows": null,
            "right": null,
            "justify_content": null,
            "_view_module": "@jupyter-widgets/base",
            "overflow": null,
            "_model_module_version": "1.2.0",
            "_view_count": null,
            "flex_flow": null,
            "width": null,
            "min_width": null,
            "border": null,
            "align_items": null,
            "bottom": null,
            "_model_module": "@jupyter-widgets/base",
            "top": null,
            "grid_column": null,
            "overflow_y": null,
            "overflow_x": null,
            "grid_auto_flow": null,
            "grid_area": null,
            "grid_template_columns": null,
            "flex": null,
            "_model_name": "LayoutModel",
            "justify_items": null,
            "grid_row": null,
            "max_height": null,
            "align_content": null,
            "visibility": null,
            "align_self": null,
            "height": null,
            "min_height": null,
            "padding": null,
            "grid_auto_rows": null,
            "grid_gap": null,
            "max_width": null,
            "order": null,
            "_view_module_version": "1.2.0",
            "grid_template_areas": null,
            "object_position": null,
            "object_fit": null,
            "grid_auto_columns": null,
            "margin": null,
            "display": null,
            "left": null
          }
        },
        "ca7cd9369426430d95243c64cf7714c3": {
          "model_module": "@jupyter-widgets/controls",
          "model_name": "FloatProgressModel",
          "state": {
            "_view_name": "ProgressView",
            "style": "IPY_MODEL_f84bf9912fec43308c55fe057c62d083",
            "_dom_classes": [],
            "description": "",
            "_model_name": "FloatProgressModel",
            "bar_style": "success",
            "max": 1,
            "_view_module": "@jupyter-widgets/controls",
            "_model_module_version": "1.5.0",
            "value": 1,
            "_view_count": null,
            "_view_module_version": "1.5.0",
            "orientation": "horizontal",
            "min": 0,
            "description_tooltip": null,
            "_model_module": "@jupyter-widgets/controls",
            "layout": "IPY_MODEL_4bfacbe86f7f458ab2918db30836ada7"
          }
        },
        "8253ba752f14438289cb2ccdf17654f0": {
          "model_module": "@jupyter-widgets/controls",
          "model_name": "HTMLModel",
          "state": {
            "_view_name": "HTMLView",
            "style": "IPY_MODEL_8de24d6490b94bd0b17979ee76a30f63",
            "_dom_classes": [],
            "description": "",
            "_model_name": "HTMLModel",
            "placeholder": "​",
            "_view_module": "@jupyter-widgets/controls",
            "_model_module_version": "1.5.0",
            "value": " 20000/? [00:00&lt;00:00, 35627.71it/s]",
            "_view_count": null,
            "_view_module_version": "1.5.0",
            "description_tooltip": null,
            "_model_module": "@jupyter-widgets/controls",
            "layout": "IPY_MODEL_9a9d6f62880c41829df6e7072209c2ee"
          }
        },
        "f84bf9912fec43308c55fe057c62d083": {
          "model_module": "@jupyter-widgets/controls",
          "model_name": "ProgressStyleModel",
          "state": {
            "_view_name": "StyleView",
            "_model_name": "ProgressStyleModel",
            "description_width": "initial",
            "_view_module": "@jupyter-widgets/base",
            "_model_module_version": "1.5.0",
            "_view_count": null,
            "_view_module_version": "1.2.0",
            "bar_color": null,
            "_model_module": "@jupyter-widgets/controls"
          }
        },
        "4bfacbe86f7f458ab2918db30836ada7": {
          "model_module": "@jupyter-widgets/base",
          "model_name": "LayoutModel",
          "state": {
            "_view_name": "LayoutView",
            "grid_template_rows": null,
            "right": null,
            "justify_content": null,
            "_view_module": "@jupyter-widgets/base",
            "overflow": null,
            "_model_module_version": "1.2.0",
            "_view_count": null,
            "flex_flow": null,
            "width": null,
            "min_width": null,
            "border": null,
            "align_items": null,
            "bottom": null,
            "_model_module": "@jupyter-widgets/base",
            "top": null,
            "grid_column": null,
            "overflow_y": null,
            "overflow_x": null,
            "grid_auto_flow": null,
            "grid_area": null,
            "grid_template_columns": null,
            "flex": null,
            "_model_name": "LayoutModel",
            "justify_items": null,
            "grid_row": null,
            "max_height": null,
            "align_content": null,
            "visibility": null,
            "align_self": null,
            "height": null,
            "min_height": null,
            "padding": null,
            "grid_auto_rows": null,
            "grid_gap": null,
            "max_width": null,
            "order": null,
            "_view_module_version": "1.2.0",
            "grid_template_areas": null,
            "object_position": null,
            "object_fit": null,
            "grid_auto_columns": null,
            "margin": null,
            "display": null,
            "left": null
          }
        },
        "8de24d6490b94bd0b17979ee76a30f63": {
          "model_module": "@jupyter-widgets/controls",
          "model_name": "DescriptionStyleModel",
          "state": {
            "_view_name": "StyleView",
            "_model_name": "DescriptionStyleModel",
            "description_width": "",
            "_view_module": "@jupyter-widgets/base",
            "_model_module_version": "1.5.0",
            "_view_count": null,
            "_view_module_version": "1.2.0",
            "_model_module": "@jupyter-widgets/controls"
          }
        },
        "9a9d6f62880c41829df6e7072209c2ee": {
          "model_module": "@jupyter-widgets/base",
          "model_name": "LayoutModel",
          "state": {
            "_view_name": "LayoutView",
            "grid_template_rows": null,
            "right": null,
            "justify_content": null,
            "_view_module": "@jupyter-widgets/base",
            "overflow": null,
            "_model_module_version": "1.2.0",
            "_view_count": null,
            "flex_flow": null,
            "width": null,
            "min_width": null,
            "border": null,
            "align_items": null,
            "bottom": null,
            "_model_module": "@jupyter-widgets/base",
            "top": null,
            "grid_column": null,
            "overflow_y": null,
            "overflow_x": null,
            "grid_auto_flow": null,
            "grid_area": null,
            "grid_template_columns": null,
            "flex": null,
            "_model_name": "LayoutModel",
            "justify_items": null,
            "grid_row": null,
            "max_height": null,
            "align_content": null,
            "visibility": null,
            "align_self": null,
            "height": null,
            "min_height": null,
            "padding": null,
            "grid_auto_rows": null,
            "grid_gap": null,
            "max_width": null,
            "order": null,
            "_view_module_version": "1.2.0",
            "grid_template_areas": null,
            "object_position": null,
            "object_fit": null,
            "grid_auto_columns": null,
            "margin": null,
            "display": null,
            "left": null
          }
        },
        "9da05117a92549ea94003763734083a2": {
          "model_module": "@jupyter-widgets/controls",
          "model_name": "HBoxModel",
          "state": {
            "_view_name": "HBoxView",
            "_dom_classes": [],
            "_model_name": "HBoxModel",
            "_view_module": "@jupyter-widgets/controls",
            "_model_module_version": "1.5.0",
            "_view_count": null,
            "_view_module_version": "1.5.0",
            "box_style": "",
            "layout": "IPY_MODEL_064ff9376c144545a5731e8a7c02cc90",
            "_model_module": "@jupyter-widgets/controls",
            "children": [
              "IPY_MODEL_3886e443a0fe43eb94cc5dc5b988c438",
              "IPY_MODEL_e5aa2b40ac6941b396fba4994884eb7a"
            ]
          }
        },
        "064ff9376c144545a5731e8a7c02cc90": {
          "model_module": "@jupyter-widgets/base",
          "model_name": "LayoutModel",
          "state": {
            "_view_name": "LayoutView",
            "grid_template_rows": null,
            "right": null,
            "justify_content": null,
            "_view_module": "@jupyter-widgets/base",
            "overflow": null,
            "_model_module_version": "1.2.0",
            "_view_count": null,
            "flex_flow": null,
            "width": null,
            "min_width": null,
            "border": null,
            "align_items": null,
            "bottom": null,
            "_model_module": "@jupyter-widgets/base",
            "top": null,
            "grid_column": null,
            "overflow_y": null,
            "overflow_x": null,
            "grid_auto_flow": null,
            "grid_area": null,
            "grid_template_columns": null,
            "flex": null,
            "_model_name": "LayoutModel",
            "justify_items": null,
            "grid_row": null,
            "max_height": null,
            "align_content": null,
            "visibility": null,
            "align_self": null,
            "height": null,
            "min_height": null,
            "padding": null,
            "grid_auto_rows": null,
            "grid_gap": null,
            "max_width": null,
            "order": null,
            "_view_module_version": "1.2.0",
            "grid_template_areas": null,
            "object_position": null,
            "object_fit": null,
            "grid_auto_columns": null,
            "margin": null,
            "display": null,
            "left": null
          }
        },
        "3886e443a0fe43eb94cc5dc5b988c438": {
          "model_module": "@jupyter-widgets/controls",
          "model_name": "FloatProgressModel",
          "state": {
            "_view_name": "ProgressView",
            "style": "IPY_MODEL_11fa0c225d66410b98b987dedaf48fff",
            "_dom_classes": [],
            "description": "",
            "_model_name": "FloatProgressModel",
            "bar_style": "success",
            "max": 1,
            "_view_module": "@jupyter-widgets/controls",
            "_model_module_version": "1.5.0",
            "value": 1,
            "_view_count": null,
            "_view_module_version": "1.5.0",
            "orientation": "horizontal",
            "min": 0,
            "description_tooltip": null,
            "_model_module": "@jupyter-widgets/controls",
            "layout": "IPY_MODEL_c9277da6e7b8448bb0f09d77a3d0dc60"
          }
        },
        "e5aa2b40ac6941b396fba4994884eb7a": {
          "model_module": "@jupyter-widgets/controls",
          "model_name": "HTMLModel",
          "state": {
            "_view_name": "HTMLView",
            "style": "IPY_MODEL_498c651c303c47e8bd5d7c6025244763",
            "_dom_classes": [],
            "description": "",
            "_model_name": "HTMLModel",
            "placeholder": "​",
            "_view_module": "@jupyter-widgets/controls",
            "_model_module_version": "1.5.0",
            "value": " 20000/? [05:09&lt;00:00, 64.54it/s]",
            "_view_count": null,
            "_view_module_version": "1.5.0",
            "description_tooltip": null,
            "_model_module": "@jupyter-widgets/controls",
            "layout": "IPY_MODEL_b994c1dc7e834542b31081ec90d90e72"
          }
        },
        "11fa0c225d66410b98b987dedaf48fff": {
          "model_module": "@jupyter-widgets/controls",
          "model_name": "ProgressStyleModel",
          "state": {
            "_view_name": "StyleView",
            "_model_name": "ProgressStyleModel",
            "description_width": "initial",
            "_view_module": "@jupyter-widgets/base",
            "_model_module_version": "1.5.0",
            "_view_count": null,
            "_view_module_version": "1.2.0",
            "bar_color": null,
            "_model_module": "@jupyter-widgets/controls"
          }
        },
        "c9277da6e7b8448bb0f09d77a3d0dc60": {
          "model_module": "@jupyter-widgets/base",
          "model_name": "LayoutModel",
          "state": {
            "_view_name": "LayoutView",
            "grid_template_rows": null,
            "right": null,
            "justify_content": null,
            "_view_module": "@jupyter-widgets/base",
            "overflow": null,
            "_model_module_version": "1.2.0",
            "_view_count": null,
            "flex_flow": null,
            "width": null,
            "min_width": null,
            "border": null,
            "align_items": null,
            "bottom": null,
            "_model_module": "@jupyter-widgets/base",
            "top": null,
            "grid_column": null,
            "overflow_y": null,
            "overflow_x": null,
            "grid_auto_flow": null,
            "grid_area": null,
            "grid_template_columns": null,
            "flex": null,
            "_model_name": "LayoutModel",
            "justify_items": null,
            "grid_row": null,
            "max_height": null,
            "align_content": null,
            "visibility": null,
            "align_self": null,
            "height": null,
            "min_height": null,
            "padding": null,
            "grid_auto_rows": null,
            "grid_gap": null,
            "max_width": null,
            "order": null,
            "_view_module_version": "1.2.0",
            "grid_template_areas": null,
            "object_position": null,
            "object_fit": null,
            "grid_auto_columns": null,
            "margin": null,
            "display": null,
            "left": null
          }
        },
        "498c651c303c47e8bd5d7c6025244763": {
          "model_module": "@jupyter-widgets/controls",
          "model_name": "DescriptionStyleModel",
          "state": {
            "_view_name": "StyleView",
            "_model_name": "DescriptionStyleModel",
            "description_width": "",
            "_view_module": "@jupyter-widgets/base",
            "_model_module_version": "1.5.0",
            "_view_count": null,
            "_view_module_version": "1.2.0",
            "_model_module": "@jupyter-widgets/controls"
          }
        },
        "b994c1dc7e834542b31081ec90d90e72": {
          "model_module": "@jupyter-widgets/base",
          "model_name": "LayoutModel",
          "state": {
            "_view_name": "LayoutView",
            "grid_template_rows": null,
            "right": null,
            "justify_content": null,
            "_view_module": "@jupyter-widgets/base",
            "overflow": null,
            "_model_module_version": "1.2.0",
            "_view_count": null,
            "flex_flow": null,
            "width": null,
            "min_width": null,
            "border": null,
            "align_items": null,
            "bottom": null,
            "_model_module": "@jupyter-widgets/base",
            "top": null,
            "grid_column": null,
            "overflow_y": null,
            "overflow_x": null,
            "grid_auto_flow": null,
            "grid_area": null,
            "grid_template_columns": null,
            "flex": null,
            "_model_name": "LayoutModel",
            "justify_items": null,
            "grid_row": null,
            "max_height": null,
            "align_content": null,
            "visibility": null,
            "align_self": null,
            "height": null,
            "min_height": null,
            "padding": null,
            "grid_auto_rows": null,
            "grid_gap": null,
            "max_width": null,
            "order": null,
            "_view_module_version": "1.2.0",
            "grid_template_areas": null,
            "object_position": null,
            "object_fit": null,
            "grid_auto_columns": null,
            "margin": null,
            "display": null,
            "left": null
          }
        },
        "1d3daf5b50c747c39c972753cccf07e4": {
          "model_module": "@jupyter-widgets/controls",
          "model_name": "HBoxModel",
          "state": {
            "_view_name": "HBoxView",
            "_dom_classes": [],
            "_model_name": "HBoxModel",
            "_view_module": "@jupyter-widgets/controls",
            "_model_module_version": "1.5.0",
            "_view_count": null,
            "_view_module_version": "1.5.0",
            "box_style": "",
            "layout": "IPY_MODEL_2b8c03e9975949c7a3f188e617dfdb81",
            "_model_module": "@jupyter-widgets/controls",
            "children": [
              "IPY_MODEL_4a69d0dce14847ab8607769d5c3d6639",
              "IPY_MODEL_a3ddccd05d3143f4b4517c2bbcc75e32"
            ]
          }
        },
        "2b8c03e9975949c7a3f188e617dfdb81": {
          "model_module": "@jupyter-widgets/base",
          "model_name": "LayoutModel",
          "state": {
            "_view_name": "LayoutView",
            "grid_template_rows": null,
            "right": null,
            "justify_content": null,
            "_view_module": "@jupyter-widgets/base",
            "overflow": null,
            "_model_module_version": "1.2.0",
            "_view_count": null,
            "flex_flow": null,
            "width": null,
            "min_width": null,
            "border": null,
            "align_items": null,
            "bottom": null,
            "_model_module": "@jupyter-widgets/base",
            "top": null,
            "grid_column": null,
            "overflow_y": null,
            "overflow_x": null,
            "grid_auto_flow": null,
            "grid_area": null,
            "grid_template_columns": null,
            "flex": null,
            "_model_name": "LayoutModel",
            "justify_items": null,
            "grid_row": null,
            "max_height": null,
            "align_content": null,
            "visibility": null,
            "align_self": null,
            "height": null,
            "min_height": null,
            "padding": null,
            "grid_auto_rows": null,
            "grid_gap": null,
            "max_width": null,
            "order": null,
            "_view_module_version": "1.2.0",
            "grid_template_areas": null,
            "object_position": null,
            "object_fit": null,
            "grid_auto_columns": null,
            "margin": null,
            "display": null,
            "left": null
          }
        },
        "4a69d0dce14847ab8607769d5c3d6639": {
          "model_module": "@jupyter-widgets/controls",
          "model_name": "FloatProgressModel",
          "state": {
            "_view_name": "ProgressView",
            "style": "IPY_MODEL_847179db151a4b20814f66583f95b858",
            "_dom_classes": [],
            "description": "",
            "_model_name": "FloatProgressModel",
            "bar_style": "success",
            "max": 1,
            "_view_module": "@jupyter-widgets/controls",
            "_model_module_version": "1.5.0",
            "value": 1,
            "_view_count": null,
            "_view_module_version": "1.5.0",
            "orientation": "horizontal",
            "min": 0,
            "description_tooltip": null,
            "_model_module": "@jupyter-widgets/controls",
            "layout": "IPY_MODEL_9f9edfcd462244a2a5d3630964cc8ba3"
          }
        },
        "a3ddccd05d3143f4b4517c2bbcc75e32": {
          "model_module": "@jupyter-widgets/controls",
          "model_name": "HTMLModel",
          "state": {
            "_view_name": "HTMLView",
            "style": "IPY_MODEL_c6dd51920bc34baf8819215c4a0ad690",
            "_dom_classes": [],
            "description": "",
            "_model_name": "HTMLModel",
            "placeholder": "​",
            "_view_module": "@jupyter-widgets/controls",
            "_model_module_version": "1.5.0",
            "value": " 20000/? [04:18&lt;00:00, 77.51it/s]",
            "_view_count": null,
            "_view_module_version": "1.5.0",
            "description_tooltip": null,
            "_model_module": "@jupyter-widgets/controls",
            "layout": "IPY_MODEL_8c9140143c1240d39831d1fea0168b6d"
          }
        },
        "847179db151a4b20814f66583f95b858": {
          "model_module": "@jupyter-widgets/controls",
          "model_name": "ProgressStyleModel",
          "state": {
            "_view_name": "StyleView",
            "_model_name": "ProgressStyleModel",
            "description_width": "initial",
            "_view_module": "@jupyter-widgets/base",
            "_model_module_version": "1.5.0",
            "_view_count": null,
            "_view_module_version": "1.2.0",
            "bar_color": null,
            "_model_module": "@jupyter-widgets/controls"
          }
        },
        "9f9edfcd462244a2a5d3630964cc8ba3": {
          "model_module": "@jupyter-widgets/base",
          "model_name": "LayoutModel",
          "state": {
            "_view_name": "LayoutView",
            "grid_template_rows": null,
            "right": null,
            "justify_content": null,
            "_view_module": "@jupyter-widgets/base",
            "overflow": null,
            "_model_module_version": "1.2.0",
            "_view_count": null,
            "flex_flow": null,
            "width": null,
            "min_width": null,
            "border": null,
            "align_items": null,
            "bottom": null,
            "_model_module": "@jupyter-widgets/base",
            "top": null,
            "grid_column": null,
            "overflow_y": null,
            "overflow_x": null,
            "grid_auto_flow": null,
            "grid_area": null,
            "grid_template_columns": null,
            "flex": null,
            "_model_name": "LayoutModel",
            "justify_items": null,
            "grid_row": null,
            "max_height": null,
            "align_content": null,
            "visibility": null,
            "align_self": null,
            "height": null,
            "min_height": null,
            "padding": null,
            "grid_auto_rows": null,
            "grid_gap": null,
            "max_width": null,
            "order": null,
            "_view_module_version": "1.2.0",
            "grid_template_areas": null,
            "object_position": null,
            "object_fit": null,
            "grid_auto_columns": null,
            "margin": null,
            "display": null,
            "left": null
          }
        },
        "c6dd51920bc34baf8819215c4a0ad690": {
          "model_module": "@jupyter-widgets/controls",
          "model_name": "DescriptionStyleModel",
          "state": {
            "_view_name": "StyleView",
            "_model_name": "DescriptionStyleModel",
            "description_width": "",
            "_view_module": "@jupyter-widgets/base",
            "_model_module_version": "1.5.0",
            "_view_count": null,
            "_view_module_version": "1.2.0",
            "_model_module": "@jupyter-widgets/controls"
          }
        },
        "8c9140143c1240d39831d1fea0168b6d": {
          "model_module": "@jupyter-widgets/base",
          "model_name": "LayoutModel",
          "state": {
            "_view_name": "LayoutView",
            "grid_template_rows": null,
            "right": null,
            "justify_content": null,
            "_view_module": "@jupyter-widgets/base",
            "overflow": null,
            "_model_module_version": "1.2.0",
            "_view_count": null,
            "flex_flow": null,
            "width": null,
            "min_width": null,
            "border": null,
            "align_items": null,
            "bottom": null,
            "_model_module": "@jupyter-widgets/base",
            "top": null,
            "grid_column": null,
            "overflow_y": null,
            "overflow_x": null,
            "grid_auto_flow": null,
            "grid_area": null,
            "grid_template_columns": null,
            "flex": null,
            "_model_name": "LayoutModel",
            "justify_items": null,
            "grid_row": null,
            "max_height": null,
            "align_content": null,
            "visibility": null,
            "align_self": null,
            "height": null,
            "min_height": null,
            "padding": null,
            "grid_auto_rows": null,
            "grid_gap": null,
            "max_width": null,
            "order": null,
            "_view_module_version": "1.2.0",
            "grid_template_areas": null,
            "object_position": null,
            "object_fit": null,
            "grid_auto_columns": null,
            "margin": null,
            "display": null,
            "left": null
          }
        },
        "611d0f6067864b21b265673b935aebb7": {
          "model_module": "@jupyter-widgets/controls",
          "model_name": "HBoxModel",
          "state": {
            "_view_name": "HBoxView",
            "_dom_classes": [],
            "_model_name": "HBoxModel",
            "_view_module": "@jupyter-widgets/controls",
            "_model_module_version": "1.5.0",
            "_view_count": null,
            "_view_module_version": "1.5.0",
            "box_style": "",
            "layout": "IPY_MODEL_ab9a418dea9747808b86c2628737fa58",
            "_model_module": "@jupyter-widgets/controls",
            "children": [
              "IPY_MODEL_37365fa77775463fbbdb2ed10351c288",
              "IPY_MODEL_210c01b9eb96481caeb2075b5f1cea96"
            ]
          }
        },
        "ab9a418dea9747808b86c2628737fa58": {
          "model_module": "@jupyter-widgets/base",
          "model_name": "LayoutModel",
          "state": {
            "_view_name": "LayoutView",
            "grid_template_rows": null,
            "right": null,
            "justify_content": null,
            "_view_module": "@jupyter-widgets/base",
            "overflow": null,
            "_model_module_version": "1.2.0",
            "_view_count": null,
            "flex_flow": null,
            "width": null,
            "min_width": null,
            "border": null,
            "align_items": null,
            "bottom": null,
            "_model_module": "@jupyter-widgets/base",
            "top": null,
            "grid_column": null,
            "overflow_y": null,
            "overflow_x": null,
            "grid_auto_flow": null,
            "grid_area": null,
            "grid_template_columns": null,
            "flex": null,
            "_model_name": "LayoutModel",
            "justify_items": null,
            "grid_row": null,
            "max_height": null,
            "align_content": null,
            "visibility": null,
            "align_self": null,
            "height": null,
            "min_height": null,
            "padding": null,
            "grid_auto_rows": null,
            "grid_gap": null,
            "max_width": null,
            "order": null,
            "_view_module_version": "1.2.0",
            "grid_template_areas": null,
            "object_position": null,
            "object_fit": null,
            "grid_auto_columns": null,
            "margin": null,
            "display": null,
            "left": null
          }
        },
        "37365fa77775463fbbdb2ed10351c288": {
          "model_module": "@jupyter-widgets/controls",
          "model_name": "FloatProgressModel",
          "state": {
            "_view_name": "ProgressView",
            "style": "IPY_MODEL_00688dae383647b0a9f2674c6d76c266",
            "_dom_classes": [],
            "description": "",
            "_model_name": "FloatProgressModel",
            "bar_style": "success",
            "max": 1,
            "_view_module": "@jupyter-widgets/controls",
            "_model_module_version": "1.5.0",
            "value": 1,
            "_view_count": null,
            "_view_module_version": "1.5.0",
            "orientation": "horizontal",
            "min": 0,
            "description_tooltip": null,
            "_model_module": "@jupyter-widgets/controls",
            "layout": "IPY_MODEL_211cc35593a246c2a0901d0b75af9fca"
          }
        },
        "210c01b9eb96481caeb2075b5f1cea96": {
          "model_module": "@jupyter-widgets/controls",
          "model_name": "HTMLModel",
          "state": {
            "_view_name": "HTMLView",
            "style": "IPY_MODEL_adfd7d93563544a083148cf77ff882de",
            "_dom_classes": [],
            "description": "",
            "_model_name": "HTMLModel",
            "placeholder": "​",
            "_view_module": "@jupyter-widgets/controls",
            "_model_module_version": "1.5.0",
            "value": " 20000/? [03:25&lt;00:00, 97.54it/s]",
            "_view_count": null,
            "_view_module_version": "1.5.0",
            "description_tooltip": null,
            "_model_module": "@jupyter-widgets/controls",
            "layout": "IPY_MODEL_11af0eb464fe40ceb880534df15c40fb"
          }
        },
        "00688dae383647b0a9f2674c6d76c266": {
          "model_module": "@jupyter-widgets/controls",
          "model_name": "ProgressStyleModel",
          "state": {
            "_view_name": "StyleView",
            "_model_name": "ProgressStyleModel",
            "description_width": "initial",
            "_view_module": "@jupyter-widgets/base",
            "_model_module_version": "1.5.0",
            "_view_count": null,
            "_view_module_version": "1.2.0",
            "bar_color": null,
            "_model_module": "@jupyter-widgets/controls"
          }
        },
        "211cc35593a246c2a0901d0b75af9fca": {
          "model_module": "@jupyter-widgets/base",
          "model_name": "LayoutModel",
          "state": {
            "_view_name": "LayoutView",
            "grid_template_rows": null,
            "right": null,
            "justify_content": null,
            "_view_module": "@jupyter-widgets/base",
            "overflow": null,
            "_model_module_version": "1.2.0",
            "_view_count": null,
            "flex_flow": null,
            "width": null,
            "min_width": null,
            "border": null,
            "align_items": null,
            "bottom": null,
            "_model_module": "@jupyter-widgets/base",
            "top": null,
            "grid_column": null,
            "overflow_y": null,
            "overflow_x": null,
            "grid_auto_flow": null,
            "grid_area": null,
            "grid_template_columns": null,
            "flex": null,
            "_model_name": "LayoutModel",
            "justify_items": null,
            "grid_row": null,
            "max_height": null,
            "align_content": null,
            "visibility": null,
            "align_self": null,
            "height": null,
            "min_height": null,
            "padding": null,
            "grid_auto_rows": null,
            "grid_gap": null,
            "max_width": null,
            "order": null,
            "_view_module_version": "1.2.0",
            "grid_template_areas": null,
            "object_position": null,
            "object_fit": null,
            "grid_auto_columns": null,
            "margin": null,
            "display": null,
            "left": null
          }
        },
        "adfd7d93563544a083148cf77ff882de": {
          "model_module": "@jupyter-widgets/controls",
          "model_name": "DescriptionStyleModel",
          "state": {
            "_view_name": "StyleView",
            "_model_name": "DescriptionStyleModel",
            "description_width": "",
            "_view_module": "@jupyter-widgets/base",
            "_model_module_version": "1.5.0",
            "_view_count": null,
            "_view_module_version": "1.2.0",
            "_model_module": "@jupyter-widgets/controls"
          }
        },
        "11af0eb464fe40ceb880534df15c40fb": {
          "model_module": "@jupyter-widgets/base",
          "model_name": "LayoutModel",
          "state": {
            "_view_name": "LayoutView",
            "grid_template_rows": null,
            "right": null,
            "justify_content": null,
            "_view_module": "@jupyter-widgets/base",
            "overflow": null,
            "_model_module_version": "1.2.0",
            "_view_count": null,
            "flex_flow": null,
            "width": null,
            "min_width": null,
            "border": null,
            "align_items": null,
            "bottom": null,
            "_model_module": "@jupyter-widgets/base",
            "top": null,
            "grid_column": null,
            "overflow_y": null,
            "overflow_x": null,
            "grid_auto_flow": null,
            "grid_area": null,
            "grid_template_columns": null,
            "flex": null,
            "_model_name": "LayoutModel",
            "justify_items": null,
            "grid_row": null,
            "max_height": null,
            "align_content": null,
            "visibility": null,
            "align_self": null,
            "height": null,
            "min_height": null,
            "padding": null,
            "grid_auto_rows": null,
            "grid_gap": null,
            "max_width": null,
            "order": null,
            "_view_module_version": "1.2.0",
            "grid_template_areas": null,
            "object_position": null,
            "object_fit": null,
            "grid_auto_columns": null,
            "margin": null,
            "display": null,
            "left": null
          }
        },
        "fdaadee34ab04edfaf5473a87c842d24": {
          "model_module": "@jupyter-widgets/controls",
          "model_name": "HBoxModel",
          "state": {
            "_view_name": "HBoxView",
            "_dom_classes": [],
            "_model_name": "HBoxModel",
            "_view_module": "@jupyter-widgets/controls",
            "_model_module_version": "1.5.0",
            "_view_count": null,
            "_view_module_version": "1.5.0",
            "box_style": "",
            "layout": "IPY_MODEL_98de76c2a14144c082e4ee95e06b8454",
            "_model_module": "@jupyter-widgets/controls",
            "children": [
              "IPY_MODEL_0db0787567914784982c377827c997c5",
              "IPY_MODEL_a06baad9db56400488ee4d2d4e16429f"
            ]
          }
        },
        "98de76c2a14144c082e4ee95e06b8454": {
          "model_module": "@jupyter-widgets/base",
          "model_name": "LayoutModel",
          "state": {
            "_view_name": "LayoutView",
            "grid_template_rows": null,
            "right": null,
            "justify_content": null,
            "_view_module": "@jupyter-widgets/base",
            "overflow": null,
            "_model_module_version": "1.2.0",
            "_view_count": null,
            "flex_flow": null,
            "width": null,
            "min_width": null,
            "border": null,
            "align_items": null,
            "bottom": null,
            "_model_module": "@jupyter-widgets/base",
            "top": null,
            "grid_column": null,
            "overflow_y": null,
            "overflow_x": null,
            "grid_auto_flow": null,
            "grid_area": null,
            "grid_template_columns": null,
            "flex": null,
            "_model_name": "LayoutModel",
            "justify_items": null,
            "grid_row": null,
            "max_height": null,
            "align_content": null,
            "visibility": null,
            "align_self": null,
            "height": null,
            "min_height": null,
            "padding": null,
            "grid_auto_rows": null,
            "grid_gap": null,
            "max_width": null,
            "order": null,
            "_view_module_version": "1.2.0",
            "grid_template_areas": null,
            "object_position": null,
            "object_fit": null,
            "grid_auto_columns": null,
            "margin": null,
            "display": null,
            "left": null
          }
        },
        "0db0787567914784982c377827c997c5": {
          "model_module": "@jupyter-widgets/controls",
          "model_name": "FloatProgressModel",
          "state": {
            "_view_name": "ProgressView",
            "style": "IPY_MODEL_4cc37b643dfb4942b8c82023ef711670",
            "_dom_classes": [],
            "description": "",
            "_model_name": "FloatProgressModel",
            "bar_style": "success",
            "max": 1,
            "_view_module": "@jupyter-widgets/controls",
            "_model_module_version": "1.5.0",
            "value": 1,
            "_view_count": null,
            "_view_module_version": "1.5.0",
            "orientation": "horizontal",
            "min": 0,
            "description_tooltip": null,
            "_model_module": "@jupyter-widgets/controls",
            "layout": "IPY_MODEL_6d2c0e55d3c04563afdbc542be60ec4e"
          }
        },
        "a06baad9db56400488ee4d2d4e16429f": {
          "model_module": "@jupyter-widgets/controls",
          "model_name": "HTMLModel",
          "state": {
            "_view_name": "HTMLView",
            "style": "IPY_MODEL_80fa4c208795428cad254d9c7c7f4ede",
            "_dom_classes": [],
            "description": "",
            "_model_name": "HTMLModel",
            "placeholder": "​",
            "_view_module": "@jupyter-widgets/controls",
            "_model_module_version": "1.5.0",
            "value": " 5318/? [00:00&lt;00:00, 13408.40it/s]",
            "_view_count": null,
            "_view_module_version": "1.5.0",
            "description_tooltip": null,
            "_model_module": "@jupyter-widgets/controls",
            "layout": "IPY_MODEL_bea27ab7a5b443079fddadd26f0ecaf4"
          }
        },
        "4cc37b643dfb4942b8c82023ef711670": {
          "model_module": "@jupyter-widgets/controls",
          "model_name": "ProgressStyleModel",
          "state": {
            "_view_name": "StyleView",
            "_model_name": "ProgressStyleModel",
            "description_width": "initial",
            "_view_module": "@jupyter-widgets/base",
            "_model_module_version": "1.5.0",
            "_view_count": null,
            "_view_module_version": "1.2.0",
            "bar_color": null,
            "_model_module": "@jupyter-widgets/controls"
          }
        },
        "6d2c0e55d3c04563afdbc542be60ec4e": {
          "model_module": "@jupyter-widgets/base",
          "model_name": "LayoutModel",
          "state": {
            "_view_name": "LayoutView",
            "grid_template_rows": null,
            "right": null,
            "justify_content": null,
            "_view_module": "@jupyter-widgets/base",
            "overflow": null,
            "_model_module_version": "1.2.0",
            "_view_count": null,
            "flex_flow": null,
            "width": null,
            "min_width": null,
            "border": null,
            "align_items": null,
            "bottom": null,
            "_model_module": "@jupyter-widgets/base",
            "top": null,
            "grid_column": null,
            "overflow_y": null,
            "overflow_x": null,
            "grid_auto_flow": null,
            "grid_area": null,
            "grid_template_columns": null,
            "flex": null,
            "_model_name": "LayoutModel",
            "justify_items": null,
            "grid_row": null,
            "max_height": null,
            "align_content": null,
            "visibility": null,
            "align_self": null,
            "height": null,
            "min_height": null,
            "padding": null,
            "grid_auto_rows": null,
            "grid_gap": null,
            "max_width": null,
            "order": null,
            "_view_module_version": "1.2.0",
            "grid_template_areas": null,
            "object_position": null,
            "object_fit": null,
            "grid_auto_columns": null,
            "margin": null,
            "display": null,
            "left": null
          }
        },
        "80fa4c208795428cad254d9c7c7f4ede": {
          "model_module": "@jupyter-widgets/controls",
          "model_name": "DescriptionStyleModel",
          "state": {
            "_view_name": "StyleView",
            "_model_name": "DescriptionStyleModel",
            "description_width": "",
            "_view_module": "@jupyter-widgets/base",
            "_model_module_version": "1.5.0",
            "_view_count": null,
            "_view_module_version": "1.2.0",
            "_model_module": "@jupyter-widgets/controls"
          }
        },
        "bea27ab7a5b443079fddadd26f0ecaf4": {
          "model_module": "@jupyter-widgets/base",
          "model_name": "LayoutModel",
          "state": {
            "_view_name": "LayoutView",
            "grid_template_rows": null,
            "right": null,
            "justify_content": null,
            "_view_module": "@jupyter-widgets/base",
            "overflow": null,
            "_model_module_version": "1.2.0",
            "_view_count": null,
            "flex_flow": null,
            "width": null,
            "min_width": null,
            "border": null,
            "align_items": null,
            "bottom": null,
            "_model_module": "@jupyter-widgets/base",
            "top": null,
            "grid_column": null,
            "overflow_y": null,
            "overflow_x": null,
            "grid_auto_flow": null,
            "grid_area": null,
            "grid_template_columns": null,
            "flex": null,
            "_model_name": "LayoutModel",
            "justify_items": null,
            "grid_row": null,
            "max_height": null,
            "align_content": null,
            "visibility": null,
            "align_self": null,
            "height": null,
            "min_height": null,
            "padding": null,
            "grid_auto_rows": null,
            "grid_gap": null,
            "max_width": null,
            "order": null,
            "_view_module_version": "1.2.0",
            "grid_template_areas": null,
            "object_position": null,
            "object_fit": null,
            "grid_auto_columns": null,
            "margin": null,
            "display": null,
            "left": null
          }
        },
        "7d8855db890c4fe69c08b5c92c8d4775": {
          "model_module": "@jupyter-widgets/controls",
          "model_name": "HBoxModel",
          "state": {
            "_view_name": "HBoxView",
            "_dom_classes": [],
            "_model_name": "HBoxModel",
            "_view_module": "@jupyter-widgets/controls",
            "_model_module_version": "1.5.0",
            "_view_count": null,
            "_view_module_version": "1.5.0",
            "box_style": "",
            "layout": "IPY_MODEL_15873e115f5448308285ca1b38e1e048",
            "_model_module": "@jupyter-widgets/controls",
            "children": [
              "IPY_MODEL_efc74a5e6ddd44478e631cf8ae91ff97",
              "IPY_MODEL_e055d3cf062f401ca8ff5e866607e8e8"
            ]
          }
        },
        "15873e115f5448308285ca1b38e1e048": {
          "model_module": "@jupyter-widgets/base",
          "model_name": "LayoutModel",
          "state": {
            "_view_name": "LayoutView",
            "grid_template_rows": null,
            "right": null,
            "justify_content": null,
            "_view_module": "@jupyter-widgets/base",
            "overflow": null,
            "_model_module_version": "1.2.0",
            "_view_count": null,
            "flex_flow": null,
            "width": null,
            "min_width": null,
            "border": null,
            "align_items": null,
            "bottom": null,
            "_model_module": "@jupyter-widgets/base",
            "top": null,
            "grid_column": null,
            "overflow_y": null,
            "overflow_x": null,
            "grid_auto_flow": null,
            "grid_area": null,
            "grid_template_columns": null,
            "flex": null,
            "_model_name": "LayoutModel",
            "justify_items": null,
            "grid_row": null,
            "max_height": null,
            "align_content": null,
            "visibility": null,
            "align_self": null,
            "height": null,
            "min_height": null,
            "padding": null,
            "grid_auto_rows": null,
            "grid_gap": null,
            "max_width": null,
            "order": null,
            "_view_module_version": "1.2.0",
            "grid_template_areas": null,
            "object_position": null,
            "object_fit": null,
            "grid_auto_columns": null,
            "margin": null,
            "display": null,
            "left": null
          }
        },
        "efc74a5e6ddd44478e631cf8ae91ff97": {
          "model_module": "@jupyter-widgets/controls",
          "model_name": "FloatProgressModel",
          "state": {
            "_view_name": "ProgressView",
            "style": "IPY_MODEL_c17aed9f6fff4988b5ee672aa0b366a8",
            "_dom_classes": [],
            "description": "",
            "_model_name": "FloatProgressModel",
            "bar_style": "success",
            "max": 1,
            "_view_module": "@jupyter-widgets/controls",
            "_model_module_version": "1.5.0",
            "value": 1,
            "_view_count": null,
            "_view_module_version": "1.5.0",
            "orientation": "horizontal",
            "min": 0,
            "description_tooltip": null,
            "_model_module": "@jupyter-widgets/controls",
            "layout": "IPY_MODEL_876ebbcd34584eee8eee826c834e2438"
          }
        },
        "e055d3cf062f401ca8ff5e866607e8e8": {
          "model_module": "@jupyter-widgets/controls",
          "model_name": "HTMLModel",
          "state": {
            "_view_name": "HTMLView",
            "style": "IPY_MODEL_767bd300cef84969bd8dced5e4d2dacb",
            "_dom_classes": [],
            "description": "",
            "_model_name": "HTMLModel",
            "placeholder": "​",
            "_view_module": "@jupyter-widgets/controls",
            "_model_module_version": "1.5.0",
            "value": " 5315/? [01:12&lt;00:00, 73.24it/s]",
            "_view_count": null,
            "_view_module_version": "1.5.0",
            "description_tooltip": null,
            "_model_module": "@jupyter-widgets/controls",
            "layout": "IPY_MODEL_2db3967f5efd40fc914accea3c245917"
          }
        },
        "c17aed9f6fff4988b5ee672aa0b366a8": {
          "model_module": "@jupyter-widgets/controls",
          "model_name": "ProgressStyleModel",
          "state": {
            "_view_name": "StyleView",
            "_model_name": "ProgressStyleModel",
            "description_width": "initial",
            "_view_module": "@jupyter-widgets/base",
            "_model_module_version": "1.5.0",
            "_view_count": null,
            "_view_module_version": "1.2.0",
            "bar_color": null,
            "_model_module": "@jupyter-widgets/controls"
          }
        },
        "876ebbcd34584eee8eee826c834e2438": {
          "model_module": "@jupyter-widgets/base",
          "model_name": "LayoutModel",
          "state": {
            "_view_name": "LayoutView",
            "grid_template_rows": null,
            "right": null,
            "justify_content": null,
            "_view_module": "@jupyter-widgets/base",
            "overflow": null,
            "_model_module_version": "1.2.0",
            "_view_count": null,
            "flex_flow": null,
            "width": null,
            "min_width": null,
            "border": null,
            "align_items": null,
            "bottom": null,
            "_model_module": "@jupyter-widgets/base",
            "top": null,
            "grid_column": null,
            "overflow_y": null,
            "overflow_x": null,
            "grid_auto_flow": null,
            "grid_area": null,
            "grid_template_columns": null,
            "flex": null,
            "_model_name": "LayoutModel",
            "justify_items": null,
            "grid_row": null,
            "max_height": null,
            "align_content": null,
            "visibility": null,
            "align_self": null,
            "height": null,
            "min_height": null,
            "padding": null,
            "grid_auto_rows": null,
            "grid_gap": null,
            "max_width": null,
            "order": null,
            "_view_module_version": "1.2.0",
            "grid_template_areas": null,
            "object_position": null,
            "object_fit": null,
            "grid_auto_columns": null,
            "margin": null,
            "display": null,
            "left": null
          }
        },
        "767bd300cef84969bd8dced5e4d2dacb": {
          "model_module": "@jupyter-widgets/controls",
          "model_name": "DescriptionStyleModel",
          "state": {
            "_view_name": "StyleView",
            "_model_name": "DescriptionStyleModel",
            "description_width": "",
            "_view_module": "@jupyter-widgets/base",
            "_model_module_version": "1.5.0",
            "_view_count": null,
            "_view_module_version": "1.2.0",
            "_model_module": "@jupyter-widgets/controls"
          }
        },
        "2db3967f5efd40fc914accea3c245917": {
          "model_module": "@jupyter-widgets/base",
          "model_name": "LayoutModel",
          "state": {
            "_view_name": "LayoutView",
            "grid_template_rows": null,
            "right": null,
            "justify_content": null,
            "_view_module": "@jupyter-widgets/base",
            "overflow": null,
            "_model_module_version": "1.2.0",
            "_view_count": null,
            "flex_flow": null,
            "width": null,
            "min_width": null,
            "border": null,
            "align_items": null,
            "bottom": null,
            "_model_module": "@jupyter-widgets/base",
            "top": null,
            "grid_column": null,
            "overflow_y": null,
            "overflow_x": null,
            "grid_auto_flow": null,
            "grid_area": null,
            "grid_template_columns": null,
            "flex": null,
            "_model_name": "LayoutModel",
            "justify_items": null,
            "grid_row": null,
            "max_height": null,
            "align_content": null,
            "visibility": null,
            "align_self": null,
            "height": null,
            "min_height": null,
            "padding": null,
            "grid_auto_rows": null,
            "grid_gap": null,
            "max_width": null,
            "order": null,
            "_view_module_version": "1.2.0",
            "grid_template_areas": null,
            "object_position": null,
            "object_fit": null,
            "grid_auto_columns": null,
            "margin": null,
            "display": null,
            "left": null
          }
        },
        "f6e009972a4245edbbf5b8c94cdd8c18": {
          "model_module": "@jupyter-widgets/controls",
          "model_name": "HBoxModel",
          "state": {
            "_view_name": "HBoxView",
            "_dom_classes": [],
            "_model_name": "HBoxModel",
            "_view_module": "@jupyter-widgets/controls",
            "_model_module_version": "1.5.0",
            "_view_count": null,
            "_view_module_version": "1.5.0",
            "box_style": "",
            "layout": "IPY_MODEL_ed34f7c9ef9c4eb6b798a93be9d0ae70",
            "_model_module": "@jupyter-widgets/controls",
            "children": [
              "IPY_MODEL_79c29cdad2c74d27bb24a3cce59cc236",
              "IPY_MODEL_479be3d9fce64d31857d94d26988d5a0"
            ]
          }
        },
        "ed34f7c9ef9c4eb6b798a93be9d0ae70": {
          "model_module": "@jupyter-widgets/base",
          "model_name": "LayoutModel",
          "state": {
            "_view_name": "LayoutView",
            "grid_template_rows": null,
            "right": null,
            "justify_content": null,
            "_view_module": "@jupyter-widgets/base",
            "overflow": null,
            "_model_module_version": "1.2.0",
            "_view_count": null,
            "flex_flow": null,
            "width": null,
            "min_width": null,
            "border": null,
            "align_items": null,
            "bottom": null,
            "_model_module": "@jupyter-widgets/base",
            "top": null,
            "grid_column": null,
            "overflow_y": null,
            "overflow_x": null,
            "grid_auto_flow": null,
            "grid_area": null,
            "grid_template_columns": null,
            "flex": null,
            "_model_name": "LayoutModel",
            "justify_items": null,
            "grid_row": null,
            "max_height": null,
            "align_content": null,
            "visibility": null,
            "align_self": null,
            "height": null,
            "min_height": null,
            "padding": null,
            "grid_auto_rows": null,
            "grid_gap": null,
            "max_width": null,
            "order": null,
            "_view_module_version": "1.2.0",
            "grid_template_areas": null,
            "object_position": null,
            "object_fit": null,
            "grid_auto_columns": null,
            "margin": null,
            "display": null,
            "left": null
          }
        },
        "79c29cdad2c74d27bb24a3cce59cc236": {
          "model_module": "@jupyter-widgets/controls",
          "model_name": "FloatProgressModel",
          "state": {
            "_view_name": "ProgressView",
            "style": "IPY_MODEL_c588bc5da1e647149884e49b8c3184aa",
            "_dom_classes": [],
            "description": "",
            "_model_name": "FloatProgressModel",
            "bar_style": "success",
            "max": 1,
            "_view_module": "@jupyter-widgets/controls",
            "_model_module_version": "1.5.0",
            "value": 1,
            "_view_count": null,
            "_view_module_version": "1.5.0",
            "orientation": "horizontal",
            "min": 0,
            "description_tooltip": null,
            "_model_module": "@jupyter-widgets/controls",
            "layout": "IPY_MODEL_5d3b77f2702f4039be14619792ade325"
          }
        },
        "479be3d9fce64d31857d94d26988d5a0": {
          "model_module": "@jupyter-widgets/controls",
          "model_name": "HTMLModel",
          "state": {
            "_view_name": "HTMLView",
            "style": "IPY_MODEL_9dc69b2f45a04a3e89004daf58c17c72",
            "_dom_classes": [],
            "description": "",
            "_model_name": "HTMLModel",
            "placeholder": "​",
            "_view_module": "@jupyter-widgets/controls",
            "_model_module_version": "1.5.0",
            "value": " 5315/? [01:00&lt;00:00, 88.14it/s]",
            "_view_count": null,
            "_view_module_version": "1.5.0",
            "description_tooltip": null,
            "_model_module": "@jupyter-widgets/controls",
            "layout": "IPY_MODEL_ada7e03ec171469d94caa4a241766ac3"
          }
        },
        "c588bc5da1e647149884e49b8c3184aa": {
          "model_module": "@jupyter-widgets/controls",
          "model_name": "ProgressStyleModel",
          "state": {
            "_view_name": "StyleView",
            "_model_name": "ProgressStyleModel",
            "description_width": "initial",
            "_view_module": "@jupyter-widgets/base",
            "_model_module_version": "1.5.0",
            "_view_count": null,
            "_view_module_version": "1.2.0",
            "bar_color": null,
            "_model_module": "@jupyter-widgets/controls"
          }
        },
        "5d3b77f2702f4039be14619792ade325": {
          "model_module": "@jupyter-widgets/base",
          "model_name": "LayoutModel",
          "state": {
            "_view_name": "LayoutView",
            "grid_template_rows": null,
            "right": null,
            "justify_content": null,
            "_view_module": "@jupyter-widgets/base",
            "overflow": null,
            "_model_module_version": "1.2.0",
            "_view_count": null,
            "flex_flow": null,
            "width": null,
            "min_width": null,
            "border": null,
            "align_items": null,
            "bottom": null,
            "_model_module": "@jupyter-widgets/base",
            "top": null,
            "grid_column": null,
            "overflow_y": null,
            "overflow_x": null,
            "grid_auto_flow": null,
            "grid_area": null,
            "grid_template_columns": null,
            "flex": null,
            "_model_name": "LayoutModel",
            "justify_items": null,
            "grid_row": null,
            "max_height": null,
            "align_content": null,
            "visibility": null,
            "align_self": null,
            "height": null,
            "min_height": null,
            "padding": null,
            "grid_auto_rows": null,
            "grid_gap": null,
            "max_width": null,
            "order": null,
            "_view_module_version": "1.2.0",
            "grid_template_areas": null,
            "object_position": null,
            "object_fit": null,
            "grid_auto_columns": null,
            "margin": null,
            "display": null,
            "left": null
          }
        },
        "9dc69b2f45a04a3e89004daf58c17c72": {
          "model_module": "@jupyter-widgets/controls",
          "model_name": "DescriptionStyleModel",
          "state": {
            "_view_name": "StyleView",
            "_model_name": "DescriptionStyleModel",
            "description_width": "",
            "_view_module": "@jupyter-widgets/base",
            "_model_module_version": "1.5.0",
            "_view_count": null,
            "_view_module_version": "1.2.0",
            "_model_module": "@jupyter-widgets/controls"
          }
        },
        "ada7e03ec171469d94caa4a241766ac3": {
          "model_module": "@jupyter-widgets/base",
          "model_name": "LayoutModel",
          "state": {
            "_view_name": "LayoutView",
            "grid_template_rows": null,
            "right": null,
            "justify_content": null,
            "_view_module": "@jupyter-widgets/base",
            "overflow": null,
            "_model_module_version": "1.2.0",
            "_view_count": null,
            "flex_flow": null,
            "width": null,
            "min_width": null,
            "border": null,
            "align_items": null,
            "bottom": null,
            "_model_module": "@jupyter-widgets/base",
            "top": null,
            "grid_column": null,
            "overflow_y": null,
            "overflow_x": null,
            "grid_auto_flow": null,
            "grid_area": null,
            "grid_template_columns": null,
            "flex": null,
            "_model_name": "LayoutModel",
            "justify_items": null,
            "grid_row": null,
            "max_height": null,
            "align_content": null,
            "visibility": null,
            "align_self": null,
            "height": null,
            "min_height": null,
            "padding": null,
            "grid_auto_rows": null,
            "grid_gap": null,
            "max_width": null,
            "order": null,
            "_view_module_version": "1.2.0",
            "grid_template_areas": null,
            "object_position": null,
            "object_fit": null,
            "grid_auto_columns": null,
            "margin": null,
            "display": null,
            "left": null
          }
        },
        "477cd424a28b40bf87b68e1b15bfec0e": {
          "model_module": "@jupyter-widgets/controls",
          "model_name": "HBoxModel",
          "state": {
            "_view_name": "HBoxView",
            "_dom_classes": [],
            "_model_name": "HBoxModel",
            "_view_module": "@jupyter-widgets/controls",
            "_model_module_version": "1.5.0",
            "_view_count": null,
            "_view_module_version": "1.5.0",
            "box_style": "",
            "layout": "IPY_MODEL_e24977a3d6e84ed3a3e4bab2075f661e",
            "_model_module": "@jupyter-widgets/controls",
            "children": [
              "IPY_MODEL_927b3e06203f41f396b60397da2c383f",
              "IPY_MODEL_4bc41b6c59f3432fa7a5a6413c041862"
            ]
          }
        },
        "e24977a3d6e84ed3a3e4bab2075f661e": {
          "model_module": "@jupyter-widgets/base",
          "model_name": "LayoutModel",
          "state": {
            "_view_name": "LayoutView",
            "grid_template_rows": null,
            "right": null,
            "justify_content": null,
            "_view_module": "@jupyter-widgets/base",
            "overflow": null,
            "_model_module_version": "1.2.0",
            "_view_count": null,
            "flex_flow": null,
            "width": null,
            "min_width": null,
            "border": null,
            "align_items": null,
            "bottom": null,
            "_model_module": "@jupyter-widgets/base",
            "top": null,
            "grid_column": null,
            "overflow_y": null,
            "overflow_x": null,
            "grid_auto_flow": null,
            "grid_area": null,
            "grid_template_columns": null,
            "flex": null,
            "_model_name": "LayoutModel",
            "justify_items": null,
            "grid_row": null,
            "max_height": null,
            "align_content": null,
            "visibility": null,
            "align_self": null,
            "height": null,
            "min_height": null,
            "padding": null,
            "grid_auto_rows": null,
            "grid_gap": null,
            "max_width": null,
            "order": null,
            "_view_module_version": "1.2.0",
            "grid_template_areas": null,
            "object_position": null,
            "object_fit": null,
            "grid_auto_columns": null,
            "margin": null,
            "display": null,
            "left": null
          }
        },
        "927b3e06203f41f396b60397da2c383f": {
          "model_module": "@jupyter-widgets/controls",
          "model_name": "FloatProgressModel",
          "state": {
            "_view_name": "ProgressView",
            "style": "IPY_MODEL_cb8dce7753ee4b0999c93779b6eeafc7",
            "_dom_classes": [],
            "description": "",
            "_model_name": "FloatProgressModel",
            "bar_style": "success",
            "max": 1,
            "_view_module": "@jupyter-widgets/controls",
            "_model_module_version": "1.5.0",
            "value": 1,
            "_view_count": null,
            "_view_module_version": "1.5.0",
            "orientation": "horizontal",
            "min": 0,
            "description_tooltip": null,
            "_model_module": "@jupyter-widgets/controls",
            "layout": "IPY_MODEL_f1d303adcc4c482bb374da5c5b2a0051"
          }
        },
        "4bc41b6c59f3432fa7a5a6413c041862": {
          "model_module": "@jupyter-widgets/controls",
          "model_name": "HTMLModel",
          "state": {
            "_view_name": "HTMLView",
            "style": "IPY_MODEL_68047b536912487e99e46e201175be70",
            "_dom_classes": [],
            "description": "",
            "_model_name": "HTMLModel",
            "placeholder": "​",
            "_view_module": "@jupyter-widgets/controls",
            "_model_module_version": "1.5.0",
            "value": " 5315/? [00:48&lt;00:00, 109.72it/s]",
            "_view_count": null,
            "_view_module_version": "1.5.0",
            "description_tooltip": null,
            "_model_module": "@jupyter-widgets/controls",
            "layout": "IPY_MODEL_1339d66e99f442beb796cbf05180e516"
          }
        },
        "cb8dce7753ee4b0999c93779b6eeafc7": {
          "model_module": "@jupyter-widgets/controls",
          "model_name": "ProgressStyleModel",
          "state": {
            "_view_name": "StyleView",
            "_model_name": "ProgressStyleModel",
            "description_width": "initial",
            "_view_module": "@jupyter-widgets/base",
            "_model_module_version": "1.5.0",
            "_view_count": null,
            "_view_module_version": "1.2.0",
            "bar_color": null,
            "_model_module": "@jupyter-widgets/controls"
          }
        },
        "f1d303adcc4c482bb374da5c5b2a0051": {
          "model_module": "@jupyter-widgets/base",
          "model_name": "LayoutModel",
          "state": {
            "_view_name": "LayoutView",
            "grid_template_rows": null,
            "right": null,
            "justify_content": null,
            "_view_module": "@jupyter-widgets/base",
            "overflow": null,
            "_model_module_version": "1.2.0",
            "_view_count": null,
            "flex_flow": null,
            "width": null,
            "min_width": null,
            "border": null,
            "align_items": null,
            "bottom": null,
            "_model_module": "@jupyter-widgets/base",
            "top": null,
            "grid_column": null,
            "overflow_y": null,
            "overflow_x": null,
            "grid_auto_flow": null,
            "grid_area": null,
            "grid_template_columns": null,
            "flex": null,
            "_model_name": "LayoutModel",
            "justify_items": null,
            "grid_row": null,
            "max_height": null,
            "align_content": null,
            "visibility": null,
            "align_self": null,
            "height": null,
            "min_height": null,
            "padding": null,
            "grid_auto_rows": null,
            "grid_gap": null,
            "max_width": null,
            "order": null,
            "_view_module_version": "1.2.0",
            "grid_template_areas": null,
            "object_position": null,
            "object_fit": null,
            "grid_auto_columns": null,
            "margin": null,
            "display": null,
            "left": null
          }
        },
        "68047b536912487e99e46e201175be70": {
          "model_module": "@jupyter-widgets/controls",
          "model_name": "DescriptionStyleModel",
          "state": {
            "_view_name": "StyleView",
            "_model_name": "DescriptionStyleModel",
            "description_width": "",
            "_view_module": "@jupyter-widgets/base",
            "_model_module_version": "1.5.0",
            "_view_count": null,
            "_view_module_version": "1.2.0",
            "_model_module": "@jupyter-widgets/controls"
          }
        },
        "1339d66e99f442beb796cbf05180e516": {
          "model_module": "@jupyter-widgets/base",
          "model_name": "LayoutModel",
          "state": {
            "_view_name": "LayoutView",
            "grid_template_rows": null,
            "right": null,
            "justify_content": null,
            "_view_module": "@jupyter-widgets/base",
            "overflow": null,
            "_model_module_version": "1.2.0",
            "_view_count": null,
            "flex_flow": null,
            "width": null,
            "min_width": null,
            "border": null,
            "align_items": null,
            "bottom": null,
            "_model_module": "@jupyter-widgets/base",
            "top": null,
            "grid_column": null,
            "overflow_y": null,
            "overflow_x": null,
            "grid_auto_flow": null,
            "grid_area": null,
            "grid_template_columns": null,
            "flex": null,
            "_model_name": "LayoutModel",
            "justify_items": null,
            "grid_row": null,
            "max_height": null,
            "align_content": null,
            "visibility": null,
            "align_self": null,
            "height": null,
            "min_height": null,
            "padding": null,
            "grid_auto_rows": null,
            "grid_gap": null,
            "max_width": null,
            "order": null,
            "_view_module_version": "1.2.0",
            "grid_template_areas": null,
            "object_position": null,
            "object_fit": null,
            "grid_auto_columns": null,
            "margin": null,
            "display": null,
            "left": null
          }
        },
        "0450cdb2350f4d4ea48ffaf60309c2e9": {
          "model_module": "@jupyter-widgets/controls",
          "model_name": "HBoxModel",
          "state": {
            "_view_name": "HBoxView",
            "_dom_classes": [],
            "_model_name": "HBoxModel",
            "_view_module": "@jupyter-widgets/controls",
            "_model_module_version": "1.5.0",
            "_view_count": null,
            "_view_module_version": "1.5.0",
            "box_style": "",
            "layout": "IPY_MODEL_f7a8750c54bb47ae90583e00f23c63c5",
            "_model_module": "@jupyter-widgets/controls",
            "children": [
              "IPY_MODEL_803b60c388a7441c9c45dc39cfa21780",
              "IPY_MODEL_e1e71042a9984759a5b5297f42c5e535"
            ]
          }
        },
        "f7a8750c54bb47ae90583e00f23c63c5": {
          "model_module": "@jupyter-widgets/base",
          "model_name": "LayoutModel",
          "state": {
            "_view_name": "LayoutView",
            "grid_template_rows": null,
            "right": null,
            "justify_content": null,
            "_view_module": "@jupyter-widgets/base",
            "overflow": null,
            "_model_module_version": "1.2.0",
            "_view_count": null,
            "flex_flow": null,
            "width": null,
            "min_width": null,
            "border": null,
            "align_items": null,
            "bottom": null,
            "_model_module": "@jupyter-widgets/base",
            "top": null,
            "grid_column": null,
            "overflow_y": null,
            "overflow_x": null,
            "grid_auto_flow": null,
            "grid_area": null,
            "grid_template_columns": null,
            "flex": null,
            "_model_name": "LayoutModel",
            "justify_items": null,
            "grid_row": null,
            "max_height": null,
            "align_content": null,
            "visibility": null,
            "align_self": null,
            "height": null,
            "min_height": null,
            "padding": null,
            "grid_auto_rows": null,
            "grid_gap": null,
            "max_width": null,
            "order": null,
            "_view_module_version": "1.2.0",
            "grid_template_areas": null,
            "object_position": null,
            "object_fit": null,
            "grid_auto_columns": null,
            "margin": null,
            "display": null,
            "left": null
          }
        },
        "803b60c388a7441c9c45dc39cfa21780": {
          "model_module": "@jupyter-widgets/controls",
          "model_name": "FloatProgressModel",
          "state": {
            "_view_name": "ProgressView",
            "style": "IPY_MODEL_f798fba20fcc498cbf38038aa91609f8",
            "_dom_classes": [],
            "description": "",
            "_model_name": "FloatProgressModel",
            "bar_style": "success",
            "max": 1,
            "_view_module": "@jupyter-widgets/controls",
            "_model_module_version": "1.5.0",
            "value": 1,
            "_view_count": null,
            "_view_module_version": "1.5.0",
            "orientation": "horizontal",
            "min": 0,
            "description_tooltip": null,
            "_model_module": "@jupyter-widgets/controls",
            "layout": "IPY_MODEL_20d92e0892fa4f07af54e5611108d3e9"
          }
        },
        "e1e71042a9984759a5b5297f42c5e535": {
          "model_module": "@jupyter-widgets/controls",
          "model_name": "HTMLModel",
          "state": {
            "_view_name": "HTMLView",
            "style": "IPY_MODEL_ec08ddf75dad4ed0838d8cc2d095324c",
            "_dom_classes": [],
            "description": "",
            "_model_name": "HTMLModel",
            "placeholder": "​",
            "_view_module": "@jupyter-widgets/controls",
            "_model_module_version": "1.5.0",
            "value": " 8129/? [00:36&lt;00:00, 222.04it/s]",
            "_view_count": null,
            "_view_module_version": "1.5.0",
            "description_tooltip": null,
            "_model_module": "@jupyter-widgets/controls",
            "layout": "IPY_MODEL_5b05122341764ce180f197c3f4907242"
          }
        },
        "f798fba20fcc498cbf38038aa91609f8": {
          "model_module": "@jupyter-widgets/controls",
          "model_name": "ProgressStyleModel",
          "state": {
            "_view_name": "StyleView",
            "_model_name": "ProgressStyleModel",
            "description_width": "initial",
            "_view_module": "@jupyter-widgets/base",
            "_model_module_version": "1.5.0",
            "_view_count": null,
            "_view_module_version": "1.2.0",
            "bar_color": null,
            "_model_module": "@jupyter-widgets/controls"
          }
        },
        "20d92e0892fa4f07af54e5611108d3e9": {
          "model_module": "@jupyter-widgets/base",
          "model_name": "LayoutModel",
          "state": {
            "_view_name": "LayoutView",
            "grid_template_rows": null,
            "right": null,
            "justify_content": null,
            "_view_module": "@jupyter-widgets/base",
            "overflow": null,
            "_model_module_version": "1.2.0",
            "_view_count": null,
            "flex_flow": null,
            "width": null,
            "min_width": null,
            "border": null,
            "align_items": null,
            "bottom": null,
            "_model_module": "@jupyter-widgets/base",
            "top": null,
            "grid_column": null,
            "overflow_y": null,
            "overflow_x": null,
            "grid_auto_flow": null,
            "grid_area": null,
            "grid_template_columns": null,
            "flex": null,
            "_model_name": "LayoutModel",
            "justify_items": null,
            "grid_row": null,
            "max_height": null,
            "align_content": null,
            "visibility": null,
            "align_self": null,
            "height": null,
            "min_height": null,
            "padding": null,
            "grid_auto_rows": null,
            "grid_gap": null,
            "max_width": null,
            "order": null,
            "_view_module_version": "1.2.0",
            "grid_template_areas": null,
            "object_position": null,
            "object_fit": null,
            "grid_auto_columns": null,
            "margin": null,
            "display": null,
            "left": null
          }
        },
        "ec08ddf75dad4ed0838d8cc2d095324c": {
          "model_module": "@jupyter-widgets/controls",
          "model_name": "DescriptionStyleModel",
          "state": {
            "_view_name": "StyleView",
            "_model_name": "DescriptionStyleModel",
            "description_width": "",
            "_view_module": "@jupyter-widgets/base",
            "_model_module_version": "1.5.0",
            "_view_count": null,
            "_view_module_version": "1.2.0",
            "_model_module": "@jupyter-widgets/controls"
          }
        },
        "5b05122341764ce180f197c3f4907242": {
          "model_module": "@jupyter-widgets/base",
          "model_name": "LayoutModel",
          "state": {
            "_view_name": "LayoutView",
            "grid_template_rows": null,
            "right": null,
            "justify_content": null,
            "_view_module": "@jupyter-widgets/base",
            "overflow": null,
            "_model_module_version": "1.2.0",
            "_view_count": null,
            "flex_flow": null,
            "width": null,
            "min_width": null,
            "border": null,
            "align_items": null,
            "bottom": null,
            "_model_module": "@jupyter-widgets/base",
            "top": null,
            "grid_column": null,
            "overflow_y": null,
            "overflow_x": null,
            "grid_auto_flow": null,
            "grid_area": null,
            "grid_template_columns": null,
            "flex": null,
            "_model_name": "LayoutModel",
            "justify_items": null,
            "grid_row": null,
            "max_height": null,
            "align_content": null,
            "visibility": null,
            "align_self": null,
            "height": null,
            "min_height": null,
            "padding": null,
            "grid_auto_rows": null,
            "grid_gap": null,
            "max_width": null,
            "order": null,
            "_view_module_version": "1.2.0",
            "grid_template_areas": null,
            "object_position": null,
            "object_fit": null,
            "grid_auto_columns": null,
            "margin": null,
            "display": null,
            "left": null
          }
        },
        "5b5b0509965d4ba18c89a25fc3754469": {
          "model_module": "@jupyter-widgets/controls",
          "model_name": "HBoxModel",
          "state": {
            "_view_name": "HBoxView",
            "_dom_classes": [],
            "_model_name": "HBoxModel",
            "_view_module": "@jupyter-widgets/controls",
            "_model_module_version": "1.5.0",
            "_view_count": null,
            "_view_module_version": "1.5.0",
            "box_style": "",
            "layout": "IPY_MODEL_c48b29b969d24c7eaa6d6b001ef3aeb1",
            "_model_module": "@jupyter-widgets/controls",
            "children": [
              "IPY_MODEL_357e7e2bf49342838805c1ffac45fa93",
              "IPY_MODEL_ff0e7b2936794bd793d4778cd61d41e6"
            ]
          }
        },
        "c48b29b969d24c7eaa6d6b001ef3aeb1": {
          "model_module": "@jupyter-widgets/base",
          "model_name": "LayoutModel",
          "state": {
            "_view_name": "LayoutView",
            "grid_template_rows": null,
            "right": null,
            "justify_content": null,
            "_view_module": "@jupyter-widgets/base",
            "overflow": null,
            "_model_module_version": "1.2.0",
            "_view_count": null,
            "flex_flow": null,
            "width": null,
            "min_width": null,
            "border": null,
            "align_items": null,
            "bottom": null,
            "_model_module": "@jupyter-widgets/base",
            "top": null,
            "grid_column": null,
            "overflow_y": null,
            "overflow_x": null,
            "grid_auto_flow": null,
            "grid_area": null,
            "grid_template_columns": null,
            "flex": null,
            "_model_name": "LayoutModel",
            "justify_items": null,
            "grid_row": null,
            "max_height": null,
            "align_content": null,
            "visibility": null,
            "align_self": null,
            "height": null,
            "min_height": null,
            "padding": null,
            "grid_auto_rows": null,
            "grid_gap": null,
            "max_width": null,
            "order": null,
            "_view_module_version": "1.2.0",
            "grid_template_areas": null,
            "object_position": null,
            "object_fit": null,
            "grid_auto_columns": null,
            "margin": null,
            "display": null,
            "left": null
          }
        },
        "357e7e2bf49342838805c1ffac45fa93": {
          "model_module": "@jupyter-widgets/controls",
          "model_name": "FloatProgressModel",
          "state": {
            "_view_name": "ProgressView",
            "style": "IPY_MODEL_5aa0971493f742aabb707ae20d0de80d",
            "_dom_classes": [],
            "description": "",
            "_model_name": "FloatProgressModel",
            "bar_style": "success",
            "max": 1,
            "_view_module": "@jupyter-widgets/controls",
            "_model_module_version": "1.5.0",
            "value": 1,
            "_view_count": null,
            "_view_module_version": "1.5.0",
            "orientation": "horizontal",
            "min": 0,
            "description_tooltip": null,
            "_model_module": "@jupyter-widgets/controls",
            "layout": "IPY_MODEL_12a1ab694181403eb114c815b1fd7772"
          }
        },
        "ff0e7b2936794bd793d4778cd61d41e6": {
          "model_module": "@jupyter-widgets/controls",
          "model_name": "HTMLModel",
          "state": {
            "_view_name": "HTMLView",
            "style": "IPY_MODEL_82db23e16fc34f2a987d1bd0bab1a13c",
            "_dom_classes": [],
            "description": "",
            "_model_name": "HTMLModel",
            "placeholder": "​",
            "_view_module": "@jupyter-widgets/controls",
            "_model_module_version": "1.5.0",
            "value": " 8128/? [00:36&lt;00:00, 222.63it/s]",
            "_view_count": null,
            "_view_module_version": "1.5.0",
            "description_tooltip": null,
            "_model_module": "@jupyter-widgets/controls",
            "layout": "IPY_MODEL_c1f4ab3d82c745999d2a0042c2a61143"
          }
        },
        "5aa0971493f742aabb707ae20d0de80d": {
          "model_module": "@jupyter-widgets/controls",
          "model_name": "ProgressStyleModel",
          "state": {
            "_view_name": "StyleView",
            "_model_name": "ProgressStyleModel",
            "description_width": "initial",
            "_view_module": "@jupyter-widgets/base",
            "_model_module_version": "1.5.0",
            "_view_count": null,
            "_view_module_version": "1.2.0",
            "bar_color": null,
            "_model_module": "@jupyter-widgets/controls"
          }
        },
        "12a1ab694181403eb114c815b1fd7772": {
          "model_module": "@jupyter-widgets/base",
          "model_name": "LayoutModel",
          "state": {
            "_view_name": "LayoutView",
            "grid_template_rows": null,
            "right": null,
            "justify_content": null,
            "_view_module": "@jupyter-widgets/base",
            "overflow": null,
            "_model_module_version": "1.2.0",
            "_view_count": null,
            "flex_flow": null,
            "width": null,
            "min_width": null,
            "border": null,
            "align_items": null,
            "bottom": null,
            "_model_module": "@jupyter-widgets/base",
            "top": null,
            "grid_column": null,
            "overflow_y": null,
            "overflow_x": null,
            "grid_auto_flow": null,
            "grid_area": null,
            "grid_template_columns": null,
            "flex": null,
            "_model_name": "LayoutModel",
            "justify_items": null,
            "grid_row": null,
            "max_height": null,
            "align_content": null,
            "visibility": null,
            "align_self": null,
            "height": null,
            "min_height": null,
            "padding": null,
            "grid_auto_rows": null,
            "grid_gap": null,
            "max_width": null,
            "order": null,
            "_view_module_version": "1.2.0",
            "grid_template_areas": null,
            "object_position": null,
            "object_fit": null,
            "grid_auto_columns": null,
            "margin": null,
            "display": null,
            "left": null
          }
        },
        "82db23e16fc34f2a987d1bd0bab1a13c": {
          "model_module": "@jupyter-widgets/controls",
          "model_name": "DescriptionStyleModel",
          "state": {
            "_view_name": "StyleView",
            "_model_name": "DescriptionStyleModel",
            "description_width": "",
            "_view_module": "@jupyter-widgets/base",
            "_model_module_version": "1.5.0",
            "_view_count": null,
            "_view_module_version": "1.2.0",
            "_model_module": "@jupyter-widgets/controls"
          }
        },
        "c1f4ab3d82c745999d2a0042c2a61143": {
          "model_module": "@jupyter-widgets/base",
          "model_name": "LayoutModel",
          "state": {
            "_view_name": "LayoutView",
            "grid_template_rows": null,
            "right": null,
            "justify_content": null,
            "_view_module": "@jupyter-widgets/base",
            "overflow": null,
            "_model_module_version": "1.2.0",
            "_view_count": null,
            "flex_flow": null,
            "width": null,
            "min_width": null,
            "border": null,
            "align_items": null,
            "bottom": null,
            "_model_module": "@jupyter-widgets/base",
            "top": null,
            "grid_column": null,
            "overflow_y": null,
            "overflow_x": null,
            "grid_auto_flow": null,
            "grid_area": null,
            "grid_template_columns": null,
            "flex": null,
            "_model_name": "LayoutModel",
            "justify_items": null,
            "grid_row": null,
            "max_height": null,
            "align_content": null,
            "visibility": null,
            "align_self": null,
            "height": null,
            "min_height": null,
            "padding": null,
            "grid_auto_rows": null,
            "grid_gap": null,
            "max_width": null,
            "order": null,
            "_view_module_version": "1.2.0",
            "grid_template_areas": null,
            "object_position": null,
            "object_fit": null,
            "grid_auto_columns": null,
            "margin": null,
            "display": null,
            "left": null
          }
        },
        "4a6fa1a664bf4ade8babce7c64673617": {
          "model_module": "@jupyter-widgets/controls",
          "model_name": "HBoxModel",
          "state": {
            "_view_name": "HBoxView",
            "_dom_classes": [],
            "_model_name": "HBoxModel",
            "_view_module": "@jupyter-widgets/controls",
            "_model_module_version": "1.5.0",
            "_view_count": null,
            "_view_module_version": "1.5.0",
            "box_style": "",
            "layout": "IPY_MODEL_8a0bbe9fa9fd4a10a92546ab06b72f67",
            "_model_module": "@jupyter-widgets/controls",
            "children": [
              "IPY_MODEL_f1ee50b595ff42cc8ec156b77d733f74",
              "IPY_MODEL_95a05a17f2e6427c9372a9ecc72f9e9b"
            ]
          }
        },
        "8a0bbe9fa9fd4a10a92546ab06b72f67": {
          "model_module": "@jupyter-widgets/base",
          "model_name": "LayoutModel",
          "state": {
            "_view_name": "LayoutView",
            "grid_template_rows": null,
            "right": null,
            "justify_content": null,
            "_view_module": "@jupyter-widgets/base",
            "overflow": null,
            "_model_module_version": "1.2.0",
            "_view_count": null,
            "flex_flow": null,
            "width": null,
            "min_width": null,
            "border": null,
            "align_items": null,
            "bottom": null,
            "_model_module": "@jupyter-widgets/base",
            "top": null,
            "grid_column": null,
            "overflow_y": null,
            "overflow_x": null,
            "grid_auto_flow": null,
            "grid_area": null,
            "grid_template_columns": null,
            "flex": null,
            "_model_name": "LayoutModel",
            "justify_items": null,
            "grid_row": null,
            "max_height": null,
            "align_content": null,
            "visibility": null,
            "align_self": null,
            "height": null,
            "min_height": null,
            "padding": null,
            "grid_auto_rows": null,
            "grid_gap": null,
            "max_width": null,
            "order": null,
            "_view_module_version": "1.2.0",
            "grid_template_areas": null,
            "object_position": null,
            "object_fit": null,
            "grid_auto_columns": null,
            "margin": null,
            "display": null,
            "left": null
          }
        },
        "f1ee50b595ff42cc8ec156b77d733f74": {
          "model_module": "@jupyter-widgets/controls",
          "model_name": "FloatProgressModel",
          "state": {
            "_view_name": "ProgressView",
            "style": "IPY_MODEL_06dee8b307404e91ba2f467233994582",
            "_dom_classes": [],
            "description": "",
            "_model_name": "FloatProgressModel",
            "bar_style": "success",
            "max": 1,
            "_view_module": "@jupyter-widgets/controls",
            "_model_module_version": "1.5.0",
            "value": 1,
            "_view_count": null,
            "_view_module_version": "1.5.0",
            "orientation": "horizontal",
            "min": 0,
            "description_tooltip": null,
            "_model_module": "@jupyter-widgets/controls",
            "layout": "IPY_MODEL_f021f521077e44ba8e70bbf35ef20910"
          }
        },
        "95a05a17f2e6427c9372a9ecc72f9e9b": {
          "model_module": "@jupyter-widgets/controls",
          "model_name": "HTMLModel",
          "state": {
            "_view_name": "HTMLView",
            "style": "IPY_MODEL_e1c5e435df5844999c38569b48e28053",
            "_dom_classes": [],
            "description": "",
            "_model_name": "HTMLModel",
            "placeholder": "​",
            "_view_module": "@jupyter-widgets/controls",
            "_model_module_version": "1.5.0",
            "value": " 8128/? [00:18&lt;00:00, 437.94it/s]",
            "_view_count": null,
            "_view_module_version": "1.5.0",
            "description_tooltip": null,
            "_model_module": "@jupyter-widgets/controls",
            "layout": "IPY_MODEL_c5542c2d114447bda19a65021970ae7b"
          }
        },
        "06dee8b307404e91ba2f467233994582": {
          "model_module": "@jupyter-widgets/controls",
          "model_name": "ProgressStyleModel",
          "state": {
            "_view_name": "StyleView",
            "_model_name": "ProgressStyleModel",
            "description_width": "initial",
            "_view_module": "@jupyter-widgets/base",
            "_model_module_version": "1.5.0",
            "_view_count": null,
            "_view_module_version": "1.2.0",
            "bar_color": null,
            "_model_module": "@jupyter-widgets/controls"
          }
        },
        "f021f521077e44ba8e70bbf35ef20910": {
          "model_module": "@jupyter-widgets/base",
          "model_name": "LayoutModel",
          "state": {
            "_view_name": "LayoutView",
            "grid_template_rows": null,
            "right": null,
            "justify_content": null,
            "_view_module": "@jupyter-widgets/base",
            "overflow": null,
            "_model_module_version": "1.2.0",
            "_view_count": null,
            "flex_flow": null,
            "width": null,
            "min_width": null,
            "border": null,
            "align_items": null,
            "bottom": null,
            "_model_module": "@jupyter-widgets/base",
            "top": null,
            "grid_column": null,
            "overflow_y": null,
            "overflow_x": null,
            "grid_auto_flow": null,
            "grid_area": null,
            "grid_template_columns": null,
            "flex": null,
            "_model_name": "LayoutModel",
            "justify_items": null,
            "grid_row": null,
            "max_height": null,
            "align_content": null,
            "visibility": null,
            "align_self": null,
            "height": null,
            "min_height": null,
            "padding": null,
            "grid_auto_rows": null,
            "grid_gap": null,
            "max_width": null,
            "order": null,
            "_view_module_version": "1.2.0",
            "grid_template_areas": null,
            "object_position": null,
            "object_fit": null,
            "grid_auto_columns": null,
            "margin": null,
            "display": null,
            "left": null
          }
        },
        "e1c5e435df5844999c38569b48e28053": {
          "model_module": "@jupyter-widgets/controls",
          "model_name": "DescriptionStyleModel",
          "state": {
            "_view_name": "StyleView",
            "_model_name": "DescriptionStyleModel",
            "description_width": "",
            "_view_module": "@jupyter-widgets/base",
            "_model_module_version": "1.5.0",
            "_view_count": null,
            "_view_module_version": "1.2.0",
            "_model_module": "@jupyter-widgets/controls"
          }
        },
        "c5542c2d114447bda19a65021970ae7b": {
          "model_module": "@jupyter-widgets/base",
          "model_name": "LayoutModel",
          "state": {
            "_view_name": "LayoutView",
            "grid_template_rows": null,
            "right": null,
            "justify_content": null,
            "_view_module": "@jupyter-widgets/base",
            "overflow": null,
            "_model_module_version": "1.2.0",
            "_view_count": null,
            "flex_flow": null,
            "width": null,
            "min_width": null,
            "border": null,
            "align_items": null,
            "bottom": null,
            "_model_module": "@jupyter-widgets/base",
            "top": null,
            "grid_column": null,
            "overflow_y": null,
            "overflow_x": null,
            "grid_auto_flow": null,
            "grid_area": null,
            "grid_template_columns": null,
            "flex": null,
            "_model_name": "LayoutModel",
            "justify_items": null,
            "grid_row": null,
            "max_height": null,
            "align_content": null,
            "visibility": null,
            "align_self": null,
            "height": null,
            "min_height": null,
            "padding": null,
            "grid_auto_rows": null,
            "grid_gap": null,
            "max_width": null,
            "order": null,
            "_view_module_version": "1.2.0",
            "grid_template_areas": null,
            "object_position": null,
            "object_fit": null,
            "grid_auto_columns": null,
            "margin": null,
            "display": null,
            "left": null
          }
        },
        "0fa9727515cf4b56bc0004444dc3cd3e": {
          "model_module": "@jupyter-widgets/controls",
          "model_name": "HBoxModel",
          "state": {
            "_view_name": "HBoxView",
            "_dom_classes": [],
            "_model_name": "HBoxModel",
            "_view_module": "@jupyter-widgets/controls",
            "_model_module_version": "1.5.0",
            "_view_count": null,
            "_view_module_version": "1.5.0",
            "box_style": "",
            "layout": "IPY_MODEL_4d43d1896f58495a96e30282e66c23b8",
            "_model_module": "@jupyter-widgets/controls",
            "children": [
              "IPY_MODEL_00436a89943f4aa88e37cbcb5d2a8872",
              "IPY_MODEL_60cfa3b27b13478c80cad76400e0e13b"
            ]
          }
        },
        "4d43d1896f58495a96e30282e66c23b8": {
          "model_module": "@jupyter-widgets/base",
          "model_name": "LayoutModel",
          "state": {
            "_view_name": "LayoutView",
            "grid_template_rows": null,
            "right": null,
            "justify_content": null,
            "_view_module": "@jupyter-widgets/base",
            "overflow": null,
            "_model_module_version": "1.2.0",
            "_view_count": null,
            "flex_flow": null,
            "width": null,
            "min_width": null,
            "border": null,
            "align_items": null,
            "bottom": null,
            "_model_module": "@jupyter-widgets/base",
            "top": null,
            "grid_column": null,
            "overflow_y": null,
            "overflow_x": null,
            "grid_auto_flow": null,
            "grid_area": null,
            "grid_template_columns": null,
            "flex": null,
            "_model_name": "LayoutModel",
            "justify_items": null,
            "grid_row": null,
            "max_height": null,
            "align_content": null,
            "visibility": null,
            "align_self": null,
            "height": null,
            "min_height": null,
            "padding": null,
            "grid_auto_rows": null,
            "grid_gap": null,
            "max_width": null,
            "order": null,
            "_view_module_version": "1.2.0",
            "grid_template_areas": null,
            "object_position": null,
            "object_fit": null,
            "grid_auto_columns": null,
            "margin": null,
            "display": null,
            "left": null
          }
        },
        "00436a89943f4aa88e37cbcb5d2a8872": {
          "model_module": "@jupyter-widgets/controls",
          "model_name": "FloatProgressModel",
          "state": {
            "_view_name": "ProgressView",
            "style": "IPY_MODEL_bc54f29f916c4449bec3274cfa554b4b",
            "_dom_classes": [],
            "description": "",
            "_model_name": "FloatProgressModel",
            "bar_style": "success",
            "max": 1,
            "_view_module": "@jupyter-widgets/controls",
            "_model_module_version": "1.5.0",
            "value": 1,
            "_view_count": null,
            "_view_module_version": "1.5.0",
            "orientation": "horizontal",
            "min": 0,
            "description_tooltip": null,
            "_model_module": "@jupyter-widgets/controls",
            "layout": "IPY_MODEL_e117340f29494dda80cbe9532ac97f92"
          }
        },
        "60cfa3b27b13478c80cad76400e0e13b": {
          "model_module": "@jupyter-widgets/controls",
          "model_name": "HTMLModel",
          "state": {
            "_view_name": "HTMLView",
            "style": "IPY_MODEL_ce83fd3949a84e5c962cd1907c8756b7",
            "_dom_classes": [],
            "description": "",
            "_model_name": "HTMLModel",
            "placeholder": "​",
            "_view_module": "@jupyter-widgets/controls",
            "_model_module_version": "1.5.0",
            "value": " 8128/? [02:21&lt;00:00, 57.31it/s]",
            "_view_count": null,
            "_view_module_version": "1.5.0",
            "description_tooltip": null,
            "_model_module": "@jupyter-widgets/controls",
            "layout": "IPY_MODEL_e5d1199cad0a4d718b5f70b3260ad05c"
          }
        },
        "bc54f29f916c4449bec3274cfa554b4b": {
          "model_module": "@jupyter-widgets/controls",
          "model_name": "ProgressStyleModel",
          "state": {
            "_view_name": "StyleView",
            "_model_name": "ProgressStyleModel",
            "description_width": "initial",
            "_view_module": "@jupyter-widgets/base",
            "_model_module_version": "1.5.0",
            "_view_count": null,
            "_view_module_version": "1.2.0",
            "bar_color": null,
            "_model_module": "@jupyter-widgets/controls"
          }
        },
        "e117340f29494dda80cbe9532ac97f92": {
          "model_module": "@jupyter-widgets/base",
          "model_name": "LayoutModel",
          "state": {
            "_view_name": "LayoutView",
            "grid_template_rows": null,
            "right": null,
            "justify_content": null,
            "_view_module": "@jupyter-widgets/base",
            "overflow": null,
            "_model_module_version": "1.2.0",
            "_view_count": null,
            "flex_flow": null,
            "width": null,
            "min_width": null,
            "border": null,
            "align_items": null,
            "bottom": null,
            "_model_module": "@jupyter-widgets/base",
            "top": null,
            "grid_column": null,
            "overflow_y": null,
            "overflow_x": null,
            "grid_auto_flow": null,
            "grid_area": null,
            "grid_template_columns": null,
            "flex": null,
            "_model_name": "LayoutModel",
            "justify_items": null,
            "grid_row": null,
            "max_height": null,
            "align_content": null,
            "visibility": null,
            "align_self": null,
            "height": null,
            "min_height": null,
            "padding": null,
            "grid_auto_rows": null,
            "grid_gap": null,
            "max_width": null,
            "order": null,
            "_view_module_version": "1.2.0",
            "grid_template_areas": null,
            "object_position": null,
            "object_fit": null,
            "grid_auto_columns": null,
            "margin": null,
            "display": null,
            "left": null
          }
        },
        "ce83fd3949a84e5c962cd1907c8756b7": {
          "model_module": "@jupyter-widgets/controls",
          "model_name": "DescriptionStyleModel",
          "state": {
            "_view_name": "StyleView",
            "_model_name": "DescriptionStyleModel",
            "description_width": "",
            "_view_module": "@jupyter-widgets/base",
            "_model_module_version": "1.5.0",
            "_view_count": null,
            "_view_module_version": "1.2.0",
            "_model_module": "@jupyter-widgets/controls"
          }
        },
        "e5d1199cad0a4d718b5f70b3260ad05c": {
          "model_module": "@jupyter-widgets/base",
          "model_name": "LayoutModel",
          "state": {
            "_view_name": "LayoutView",
            "grid_template_rows": null,
            "right": null,
            "justify_content": null,
            "_view_module": "@jupyter-widgets/base",
            "overflow": null,
            "_model_module_version": "1.2.0",
            "_view_count": null,
            "flex_flow": null,
            "width": null,
            "min_width": null,
            "border": null,
            "align_items": null,
            "bottom": null,
            "_model_module": "@jupyter-widgets/base",
            "top": null,
            "grid_column": null,
            "overflow_y": null,
            "overflow_x": null,
            "grid_auto_flow": null,
            "grid_area": null,
            "grid_template_columns": null,
            "flex": null,
            "_model_name": "LayoutModel",
            "justify_items": null,
            "grid_row": null,
            "max_height": null,
            "align_content": null,
            "visibility": null,
            "align_self": null,
            "height": null,
            "min_height": null,
            "padding": null,
            "grid_auto_rows": null,
            "grid_gap": null,
            "max_width": null,
            "order": null,
            "_view_module_version": "1.2.0",
            "grid_template_areas": null,
            "object_position": null,
            "object_fit": null,
            "grid_auto_columns": null,
            "margin": null,
            "display": null,
            "left": null
          }
        },
        "e7c13a17dde44ce1b6e646d17dca75b2": {
          "model_module": "@jupyter-widgets/controls",
          "model_name": "HBoxModel",
          "state": {
            "_view_name": "HBoxView",
            "_dom_classes": [],
            "_model_name": "HBoxModel",
            "_view_module": "@jupyter-widgets/controls",
            "_model_module_version": "1.5.0",
            "_view_count": null,
            "_view_module_version": "1.5.0",
            "box_style": "",
            "layout": "IPY_MODEL_ef342e2f8f5245389f6bb6da38858e7d",
            "_model_module": "@jupyter-widgets/controls",
            "children": [
              "IPY_MODEL_de6d7cfac8ce4032bd3c0e8ba976ecd3",
              "IPY_MODEL_c2485c4426ad4775912d61faeeac22be"
            ]
          }
        },
        "ef342e2f8f5245389f6bb6da38858e7d": {
          "model_module": "@jupyter-widgets/base",
          "model_name": "LayoutModel",
          "state": {
            "_view_name": "LayoutView",
            "grid_template_rows": null,
            "right": null,
            "justify_content": null,
            "_view_module": "@jupyter-widgets/base",
            "overflow": null,
            "_model_module_version": "1.2.0",
            "_view_count": null,
            "flex_flow": null,
            "width": null,
            "min_width": null,
            "border": null,
            "align_items": null,
            "bottom": null,
            "_model_module": "@jupyter-widgets/base",
            "top": null,
            "grid_column": null,
            "overflow_y": null,
            "overflow_x": null,
            "grid_auto_flow": null,
            "grid_area": null,
            "grid_template_columns": null,
            "flex": null,
            "_model_name": "LayoutModel",
            "justify_items": null,
            "grid_row": null,
            "max_height": null,
            "align_content": null,
            "visibility": null,
            "align_self": null,
            "height": null,
            "min_height": null,
            "padding": null,
            "grid_auto_rows": null,
            "grid_gap": null,
            "max_width": null,
            "order": null,
            "_view_module_version": "1.2.0",
            "grid_template_areas": null,
            "object_position": null,
            "object_fit": null,
            "grid_auto_columns": null,
            "margin": null,
            "display": null,
            "left": null
          }
        },
        "de6d7cfac8ce4032bd3c0e8ba976ecd3": {
          "model_module": "@jupyter-widgets/controls",
          "model_name": "FloatProgressModel",
          "state": {
            "_view_name": "ProgressView",
            "style": "IPY_MODEL_518fa6c6795f4cd8bb1ed1d38f737099",
            "_dom_classes": [],
            "description": "",
            "_model_name": "FloatProgressModel",
            "bar_style": "success",
            "max": 1,
            "_view_module": "@jupyter-widgets/controls",
            "_model_module_version": "1.5.0",
            "value": 1,
            "_view_count": null,
            "_view_module_version": "1.5.0",
            "orientation": "horizontal",
            "min": 0,
            "description_tooltip": null,
            "_model_module": "@jupyter-widgets/controls",
            "layout": "IPY_MODEL_1032702f762a4be69091e11004a2eb5a"
          }
        },
        "c2485c4426ad4775912d61faeeac22be": {
          "model_module": "@jupyter-widgets/controls",
          "model_name": "HTMLModel",
          "state": {
            "_view_name": "HTMLView",
            "style": "IPY_MODEL_ee1fc5cf6bf24c6e9ba38b2bc472a099",
            "_dom_classes": [],
            "description": "",
            "_model_name": "HTMLModel",
            "placeholder": "​",
            "_view_module": "@jupyter-widgets/controls",
            "_model_module_version": "1.5.0",
            "value": " 20000/? [00:50&lt;00:00, 398.77it/s]",
            "_view_count": null,
            "_view_module_version": "1.5.0",
            "description_tooltip": null,
            "_model_module": "@jupyter-widgets/controls",
            "layout": "IPY_MODEL_2d60ec2510a64972ad32cad2b07a16c2"
          }
        },
        "518fa6c6795f4cd8bb1ed1d38f737099": {
          "model_module": "@jupyter-widgets/controls",
          "model_name": "ProgressStyleModel",
          "state": {
            "_view_name": "StyleView",
            "_model_name": "ProgressStyleModel",
            "description_width": "initial",
            "_view_module": "@jupyter-widgets/base",
            "_model_module_version": "1.5.0",
            "_view_count": null,
            "_view_module_version": "1.2.0",
            "bar_color": null,
            "_model_module": "@jupyter-widgets/controls"
          }
        },
        "1032702f762a4be69091e11004a2eb5a": {
          "model_module": "@jupyter-widgets/base",
          "model_name": "LayoutModel",
          "state": {
            "_view_name": "LayoutView",
            "grid_template_rows": null,
            "right": null,
            "justify_content": null,
            "_view_module": "@jupyter-widgets/base",
            "overflow": null,
            "_model_module_version": "1.2.0",
            "_view_count": null,
            "flex_flow": null,
            "width": null,
            "min_width": null,
            "border": null,
            "align_items": null,
            "bottom": null,
            "_model_module": "@jupyter-widgets/base",
            "top": null,
            "grid_column": null,
            "overflow_y": null,
            "overflow_x": null,
            "grid_auto_flow": null,
            "grid_area": null,
            "grid_template_columns": null,
            "flex": null,
            "_model_name": "LayoutModel",
            "justify_items": null,
            "grid_row": null,
            "max_height": null,
            "align_content": null,
            "visibility": null,
            "align_self": null,
            "height": null,
            "min_height": null,
            "padding": null,
            "grid_auto_rows": null,
            "grid_gap": null,
            "max_width": null,
            "order": null,
            "_view_module_version": "1.2.0",
            "grid_template_areas": null,
            "object_position": null,
            "object_fit": null,
            "grid_auto_columns": null,
            "margin": null,
            "display": null,
            "left": null
          }
        },
        "ee1fc5cf6bf24c6e9ba38b2bc472a099": {
          "model_module": "@jupyter-widgets/controls",
          "model_name": "DescriptionStyleModel",
          "state": {
            "_view_name": "StyleView",
            "_model_name": "DescriptionStyleModel",
            "description_width": "",
            "_view_module": "@jupyter-widgets/base",
            "_model_module_version": "1.5.0",
            "_view_count": null,
            "_view_module_version": "1.2.0",
            "_model_module": "@jupyter-widgets/controls"
          }
        },
        "2d60ec2510a64972ad32cad2b07a16c2": {
          "model_module": "@jupyter-widgets/base",
          "model_name": "LayoutModel",
          "state": {
            "_view_name": "LayoutView",
            "grid_template_rows": null,
            "right": null,
            "justify_content": null,
            "_view_module": "@jupyter-widgets/base",
            "overflow": null,
            "_model_module_version": "1.2.0",
            "_view_count": null,
            "flex_flow": null,
            "width": null,
            "min_width": null,
            "border": null,
            "align_items": null,
            "bottom": null,
            "_model_module": "@jupyter-widgets/base",
            "top": null,
            "grid_column": null,
            "overflow_y": null,
            "overflow_x": null,
            "grid_auto_flow": null,
            "grid_area": null,
            "grid_template_columns": null,
            "flex": null,
            "_model_name": "LayoutModel",
            "justify_items": null,
            "grid_row": null,
            "max_height": null,
            "align_content": null,
            "visibility": null,
            "align_self": null,
            "height": null,
            "min_height": null,
            "padding": null,
            "grid_auto_rows": null,
            "grid_gap": null,
            "max_width": null,
            "order": null,
            "_view_module_version": "1.2.0",
            "grid_template_areas": null,
            "object_position": null,
            "object_fit": null,
            "grid_auto_columns": null,
            "margin": null,
            "display": null,
            "left": null
          }
        },
        "c9c27854e24b407e89fd91ce9026021b": {
          "model_module": "@jupyter-widgets/controls",
          "model_name": "HBoxModel",
          "state": {
            "_view_name": "HBoxView",
            "_dom_classes": [],
            "_model_name": "HBoxModel",
            "_view_module": "@jupyter-widgets/controls",
            "_model_module_version": "1.5.0",
            "_view_count": null,
            "_view_module_version": "1.5.0",
            "box_style": "",
            "layout": "IPY_MODEL_69d4442931ba46739c5a816024b057a3",
            "_model_module": "@jupyter-widgets/controls",
            "children": [
              "IPY_MODEL_4a9c56caf97c4f2893ce23e61fc627bb",
              "IPY_MODEL_d0af4252a5d4467294e3535e005e42a3"
            ]
          }
        },
        "69d4442931ba46739c5a816024b057a3": {
          "model_module": "@jupyter-widgets/base",
          "model_name": "LayoutModel",
          "state": {
            "_view_name": "LayoutView",
            "grid_template_rows": null,
            "right": null,
            "justify_content": null,
            "_view_module": "@jupyter-widgets/base",
            "overflow": null,
            "_model_module_version": "1.2.0",
            "_view_count": null,
            "flex_flow": null,
            "width": null,
            "min_width": null,
            "border": null,
            "align_items": null,
            "bottom": null,
            "_model_module": "@jupyter-widgets/base",
            "top": null,
            "grid_column": null,
            "overflow_y": null,
            "overflow_x": null,
            "grid_auto_flow": null,
            "grid_area": null,
            "grid_template_columns": null,
            "flex": null,
            "_model_name": "LayoutModel",
            "justify_items": null,
            "grid_row": null,
            "max_height": null,
            "align_content": null,
            "visibility": null,
            "align_self": null,
            "height": null,
            "min_height": null,
            "padding": null,
            "grid_auto_rows": null,
            "grid_gap": null,
            "max_width": null,
            "order": null,
            "_view_module_version": "1.2.0",
            "grid_template_areas": null,
            "object_position": null,
            "object_fit": null,
            "grid_auto_columns": null,
            "margin": null,
            "display": null,
            "left": null
          }
        },
        "4a9c56caf97c4f2893ce23e61fc627bb": {
          "model_module": "@jupyter-widgets/controls",
          "model_name": "FloatProgressModel",
          "state": {
            "_view_name": "ProgressView",
            "style": "IPY_MODEL_b4a358a215b64ef1bcf3ad8216a9d89d",
            "_dom_classes": [],
            "description": "",
            "_model_name": "FloatProgressModel",
            "bar_style": "success",
            "max": 1,
            "_view_module": "@jupyter-widgets/controls",
            "_model_module_version": "1.5.0",
            "value": 1,
            "_view_count": null,
            "_view_module_version": "1.5.0",
            "orientation": "horizontal",
            "min": 0,
            "description_tooltip": null,
            "_model_module": "@jupyter-widgets/controls",
            "layout": "IPY_MODEL_33aed5c8738546059a2111790e5e2c92"
          }
        },
        "d0af4252a5d4467294e3535e005e42a3": {
          "model_module": "@jupyter-widgets/controls",
          "model_name": "HTMLModel",
          "state": {
            "_view_name": "HTMLView",
            "style": "IPY_MODEL_92166d9748b542cabba31b37224a3442",
            "_dom_classes": [],
            "description": "",
            "_model_name": "HTMLModel",
            "placeholder": "​",
            "_view_module": "@jupyter-widgets/controls",
            "_model_module_version": "1.5.0",
            "value": " 20000/? [00:49&lt;00:00, 402.42it/s]",
            "_view_count": null,
            "_view_module_version": "1.5.0",
            "description_tooltip": null,
            "_model_module": "@jupyter-widgets/controls",
            "layout": "IPY_MODEL_20888443601e45608fd50df07d892d53"
          }
        },
        "b4a358a215b64ef1bcf3ad8216a9d89d": {
          "model_module": "@jupyter-widgets/controls",
          "model_name": "ProgressStyleModel",
          "state": {
            "_view_name": "StyleView",
            "_model_name": "ProgressStyleModel",
            "description_width": "initial",
            "_view_module": "@jupyter-widgets/base",
            "_model_module_version": "1.5.0",
            "_view_count": null,
            "_view_module_version": "1.2.0",
            "bar_color": null,
            "_model_module": "@jupyter-widgets/controls"
          }
        },
        "33aed5c8738546059a2111790e5e2c92": {
          "model_module": "@jupyter-widgets/base",
          "model_name": "LayoutModel",
          "state": {
            "_view_name": "LayoutView",
            "grid_template_rows": null,
            "right": null,
            "justify_content": null,
            "_view_module": "@jupyter-widgets/base",
            "overflow": null,
            "_model_module_version": "1.2.0",
            "_view_count": null,
            "flex_flow": null,
            "width": null,
            "min_width": null,
            "border": null,
            "align_items": null,
            "bottom": null,
            "_model_module": "@jupyter-widgets/base",
            "top": null,
            "grid_column": null,
            "overflow_y": null,
            "overflow_x": null,
            "grid_auto_flow": null,
            "grid_area": null,
            "grid_template_columns": null,
            "flex": null,
            "_model_name": "LayoutModel",
            "justify_items": null,
            "grid_row": null,
            "max_height": null,
            "align_content": null,
            "visibility": null,
            "align_self": null,
            "height": null,
            "min_height": null,
            "padding": null,
            "grid_auto_rows": null,
            "grid_gap": null,
            "max_width": null,
            "order": null,
            "_view_module_version": "1.2.0",
            "grid_template_areas": null,
            "object_position": null,
            "object_fit": null,
            "grid_auto_columns": null,
            "margin": null,
            "display": null,
            "left": null
          }
        },
        "92166d9748b542cabba31b37224a3442": {
          "model_module": "@jupyter-widgets/controls",
          "model_name": "DescriptionStyleModel",
          "state": {
            "_view_name": "StyleView",
            "_model_name": "DescriptionStyleModel",
            "description_width": "",
            "_view_module": "@jupyter-widgets/base",
            "_model_module_version": "1.5.0",
            "_view_count": null,
            "_view_module_version": "1.2.0",
            "_model_module": "@jupyter-widgets/controls"
          }
        },
        "20888443601e45608fd50df07d892d53": {
          "model_module": "@jupyter-widgets/base",
          "model_name": "LayoutModel",
          "state": {
            "_view_name": "LayoutView",
            "grid_template_rows": null,
            "right": null,
            "justify_content": null,
            "_view_module": "@jupyter-widgets/base",
            "overflow": null,
            "_model_module_version": "1.2.0",
            "_view_count": null,
            "flex_flow": null,
            "width": null,
            "min_width": null,
            "border": null,
            "align_items": null,
            "bottom": null,
            "_model_module": "@jupyter-widgets/base",
            "top": null,
            "grid_column": null,
            "overflow_y": null,
            "overflow_x": null,
            "grid_auto_flow": null,
            "grid_area": null,
            "grid_template_columns": null,
            "flex": null,
            "_model_name": "LayoutModel",
            "justify_items": null,
            "grid_row": null,
            "max_height": null,
            "align_content": null,
            "visibility": null,
            "align_self": null,
            "height": null,
            "min_height": null,
            "padding": null,
            "grid_auto_rows": null,
            "grid_gap": null,
            "max_width": null,
            "order": null,
            "_view_module_version": "1.2.0",
            "grid_template_areas": null,
            "object_position": null,
            "object_fit": null,
            "grid_auto_columns": null,
            "margin": null,
            "display": null,
            "left": null
          }
        },
        "a7f6a665d7104f5e8a270bdfb99f8b60": {
          "model_module": "@jupyter-widgets/controls",
          "model_name": "HBoxModel",
          "state": {
            "_view_name": "HBoxView",
            "_dom_classes": [],
            "_model_name": "HBoxModel",
            "_view_module": "@jupyter-widgets/controls",
            "_model_module_version": "1.5.0",
            "_view_count": null,
            "_view_module_version": "1.5.0",
            "box_style": "",
            "layout": "IPY_MODEL_d0497a50928048bb990d010fc2ee3970",
            "_model_module": "@jupyter-widgets/controls",
            "children": [
              "IPY_MODEL_cb7e4759aec549a4942cce1d179cb91e",
              "IPY_MODEL_989c147aa9ad48f29bacce81bd031c9e"
            ]
          }
        },
        "d0497a50928048bb990d010fc2ee3970": {
          "model_module": "@jupyter-widgets/base",
          "model_name": "LayoutModel",
          "state": {
            "_view_name": "LayoutView",
            "grid_template_rows": null,
            "right": null,
            "justify_content": null,
            "_view_module": "@jupyter-widgets/base",
            "overflow": null,
            "_model_module_version": "1.2.0",
            "_view_count": null,
            "flex_flow": null,
            "width": null,
            "min_width": null,
            "border": null,
            "align_items": null,
            "bottom": null,
            "_model_module": "@jupyter-widgets/base",
            "top": null,
            "grid_column": null,
            "overflow_y": null,
            "overflow_x": null,
            "grid_auto_flow": null,
            "grid_area": null,
            "grid_template_columns": null,
            "flex": null,
            "_model_name": "LayoutModel",
            "justify_items": null,
            "grid_row": null,
            "max_height": null,
            "align_content": null,
            "visibility": null,
            "align_self": null,
            "height": null,
            "min_height": null,
            "padding": null,
            "grid_auto_rows": null,
            "grid_gap": null,
            "max_width": null,
            "order": null,
            "_view_module_version": "1.2.0",
            "grid_template_areas": null,
            "object_position": null,
            "object_fit": null,
            "grid_auto_columns": null,
            "margin": null,
            "display": null,
            "left": null
          }
        },
        "cb7e4759aec549a4942cce1d179cb91e": {
          "model_module": "@jupyter-widgets/controls",
          "model_name": "FloatProgressModel",
          "state": {
            "_view_name": "ProgressView",
            "style": "IPY_MODEL_bb363c5cc4ac4369a1afa6193e1ddc88",
            "_dom_classes": [],
            "description": "",
            "_model_name": "FloatProgressModel",
            "bar_style": "success",
            "max": 1,
            "_view_module": "@jupyter-widgets/controls",
            "_model_module_version": "1.5.0",
            "value": 1,
            "_view_count": null,
            "_view_module_version": "1.5.0",
            "orientation": "horizontal",
            "min": 0,
            "description_tooltip": null,
            "_model_module": "@jupyter-widgets/controls",
            "layout": "IPY_MODEL_29a3912e5fc64207b74205b4659bdec0"
          }
        },
        "989c147aa9ad48f29bacce81bd031c9e": {
          "model_module": "@jupyter-widgets/controls",
          "model_name": "HTMLModel",
          "state": {
            "_view_name": "HTMLView",
            "style": "IPY_MODEL_6f22c1e9c8f94a93bdacd5793faef481",
            "_dom_classes": [],
            "description": "",
            "_model_name": "HTMLModel",
            "placeholder": "​",
            "_view_module": "@jupyter-widgets/controls",
            "_model_module_version": "1.5.0",
            "value": " 20000/? [14:48&lt;00:00, 22.50it/s]",
            "_view_count": null,
            "_view_module_version": "1.5.0",
            "description_tooltip": null,
            "_model_module": "@jupyter-widgets/controls",
            "layout": "IPY_MODEL_9bbf51babda74ad7bade2b07a3becef8"
          }
        },
        "bb363c5cc4ac4369a1afa6193e1ddc88": {
          "model_module": "@jupyter-widgets/controls",
          "model_name": "ProgressStyleModel",
          "state": {
            "_view_name": "StyleView",
            "_model_name": "ProgressStyleModel",
            "description_width": "initial",
            "_view_module": "@jupyter-widgets/base",
            "_model_module_version": "1.5.0",
            "_view_count": null,
            "_view_module_version": "1.2.0",
            "bar_color": null,
            "_model_module": "@jupyter-widgets/controls"
          }
        },
        "29a3912e5fc64207b74205b4659bdec0": {
          "model_module": "@jupyter-widgets/base",
          "model_name": "LayoutModel",
          "state": {
            "_view_name": "LayoutView",
            "grid_template_rows": null,
            "right": null,
            "justify_content": null,
            "_view_module": "@jupyter-widgets/base",
            "overflow": null,
            "_model_module_version": "1.2.0",
            "_view_count": null,
            "flex_flow": null,
            "width": null,
            "min_width": null,
            "border": null,
            "align_items": null,
            "bottom": null,
            "_model_module": "@jupyter-widgets/base",
            "top": null,
            "grid_column": null,
            "overflow_y": null,
            "overflow_x": null,
            "grid_auto_flow": null,
            "grid_area": null,
            "grid_template_columns": null,
            "flex": null,
            "_model_name": "LayoutModel",
            "justify_items": null,
            "grid_row": null,
            "max_height": null,
            "align_content": null,
            "visibility": null,
            "align_self": null,
            "height": null,
            "min_height": null,
            "padding": null,
            "grid_auto_rows": null,
            "grid_gap": null,
            "max_width": null,
            "order": null,
            "_view_module_version": "1.2.0",
            "grid_template_areas": null,
            "object_position": null,
            "object_fit": null,
            "grid_auto_columns": null,
            "margin": null,
            "display": null,
            "left": null
          }
        },
        "6f22c1e9c8f94a93bdacd5793faef481": {
          "model_module": "@jupyter-widgets/controls",
          "model_name": "DescriptionStyleModel",
          "state": {
            "_view_name": "StyleView",
            "_model_name": "DescriptionStyleModel",
            "description_width": "",
            "_view_module": "@jupyter-widgets/base",
            "_model_module_version": "1.5.0",
            "_view_count": null,
            "_view_module_version": "1.2.0",
            "_model_module": "@jupyter-widgets/controls"
          }
        },
        "9bbf51babda74ad7bade2b07a3becef8": {
          "model_module": "@jupyter-widgets/base",
          "model_name": "LayoutModel",
          "state": {
            "_view_name": "LayoutView",
            "grid_template_rows": null,
            "right": null,
            "justify_content": null,
            "_view_module": "@jupyter-widgets/base",
            "overflow": null,
            "_model_module_version": "1.2.0",
            "_view_count": null,
            "flex_flow": null,
            "width": null,
            "min_width": null,
            "border": null,
            "align_items": null,
            "bottom": null,
            "_model_module": "@jupyter-widgets/base",
            "top": null,
            "grid_column": null,
            "overflow_y": null,
            "overflow_x": null,
            "grid_auto_flow": null,
            "grid_area": null,
            "grid_template_columns": null,
            "flex": null,
            "_model_name": "LayoutModel",
            "justify_items": null,
            "grid_row": null,
            "max_height": null,
            "align_content": null,
            "visibility": null,
            "align_self": null,
            "height": null,
            "min_height": null,
            "padding": null,
            "grid_auto_rows": null,
            "grid_gap": null,
            "max_width": null,
            "order": null,
            "_view_module_version": "1.2.0",
            "grid_template_areas": null,
            "object_position": null,
            "object_fit": null,
            "grid_auto_columns": null,
            "margin": null,
            "display": null,
            "left": null
          }
        },
        "ebfbf554bbaf45278665e5b43866949c": {
          "model_module": "@jupyter-widgets/controls",
          "model_name": "HBoxModel",
          "state": {
            "_view_name": "HBoxView",
            "_dom_classes": [],
            "_model_name": "HBoxModel",
            "_view_module": "@jupyter-widgets/controls",
            "_model_module_version": "1.5.0",
            "_view_count": null,
            "_view_module_version": "1.5.0",
            "box_style": "",
            "layout": "IPY_MODEL_5e5cebb3e33440f4b0d7488e436be425",
            "_model_module": "@jupyter-widgets/controls",
            "children": [
              "IPY_MODEL_bba67e51d89c4c988c93a05b840bfc3b",
              "IPY_MODEL_ddb1f245a971489e81f59b7a0d8238fa"
            ]
          }
        },
        "5e5cebb3e33440f4b0d7488e436be425": {
          "model_module": "@jupyter-widgets/base",
          "model_name": "LayoutModel",
          "state": {
            "_view_name": "LayoutView",
            "grid_template_rows": null,
            "right": null,
            "justify_content": null,
            "_view_module": "@jupyter-widgets/base",
            "overflow": null,
            "_model_module_version": "1.2.0",
            "_view_count": null,
            "flex_flow": null,
            "width": null,
            "min_width": null,
            "border": null,
            "align_items": null,
            "bottom": null,
            "_model_module": "@jupyter-widgets/base",
            "top": null,
            "grid_column": null,
            "overflow_y": null,
            "overflow_x": null,
            "grid_auto_flow": null,
            "grid_area": null,
            "grid_template_columns": null,
            "flex": null,
            "_model_name": "LayoutModel",
            "justify_items": null,
            "grid_row": null,
            "max_height": null,
            "align_content": null,
            "visibility": null,
            "align_self": null,
            "height": null,
            "min_height": null,
            "padding": null,
            "grid_auto_rows": null,
            "grid_gap": null,
            "max_width": null,
            "order": null,
            "_view_module_version": "1.2.0",
            "grid_template_areas": null,
            "object_position": null,
            "object_fit": null,
            "grid_auto_columns": null,
            "margin": null,
            "display": null,
            "left": null
          }
        },
        "bba67e51d89c4c988c93a05b840bfc3b": {
          "model_module": "@jupyter-widgets/controls",
          "model_name": "FloatProgressModel",
          "state": {
            "_view_name": "ProgressView",
            "style": "IPY_MODEL_e65703a9b45a4ddda4a526d94b214706",
            "_dom_classes": [],
            "description": "",
            "_model_name": "FloatProgressModel",
            "bar_style": "success",
            "max": 1,
            "_view_module": "@jupyter-widgets/controls",
            "_model_module_version": "1.5.0",
            "value": 1,
            "_view_count": null,
            "_view_module_version": "1.5.0",
            "orientation": "horizontal",
            "min": 0,
            "description_tooltip": null,
            "_model_module": "@jupyter-widgets/controls",
            "layout": "IPY_MODEL_59a2f194c61642ae974b6acdcf0ab5ec"
          }
        },
        "ddb1f245a971489e81f59b7a0d8238fa": {
          "model_module": "@jupyter-widgets/controls",
          "model_name": "HTMLModel",
          "state": {
            "_view_name": "HTMLView",
            "style": "IPY_MODEL_813794947bdf4dd5b8b19c2b251affc6",
            "_dom_classes": [],
            "description": "",
            "_model_name": "HTMLModel",
            "placeholder": "​",
            "_view_module": "@jupyter-widgets/controls",
            "_model_module_version": "1.5.0",
            "value": " 20000/? [13:57&lt;00:00, 23.89it/s]",
            "_view_count": null,
            "_view_module_version": "1.5.0",
            "description_tooltip": null,
            "_model_module": "@jupyter-widgets/controls",
            "layout": "IPY_MODEL_bfbe06dbb1294623894005f4d8ac9050"
          }
        },
        "e65703a9b45a4ddda4a526d94b214706": {
          "model_module": "@jupyter-widgets/controls",
          "model_name": "ProgressStyleModel",
          "state": {
            "_view_name": "StyleView",
            "_model_name": "ProgressStyleModel",
            "description_width": "initial",
            "_view_module": "@jupyter-widgets/base",
            "_model_module_version": "1.5.0",
            "_view_count": null,
            "_view_module_version": "1.2.0",
            "bar_color": null,
            "_model_module": "@jupyter-widgets/controls"
          }
        },
        "59a2f194c61642ae974b6acdcf0ab5ec": {
          "model_module": "@jupyter-widgets/base",
          "model_name": "LayoutModel",
          "state": {
            "_view_name": "LayoutView",
            "grid_template_rows": null,
            "right": null,
            "justify_content": null,
            "_view_module": "@jupyter-widgets/base",
            "overflow": null,
            "_model_module_version": "1.2.0",
            "_view_count": null,
            "flex_flow": null,
            "width": null,
            "min_width": null,
            "border": null,
            "align_items": null,
            "bottom": null,
            "_model_module": "@jupyter-widgets/base",
            "top": null,
            "grid_column": null,
            "overflow_y": null,
            "overflow_x": null,
            "grid_auto_flow": null,
            "grid_area": null,
            "grid_template_columns": null,
            "flex": null,
            "_model_name": "LayoutModel",
            "justify_items": null,
            "grid_row": null,
            "max_height": null,
            "align_content": null,
            "visibility": null,
            "align_self": null,
            "height": null,
            "min_height": null,
            "padding": null,
            "grid_auto_rows": null,
            "grid_gap": null,
            "max_width": null,
            "order": null,
            "_view_module_version": "1.2.0",
            "grid_template_areas": null,
            "object_position": null,
            "object_fit": null,
            "grid_auto_columns": null,
            "margin": null,
            "display": null,
            "left": null
          }
        },
        "813794947bdf4dd5b8b19c2b251affc6": {
          "model_module": "@jupyter-widgets/controls",
          "model_name": "DescriptionStyleModel",
          "state": {
            "_view_name": "StyleView",
            "_model_name": "DescriptionStyleModel",
            "description_width": "",
            "_view_module": "@jupyter-widgets/base",
            "_model_module_version": "1.5.0",
            "_view_count": null,
            "_view_module_version": "1.2.0",
            "_model_module": "@jupyter-widgets/controls"
          }
        },
        "bfbe06dbb1294623894005f4d8ac9050": {
          "model_module": "@jupyter-widgets/base",
          "model_name": "LayoutModel",
          "state": {
            "_view_name": "LayoutView",
            "grid_template_rows": null,
            "right": null,
            "justify_content": null,
            "_view_module": "@jupyter-widgets/base",
            "overflow": null,
            "_model_module_version": "1.2.0",
            "_view_count": null,
            "flex_flow": null,
            "width": null,
            "min_width": null,
            "border": null,
            "align_items": null,
            "bottom": null,
            "_model_module": "@jupyter-widgets/base",
            "top": null,
            "grid_column": null,
            "overflow_y": null,
            "overflow_x": null,
            "grid_auto_flow": null,
            "grid_area": null,
            "grid_template_columns": null,
            "flex": null,
            "_model_name": "LayoutModel",
            "justify_items": null,
            "grid_row": null,
            "max_height": null,
            "align_content": null,
            "visibility": null,
            "align_self": null,
            "height": null,
            "min_height": null,
            "padding": null,
            "grid_auto_rows": null,
            "grid_gap": null,
            "max_width": null,
            "order": null,
            "_view_module_version": "1.2.0",
            "grid_template_areas": null,
            "object_position": null,
            "object_fit": null,
            "grid_auto_columns": null,
            "margin": null,
            "display": null,
            "left": null
          }
        },
        "7577cd2e52834e9ea4e1c02d4c7df232": {
          "model_module": "@jupyter-widgets/controls",
          "model_name": "HBoxModel",
          "state": {
            "_view_name": "HBoxView",
            "_dom_classes": [],
            "_model_name": "HBoxModel",
            "_view_module": "@jupyter-widgets/controls",
            "_model_module_version": "1.5.0",
            "_view_count": null,
            "_view_module_version": "1.5.0",
            "box_style": "",
            "layout": "IPY_MODEL_bcaca22a3a874ed194cdd261ab36fa28",
            "_model_module": "@jupyter-widgets/controls",
            "children": [
              "IPY_MODEL_b3267fa8272643f28c39b7d43cf0c4aa",
              "IPY_MODEL_c792233d7f2f47a1b32e62aae05b4697"
            ]
          }
        },
        "bcaca22a3a874ed194cdd261ab36fa28": {
          "model_module": "@jupyter-widgets/base",
          "model_name": "LayoutModel",
          "state": {
            "_view_name": "LayoutView",
            "grid_template_rows": null,
            "right": null,
            "justify_content": null,
            "_view_module": "@jupyter-widgets/base",
            "overflow": null,
            "_model_module_version": "1.2.0",
            "_view_count": null,
            "flex_flow": null,
            "width": null,
            "min_width": null,
            "border": null,
            "align_items": null,
            "bottom": null,
            "_model_module": "@jupyter-widgets/base",
            "top": null,
            "grid_column": null,
            "overflow_y": null,
            "overflow_x": null,
            "grid_auto_flow": null,
            "grid_area": null,
            "grid_template_columns": null,
            "flex": null,
            "_model_name": "LayoutModel",
            "justify_items": null,
            "grid_row": null,
            "max_height": null,
            "align_content": null,
            "visibility": null,
            "align_self": null,
            "height": null,
            "min_height": null,
            "padding": null,
            "grid_auto_rows": null,
            "grid_gap": null,
            "max_width": null,
            "order": null,
            "_view_module_version": "1.2.0",
            "grid_template_areas": null,
            "object_position": null,
            "object_fit": null,
            "grid_auto_columns": null,
            "margin": null,
            "display": null,
            "left": null
          }
        },
        "b3267fa8272643f28c39b7d43cf0c4aa": {
          "model_module": "@jupyter-widgets/controls",
          "model_name": "FloatProgressModel",
          "state": {
            "_view_name": "ProgressView",
            "style": "IPY_MODEL_1286e17e45c5458aa6875f8030a09f3b",
            "_dom_classes": [],
            "description": "",
            "_model_name": "FloatProgressModel",
            "bar_style": "success",
            "max": 1,
            "_view_module": "@jupyter-widgets/controls",
            "_model_module_version": "1.5.0",
            "value": 1,
            "_view_count": null,
            "_view_module_version": "1.5.0",
            "orientation": "horizontal",
            "min": 0,
            "description_tooltip": null,
            "_model_module": "@jupyter-widgets/controls",
            "layout": "IPY_MODEL_be1680bd1244415a9f6ad80888e6492a"
          }
        },
        "c792233d7f2f47a1b32e62aae05b4697": {
          "model_module": "@jupyter-widgets/controls",
          "model_name": "HTMLModel",
          "state": {
            "_view_name": "HTMLView",
            "style": "IPY_MODEL_88249479dc86450bad79645275cd6e00",
            "_dom_classes": [],
            "description": "",
            "_model_name": "HTMLModel",
            "placeholder": "​",
            "_view_module": "@jupyter-widgets/controls",
            "_model_module_version": "1.5.0",
            "value": " 9436/? [02:03&lt;00:00, 76.18it/s]",
            "_view_count": null,
            "_view_module_version": "1.5.0",
            "description_tooltip": null,
            "_model_module": "@jupyter-widgets/controls",
            "layout": "IPY_MODEL_46aa342a9c7a4753856383daf5fc3d46"
          }
        },
        "1286e17e45c5458aa6875f8030a09f3b": {
          "model_module": "@jupyter-widgets/controls",
          "model_name": "ProgressStyleModel",
          "state": {
            "_view_name": "StyleView",
            "_model_name": "ProgressStyleModel",
            "description_width": "initial",
            "_view_module": "@jupyter-widgets/base",
            "_model_module_version": "1.5.0",
            "_view_count": null,
            "_view_module_version": "1.2.0",
            "bar_color": null,
            "_model_module": "@jupyter-widgets/controls"
          }
        },
        "be1680bd1244415a9f6ad80888e6492a": {
          "model_module": "@jupyter-widgets/base",
          "model_name": "LayoutModel",
          "state": {
            "_view_name": "LayoutView",
            "grid_template_rows": null,
            "right": null,
            "justify_content": null,
            "_view_module": "@jupyter-widgets/base",
            "overflow": null,
            "_model_module_version": "1.2.0",
            "_view_count": null,
            "flex_flow": null,
            "width": null,
            "min_width": null,
            "border": null,
            "align_items": null,
            "bottom": null,
            "_model_module": "@jupyter-widgets/base",
            "top": null,
            "grid_column": null,
            "overflow_y": null,
            "overflow_x": null,
            "grid_auto_flow": null,
            "grid_area": null,
            "grid_template_columns": null,
            "flex": null,
            "_model_name": "LayoutModel",
            "justify_items": null,
            "grid_row": null,
            "max_height": null,
            "align_content": null,
            "visibility": null,
            "align_self": null,
            "height": null,
            "min_height": null,
            "padding": null,
            "grid_auto_rows": null,
            "grid_gap": null,
            "max_width": null,
            "order": null,
            "_view_module_version": "1.2.0",
            "grid_template_areas": null,
            "object_position": null,
            "object_fit": null,
            "grid_auto_columns": null,
            "margin": null,
            "display": null,
            "left": null
          }
        },
        "88249479dc86450bad79645275cd6e00": {
          "model_module": "@jupyter-widgets/controls",
          "model_name": "DescriptionStyleModel",
          "state": {
            "_view_name": "StyleView",
            "_model_name": "DescriptionStyleModel",
            "description_width": "",
            "_view_module": "@jupyter-widgets/base",
            "_model_module_version": "1.5.0",
            "_view_count": null,
            "_view_module_version": "1.2.0",
            "_model_module": "@jupyter-widgets/controls"
          }
        },
        "46aa342a9c7a4753856383daf5fc3d46": {
          "model_module": "@jupyter-widgets/base",
          "model_name": "LayoutModel",
          "state": {
            "_view_name": "LayoutView",
            "grid_template_rows": null,
            "right": null,
            "justify_content": null,
            "_view_module": "@jupyter-widgets/base",
            "overflow": null,
            "_model_module_version": "1.2.0",
            "_view_count": null,
            "flex_flow": null,
            "width": null,
            "min_width": null,
            "border": null,
            "align_items": null,
            "bottom": null,
            "_model_module": "@jupyter-widgets/base",
            "top": null,
            "grid_column": null,
            "overflow_y": null,
            "overflow_x": null,
            "grid_auto_flow": null,
            "grid_area": null,
            "grid_template_columns": null,
            "flex": null,
            "_model_name": "LayoutModel",
            "justify_items": null,
            "grid_row": null,
            "max_height": null,
            "align_content": null,
            "visibility": null,
            "align_self": null,
            "height": null,
            "min_height": null,
            "padding": null,
            "grid_auto_rows": null,
            "grid_gap": null,
            "max_width": null,
            "order": null,
            "_view_module_version": "1.2.0",
            "grid_template_areas": null,
            "object_position": null,
            "object_fit": null,
            "grid_auto_columns": null,
            "margin": null,
            "display": null,
            "left": null
          }
        },
        "47567c62b36e4b42899f45c8019f1614": {
          "model_module": "@jupyter-widgets/controls",
          "model_name": "HBoxModel",
          "state": {
            "_view_name": "HBoxView",
            "_dom_classes": [],
            "_model_name": "HBoxModel",
            "_view_module": "@jupyter-widgets/controls",
            "_model_module_version": "1.5.0",
            "_view_count": null,
            "_view_module_version": "1.5.0",
            "box_style": "",
            "layout": "IPY_MODEL_06e5b9a3837e4032bafaae8f11c9c8ef",
            "_model_module": "@jupyter-widgets/controls",
            "children": [
              "IPY_MODEL_350461056e2f4777a954399984fa5eda",
              "IPY_MODEL_31dfac8fd4f44c7cb1d00caed8737247"
            ]
          }
        },
        "06e5b9a3837e4032bafaae8f11c9c8ef": {
          "model_module": "@jupyter-widgets/base",
          "model_name": "LayoutModel",
          "state": {
            "_view_name": "LayoutView",
            "grid_template_rows": null,
            "right": null,
            "justify_content": null,
            "_view_module": "@jupyter-widgets/base",
            "overflow": null,
            "_model_module_version": "1.2.0",
            "_view_count": null,
            "flex_flow": null,
            "width": null,
            "min_width": null,
            "border": null,
            "align_items": null,
            "bottom": null,
            "_model_module": "@jupyter-widgets/base",
            "top": null,
            "grid_column": null,
            "overflow_y": null,
            "overflow_x": null,
            "grid_auto_flow": null,
            "grid_area": null,
            "grid_template_columns": null,
            "flex": null,
            "_model_name": "LayoutModel",
            "justify_items": null,
            "grid_row": null,
            "max_height": null,
            "align_content": null,
            "visibility": null,
            "align_self": null,
            "height": null,
            "min_height": null,
            "padding": null,
            "grid_auto_rows": null,
            "grid_gap": null,
            "max_width": null,
            "order": null,
            "_view_module_version": "1.2.0",
            "grid_template_areas": null,
            "object_position": null,
            "object_fit": null,
            "grid_auto_columns": null,
            "margin": null,
            "display": null,
            "left": null
          }
        },
        "350461056e2f4777a954399984fa5eda": {
          "model_module": "@jupyter-widgets/controls",
          "model_name": "FloatProgressModel",
          "state": {
            "_view_name": "ProgressView",
            "style": "IPY_MODEL_e179c2916509478ebc29d01d51f9b594",
            "_dom_classes": [],
            "description": "",
            "_model_name": "FloatProgressModel",
            "bar_style": "success",
            "max": 1,
            "_view_module": "@jupyter-widgets/controls",
            "_model_module_version": "1.5.0",
            "value": 1,
            "_view_count": null,
            "_view_module_version": "1.5.0",
            "orientation": "horizontal",
            "min": 0,
            "description_tooltip": null,
            "_model_module": "@jupyter-widgets/controls",
            "layout": "IPY_MODEL_192c716430c24bcc8b56709311ceea15"
          }
        },
        "31dfac8fd4f44c7cb1d00caed8737247": {
          "model_module": "@jupyter-widgets/controls",
          "model_name": "HTMLModel",
          "state": {
            "_view_name": "HTMLView",
            "style": "IPY_MODEL_5fec274338294efeb28e13aa8fd3a99f",
            "_dom_classes": [],
            "description": "",
            "_model_name": "HTMLModel",
            "placeholder": "​",
            "_view_module": "@jupyter-widgets/controls",
            "_model_module_version": "1.5.0",
            "value": " 9436/? [02:03&lt;00:00, 76.26it/s]",
            "_view_count": null,
            "_view_module_version": "1.5.0",
            "description_tooltip": null,
            "_model_module": "@jupyter-widgets/controls",
            "layout": "IPY_MODEL_d6119c938d7c48f5aafcf0f84e2c220f"
          }
        },
        "e179c2916509478ebc29d01d51f9b594": {
          "model_module": "@jupyter-widgets/controls",
          "model_name": "ProgressStyleModel",
          "state": {
            "_view_name": "StyleView",
            "_model_name": "ProgressStyleModel",
            "description_width": "initial",
            "_view_module": "@jupyter-widgets/base",
            "_model_module_version": "1.5.0",
            "_view_count": null,
            "_view_module_version": "1.2.0",
            "bar_color": null,
            "_model_module": "@jupyter-widgets/controls"
          }
        },
        "192c716430c24bcc8b56709311ceea15": {
          "model_module": "@jupyter-widgets/base",
          "model_name": "LayoutModel",
          "state": {
            "_view_name": "LayoutView",
            "grid_template_rows": null,
            "right": null,
            "justify_content": null,
            "_view_module": "@jupyter-widgets/base",
            "overflow": null,
            "_model_module_version": "1.2.0",
            "_view_count": null,
            "flex_flow": null,
            "width": null,
            "min_width": null,
            "border": null,
            "align_items": null,
            "bottom": null,
            "_model_module": "@jupyter-widgets/base",
            "top": null,
            "grid_column": null,
            "overflow_y": null,
            "overflow_x": null,
            "grid_auto_flow": null,
            "grid_area": null,
            "grid_template_columns": null,
            "flex": null,
            "_model_name": "LayoutModel",
            "justify_items": null,
            "grid_row": null,
            "max_height": null,
            "align_content": null,
            "visibility": null,
            "align_self": null,
            "height": null,
            "min_height": null,
            "padding": null,
            "grid_auto_rows": null,
            "grid_gap": null,
            "max_width": null,
            "order": null,
            "_view_module_version": "1.2.0",
            "grid_template_areas": null,
            "object_position": null,
            "object_fit": null,
            "grid_auto_columns": null,
            "margin": null,
            "display": null,
            "left": null
          }
        },
        "5fec274338294efeb28e13aa8fd3a99f": {
          "model_module": "@jupyter-widgets/controls",
          "model_name": "DescriptionStyleModel",
          "state": {
            "_view_name": "StyleView",
            "_model_name": "DescriptionStyleModel",
            "description_width": "",
            "_view_module": "@jupyter-widgets/base",
            "_model_module_version": "1.5.0",
            "_view_count": null,
            "_view_module_version": "1.2.0",
            "_model_module": "@jupyter-widgets/controls"
          }
        },
        "d6119c938d7c48f5aafcf0f84e2c220f": {
          "model_module": "@jupyter-widgets/base",
          "model_name": "LayoutModel",
          "state": {
            "_view_name": "LayoutView",
            "grid_template_rows": null,
            "right": null,
            "justify_content": null,
            "_view_module": "@jupyter-widgets/base",
            "overflow": null,
            "_model_module_version": "1.2.0",
            "_view_count": null,
            "flex_flow": null,
            "width": null,
            "min_width": null,
            "border": null,
            "align_items": null,
            "bottom": null,
            "_model_module": "@jupyter-widgets/base",
            "top": null,
            "grid_column": null,
            "overflow_y": null,
            "overflow_x": null,
            "grid_auto_flow": null,
            "grid_area": null,
            "grid_template_columns": null,
            "flex": null,
            "_model_name": "LayoutModel",
            "justify_items": null,
            "grid_row": null,
            "max_height": null,
            "align_content": null,
            "visibility": null,
            "align_self": null,
            "height": null,
            "min_height": null,
            "padding": null,
            "grid_auto_rows": null,
            "grid_gap": null,
            "max_width": null,
            "order": null,
            "_view_module_version": "1.2.0",
            "grid_template_areas": null,
            "object_position": null,
            "object_fit": null,
            "grid_auto_columns": null,
            "margin": null,
            "display": null,
            "left": null
          }
        },
        "aa293fe74e53403ca015e0348438d6f8": {
          "model_module": "@jupyter-widgets/controls",
          "model_name": "HBoxModel",
          "state": {
            "_view_name": "HBoxView",
            "_dom_classes": [],
            "_model_name": "HBoxModel",
            "_view_module": "@jupyter-widgets/controls",
            "_model_module_version": "1.5.0",
            "_view_count": null,
            "_view_module_version": "1.5.0",
            "box_style": "",
            "layout": "IPY_MODEL_0834491ec62f42f1a70e9d3e76ea0c2f",
            "_model_module": "@jupyter-widgets/controls",
            "children": [
              "IPY_MODEL_363bf775a8a64608b760190c9aa2121d",
              "IPY_MODEL_10802a2700d14be0aff6cdeebcdd2541"
            ]
          }
        },
        "0834491ec62f42f1a70e9d3e76ea0c2f": {
          "model_module": "@jupyter-widgets/base",
          "model_name": "LayoutModel",
          "state": {
            "_view_name": "LayoutView",
            "grid_template_rows": null,
            "right": null,
            "justify_content": null,
            "_view_module": "@jupyter-widgets/base",
            "overflow": null,
            "_model_module_version": "1.2.0",
            "_view_count": null,
            "flex_flow": null,
            "width": null,
            "min_width": null,
            "border": null,
            "align_items": null,
            "bottom": null,
            "_model_module": "@jupyter-widgets/base",
            "top": null,
            "grid_column": null,
            "overflow_y": null,
            "overflow_x": null,
            "grid_auto_flow": null,
            "grid_area": null,
            "grid_template_columns": null,
            "flex": null,
            "_model_name": "LayoutModel",
            "justify_items": null,
            "grid_row": null,
            "max_height": null,
            "align_content": null,
            "visibility": null,
            "align_self": null,
            "height": null,
            "min_height": null,
            "padding": null,
            "grid_auto_rows": null,
            "grid_gap": null,
            "max_width": null,
            "order": null,
            "_view_module_version": "1.2.0",
            "grid_template_areas": null,
            "object_position": null,
            "object_fit": null,
            "grid_auto_columns": null,
            "margin": null,
            "display": null,
            "left": null
          }
        },
        "363bf775a8a64608b760190c9aa2121d": {
          "model_module": "@jupyter-widgets/controls",
          "model_name": "FloatProgressModel",
          "state": {
            "_view_name": "ProgressView",
            "style": "IPY_MODEL_5709932e1918440e9bee84ba6d2397db",
            "_dom_classes": [],
            "description": "",
            "_model_name": "FloatProgressModel",
            "bar_style": "success",
            "max": 1,
            "_view_module": "@jupyter-widgets/controls",
            "_model_module_version": "1.5.0",
            "value": 1,
            "_view_count": null,
            "_view_module_version": "1.5.0",
            "orientation": "horizontal",
            "min": 0,
            "description_tooltip": null,
            "_model_module": "@jupyter-widgets/controls",
            "layout": "IPY_MODEL_709c1d72e2fe44cdbf7bcdb564447116"
          }
        },
        "10802a2700d14be0aff6cdeebcdd2541": {
          "model_module": "@jupyter-widgets/controls",
          "model_name": "HTMLModel",
          "state": {
            "_view_name": "HTMLView",
            "style": "IPY_MODEL_f545451129054d9da39f8a13a2a3e4fe",
            "_dom_classes": [],
            "description": "",
            "_model_name": "HTMLModel",
            "placeholder": "​",
            "_view_module": "@jupyter-widgets/controls",
            "_model_module_version": "1.5.0",
            "value": " 9436/? [01:41&lt;00:00, 93.40it/s]",
            "_view_count": null,
            "_view_module_version": "1.5.0",
            "description_tooltip": null,
            "_model_module": "@jupyter-widgets/controls",
            "layout": "IPY_MODEL_57d346c0e306400c85e6dc229094e26a"
          }
        },
        "5709932e1918440e9bee84ba6d2397db": {
          "model_module": "@jupyter-widgets/controls",
          "model_name": "ProgressStyleModel",
          "state": {
            "_view_name": "StyleView",
            "_model_name": "ProgressStyleModel",
            "description_width": "initial",
            "_view_module": "@jupyter-widgets/base",
            "_model_module_version": "1.5.0",
            "_view_count": null,
            "_view_module_version": "1.2.0",
            "bar_color": null,
            "_model_module": "@jupyter-widgets/controls"
          }
        },
        "709c1d72e2fe44cdbf7bcdb564447116": {
          "model_module": "@jupyter-widgets/base",
          "model_name": "LayoutModel",
          "state": {
            "_view_name": "LayoutView",
            "grid_template_rows": null,
            "right": null,
            "justify_content": null,
            "_view_module": "@jupyter-widgets/base",
            "overflow": null,
            "_model_module_version": "1.2.0",
            "_view_count": null,
            "flex_flow": null,
            "width": null,
            "min_width": null,
            "border": null,
            "align_items": null,
            "bottom": null,
            "_model_module": "@jupyter-widgets/base",
            "top": null,
            "grid_column": null,
            "overflow_y": null,
            "overflow_x": null,
            "grid_auto_flow": null,
            "grid_area": null,
            "grid_template_columns": null,
            "flex": null,
            "_model_name": "LayoutModel",
            "justify_items": null,
            "grid_row": null,
            "max_height": null,
            "align_content": null,
            "visibility": null,
            "align_self": null,
            "height": null,
            "min_height": null,
            "padding": null,
            "grid_auto_rows": null,
            "grid_gap": null,
            "max_width": null,
            "order": null,
            "_view_module_version": "1.2.0",
            "grid_template_areas": null,
            "object_position": null,
            "object_fit": null,
            "grid_auto_columns": null,
            "margin": null,
            "display": null,
            "left": null
          }
        },
        "f545451129054d9da39f8a13a2a3e4fe": {
          "model_module": "@jupyter-widgets/controls",
          "model_name": "DescriptionStyleModel",
          "state": {
            "_view_name": "StyleView",
            "_model_name": "DescriptionStyleModel",
            "description_width": "",
            "_view_module": "@jupyter-widgets/base",
            "_model_module_version": "1.5.0",
            "_view_count": null,
            "_view_module_version": "1.2.0",
            "_model_module": "@jupyter-widgets/controls"
          }
        },
        "57d346c0e306400c85e6dc229094e26a": {
          "model_module": "@jupyter-widgets/base",
          "model_name": "LayoutModel",
          "state": {
            "_view_name": "LayoutView",
            "grid_template_rows": null,
            "right": null,
            "justify_content": null,
            "_view_module": "@jupyter-widgets/base",
            "overflow": null,
            "_model_module_version": "1.2.0",
            "_view_count": null,
            "flex_flow": null,
            "width": null,
            "min_width": null,
            "border": null,
            "align_items": null,
            "bottom": null,
            "_model_module": "@jupyter-widgets/base",
            "top": null,
            "grid_column": null,
            "overflow_y": null,
            "overflow_x": null,
            "grid_auto_flow": null,
            "grid_area": null,
            "grid_template_columns": null,
            "flex": null,
            "_model_name": "LayoutModel",
            "justify_items": null,
            "grid_row": null,
            "max_height": null,
            "align_content": null,
            "visibility": null,
            "align_self": null,
            "height": null,
            "min_height": null,
            "padding": null,
            "grid_auto_rows": null,
            "grid_gap": null,
            "max_width": null,
            "order": null,
            "_view_module_version": "1.2.0",
            "grid_template_areas": null,
            "object_position": null,
            "object_fit": null,
            "grid_auto_columns": null,
            "margin": null,
            "display": null,
            "left": null
          }
        },
        "8150579bfff14866bf193bdc74dd15e9": {
          "model_module": "@jupyter-widgets/controls",
          "model_name": "HBoxModel",
          "state": {
            "_view_name": "HBoxView",
            "_dom_classes": [],
            "_model_name": "HBoxModel",
            "_view_module": "@jupyter-widgets/controls",
            "_model_module_version": "1.5.0",
            "_view_count": null,
            "_view_module_version": "1.5.0",
            "box_style": "",
            "layout": "IPY_MODEL_5351c029f553437a909ec6725f173c2c",
            "_model_module": "@jupyter-widgets/controls",
            "children": [
              "IPY_MODEL_f1a4c1c083d5409db0a4f9671dcd06e0",
              "IPY_MODEL_2f5c48925f324149967caeee15a27198"
            ]
          }
        },
        "5351c029f553437a909ec6725f173c2c": {
          "model_module": "@jupyter-widgets/base",
          "model_name": "LayoutModel",
          "state": {
            "_view_name": "LayoutView",
            "grid_template_rows": null,
            "right": null,
            "justify_content": null,
            "_view_module": "@jupyter-widgets/base",
            "overflow": null,
            "_model_module_version": "1.2.0",
            "_view_count": null,
            "flex_flow": null,
            "width": null,
            "min_width": null,
            "border": null,
            "align_items": null,
            "bottom": null,
            "_model_module": "@jupyter-widgets/base",
            "top": null,
            "grid_column": null,
            "overflow_y": null,
            "overflow_x": null,
            "grid_auto_flow": null,
            "grid_area": null,
            "grid_template_columns": null,
            "flex": null,
            "_model_name": "LayoutModel",
            "justify_items": null,
            "grid_row": null,
            "max_height": null,
            "align_content": null,
            "visibility": null,
            "align_self": null,
            "height": null,
            "min_height": null,
            "padding": null,
            "grid_auto_rows": null,
            "grid_gap": null,
            "max_width": null,
            "order": null,
            "_view_module_version": "1.2.0",
            "grid_template_areas": null,
            "object_position": null,
            "object_fit": null,
            "grid_auto_columns": null,
            "margin": null,
            "display": null,
            "left": null
          }
        },
        "f1a4c1c083d5409db0a4f9671dcd06e0": {
          "model_module": "@jupyter-widgets/controls",
          "model_name": "FloatProgressModel",
          "state": {
            "_view_name": "ProgressView",
            "style": "IPY_MODEL_ae04209d9bbc4a2d9e8f73b3071cf199",
            "_dom_classes": [],
            "description": "",
            "_model_name": "FloatProgressModel",
            "bar_style": "success",
            "max": 1,
            "_view_module": "@jupyter-widgets/controls",
            "_model_module_version": "1.5.0",
            "value": 1,
            "_view_count": null,
            "_view_module_version": "1.5.0",
            "orientation": "horizontal",
            "min": 0,
            "description_tooltip": null,
            "_model_module": "@jupyter-widgets/controls",
            "layout": "IPY_MODEL_4610d7c4f80e46e6a659b8ff2f7cb110"
          }
        },
        "2f5c48925f324149967caeee15a27198": {
          "model_module": "@jupyter-widgets/controls",
          "model_name": "HTMLModel",
          "state": {
            "_view_name": "HTMLView",
            "style": "IPY_MODEL_4dab1fe84f5544e8907cf1e2c6f0d361",
            "_dom_classes": [],
            "description": "",
            "_model_name": "HTMLModel",
            "placeholder": "​",
            "_view_module": "@jupyter-widgets/controls",
            "_model_module_version": "1.5.0",
            "value": " 9436/? [01:17&lt;00:00, 121.50it/s]",
            "_view_count": null,
            "_view_module_version": "1.5.0",
            "description_tooltip": null,
            "_model_module": "@jupyter-widgets/controls",
            "layout": "IPY_MODEL_6326f7cd7de04fd88ceff79d6eec853f"
          }
        },
        "ae04209d9bbc4a2d9e8f73b3071cf199": {
          "model_module": "@jupyter-widgets/controls",
          "model_name": "ProgressStyleModel",
          "state": {
            "_view_name": "StyleView",
            "_model_name": "ProgressStyleModel",
            "description_width": "initial",
            "_view_module": "@jupyter-widgets/base",
            "_model_module_version": "1.5.0",
            "_view_count": null,
            "_view_module_version": "1.2.0",
            "bar_color": null,
            "_model_module": "@jupyter-widgets/controls"
          }
        },
        "4610d7c4f80e46e6a659b8ff2f7cb110": {
          "model_module": "@jupyter-widgets/base",
          "model_name": "LayoutModel",
          "state": {
            "_view_name": "LayoutView",
            "grid_template_rows": null,
            "right": null,
            "justify_content": null,
            "_view_module": "@jupyter-widgets/base",
            "overflow": null,
            "_model_module_version": "1.2.0",
            "_view_count": null,
            "flex_flow": null,
            "width": null,
            "min_width": null,
            "border": null,
            "align_items": null,
            "bottom": null,
            "_model_module": "@jupyter-widgets/base",
            "top": null,
            "grid_column": null,
            "overflow_y": null,
            "overflow_x": null,
            "grid_auto_flow": null,
            "grid_area": null,
            "grid_template_columns": null,
            "flex": null,
            "_model_name": "LayoutModel",
            "justify_items": null,
            "grid_row": null,
            "max_height": null,
            "align_content": null,
            "visibility": null,
            "align_self": null,
            "height": null,
            "min_height": null,
            "padding": null,
            "grid_auto_rows": null,
            "grid_gap": null,
            "max_width": null,
            "order": null,
            "_view_module_version": "1.2.0",
            "grid_template_areas": null,
            "object_position": null,
            "object_fit": null,
            "grid_auto_columns": null,
            "margin": null,
            "display": null,
            "left": null
          }
        },
        "4dab1fe84f5544e8907cf1e2c6f0d361": {
          "model_module": "@jupyter-widgets/controls",
          "model_name": "DescriptionStyleModel",
          "state": {
            "_view_name": "StyleView",
            "_model_name": "DescriptionStyleModel",
            "description_width": "",
            "_view_module": "@jupyter-widgets/base",
            "_model_module_version": "1.5.0",
            "_view_count": null,
            "_view_module_version": "1.2.0",
            "_model_module": "@jupyter-widgets/controls"
          }
        },
        "6326f7cd7de04fd88ceff79d6eec853f": {
          "model_module": "@jupyter-widgets/base",
          "model_name": "LayoutModel",
          "state": {
            "_view_name": "LayoutView",
            "grid_template_rows": null,
            "right": null,
            "justify_content": null,
            "_view_module": "@jupyter-widgets/base",
            "overflow": null,
            "_model_module_version": "1.2.0",
            "_view_count": null,
            "flex_flow": null,
            "width": null,
            "min_width": null,
            "border": null,
            "align_items": null,
            "bottom": null,
            "_model_module": "@jupyter-widgets/base",
            "top": null,
            "grid_column": null,
            "overflow_y": null,
            "overflow_x": null,
            "grid_auto_flow": null,
            "grid_area": null,
            "grid_template_columns": null,
            "flex": null,
            "_model_name": "LayoutModel",
            "justify_items": null,
            "grid_row": null,
            "max_height": null,
            "align_content": null,
            "visibility": null,
            "align_self": null,
            "height": null,
            "min_height": null,
            "padding": null,
            "grid_auto_rows": null,
            "grid_gap": null,
            "max_width": null,
            "order": null,
            "_view_module_version": "1.2.0",
            "grid_template_areas": null,
            "object_position": null,
            "object_fit": null,
            "grid_auto_columns": null,
            "margin": null,
            "display": null,
            "left": null
          }
        },
        "9335bb7af21b4c98b8900c875495173f": {
          "model_module": "@jupyter-widgets/controls",
          "model_name": "HBoxModel",
          "state": {
            "_view_name": "HBoxView",
            "_dom_classes": [],
            "_model_name": "HBoxModel",
            "_view_module": "@jupyter-widgets/controls",
            "_model_module_version": "1.5.0",
            "_view_count": null,
            "_view_module_version": "1.5.0",
            "box_style": "",
            "layout": "IPY_MODEL_30a8110b75844e8aa5fc0dd3fcb1fd59",
            "_model_module": "@jupyter-widgets/controls",
            "children": [
              "IPY_MODEL_1f5af9627b2541018c84a141eb1a695e",
              "IPY_MODEL_e3f90e50f0e04dfca90d16a178c1ca3c"
            ]
          }
        },
        "30a8110b75844e8aa5fc0dd3fcb1fd59": {
          "model_module": "@jupyter-widgets/base",
          "model_name": "LayoutModel",
          "state": {
            "_view_name": "LayoutView",
            "grid_template_rows": null,
            "right": null,
            "justify_content": null,
            "_view_module": "@jupyter-widgets/base",
            "overflow": null,
            "_model_module_version": "1.2.0",
            "_view_count": null,
            "flex_flow": null,
            "width": null,
            "min_width": null,
            "border": null,
            "align_items": null,
            "bottom": null,
            "_model_module": "@jupyter-widgets/base",
            "top": null,
            "grid_column": null,
            "overflow_y": null,
            "overflow_x": null,
            "grid_auto_flow": null,
            "grid_area": null,
            "grid_template_columns": null,
            "flex": null,
            "_model_name": "LayoutModel",
            "justify_items": null,
            "grid_row": null,
            "max_height": null,
            "align_content": null,
            "visibility": null,
            "align_self": null,
            "height": null,
            "min_height": null,
            "padding": null,
            "grid_auto_rows": null,
            "grid_gap": null,
            "max_width": null,
            "order": null,
            "_view_module_version": "1.2.0",
            "grid_template_areas": null,
            "object_position": null,
            "object_fit": null,
            "grid_auto_columns": null,
            "margin": null,
            "display": null,
            "left": null
          }
        },
        "1f5af9627b2541018c84a141eb1a695e": {
          "model_module": "@jupyter-widgets/controls",
          "model_name": "FloatProgressModel",
          "state": {
            "_view_name": "ProgressView",
            "style": "IPY_MODEL_977abaf5da42401ab63af01eaf304e53",
            "_dom_classes": [],
            "description": "",
            "_model_name": "FloatProgressModel",
            "bar_style": "success",
            "max": 1,
            "_view_module": "@jupyter-widgets/controls",
            "_model_module_version": "1.5.0",
            "value": 1,
            "_view_count": null,
            "_view_module_version": "1.5.0",
            "orientation": "horizontal",
            "min": 0,
            "description_tooltip": null,
            "_model_module": "@jupyter-widgets/controls",
            "layout": "IPY_MODEL_096a4b996ae24ae8ac61afeb43991787"
          }
        },
        "e3f90e50f0e04dfca90d16a178c1ca3c": {
          "model_module": "@jupyter-widgets/controls",
          "model_name": "HTMLModel",
          "state": {
            "_view_name": "HTMLView",
            "style": "IPY_MODEL_8d5b43c9514146d5a53d1cc017463fc4",
            "_dom_classes": [],
            "description": "",
            "_model_name": "HTMLModel",
            "placeholder": "​",
            "_view_module": "@jupyter-widgets/controls",
            "_model_module_version": "1.5.0",
            "value": " 20000/? [00:52&lt;00:00, 380.71it/s]",
            "_view_count": null,
            "_view_module_version": "1.5.0",
            "description_tooltip": null,
            "_model_module": "@jupyter-widgets/controls",
            "layout": "IPY_MODEL_da037f4c3f1e4635acd0b0f192634860"
          }
        },
        "977abaf5da42401ab63af01eaf304e53": {
          "model_module": "@jupyter-widgets/controls",
          "model_name": "ProgressStyleModel",
          "state": {
            "_view_name": "StyleView",
            "_model_name": "ProgressStyleModel",
            "description_width": "initial",
            "_view_module": "@jupyter-widgets/base",
            "_model_module_version": "1.5.0",
            "_view_count": null,
            "_view_module_version": "1.2.0",
            "bar_color": null,
            "_model_module": "@jupyter-widgets/controls"
          }
        },
        "096a4b996ae24ae8ac61afeb43991787": {
          "model_module": "@jupyter-widgets/base",
          "model_name": "LayoutModel",
          "state": {
            "_view_name": "LayoutView",
            "grid_template_rows": null,
            "right": null,
            "justify_content": null,
            "_view_module": "@jupyter-widgets/base",
            "overflow": null,
            "_model_module_version": "1.2.0",
            "_view_count": null,
            "flex_flow": null,
            "width": null,
            "min_width": null,
            "border": null,
            "align_items": null,
            "bottom": null,
            "_model_module": "@jupyter-widgets/base",
            "top": null,
            "grid_column": null,
            "overflow_y": null,
            "overflow_x": null,
            "grid_auto_flow": null,
            "grid_area": null,
            "grid_template_columns": null,
            "flex": null,
            "_model_name": "LayoutModel",
            "justify_items": null,
            "grid_row": null,
            "max_height": null,
            "align_content": null,
            "visibility": null,
            "align_self": null,
            "height": null,
            "min_height": null,
            "padding": null,
            "grid_auto_rows": null,
            "grid_gap": null,
            "max_width": null,
            "order": null,
            "_view_module_version": "1.2.0",
            "grid_template_areas": null,
            "object_position": null,
            "object_fit": null,
            "grid_auto_columns": null,
            "margin": null,
            "display": null,
            "left": null
          }
        },
        "8d5b43c9514146d5a53d1cc017463fc4": {
          "model_module": "@jupyter-widgets/controls",
          "model_name": "DescriptionStyleModel",
          "state": {
            "_view_name": "StyleView",
            "_model_name": "DescriptionStyleModel",
            "description_width": "",
            "_view_module": "@jupyter-widgets/base",
            "_model_module_version": "1.5.0",
            "_view_count": null,
            "_view_module_version": "1.2.0",
            "_model_module": "@jupyter-widgets/controls"
          }
        },
        "da037f4c3f1e4635acd0b0f192634860": {
          "model_module": "@jupyter-widgets/base",
          "model_name": "LayoutModel",
          "state": {
            "_view_name": "LayoutView",
            "grid_template_rows": null,
            "right": null,
            "justify_content": null,
            "_view_module": "@jupyter-widgets/base",
            "overflow": null,
            "_model_module_version": "1.2.0",
            "_view_count": null,
            "flex_flow": null,
            "width": null,
            "min_width": null,
            "border": null,
            "align_items": null,
            "bottom": null,
            "_model_module": "@jupyter-widgets/base",
            "top": null,
            "grid_column": null,
            "overflow_y": null,
            "overflow_x": null,
            "grid_auto_flow": null,
            "grid_area": null,
            "grid_template_columns": null,
            "flex": null,
            "_model_name": "LayoutModel",
            "justify_items": null,
            "grid_row": null,
            "max_height": null,
            "align_content": null,
            "visibility": null,
            "align_self": null,
            "height": null,
            "min_height": null,
            "padding": null,
            "grid_auto_rows": null,
            "grid_gap": null,
            "max_width": null,
            "order": null,
            "_view_module_version": "1.2.0",
            "grid_template_areas": null,
            "object_position": null,
            "object_fit": null,
            "grid_auto_columns": null,
            "margin": null,
            "display": null,
            "left": null
          }
        },
        "bf69dd996f8449ac86b26ef0a1f981f4": {
          "model_module": "@jupyter-widgets/controls",
          "model_name": "HBoxModel",
          "state": {
            "_view_name": "HBoxView",
            "_dom_classes": [],
            "_model_name": "HBoxModel",
            "_view_module": "@jupyter-widgets/controls",
            "_model_module_version": "1.5.0",
            "_view_count": null,
            "_view_module_version": "1.5.0",
            "box_style": "",
            "layout": "IPY_MODEL_a1aefb6430a343baa33d2b42717b84e3",
            "_model_module": "@jupyter-widgets/controls",
            "children": [
              "IPY_MODEL_220b3e1c179346ccb87f4896b1f4ca60",
              "IPY_MODEL_74d37224fed84913bd5b538879b908db"
            ]
          }
        },
        "a1aefb6430a343baa33d2b42717b84e3": {
          "model_module": "@jupyter-widgets/base",
          "model_name": "LayoutModel",
          "state": {
            "_view_name": "LayoutView",
            "grid_template_rows": null,
            "right": null,
            "justify_content": null,
            "_view_module": "@jupyter-widgets/base",
            "overflow": null,
            "_model_module_version": "1.2.0",
            "_view_count": null,
            "flex_flow": null,
            "width": null,
            "min_width": null,
            "border": null,
            "align_items": null,
            "bottom": null,
            "_model_module": "@jupyter-widgets/base",
            "top": null,
            "grid_column": null,
            "overflow_y": null,
            "overflow_x": null,
            "grid_auto_flow": null,
            "grid_area": null,
            "grid_template_columns": null,
            "flex": null,
            "_model_name": "LayoutModel",
            "justify_items": null,
            "grid_row": null,
            "max_height": null,
            "align_content": null,
            "visibility": null,
            "align_self": null,
            "height": null,
            "min_height": null,
            "padding": null,
            "grid_auto_rows": null,
            "grid_gap": null,
            "max_width": null,
            "order": null,
            "_view_module_version": "1.2.0",
            "grid_template_areas": null,
            "object_position": null,
            "object_fit": null,
            "grid_auto_columns": null,
            "margin": null,
            "display": null,
            "left": null
          }
        },
        "220b3e1c179346ccb87f4896b1f4ca60": {
          "model_module": "@jupyter-widgets/controls",
          "model_name": "FloatProgressModel",
          "state": {
            "_view_name": "ProgressView",
            "style": "IPY_MODEL_4c4eaff3c4004f9f8869fda5d2962a1c",
            "_dom_classes": [],
            "description": "",
            "_model_name": "FloatProgressModel",
            "bar_style": "success",
            "max": 1,
            "_view_module": "@jupyter-widgets/controls",
            "_model_module_version": "1.5.0",
            "value": 1,
            "_view_count": null,
            "_view_module_version": "1.5.0",
            "orientation": "horizontal",
            "min": 0,
            "description_tooltip": null,
            "_model_module": "@jupyter-widgets/controls",
            "layout": "IPY_MODEL_cf472d1f4310487d915b5720091a0794"
          }
        },
        "74d37224fed84913bd5b538879b908db": {
          "model_module": "@jupyter-widgets/controls",
          "model_name": "HTMLModel",
          "state": {
            "_view_name": "HTMLView",
            "style": "IPY_MODEL_9125bebb8d4f4addb55be9d51c9fbf85",
            "_dom_classes": [],
            "description": "",
            "_model_name": "HTMLModel",
            "placeholder": "​",
            "_view_module": "@jupyter-widgets/controls",
            "_model_module_version": "1.5.0",
            "value": " 19971/? [00:52&lt;00:00, 383.50it/s]",
            "_view_count": null,
            "_view_module_version": "1.5.0",
            "description_tooltip": null,
            "_model_module": "@jupyter-widgets/controls",
            "layout": "IPY_MODEL_d68094e23fb6414fbb9d3aab82378b6f"
          }
        },
        "4c4eaff3c4004f9f8869fda5d2962a1c": {
          "model_module": "@jupyter-widgets/controls",
          "model_name": "ProgressStyleModel",
          "state": {
            "_view_name": "StyleView",
            "_model_name": "ProgressStyleModel",
            "description_width": "initial",
            "_view_module": "@jupyter-widgets/base",
            "_model_module_version": "1.5.0",
            "_view_count": null,
            "_view_module_version": "1.2.0",
            "bar_color": null,
            "_model_module": "@jupyter-widgets/controls"
          }
        },
        "cf472d1f4310487d915b5720091a0794": {
          "model_module": "@jupyter-widgets/base",
          "model_name": "LayoutModel",
          "state": {
            "_view_name": "LayoutView",
            "grid_template_rows": null,
            "right": null,
            "justify_content": null,
            "_view_module": "@jupyter-widgets/base",
            "overflow": null,
            "_model_module_version": "1.2.0",
            "_view_count": null,
            "flex_flow": null,
            "width": null,
            "min_width": null,
            "border": null,
            "align_items": null,
            "bottom": null,
            "_model_module": "@jupyter-widgets/base",
            "top": null,
            "grid_column": null,
            "overflow_y": null,
            "overflow_x": null,
            "grid_auto_flow": null,
            "grid_area": null,
            "grid_template_columns": null,
            "flex": null,
            "_model_name": "LayoutModel",
            "justify_items": null,
            "grid_row": null,
            "max_height": null,
            "align_content": null,
            "visibility": null,
            "align_self": null,
            "height": null,
            "min_height": null,
            "padding": null,
            "grid_auto_rows": null,
            "grid_gap": null,
            "max_width": null,
            "order": null,
            "_view_module_version": "1.2.0",
            "grid_template_areas": null,
            "object_position": null,
            "object_fit": null,
            "grid_auto_columns": null,
            "margin": null,
            "display": null,
            "left": null
          }
        },
        "9125bebb8d4f4addb55be9d51c9fbf85": {
          "model_module": "@jupyter-widgets/controls",
          "model_name": "DescriptionStyleModel",
          "state": {
            "_view_name": "StyleView",
            "_model_name": "DescriptionStyleModel",
            "description_width": "",
            "_view_module": "@jupyter-widgets/base",
            "_model_module_version": "1.5.0",
            "_view_count": null,
            "_view_module_version": "1.2.0",
            "_model_module": "@jupyter-widgets/controls"
          }
        },
        "d68094e23fb6414fbb9d3aab82378b6f": {
          "model_module": "@jupyter-widgets/base",
          "model_name": "LayoutModel",
          "state": {
            "_view_name": "LayoutView",
            "grid_template_rows": null,
            "right": null,
            "justify_content": null,
            "_view_module": "@jupyter-widgets/base",
            "overflow": null,
            "_model_module_version": "1.2.0",
            "_view_count": null,
            "flex_flow": null,
            "width": null,
            "min_width": null,
            "border": null,
            "align_items": null,
            "bottom": null,
            "_model_module": "@jupyter-widgets/base",
            "top": null,
            "grid_column": null,
            "overflow_y": null,
            "overflow_x": null,
            "grid_auto_flow": null,
            "grid_area": null,
            "grid_template_columns": null,
            "flex": null,
            "_model_name": "LayoutModel",
            "justify_items": null,
            "grid_row": null,
            "max_height": null,
            "align_content": null,
            "visibility": null,
            "align_self": null,
            "height": null,
            "min_height": null,
            "padding": null,
            "grid_auto_rows": null,
            "grid_gap": null,
            "max_width": null,
            "order": null,
            "_view_module_version": "1.2.0",
            "grid_template_areas": null,
            "object_position": null,
            "object_fit": null,
            "grid_auto_columns": null,
            "margin": null,
            "display": null,
            "left": null
          }
        },
        "2c48fd4b71d042afa03ea7058648bf94": {
          "model_module": "@jupyter-widgets/controls",
          "model_name": "HBoxModel",
          "state": {
            "_view_name": "HBoxView",
            "_dom_classes": [],
            "_model_name": "HBoxModel",
            "_view_module": "@jupyter-widgets/controls",
            "_model_module_version": "1.5.0",
            "_view_count": null,
            "_view_module_version": "1.5.0",
            "box_style": "",
            "layout": "IPY_MODEL_a28440ac6e84495a85f66a3150841d3b",
            "_model_module": "@jupyter-widgets/controls",
            "children": [
              "IPY_MODEL_ee232ae0cb024d00a1e969b088e92e38",
              "IPY_MODEL_ffa733e6e7a54c2ca22c681008f0a081"
            ]
          }
        },
        "a28440ac6e84495a85f66a3150841d3b": {
          "model_module": "@jupyter-widgets/base",
          "model_name": "LayoutModel",
          "state": {
            "_view_name": "LayoutView",
            "grid_template_rows": null,
            "right": null,
            "justify_content": null,
            "_view_module": "@jupyter-widgets/base",
            "overflow": null,
            "_model_module_version": "1.2.0",
            "_view_count": null,
            "flex_flow": null,
            "width": null,
            "min_width": null,
            "border": null,
            "align_items": null,
            "bottom": null,
            "_model_module": "@jupyter-widgets/base",
            "top": null,
            "grid_column": null,
            "overflow_y": null,
            "overflow_x": null,
            "grid_auto_flow": null,
            "grid_area": null,
            "grid_template_columns": null,
            "flex": null,
            "_model_name": "LayoutModel",
            "justify_items": null,
            "grid_row": null,
            "max_height": null,
            "align_content": null,
            "visibility": null,
            "align_self": null,
            "height": null,
            "min_height": null,
            "padding": null,
            "grid_auto_rows": null,
            "grid_gap": null,
            "max_width": null,
            "order": null,
            "_view_module_version": "1.2.0",
            "grid_template_areas": null,
            "object_position": null,
            "object_fit": null,
            "grid_auto_columns": null,
            "margin": null,
            "display": null,
            "left": null
          }
        },
        "ee232ae0cb024d00a1e969b088e92e38": {
          "model_module": "@jupyter-widgets/controls",
          "model_name": "FloatProgressModel",
          "state": {
            "_view_name": "ProgressView",
            "style": "IPY_MODEL_e53f72c5703749b8aa8f418b8627befd",
            "_dom_classes": [],
            "description": "",
            "_model_name": "FloatProgressModel",
            "bar_style": "success",
            "max": 1,
            "_view_module": "@jupyter-widgets/controls",
            "_model_module_version": "1.5.0",
            "value": 1,
            "_view_count": null,
            "_view_module_version": "1.5.0",
            "orientation": "horizontal",
            "min": 0,
            "description_tooltip": null,
            "_model_module": "@jupyter-widgets/controls",
            "layout": "IPY_MODEL_8eae1784a1b44c0f955736e0af420d7f"
          }
        },
        "ffa733e6e7a54c2ca22c681008f0a081": {
          "model_module": "@jupyter-widgets/controls",
          "model_name": "HTMLModel",
          "state": {
            "_view_name": "HTMLView",
            "style": "IPY_MODEL_8e446924effe4f37879ad1dcaaf59036",
            "_dom_classes": [],
            "description": "",
            "_model_name": "HTMLModel",
            "placeholder": "​",
            "_view_module": "@jupyter-widgets/controls",
            "_model_module_version": "1.5.0",
            "value": " 19971/? [02:48&lt;00:00, 118.58it/s]",
            "_view_count": null,
            "_view_module_version": "1.5.0",
            "description_tooltip": null,
            "_model_module": "@jupyter-widgets/controls",
            "layout": "IPY_MODEL_0bc47b237ea3405fb690eb9db02faa46"
          }
        },
        "e53f72c5703749b8aa8f418b8627befd": {
          "model_module": "@jupyter-widgets/controls",
          "model_name": "ProgressStyleModel",
          "state": {
            "_view_name": "StyleView",
            "_model_name": "ProgressStyleModel",
            "description_width": "initial",
            "_view_module": "@jupyter-widgets/base",
            "_model_module_version": "1.5.0",
            "_view_count": null,
            "_view_module_version": "1.2.0",
            "bar_color": null,
            "_model_module": "@jupyter-widgets/controls"
          }
        },
        "8eae1784a1b44c0f955736e0af420d7f": {
          "model_module": "@jupyter-widgets/base",
          "model_name": "LayoutModel",
          "state": {
            "_view_name": "LayoutView",
            "grid_template_rows": null,
            "right": null,
            "justify_content": null,
            "_view_module": "@jupyter-widgets/base",
            "overflow": null,
            "_model_module_version": "1.2.0",
            "_view_count": null,
            "flex_flow": null,
            "width": null,
            "min_width": null,
            "border": null,
            "align_items": null,
            "bottom": null,
            "_model_module": "@jupyter-widgets/base",
            "top": null,
            "grid_column": null,
            "overflow_y": null,
            "overflow_x": null,
            "grid_auto_flow": null,
            "grid_area": null,
            "grid_template_columns": null,
            "flex": null,
            "_model_name": "LayoutModel",
            "justify_items": null,
            "grid_row": null,
            "max_height": null,
            "align_content": null,
            "visibility": null,
            "align_self": null,
            "height": null,
            "min_height": null,
            "padding": null,
            "grid_auto_rows": null,
            "grid_gap": null,
            "max_width": null,
            "order": null,
            "_view_module_version": "1.2.0",
            "grid_template_areas": null,
            "object_position": null,
            "object_fit": null,
            "grid_auto_columns": null,
            "margin": null,
            "display": null,
            "left": null
          }
        },
        "8e446924effe4f37879ad1dcaaf59036": {
          "model_module": "@jupyter-widgets/controls",
          "model_name": "DescriptionStyleModel",
          "state": {
            "_view_name": "StyleView",
            "_model_name": "DescriptionStyleModel",
            "description_width": "",
            "_view_module": "@jupyter-widgets/base",
            "_model_module_version": "1.5.0",
            "_view_count": null,
            "_view_module_version": "1.2.0",
            "_model_module": "@jupyter-widgets/controls"
          }
        },
        "0bc47b237ea3405fb690eb9db02faa46": {
          "model_module": "@jupyter-widgets/base",
          "model_name": "LayoutModel",
          "state": {
            "_view_name": "LayoutView",
            "grid_template_rows": null,
            "right": null,
            "justify_content": null,
            "_view_module": "@jupyter-widgets/base",
            "overflow": null,
            "_model_module_version": "1.2.0",
            "_view_count": null,
            "flex_flow": null,
            "width": null,
            "min_width": null,
            "border": null,
            "align_items": null,
            "bottom": null,
            "_model_module": "@jupyter-widgets/base",
            "top": null,
            "grid_column": null,
            "overflow_y": null,
            "overflow_x": null,
            "grid_auto_flow": null,
            "grid_area": null,
            "grid_template_columns": null,
            "flex": null,
            "_model_name": "LayoutModel",
            "justify_items": null,
            "grid_row": null,
            "max_height": null,
            "align_content": null,
            "visibility": null,
            "align_self": null,
            "height": null,
            "min_height": null,
            "padding": null,
            "grid_auto_rows": null,
            "grid_gap": null,
            "max_width": null,
            "order": null,
            "_view_module_version": "1.2.0",
            "grid_template_areas": null,
            "object_position": null,
            "object_fit": null,
            "grid_auto_columns": null,
            "margin": null,
            "display": null,
            "left": null
          }
        },
        "7d8d96e4dc774115bb8cfa113ff9edf6": {
          "model_module": "@jupyter-widgets/controls",
          "model_name": "HBoxModel",
          "state": {
            "_view_name": "HBoxView",
            "_dom_classes": [],
            "_model_name": "HBoxModel",
            "_view_module": "@jupyter-widgets/controls",
            "_model_module_version": "1.5.0",
            "_view_count": null,
            "_view_module_version": "1.5.0",
            "box_style": "",
            "layout": "IPY_MODEL_a0164c0eade245c6bdccc61411833f68",
            "_model_module": "@jupyter-widgets/controls",
            "children": [
              "IPY_MODEL_1ead2658854f4e0ea3ea674181578f93",
              "IPY_MODEL_5e86b7a7c2c0441e881cb2581ea98545"
            ]
          }
        },
        "a0164c0eade245c6bdccc61411833f68": {
          "model_module": "@jupyter-widgets/base",
          "model_name": "LayoutModel",
          "state": {
            "_view_name": "LayoutView",
            "grid_template_rows": null,
            "right": null,
            "justify_content": null,
            "_view_module": "@jupyter-widgets/base",
            "overflow": null,
            "_model_module_version": "1.2.0",
            "_view_count": null,
            "flex_flow": null,
            "width": null,
            "min_width": null,
            "border": null,
            "align_items": null,
            "bottom": null,
            "_model_module": "@jupyter-widgets/base",
            "top": null,
            "grid_column": null,
            "overflow_y": null,
            "overflow_x": null,
            "grid_auto_flow": null,
            "grid_area": null,
            "grid_template_columns": null,
            "flex": null,
            "_model_name": "LayoutModel",
            "justify_items": null,
            "grid_row": null,
            "max_height": null,
            "align_content": null,
            "visibility": null,
            "align_self": null,
            "height": null,
            "min_height": null,
            "padding": null,
            "grid_auto_rows": null,
            "grid_gap": null,
            "max_width": null,
            "order": null,
            "_view_module_version": "1.2.0",
            "grid_template_areas": null,
            "object_position": null,
            "object_fit": null,
            "grid_auto_columns": null,
            "margin": null,
            "display": null,
            "left": null
          }
        },
        "1ead2658854f4e0ea3ea674181578f93": {
          "model_module": "@jupyter-widgets/controls",
          "model_name": "FloatProgressModel",
          "state": {
            "_view_name": "ProgressView",
            "style": "IPY_MODEL_27e17508574a458e9364e1b52c868c86",
            "_dom_classes": [],
            "description": "",
            "_model_name": "FloatProgressModel",
            "bar_style": "success",
            "max": 1,
            "_view_module": "@jupyter-widgets/controls",
            "_model_module_version": "1.5.0",
            "value": 1,
            "_view_count": null,
            "_view_module_version": "1.5.0",
            "orientation": "horizontal",
            "min": 0,
            "description_tooltip": null,
            "_model_module": "@jupyter-widgets/controls",
            "layout": "IPY_MODEL_b88ea1b9bc9b4dff864f753d29e3fde8"
          }
        },
        "5e86b7a7c2c0441e881cb2581ea98545": {
          "model_module": "@jupyter-widgets/controls",
          "model_name": "HTMLModel",
          "state": {
            "_view_name": "HTMLView",
            "style": "IPY_MODEL_e01e6f0de21a443c81a61e0e62f807b4",
            "_dom_classes": [],
            "description": "",
            "_model_name": "HTMLModel",
            "placeholder": "​",
            "_view_module": "@jupyter-widgets/controls",
            "_model_module_version": "1.5.0",
            "value": " 19971/? [01:54&lt;00:00, 173.97it/s]",
            "_view_count": null,
            "_view_module_version": "1.5.0",
            "description_tooltip": null,
            "_model_module": "@jupyter-widgets/controls",
            "layout": "IPY_MODEL_b8d9f9ee11df4df083f3974445f90cab"
          }
        },
        "27e17508574a458e9364e1b52c868c86": {
          "model_module": "@jupyter-widgets/controls",
          "model_name": "ProgressStyleModel",
          "state": {
            "_view_name": "StyleView",
            "_model_name": "ProgressStyleModel",
            "description_width": "initial",
            "_view_module": "@jupyter-widgets/base",
            "_model_module_version": "1.5.0",
            "_view_count": null,
            "_view_module_version": "1.2.0",
            "bar_color": null,
            "_model_module": "@jupyter-widgets/controls"
          }
        },
        "b88ea1b9bc9b4dff864f753d29e3fde8": {
          "model_module": "@jupyter-widgets/base",
          "model_name": "LayoutModel",
          "state": {
            "_view_name": "LayoutView",
            "grid_template_rows": null,
            "right": null,
            "justify_content": null,
            "_view_module": "@jupyter-widgets/base",
            "overflow": null,
            "_model_module_version": "1.2.0",
            "_view_count": null,
            "flex_flow": null,
            "width": null,
            "min_width": null,
            "border": null,
            "align_items": null,
            "bottom": null,
            "_model_module": "@jupyter-widgets/base",
            "top": null,
            "grid_column": null,
            "overflow_y": null,
            "overflow_x": null,
            "grid_auto_flow": null,
            "grid_area": null,
            "grid_template_columns": null,
            "flex": null,
            "_model_name": "LayoutModel",
            "justify_items": null,
            "grid_row": null,
            "max_height": null,
            "align_content": null,
            "visibility": null,
            "align_self": null,
            "height": null,
            "min_height": null,
            "padding": null,
            "grid_auto_rows": null,
            "grid_gap": null,
            "max_width": null,
            "order": null,
            "_view_module_version": "1.2.0",
            "grid_template_areas": null,
            "object_position": null,
            "object_fit": null,
            "grid_auto_columns": null,
            "margin": null,
            "display": null,
            "left": null
          }
        },
        "e01e6f0de21a443c81a61e0e62f807b4": {
          "model_module": "@jupyter-widgets/controls",
          "model_name": "DescriptionStyleModel",
          "state": {
            "_view_name": "StyleView",
            "_model_name": "DescriptionStyleModel",
            "description_width": "",
            "_view_module": "@jupyter-widgets/base",
            "_model_module_version": "1.5.0",
            "_view_count": null,
            "_view_module_version": "1.2.0",
            "_model_module": "@jupyter-widgets/controls"
          }
        },
        "b8d9f9ee11df4df083f3974445f90cab": {
          "model_module": "@jupyter-widgets/base",
          "model_name": "LayoutModel",
          "state": {
            "_view_name": "LayoutView",
            "grid_template_rows": null,
            "right": null,
            "justify_content": null,
            "_view_module": "@jupyter-widgets/base",
            "overflow": null,
            "_model_module_version": "1.2.0",
            "_view_count": null,
            "flex_flow": null,
            "width": null,
            "min_width": null,
            "border": null,
            "align_items": null,
            "bottom": null,
            "_model_module": "@jupyter-widgets/base",
            "top": null,
            "grid_column": null,
            "overflow_y": null,
            "overflow_x": null,
            "grid_auto_flow": null,
            "grid_area": null,
            "grid_template_columns": null,
            "flex": null,
            "_model_name": "LayoutModel",
            "justify_items": null,
            "grid_row": null,
            "max_height": null,
            "align_content": null,
            "visibility": null,
            "align_self": null,
            "height": null,
            "min_height": null,
            "padding": null,
            "grid_auto_rows": null,
            "grid_gap": null,
            "max_width": null,
            "order": null,
            "_view_module_version": "1.2.0",
            "grid_template_areas": null,
            "object_position": null,
            "object_fit": null,
            "grid_auto_columns": null,
            "margin": null,
            "display": null,
            "left": null
          }
        }
      }
    }
  },
  "cells": [
    {
      "cell_type": "markdown",
      "metadata": {
        "id": "MEm_9vAIv_Lh",
        "colab_type": "text"
      },
      "source": [
        "# Install Libraries\n",
        "\n",
        "* TensorFlow 2.0 for GPU\n",
        "* Transformers\n",
        "* Annoy\n",
        "* Sentence Transformers"
      ]
    },
    {
      "cell_type": "code",
      "metadata": {
        "id": "erKVcUR1yqFf",
        "colab_type": "code",
        "outputId": "a7629b0e-5be2-4418-c4db-c56a7f7119cc",
        "colab": {
          "base_uri": "https://localhost:8080/",
          "height": 34
        }
      },
      "source": [
        "!pip uninstall tensorflow"
      ],
      "execution_count": 0,
      "outputs": [
        {
          "output_type": "stream",
          "text": [
            "\u001b[33mWARNING: Skipping tensorflow as it is not installed.\u001b[0m\n"
          ],
          "name": "stdout"
        }
      ]
    },
    {
      "cell_type": "code",
      "metadata": {
        "id": "ygmMS-dnyzNx",
        "colab_type": "code",
        "outputId": "0522cdf6-5d0c-4b12-d96c-e78f32349835",
        "colab": {
          "base_uri": "https://localhost:8080/",
          "height": 1000
        }
      },
      "source": [
        "!pip install tensorflow-gpu==2.0.0\n",
        "!pip install transformers\n",
        "!pip install -U sentence-transformers"
      ],
      "execution_count": 0,
      "outputs": [
        {
          "output_type": "stream",
          "text": [
            "Requirement already satisfied: tensorflow-gpu==2.0.0 in /usr/local/lib/python3.6/dist-packages (2.0.0)\n",
            "Requirement already satisfied: keras-preprocessing>=1.0.5 in /usr/local/lib/python3.6/dist-packages (from tensorflow-gpu==2.0.0) (1.1.0)\n",
            "Requirement already satisfied: astor>=0.6.0 in /usr/local/lib/python3.6/dist-packages (from tensorflow-gpu==2.0.0) (0.8.1)\n",
            "Requirement already satisfied: grpcio>=1.8.6 in /usr/local/lib/python3.6/dist-packages (from tensorflow-gpu==2.0.0) (1.28.1)\n",
            "Requirement already satisfied: gast==0.2.2 in /usr/local/lib/python3.6/dist-packages (from tensorflow-gpu==2.0.0) (0.2.2)\n",
            "Requirement already satisfied: keras-applications>=1.0.8 in /usr/local/lib/python3.6/dist-packages (from tensorflow-gpu==2.0.0) (1.0.8)\n",
            "Requirement already satisfied: absl-py>=0.7.0 in /usr/local/lib/python3.6/dist-packages (from tensorflow-gpu==2.0.0) (0.9.0)\n",
            "Requirement already satisfied: six>=1.10.0 in /usr/local/lib/python3.6/dist-packages (from tensorflow-gpu==2.0.0) (1.12.0)\n",
            "Requirement already satisfied: wheel>=0.26 in /usr/local/lib/python3.6/dist-packages (from tensorflow-gpu==2.0.0) (0.34.2)\n",
            "Requirement already satisfied: opt-einsum>=2.3.2 in /usr/local/lib/python3.6/dist-packages (from tensorflow-gpu==2.0.0) (3.2.1)\n",
            "Requirement already satisfied: wrapt>=1.11.1 in /usr/local/lib/python3.6/dist-packages (from tensorflow-gpu==2.0.0) (1.12.1)\n",
            "Requirement already satisfied: tensorboard<2.1.0,>=2.0.0 in /usr/local/lib/python3.6/dist-packages (from tensorflow-gpu==2.0.0) (2.0.2)\n",
            "Requirement already satisfied: numpy<2.0,>=1.16.0 in /usr/local/lib/python3.6/dist-packages (from tensorflow-gpu==2.0.0) (1.18.4)\n",
            "Requirement already satisfied: termcolor>=1.1.0 in /usr/local/lib/python3.6/dist-packages (from tensorflow-gpu==2.0.0) (1.1.0)\n",
            "Requirement already satisfied: protobuf>=3.6.1 in /usr/local/lib/python3.6/dist-packages (from tensorflow-gpu==2.0.0) (3.10.0)\n",
            "Requirement already satisfied: google-pasta>=0.1.6 in /usr/local/lib/python3.6/dist-packages (from tensorflow-gpu==2.0.0) (0.2.0)\n",
            "Requirement already satisfied: tensorflow-estimator<2.1.0,>=2.0.0 in /usr/local/lib/python3.6/dist-packages (from tensorflow-gpu==2.0.0) (2.0.1)\n",
            "Requirement already satisfied: h5py in /usr/local/lib/python3.6/dist-packages (from keras-applications>=1.0.8->tensorflow-gpu==2.0.0) (2.10.0)\n",
            "Requirement already satisfied: requests<3,>=2.21.0 in /usr/local/lib/python3.6/dist-packages (from tensorboard<2.1.0,>=2.0.0->tensorflow-gpu==2.0.0) (2.23.0)\n",
            "Requirement already satisfied: google-auth<2,>=1.6.3 in /usr/local/lib/python3.6/dist-packages (from tensorboard<2.1.0,>=2.0.0->tensorflow-gpu==2.0.0) (1.7.2)\n",
            "Requirement already satisfied: google-auth-oauthlib<0.5,>=0.4.1 in /usr/local/lib/python3.6/dist-packages (from tensorboard<2.1.0,>=2.0.0->tensorflow-gpu==2.0.0) (0.4.1)\n",
            "Requirement already satisfied: markdown>=2.6.8 in /usr/local/lib/python3.6/dist-packages (from tensorboard<2.1.0,>=2.0.0->tensorflow-gpu==2.0.0) (3.2.1)\n",
            "Requirement already satisfied: werkzeug>=0.11.15 in /usr/local/lib/python3.6/dist-packages (from tensorboard<2.1.0,>=2.0.0->tensorflow-gpu==2.0.0) (1.0.1)\n",
            "Requirement already satisfied: setuptools>=41.0.0 in /usr/local/lib/python3.6/dist-packages (from tensorboard<2.1.0,>=2.0.0->tensorflow-gpu==2.0.0) (46.3.0)\n",
            "Requirement already satisfied: certifi>=2017.4.17 in /usr/local/lib/python3.6/dist-packages (from requests<3,>=2.21.0->tensorboard<2.1.0,>=2.0.0->tensorflow-gpu==2.0.0) (2020.4.5.1)\n",
            "Requirement already satisfied: idna<3,>=2.5 in /usr/local/lib/python3.6/dist-packages (from requests<3,>=2.21.0->tensorboard<2.1.0,>=2.0.0->tensorflow-gpu==2.0.0) (2.9)\n",
            "Requirement already satisfied: urllib3!=1.25.0,!=1.25.1,<1.26,>=1.21.1 in /usr/local/lib/python3.6/dist-packages (from requests<3,>=2.21.0->tensorboard<2.1.0,>=2.0.0->tensorflow-gpu==2.0.0) (1.24.3)\n",
            "Requirement already satisfied: chardet<4,>=3.0.2 in /usr/local/lib/python3.6/dist-packages (from requests<3,>=2.21.0->tensorboard<2.1.0,>=2.0.0->tensorflow-gpu==2.0.0) (3.0.4)\n",
            "Requirement already satisfied: pyasn1-modules>=0.2.1 in /usr/local/lib/python3.6/dist-packages (from google-auth<2,>=1.6.3->tensorboard<2.1.0,>=2.0.0->tensorflow-gpu==2.0.0) (0.2.8)\n",
            "Requirement already satisfied: cachetools<3.2,>=2.0.0 in /usr/local/lib/python3.6/dist-packages (from google-auth<2,>=1.6.3->tensorboard<2.1.0,>=2.0.0->tensorflow-gpu==2.0.0) (3.1.1)\n",
            "Requirement already satisfied: rsa<4.1,>=3.1.4 in /usr/local/lib/python3.6/dist-packages (from google-auth<2,>=1.6.3->tensorboard<2.1.0,>=2.0.0->tensorflow-gpu==2.0.0) (4.0)\n",
            "Requirement already satisfied: requests-oauthlib>=0.7.0 in /usr/local/lib/python3.6/dist-packages (from google-auth-oauthlib<0.5,>=0.4.1->tensorboard<2.1.0,>=2.0.0->tensorflow-gpu==2.0.0) (1.3.0)\n",
            "Requirement already satisfied: pyasn1<0.5.0,>=0.4.6 in /usr/local/lib/python3.6/dist-packages (from pyasn1-modules>=0.2.1->google-auth<2,>=1.6.3->tensorboard<2.1.0,>=2.0.0->tensorflow-gpu==2.0.0) (0.4.8)\n",
            "Requirement already satisfied: oauthlib>=3.0.0 in /usr/local/lib/python3.6/dist-packages (from requests-oauthlib>=0.7.0->google-auth-oauthlib<0.5,>=0.4.1->tensorboard<2.1.0,>=2.0.0->tensorflow-gpu==2.0.0) (3.1.0)\n",
            "Requirement already satisfied: transformers in /usr/local/lib/python3.6/dist-packages (2.9.1)\n",
            "Requirement already satisfied: sentencepiece in /usr/local/lib/python3.6/dist-packages (from transformers) (0.1.90)\n",
            "Requirement already satisfied: dataclasses; python_version < \"3.7\" in /usr/local/lib/python3.6/dist-packages (from transformers) (0.7)\n",
            "Requirement already satisfied: regex!=2019.12.17 in /usr/local/lib/python3.6/dist-packages (from transformers) (2019.12.20)\n",
            "Requirement already satisfied: tqdm>=4.27 in /usr/local/lib/python3.6/dist-packages (from transformers) (4.41.1)\n",
            "Requirement already satisfied: tokenizers==0.7.0 in /usr/local/lib/python3.6/dist-packages (from transformers) (0.7.0)\n",
            "Requirement already satisfied: numpy in /usr/local/lib/python3.6/dist-packages (from transformers) (1.18.4)\n",
            "Requirement already satisfied: requests in /usr/local/lib/python3.6/dist-packages (from transformers) (2.23.0)\n",
            "Requirement already satisfied: filelock in /usr/local/lib/python3.6/dist-packages (from transformers) (3.0.12)\n",
            "Requirement already satisfied: sacremoses in /usr/local/lib/python3.6/dist-packages (from transformers) (0.0.43)\n",
            "Requirement already satisfied: idna<3,>=2.5 in /usr/local/lib/python3.6/dist-packages (from requests->transformers) (2.9)\n",
            "Requirement already satisfied: urllib3!=1.25.0,!=1.25.1,<1.26,>=1.21.1 in /usr/local/lib/python3.6/dist-packages (from requests->transformers) (1.24.3)\n",
            "Requirement already satisfied: certifi>=2017.4.17 in /usr/local/lib/python3.6/dist-packages (from requests->transformers) (2020.4.5.1)\n",
            "Requirement already satisfied: chardet<4,>=3.0.2 in /usr/local/lib/python3.6/dist-packages (from requests->transformers) (3.0.4)\n",
            "Requirement already satisfied: click in /usr/local/lib/python3.6/dist-packages (from sacremoses->transformers) (7.1.2)\n",
            "Requirement already satisfied: six in /usr/local/lib/python3.6/dist-packages (from sacremoses->transformers) (1.12.0)\n",
            "Requirement already satisfied: joblib in /usr/local/lib/python3.6/dist-packages (from sacremoses->transformers) (0.14.1)\n",
            "Requirement already up-to-date: sentence-transformers in /usr/local/lib/python3.6/dist-packages (0.2.6.1)\n",
            "Requirement already satisfied, skipping upgrade: scikit-learn in /usr/local/lib/python3.6/dist-packages (from sentence-transformers) (0.22.2.post1)\n",
            "Requirement already satisfied, skipping upgrade: numpy in /usr/local/lib/python3.6/dist-packages (from sentence-transformers) (1.18.4)\n",
            "Requirement already satisfied, skipping upgrade: torch>=1.0.1 in /usr/local/lib/python3.6/dist-packages (from sentence-transformers) (1.5.0+cu101)\n",
            "Requirement already satisfied, skipping upgrade: scipy in /usr/local/lib/python3.6/dist-packages (from sentence-transformers) (1.4.1)\n",
            "Requirement already satisfied, skipping upgrade: transformers>=2.8.0 in /usr/local/lib/python3.6/dist-packages (from sentence-transformers) (2.9.1)\n",
            "Requirement already satisfied, skipping upgrade: tqdm in /usr/local/lib/python3.6/dist-packages (from sentence-transformers) (4.41.1)\n",
            "Requirement already satisfied, skipping upgrade: nltk in /usr/local/lib/python3.6/dist-packages (from sentence-transformers) (3.2.5)\n",
            "Requirement already satisfied, skipping upgrade: joblib>=0.11 in /usr/local/lib/python3.6/dist-packages (from scikit-learn->sentence-transformers) (0.14.1)\n",
            "Requirement already satisfied, skipping upgrade: future in /usr/local/lib/python3.6/dist-packages (from torch>=1.0.1->sentence-transformers) (0.16.0)\n",
            "Requirement already satisfied, skipping upgrade: filelock in /usr/local/lib/python3.6/dist-packages (from transformers>=2.8.0->sentence-transformers) (3.0.12)\n",
            "Requirement already satisfied, skipping upgrade: dataclasses; python_version < \"3.7\" in /usr/local/lib/python3.6/dist-packages (from transformers>=2.8.0->sentence-transformers) (0.7)\n",
            "Requirement already satisfied, skipping upgrade: tokenizers==0.7.0 in /usr/local/lib/python3.6/dist-packages (from transformers>=2.8.0->sentence-transformers) (0.7.0)\n",
            "Requirement already satisfied, skipping upgrade: sentencepiece in /usr/local/lib/python3.6/dist-packages (from transformers>=2.8.0->sentence-transformers) (0.1.90)\n",
            "Requirement already satisfied, skipping upgrade: sacremoses in /usr/local/lib/python3.6/dist-packages (from transformers>=2.8.0->sentence-transformers) (0.0.43)\n",
            "Requirement already satisfied, skipping upgrade: regex!=2019.12.17 in /usr/local/lib/python3.6/dist-packages (from transformers>=2.8.0->sentence-transformers) (2019.12.20)\n",
            "Requirement already satisfied, skipping upgrade: requests in /usr/local/lib/python3.6/dist-packages (from transformers>=2.8.0->sentence-transformers) (2.23.0)\n",
            "Requirement already satisfied, skipping upgrade: six in /usr/local/lib/python3.6/dist-packages (from nltk->sentence-transformers) (1.12.0)\n",
            "Requirement already satisfied, skipping upgrade: click in /usr/local/lib/python3.6/dist-packages (from sacremoses->transformers>=2.8.0->sentence-transformers) (7.1.2)\n",
            "Requirement already satisfied, skipping upgrade: certifi>=2017.4.17 in /usr/local/lib/python3.6/dist-packages (from requests->transformers>=2.8.0->sentence-transformers) (2020.4.5.1)\n",
            "Requirement already satisfied, skipping upgrade: urllib3!=1.25.0,!=1.25.1,<1.26,>=1.21.1 in /usr/local/lib/python3.6/dist-packages (from requests->transformers>=2.8.0->sentence-transformers) (1.24.3)\n",
            "Requirement already satisfied, skipping upgrade: idna<3,>=2.5 in /usr/local/lib/python3.6/dist-packages (from requests->transformers>=2.8.0->sentence-transformers) (2.9)\n",
            "Requirement already satisfied, skipping upgrade: chardet<4,>=3.0.2 in /usr/local/lib/python3.6/dist-packages (from requests->transformers>=2.8.0->sentence-transformers) (3.0.4)\n"
          ],
          "name": "stdout"
        }
      ]
    },
    {
      "cell_type": "code",
      "metadata": {
        "id": "svHyobNV9mHE",
        "colab_type": "code",
        "outputId": "a9bf558f-ccf7-4a25-937c-4ac5d6f3d49c",
        "colab": {
          "base_uri": "https://localhost:8080/",
          "height": 34
        }
      },
      "source": [
        "!pip install annoy"
      ],
      "execution_count": 0,
      "outputs": [
        {
          "output_type": "stream",
          "text": [
            "Requirement already satisfied: annoy in /usr/local/lib/python3.6/dist-packages (1.16.3)\n"
          ],
          "name": "stdout"
        }
      ]
    },
    {
      "cell_type": "markdown",
      "metadata": {
        "id": "xD5hmFLtwUK6",
        "colab_type": "text"
      },
      "source": [
        "# Import Libraries"
      ]
    },
    {
      "cell_type": "code",
      "metadata": {
        "id": "QEuIXnUK5NF7",
        "colab_type": "code",
        "colab": {}
      },
      "source": [
        "from tqdm import tqdm_notebook\n",
        "import networkx as nx       \n",
        "from annoy import AnnoyIndex"
      ],
      "execution_count": 0,
      "outputs": []
    },
    {
      "cell_type": "code",
      "metadata": {
        "id": "0Tu8xs8mB1Mk",
        "colab_type": "code",
        "colab": {}
      },
      "source": [
        "import numpy as np\n",
        "import pandas as pd\n",
        "from sklearn.model_selection import train_test_split\n",
        "import tensorflow as tf\n",
        "import transformers as ppb\n",
        "import warnings\n",
        "warnings.filterwarnings('ignore')\n",
        "\n",
        "from collections import defaultdict\n",
        "import tqdm\n",
        "import matplotlib.pyplot as plt\n",
        "from keras.preprocessing.sequence import pad_sequences\n",
        "from sentence_transformers import models, SentenceTransformer"
      ],
      "execution_count": 0,
      "outputs": []
    },
    {
      "cell_type": "markdown",
      "metadata": {
        "id": "bfeNODpUmxaw",
        "colab_type": "text"
      },
      "source": [
        "# Utility Functions"
      ]
    },
    {
      "cell_type": "markdown",
      "metadata": {
        "id": "SxGOIlTVwc1U",
        "colab_type": "text"
      },
      "source": [
        "## Build Graph of Synonims"
      ]
    },
    {
      "cell_type": "code",
      "metadata": {
        "id": "rtv5-wvW0vHP",
        "colab_type": "code",
        "colab": {}
      },
      "source": [
        "def build_graph(\n",
        "    source_sentences : list,\n",
        "    target_sentences : list\n",
        "):\n",
        "  G = nx.Graph()\n",
        "  for current_index, one_source_sentence in tqdm_notebook(enumerate(source_sentences)):\n",
        "    G.add_node(one_source_sentence)\n",
        "    G.add_node(target_sentences[current_index])\n",
        "    G.add_edge(one_source_sentence, target_sentences[current_index])\n",
        "  print(\"We have {} pairs of sentences. Graph has {} components\".format(\n",
        "      len(source_sentences),\n",
        "      nx.number_connected_components(G)\n",
        "  ))\n",
        "  return G"
      ],
      "execution_count": 0,
      "outputs": []
    },
    {
      "cell_type": "markdown",
      "metadata": {
        "id": "DMAha2hym4mN",
        "colab_type": "text"
      },
      "source": [
        "## Filter Sentence Length"
      ]
    },
    {
      "cell_type": "code",
      "metadata": {
        "id": "AmhT_6oA-snf",
        "colab_type": "code",
        "colab": {}
      },
      "source": [
        "MAX_LIMIT_OF_SEQ = 50\n",
        "\n",
        "def filter_sent_length(source_sentences, target_sentences):\n",
        "  \"\"\"Remove sentences that have more than 50 tokens\"\"\"\n",
        "  source_sentences_list = []\n",
        "  target_sentences_list = []\n",
        "  for source_sentence, target_sentence in zip(source_sentences, target_sentences):\n",
        "    if len(source_sentence.split()) > MAX_LIMIT_OF_SEQ or len(target_sentence.split()) > MAX_LIMIT_OF_SEQ:\n",
        "      continue\n",
        "    else:\n",
        "      source_sentences_list.append(source_sentence)\n",
        "      target_sentences_list.append(target_sentence)\n",
        "  return source_sentences_list, target_sentences_list"
      ],
      "execution_count": 0,
      "outputs": []
    },
    {
      "cell_type": "markdown",
      "metadata": {
        "id": "Hx6qWm3dXMZI",
        "colab_type": "text"
      },
      "source": [
        "## Models with Different Pooling Strategies"
      ]
    },
    {
      "cell_type": "code",
      "metadata": {
        "id": "BW3c_xAuxatF",
        "colab_type": "code",
        "colab": {}
      },
      "source": [
        "# Use BERT for mapping tokens to embeddings\n",
        "word_embedding_model = models.Transformer('bert-base-multilingual-cased')\n",
        "\n",
        "# Apply mean/max/cls pooling to get one fixed sized sentence vector\n",
        "mean_pooling_model = models.Pooling(word_embedding_model.get_word_embedding_dimension(),\n",
        "                                 pooling_mode_mean_tokens=True,\n",
        "                                 pooling_mode_cls_token=False,\n",
        "                                 pooling_mode_max_tokens=False)\n",
        "cls_pooling_model = models.Pooling(word_embedding_model.get_word_embedding_dimension(),\n",
        "                                 pooling_mode_mean_tokens=False,\n",
        "                                 pooling_mode_cls_token=True,\n",
        "                                 pooling_mode_max_tokens=False)\n",
        "max_pooling_model = models.Pooling(word_embedding_model.get_word_embedding_dimension(),\n",
        "                                 pooling_mode_mean_tokens=False,\n",
        "                                 pooling_mode_cls_token=False,\n",
        "                                 pooling_mode_max_tokens=True)\n",
        "\n",
        "mean_model = SentenceTransformer(modules=[word_embedding_model, mean_pooling_model])\n",
        "cls_model = SentenceTransformer(modules=[word_embedding_model, cls_pooling_model])\n",
        "max_model = SentenceTransformer(modules=[word_embedding_model, max_pooling_model])"
      ],
      "execution_count": 0,
      "outputs": []
    },
    {
      "cell_type": "markdown",
      "metadata": {
        "id": "2vq5dMixmLJb",
        "colab_type": "text"
      },
      "source": [
        "## Get Representations"
      ]
    },
    {
      "cell_type": "code",
      "metadata": {
        "id": "Weql-rNJmIEr",
        "colab_type": "code",
        "colab": {}
      },
      "source": [
        "def get_representations(list_of_sentences : list,\n",
        "                        representation_type = 'cls'):\n",
        "\n",
        "  if representation_type == 'mean':\n",
        "    res_embeddings = mean_model.encode(list_of_sentences, \n",
        "                      batch_size = 128, \n",
        "                      show_progress_bar = True,\n",
        "                      convert_to_numpy = True)\n",
        "  elif representation_type == 'max':\n",
        "    res_embeddings = max_model.encode(list_of_sentences, \n",
        "                      batch_size = 128, \n",
        "                      show_progress_bar = True,\n",
        "                      convert_to_numpy = True)\n",
        "  else:\n",
        "    res_embeddings = cls_model.encode(list_of_sentences, \n",
        "        batch_size = 128, \n",
        "        show_progress_bar = True,\n",
        "        convert_to_numpy = True)\n",
        "\n",
        "  return res_embeddings"
      ],
      "execution_count": 0,
      "outputs": []
    },
    {
      "cell_type": "markdown",
      "metadata": {
        "id": "04nTj-fvXdCv",
        "colab_type": "text"
      },
      "source": [
        "## Get Difference Vector"
      ]
    },
    {
      "cell_type": "code",
      "metadata": {
        "id": "QebOFBkB7RAC",
        "colab_type": "code",
        "colab": {}
      },
      "source": [
        "def get_diff_vector(embeddings_source, embeddings_target):\n",
        "  \"\"\"\n",
        "  Obtains a list of vectors that represent differences between an embedding in \n",
        "  a source-language and a target-language embedding. \n",
        "  \"\"\"\n",
        "  difference_vector = (embeddings_target - embeddings_source)\n",
        "  print('Shape of difference (TARGET-SOURCE) vector: {}'.format(difference_vector.shape))\n",
        "  source_to_target_vector = np.mean(difference_vector, axis=0)\n",
        "  print('Shift source -> target vector: {}'.format(source_to_target_vector.shape))\n",
        "  return source_to_target_vector"
      ],
      "execution_count": 0,
      "outputs": []
    },
    {
      "cell_type": "markdown",
      "metadata": {
        "id": "PaIWK7PlmY9v",
        "colab_type": "text"
      },
      "source": [
        "## Build Annoy Index"
      ]
    },
    {
      "cell_type": "code",
      "metadata": {
        "id": "KrEfVVhcmd52",
        "colab_type": "code",
        "colab": {}
      },
      "source": [
        "def build_index(source_embeddings, target_embeddings):\n",
        "  f = 768\n",
        "  sourceIndex = AnnoyIndex(f, 'angular')  # Length of item vector to be indexed\n",
        "  targetIndex = AnnoyIndex(f, 'angular')  # Length of item vector to be indexed\n",
        "\n",
        "  for index, source_vector in enumerate(source_embeddings):\n",
        "    sourceIndex.add_item(index, source_vector)\n",
        "  sourceIndex.build(100)\n",
        "\n",
        "  for index, target_vector in enumerate(target_embeddings):\n",
        "    targetIndex.add_item(index, target_vector)\n",
        "  targetIndex.build(100)\n",
        "  return sourceIndex, targetIndex"
      ],
      "execution_count": 0,
      "outputs": []
    },
    {
      "cell_type": "markdown",
      "metadata": {
        "id": "-l6Ie1sXnHfc",
        "colab_type": "text"
      },
      "source": [
        "## Calculate Accuracy"
      ]
    },
    {
      "cell_type": "code",
      "metadata": {
        "id": "SBj2CkCBCB0D",
        "colab_type": "code",
        "colab": {}
      },
      "source": [
        "def calculate_accuracy_source2target(\n",
        "    targetIndex,\n",
        "    test_embeddings_4_source, \n",
        "    indices_test_positions,\n",
        "    shift_vector,\n",
        "    kG,\n",
        "    source_sentences,\n",
        "    target_sentences,\n",
        "):\n",
        "  test_size = len(indices_test_positions)\n",
        "  top_1, top_3, top_5 = 0, 0, 0\n",
        "  list_of_stat_results = []\n",
        "\n",
        "\n",
        "  for current_index, source_test_vector in zip(indices_test_positions, test_embeddings_4_source):\n",
        "    res = {}\n",
        "    res['source'] = source_sentences[current_index]\n",
        "    res['target'] = target_sentences[current_index]\n",
        "\n",
        "    predicted_target_vector = source_test_vector + shift_vector\n",
        "  \n",
        "    # В ходе сдвига - согласно гипотезе - должны получить перевод\n",
        "    list_of_nearest_positions, list_of_distances = targetIndex.get_nns_by_vector(predicted_target_vector, n=5, include_distances=True)\n",
        "    \n",
        "    for index, current_position in enumerate(list_of_nearest_positions):\n",
        "      res['{} translate'.format(index+1)] = target_sentences[current_position]\n",
        "\n",
        "    if current_index == list_of_nearest_positions[0]:\n",
        "      top_1 += 1\n",
        "      res['label'] = 'top-1'\n",
        "\n",
        "    for current_position in list_of_nearest_positions[:3]:\n",
        "      if target_sentences[current_position] in nx.node_connected_component(kG, source_sentences[current_index]):\n",
        "        top_3 += 1\n",
        "        if 'label' not in res: \n",
        "          res['label'] = 'top-3'\n",
        "        break\n",
        "\n",
        "    for current_position in list_of_nearest_positions:\n",
        "      if target_sentences[current_position] in nx.node_connected_component(kG, source_sentences[current_index]):\n",
        "        top_5 += 1\n",
        "        if 'label' not in res: \n",
        "          res['label'] = 'top-5'\n",
        "        break\n",
        "    list_of_stat_results.append(res)\n",
        "    \n",
        "  top_1 = top_1 / test_size\n",
        "  top_3 = top_3 / test_size\n",
        "  top_5 = top_5 / test_size\n",
        "\n",
        "  accuracy_stat = {}\n",
        "  accuracy_stat['top-1'] = top_1\n",
        "  accuracy_stat['top-3'] = top_3\n",
        "  accuracy_stat['top-5'] = top_5\n",
        "\n",
        "  return accuracy_stat, pd.DataFrame(list_of_stat_results)"
      ],
      "execution_count": 0,
      "outputs": []
    },
    {
      "cell_type": "markdown",
      "metadata": {
        "id": "0nRDQ7rgmm3F",
        "colab_type": "text"
      },
      "source": [
        "## Get Results"
      ]
    },
    {
      "cell_type": "code",
      "metadata": {
        "id": "YtmqI8LGmxBD",
        "colab_type": "code",
        "colab": {}
      },
      "source": [
        "import time"
      ],
      "execution_count": 0,
      "outputs": []
    },
    {
      "cell_type": "code",
      "metadata": {
        "id": "DTA95Ra891e_",
        "colab_type": "code",
        "colab": {}
      },
      "source": [
        "def get_results(original_source_sentences, original_target_sentences,\n",
        "                source_language, target_language, representation_type = 'cls'):\n",
        "  start_time = time.time()\n",
        "  source_sentences, target_sentences = filter_sent_length(original_source_sentences, \n",
        "                                                          original_target_sentences)\n",
        "\n",
        "\n",
        "  kG = build_graph(source_sentences, target_sentences)\n",
        "  source_embeddings = get_representations(source_sentences, representation_type)\n",
        "  target_embeddings = get_representations(target_sentences, representation_type)\n",
        "\n",
        "  indices_train, indices_test = train_test_split(\n",
        "      np.arange(len(source_sentences)),\n",
        "      random_state=42, \n",
        "      test_size=0.5)\n",
        "    \n",
        "  source_index, target_index = build_index(\n",
        "        np.array(source_embeddings),\n",
        "        np.array(target_embeddings)\n",
        "        )\n",
        "\n",
        "  train_source_embeddings = np.array(source_embeddings)[indices_train]\n",
        "  train_target_embeddings = np.array(target_embeddings)[indices_train]\n",
        "    \n",
        "  test_source_embeddings = np.array(source_embeddings)[indices_test]\n",
        "  test_target_embeddings = np.array(target_embeddings)[indices_test]\n",
        "\n",
        "  shift_vector = get_diff_vector(train_source_embeddings, train_target_embeddings)\n",
        "  accuracy_dict_source2target, resDF_source2target  = calculate_accuracy_source2target(\n",
        "        target_index,\n",
        "        test_source_embeddings,\n",
        "        indices_test,\n",
        "        shift_vector,\n",
        "        kG,\n",
        "        source_sentences, \n",
        "        target_sentences)\n",
        "  print('{} = {} -> {} : {}'.format(representation_type, source_language, target_language, accuracy_dict_source2target))\n",
        "  accuracy_dict_target2source, resDF_target2source  = calculate_accuracy_source2target(\n",
        "        source_index,\n",
        "        test_target_embeddings,\n",
        "        indices_test,\n",
        "        -shift_vector,\n",
        "        kG,\n",
        "        target_sentences,\n",
        "        source_sentences \n",
        "        )\n",
        "  print('{} = {} -> {} : {}'.format(representation_type, target_language,source_language, accuracy_dict_target2source))\n",
        "  print(\"--- %s seconds ---\" % (time.time() - start_time))\n",
        "  return accuracy_dict_source2target, resDF_source2target, accuracy_dict_target2source, resDF_target2source"
      ],
      "execution_count": 0,
      "outputs": []
    },
    {
      "cell_type": "markdown",
      "metadata": {
        "id": "6WEwgyC9nLBm",
        "colab_type": "text"
      },
      "source": [
        "# Download Datasets"
      ]
    },
    {
      "cell_type": "markdown",
      "metadata": {
        "id": "gtlSJTmwnRC_",
        "colab_type": "text"
      },
      "source": [
        "## Download & Unpack"
      ]
    },
    {
      "cell_type": "code",
      "metadata": {
        "id": "q5GKPAYKnQX_",
        "colab_type": "code",
        "outputId": "d239829b-6280-4afa-db8d-65db5f866ffe",
        "colab": {
          "base_uri": "https://localhost:8080/",
          "height": 1000
        }
      },
      "source": [
        "# Download & unzip datasets\n",
        "!wget https://object.pouta.csc.fi/OPUS-Tatoeba/v20190709/moses/en-ru.txt.zip\n",
        "!unzip -o en-ru.txt.zip -d ./tatoeba/\n",
        "!wget https://object.pouta.csc.fi/OPUS-Tatoeba/v20190709/moses/en-es.txt.zip\n",
        "!unzip -o en-es.txt.zip -d ./tatoeba/\n",
        "!wget https://object.pouta.csc.fi/OPUS-Tatoeba/v20190709/moses/en-fr.txt.zip\n",
        "!unzip -o en-fr.txt.zip -d ./tatoeba/\n",
        "!wget https://object.pouta.csc.fi/OPUS-Tatoeba/v20190709/moses/en-it.txt.zip\n",
        "!unzip -o en-it.txt.zip -d ./tatoeba/\n",
        "!wget https://object.pouta.csc.fi/OPUS-Tatoeba/v20190709/moses/de-en.txt.zip\n",
        "!unzip -o de-en.txt.zip -d ./tatoeba/\n",
        "!wget https://object.pouta.csc.fi/OPUS-Tatoeba/v20190709/moses/en-fi.txt.zip\n",
        "!unzip -o en-fi.txt.zip -d ./tatoeba/\n",
        "!wget https://object.pouta.csc.fi/OPUS-Tatoeba/v20190709/moses/en-ja.txt.zip\n",
        "!unzip -o en-ja.txt.zip -d ./tatoeba/\n",
        "!wget https://object.pouta.csc.fi/OPUS-Tatoeba/v20190709/moses/en-hi.txt.zip\n",
        "!unzip -o en-hi.txt.zip -d ./tatoeba/\n",
        "!wget https://object.pouta.csc.fi/OPUS-Tatoeba/v20190709/moses/en-tr.txt.zip\n",
        "!unzip -o en-tr.txt.zip -d ./tatoeba/\n",
        "!wget https://object.pouta.csc.fi/OPUS-Tatoeba/v20190709/moses/en-vi.txt.zip\n",
        "!unzip -o en-vi.txt.zip -d ./tatoeba/\n",
        "!wget https://object.pouta.csc.fi/OPUS-Tatoeba/v20190709/moses/en-lt.txt.zip\n",
        "!unzip -o en-lt.txt.zip -d ./tatoeba/\n",
        "!wget https://object.pouta.csc.fi/OPUS-Tatoeba/v20190709/moses/en-he.txt.zip\n",
        "!unzip -o en-he.txt.zip -d ./tatoeba/\n",
        "!wget https://object.pouta.csc.fi/OPUS-Tatoeba/v20190709/moses/ar-en.txt.zip\n",
        "!unzip -o ar-en.txt.zip -d ./tatoeba/\n",
        "!wget https://object.pouta.csc.fi/OPUS-Tatoeba/v20190709/moses/en-is.txt.zip\n",
        "!unzip -o en-is.txt.zip -d ./tatoeba/\n",
        "\n",
        "\n",
        "!unzip -o en-ru.txt.zip\n",
        "!unzip -o en-es.txt.zip\n",
        "!unzip -o en-fr.txt.zip\n",
        "!unzip -o en-it.txt.zip\n",
        "!unzip -o de-en.txt.zip\n",
        "!unzip -o en-fi.txt.zip\n",
        "!unzip -o en-ja.txt.zip\n",
        "!unzip -o en-hi.txt.zip\n",
        "!unzip -o en-tr.txt.zip\n",
        "!unzip -o en-vi.txt.zip\n",
        "!unzip -o en-lt.txt.zip\n",
        "!unzip -o en-he.txt.zip\n",
        "!unzip -o ar-en.txt.zip\n",
        "!unzip -o en-is.txt.zip"
      ],
      "execution_count": 0,
      "outputs": [
        {
          "output_type": "stream",
          "text": [
            "--2020-05-17 12:23:31--  https://object.pouta.csc.fi/OPUS-Tatoeba/v20190709/moses/en-ru.txt.zip\n",
            "Resolving object.pouta.csc.fi (object.pouta.csc.fi)... 86.50.254.18, 86.50.254.19\n",
            "Connecting to object.pouta.csc.fi (object.pouta.csc.fi)|86.50.254.18|:443... connected.\n",
            "HTTP request sent, awaiting response... 200 OK\n",
            "Length: 14609714 (14M) [application/zip]\n",
            "Saving to: ‘en-ru.txt.zip.1’\n",
            "\n",
            "en-ru.txt.zip.1     100%[===================>]  13.93M  4.36MB/s    in 3.2s    \n",
            "\n",
            "2020-05-17 12:23:36 (4.36 MB/s) - ‘en-ru.txt.zip.1’ saved [14609714/14609714]\n",
            "\n",
            "Archive:  en-ru.txt.zip\n",
            "  inflating: ./tatoeba/README        \n",
            "  inflating: ./tatoeba/LICENSE       \n",
            "  inflating: ./tatoeba/Tatoeba.en-ru.en  \n",
            "  inflating: ./tatoeba/Tatoeba.en-ru.ru  \n",
            "  inflating: ./tatoeba/Tatoeba.en-ru.xml  \n",
            "--2020-05-17 12:23:39--  https://object.pouta.csc.fi/OPUS-Tatoeba/v20190709/moses/en-es.txt.zip\n",
            "Resolving object.pouta.csc.fi (object.pouta.csc.fi)... 86.50.254.18, 86.50.254.19\n",
            "Connecting to object.pouta.csc.fi (object.pouta.csc.fi)|86.50.254.18|:443... connected.\n",
            "HTTP request sent, awaiting response... 200 OK\n",
            "Length: 6987639 (6.7M) [application/zip]\n",
            "Saving to: ‘en-es.txt.zip.1’\n",
            "\n",
            "en-es.txt.zip.1     100%[===================>]   6.66M  2.84MB/s    in 2.3s    \n",
            "\n",
            "2020-05-17 12:23:43 (2.84 MB/s) - ‘en-es.txt.zip.1’ saved [6987639/6987639]\n",
            "\n",
            "Archive:  en-es.txt.zip\n",
            "  inflating: ./tatoeba/README        \n",
            "  inflating: ./tatoeba/LICENSE       \n",
            "  inflating: ./tatoeba/Tatoeba.en-es.en  \n",
            "  inflating: ./tatoeba/Tatoeba.en-es.es  \n",
            "  inflating: ./tatoeba/Tatoeba.en-es.xml  \n",
            "--2020-05-17 12:23:47--  https://object.pouta.csc.fi/OPUS-Tatoeba/v20190709/moses/en-fr.txt.zip\n",
            "Resolving object.pouta.csc.fi (object.pouta.csc.fi)... 86.50.254.18, 86.50.254.19\n",
            "Connecting to object.pouta.csc.fi (object.pouta.csc.fi)|86.50.254.18|:443... connected.\n",
            "HTTP request sent, awaiting response... 200 OK\n",
            "Length: 8188776 (7.8M) [application/zip]\n",
            "Saving to: ‘en-fr.txt.zip.1’\n",
            "\n",
            "en-fr.txt.zip.1     100%[===================>]   7.81M  3.36MB/s    in 2.3s    \n",
            "\n",
            "2020-05-17 12:23:51 (3.36 MB/s) - ‘en-fr.txt.zip.1’ saved [8188776/8188776]\n",
            "\n",
            "Archive:  en-fr.txt.zip\n",
            "  inflating: ./tatoeba/README        \n",
            "  inflating: ./tatoeba/LICENSE       \n",
            "  inflating: ./tatoeba/Tatoeba.en-fr.en  \n",
            "  inflating: ./tatoeba/Tatoeba.en-fr.fr  \n",
            "  inflating: ./tatoeba/Tatoeba.en-fr.xml  \n",
            "--2020-05-17 12:23:55--  https://object.pouta.csc.fi/OPUS-Tatoeba/v20190709/moses/en-it.txt.zip\n",
            "Resolving object.pouta.csc.fi (object.pouta.csc.fi)... 86.50.254.18, 86.50.254.19\n",
            "Connecting to object.pouta.csc.fi (object.pouta.csc.fi)|86.50.254.18|:443... connected.\n",
            "HTTP request sent, awaiting response... 200 OK\n",
            "Length: 9640368 (9.2M) [application/zip]\n",
            "Saving to: ‘en-it.txt.zip.1’\n",
            "\n",
            "en-it.txt.zip.1     100%[===================>]   9.19M  3.52MB/s    in 2.6s    \n",
            "\n",
            "2020-05-17 12:23:59 (3.52 MB/s) - ‘en-it.txt.zip.1’ saved [9640368/9640368]\n",
            "\n",
            "Archive:  en-it.txt.zip\n",
            "  inflating: ./tatoeba/README        \n",
            "  inflating: ./tatoeba/LICENSE       \n",
            "  inflating: ./tatoeba/Tatoeba.en-it.en  \n",
            "  inflating: ./tatoeba/Tatoeba.en-it.it  \n",
            "  inflating: ./tatoeba/Tatoeba.en-it.xml  \n",
            "--2020-05-17 12:24:02--  https://object.pouta.csc.fi/OPUS-Tatoeba/v20190709/moses/de-en.txt.zip\n",
            "Resolving object.pouta.csc.fi (object.pouta.csc.fi)... 86.50.254.18, 86.50.254.19\n",
            "Connecting to object.pouta.csc.fi (object.pouta.csc.fi)|86.50.254.18|:443... connected.\n",
            "HTTP request sent, awaiting response... 200 OK\n",
            "Length: 9957647 (9.5M) [application/zip]\n",
            "Saving to: ‘de-en.txt.zip.1’\n",
            "\n",
            "de-en.txt.zip.1     100%[===================>]   9.50M  3.63MB/s    in 2.6s    \n",
            "\n",
            "2020-05-17 12:24:06 (3.63 MB/s) - ‘de-en.txt.zip.1’ saved [9957647/9957647]\n",
            "\n",
            "Archive:  de-en.txt.zip\n",
            "  inflating: ./tatoeba/README        \n",
            "  inflating: ./tatoeba/LICENSE       \n",
            "  inflating: ./tatoeba/Tatoeba.de-en.de  \n",
            "  inflating: ./tatoeba/Tatoeba.de-en.en  \n",
            "  inflating: ./tatoeba/Tatoeba.de-en.xml  \n",
            "--2020-05-17 12:24:09--  https://object.pouta.csc.fi/OPUS-Tatoeba/v20190709/moses/en-fi.txt.zip\n",
            "Resolving object.pouta.csc.fi (object.pouta.csc.fi)... 86.50.254.18, 86.50.254.19\n",
            "Connecting to object.pouta.csc.fi (object.pouta.csc.fi)|86.50.254.18|:443... connected.\n",
            "HTTP request sent, awaiting response... 200 OK\n",
            "Length: 2486866 (2.4M) [application/zip]\n",
            "Saving to: ‘en-fi.txt.zip.1’\n",
            "\n",
            "en-fi.txt.zip.1     100%[===================>]   2.37M  1.36MB/s    in 1.7s    \n",
            "\n",
            "2020-05-17 12:24:12 (1.36 MB/s) - ‘en-fi.txt.zip.1’ saved [2486866/2486866]\n",
            "\n",
            "Archive:  en-fi.txt.zip\n",
            "  inflating: ./tatoeba/README        \n",
            "  inflating: ./tatoeba/LICENSE       \n",
            "  inflating: ./tatoeba/Tatoeba.en-fi.en  \n",
            "  inflating: ./tatoeba/Tatoeba.en-fi.fi  \n",
            "  inflating: ./tatoeba/Tatoeba.en-fi.xml  \n",
            "--2020-05-17 12:24:16--  https://object.pouta.csc.fi/OPUS-Tatoeba/v20190709/moses/en-ja.txt.zip\n",
            "Resolving object.pouta.csc.fi (object.pouta.csc.fi)... 86.50.254.18, 86.50.254.19\n",
            "Connecting to object.pouta.csc.fi (object.pouta.csc.fi)|86.50.254.18|:443... connected.\n",
            "HTTP request sent, awaiting response... 200 OK\n",
            "Length: 7456645 (7.1M) [application/zip]\n",
            "Saving to: ‘en-ja.txt.zip.1’\n",
            "\n",
            "en-ja.txt.zip.1     100%[===================>]   7.11M  2.70MB/s    in 2.6s    \n",
            "\n",
            "2020-05-17 12:24:20 (2.70 MB/s) - ‘en-ja.txt.zip.1’ saved [7456645/7456645]\n",
            "\n",
            "Archive:  en-ja.txt.zip\n",
            "  inflating: ./tatoeba/README        \n",
            "  inflating: ./tatoeba/LICENSE       \n",
            "  inflating: ./tatoeba/Tatoeba.en-ja.en  \n",
            "  inflating: ./tatoeba/Tatoeba.en-ja.ja  \n",
            "  inflating: ./tatoeba/Tatoeba.en-ja.xml  \n",
            "--2020-05-17 12:24:23--  https://object.pouta.csc.fi/OPUS-Tatoeba/v20190709/moses/en-hi.txt.zip\n",
            "Resolving object.pouta.csc.fi (object.pouta.csc.fi)... 86.50.254.18, 86.50.254.19\n",
            "Connecting to object.pouta.csc.fi (object.pouta.csc.fi)|86.50.254.18|:443... connected.\n",
            "HTTP request sent, awaiting response... 200 OK\n",
            "Length: 365391 (357K) [application/zip]\n",
            "Saving to: ‘en-hi.txt.zip.1’\n",
            "\n",
            "en-hi.txt.zip.1     100%[===================>] 356.83K   311KB/s    in 1.1s    \n",
            "\n",
            "2020-05-17 12:24:26 (311 KB/s) - ‘en-hi.txt.zip.1’ saved [365391/365391]\n",
            "\n",
            "Archive:  en-hi.txt.zip\n",
            "  inflating: ./tatoeba/README        \n",
            "  inflating: ./tatoeba/LICENSE       \n",
            "  inflating: ./tatoeba/Tatoeba.en-hi.en  \n",
            "  inflating: ./tatoeba/Tatoeba.en-hi.hi  \n",
            "  inflating: ./tatoeba/Tatoeba.en-hi.xml  \n",
            "--2020-05-17 12:24:30--  https://object.pouta.csc.fi/OPUS-Tatoeba/v20190709/moses/en-tr.txt.zip\n",
            "Resolving object.pouta.csc.fi (object.pouta.csc.fi)... 86.50.254.18, 86.50.254.19\n",
            "Connecting to object.pouta.csc.fi (object.pouta.csc.fi)|86.50.254.18|:443... connected.\n",
            "HTTP request sent, awaiting response... 200 OK\n",
            "Length: 20557714 (20M) [application/zip]\n",
            "Saving to: ‘en-tr.txt.zip.1’\n",
            "\n",
            "en-tr.txt.zip.1     100%[===================>]  19.60M  5.26MB/s    in 3.7s    \n",
            "\n",
            "2020-05-17 12:24:36 (5.26 MB/s) - ‘en-tr.txt.zip.1’ saved [20557714/20557714]\n",
            "\n",
            "Archive:  en-tr.txt.zip\n",
            "  inflating: ./tatoeba/README        \n",
            "  inflating: ./tatoeba/LICENSE       \n",
            "  inflating: ./tatoeba/Tatoeba.en-tr.en  \n",
            "  inflating: ./tatoeba/Tatoeba.en-tr.tr  \n",
            "  inflating: ./tatoeba/Tatoeba.en-tr.xml  \n",
            "--2020-05-17 12:24:39--  https://object.pouta.csc.fi/OPUS-Tatoeba/v20190709/moses/en-vi.txt.zip\n",
            "Resolving object.pouta.csc.fi (object.pouta.csc.fi)... 86.50.254.18, 86.50.254.19\n",
            "Connecting to object.pouta.csc.fi (object.pouta.csc.fi)|86.50.254.18|:443... connected.\n",
            "HTTP request sent, awaiting response... 200 OK\n",
            "Length: 209192 (204K) [application/zip]\n",
            "Saving to: ‘en-vi.txt.zip.1’\n",
            "\n",
            "en-vi.txt.zip.1     100%[===================>] 204.29K   352KB/s    in 0.6s    \n",
            "\n",
            "2020-05-17 12:24:41 (352 KB/s) - ‘en-vi.txt.zip.1’ saved [209192/209192]\n",
            "\n",
            "Archive:  en-vi.txt.zip\n",
            "  inflating: ./tatoeba/README        \n",
            "  inflating: ./tatoeba/LICENSE       \n",
            "  inflating: ./tatoeba/Tatoeba.en-vi.en  \n",
            "  inflating: ./tatoeba/Tatoeba.en-vi.vi  \n",
            "  inflating: ./tatoeba/Tatoeba.en-vi.xml  \n",
            "--2020-05-17 12:24:45--  https://object.pouta.csc.fi/OPUS-Tatoeba/v20190709/moses/en-lt.txt.zip\n",
            "Resolving object.pouta.csc.fi (object.pouta.csc.fi)... 86.50.254.18, 86.50.254.19\n",
            "Connecting to object.pouta.csc.fi (object.pouta.csc.fi)|86.50.254.18|:443... connected.\n",
            "HTTP request sent, awaiting response... 200 OK\n",
            "Length: 265334 (259K) [application/zip]\n",
            "Saving to: ‘en-lt.txt.zip.1’\n",
            "\n",
            "en-lt.txt.zip.1     100%[===================>] 259.12K   223KB/s    in 1.2s    \n",
            "\n",
            "2020-05-17 12:24:47 (223 KB/s) - ‘en-lt.txt.zip.1’ saved [265334/265334]\n",
            "\n",
            "Archive:  en-lt.txt.zip\n",
            "  inflating: ./tatoeba/README        \n",
            "  inflating: ./tatoeba/LICENSE       \n",
            "  inflating: ./tatoeba/Tatoeba.en-lt.en  \n",
            "  inflating: ./tatoeba/Tatoeba.en-lt.lt  \n",
            "  inflating: ./tatoeba/Tatoeba.en-lt.xml  \n",
            "--2020-05-17 12:24:50--  https://object.pouta.csc.fi/OPUS-Tatoeba/v20190709/moses/en-he.txt.zip\n",
            "Resolving object.pouta.csc.fi (object.pouta.csc.fi)... 86.50.254.18, 86.50.254.19\n",
            "Connecting to object.pouta.csc.fi (object.pouta.csc.fi)|86.50.254.18|:443... connected.\n",
            "HTTP request sent, awaiting response... 200 OK\n",
            "Length: 4977683 (4.7M) [application/zip]\n",
            "Saving to: ‘en-he.txt.zip.1’\n",
            "\n",
            "en-he.txt.zip.1     100%[===================>]   4.75M  2.31MB/s    in 2.1s    \n",
            "\n",
            "2020-05-17 12:24:53 (2.31 MB/s) - ‘en-he.txt.zip.1’ saved [4977683/4977683]\n",
            "\n",
            "Archive:  en-he.txt.zip\n",
            "  inflating: ./tatoeba/README        \n",
            "  inflating: ./tatoeba/LICENSE       \n",
            "  inflating: ./tatoeba/Tatoeba.en-he.en  \n",
            "  inflating: ./tatoeba/Tatoeba.en-he.he  \n",
            "  inflating: ./tatoeba/Tatoeba.en-he.xml  \n",
            "--2020-05-17 12:24:57--  https://object.pouta.csc.fi/OPUS-Tatoeba/v20190709/moses/ar-en.txt.zip\n",
            "Resolving object.pouta.csc.fi (object.pouta.csc.fi)... 86.50.254.18, 86.50.254.19\n",
            "Connecting to object.pouta.csc.fi (object.pouta.csc.fi)|86.50.254.18|:443... connected.\n",
            "HTTP request sent, awaiting response... 200 OK\n",
            "Length: 953579 (931K) [application/zip]\n",
            "Saving to: ‘ar-en.txt.zip.1’\n",
            "\n",
            "ar-en.txt.zip.1     100%[===================>] 931.23K   535KB/s    in 1.7s    \n",
            "\n",
            "2020-05-17 12:25:00 (535 KB/s) - ‘ar-en.txt.zip.1’ saved [953579/953579]\n",
            "\n",
            "Archive:  ar-en.txt.zip\n",
            "  inflating: ./tatoeba/README        \n",
            "  inflating: ./tatoeba/LICENSE       \n",
            "  inflating: ./tatoeba/Tatoeba.ar-en.ar  \n",
            "  inflating: ./tatoeba/Tatoeba.ar-en.en  \n",
            "  inflating: ./tatoeba/Tatoeba.ar-en.xml  \n",
            "--2020-05-17 12:25:03--  https://object.pouta.csc.fi/OPUS-Tatoeba/v20190709/moses/en-is.txt.zip\n",
            "Resolving object.pouta.csc.fi (object.pouta.csc.fi)... 86.50.254.18, 86.50.254.19\n",
            "Connecting to object.pouta.csc.fi (object.pouta.csc.fi)|86.50.254.18|:443... connected.\n",
            "HTTP request sent, awaiting response... 200 OK\n",
            "Length: 333680 (326K) [application/zip]\n",
            "Saving to: ‘en-is.txt.zip.1’\n",
            "\n",
            "en-is.txt.zip.1     100%[===================>] 325.86K   279KB/s    in 1.2s    \n",
            "\n",
            "2020-05-17 12:25:05 (279 KB/s) - ‘en-is.txt.zip.1’ saved [333680/333680]\n",
            "\n",
            "Archive:  en-is.txt.zip\n",
            "  inflating: ./tatoeba/README        \n",
            "  inflating: ./tatoeba/LICENSE       \n",
            "  inflating: ./tatoeba/Tatoeba.en-is.en  \n",
            "  inflating: ./tatoeba/Tatoeba.en-is.is  \n",
            "  inflating: ./tatoeba/Tatoeba.en-is.xml  \n",
            "Archive:  en-ru.txt.zip\n",
            "  inflating: README                  \n",
            "  inflating: LICENSE                 \n",
            "  inflating: Tatoeba.en-ru.en        \n",
            "  inflating: Tatoeba.en-ru.ru        \n",
            "  inflating: Tatoeba.en-ru.xml       \n",
            "Archive:  en-es.txt.zip\n",
            "  inflating: README                  \n",
            "  inflating: LICENSE                 \n",
            "  inflating: Tatoeba.en-es.en        \n",
            "  inflating: Tatoeba.en-es.es        \n",
            "  inflating: Tatoeba.en-es.xml       \n",
            "Archive:  en-fr.txt.zip\n",
            "  inflating: README                  \n",
            "  inflating: LICENSE                 \n",
            "  inflating: Tatoeba.en-fr.en        \n",
            "  inflating: Tatoeba.en-fr.fr        \n",
            "  inflating: Tatoeba.en-fr.xml       \n",
            "Archive:  en-it.txt.zip\n",
            "  inflating: README                  \n",
            "  inflating: LICENSE                 \n",
            "  inflating: Tatoeba.en-it.en        \n",
            "  inflating: Tatoeba.en-it.it        \n",
            "  inflating: Tatoeba.en-it.xml       \n",
            "Archive:  de-en.txt.zip\n",
            "  inflating: README                  \n",
            "  inflating: LICENSE                 \n",
            "  inflating: Tatoeba.de-en.de        \n",
            "  inflating: Tatoeba.de-en.en        \n",
            "  inflating: Tatoeba.de-en.xml       \n",
            "Archive:  en-fi.txt.zip\n",
            "  inflating: README                  \n",
            "  inflating: LICENSE                 \n",
            "  inflating: Tatoeba.en-fi.en        \n",
            "  inflating: Tatoeba.en-fi.fi        \n",
            "  inflating: Tatoeba.en-fi.xml       \n",
            "Archive:  en-ja.txt.zip\n",
            "  inflating: README                  \n",
            "  inflating: LICENSE                 \n",
            "  inflating: Tatoeba.en-ja.en        \n",
            "  inflating: Tatoeba.en-ja.ja        \n",
            "  inflating: Tatoeba.en-ja.xml       \n",
            "Archive:  en-hi.txt.zip\n",
            "  inflating: README                  \n",
            "  inflating: LICENSE                 \n",
            "  inflating: Tatoeba.en-hi.en        \n",
            "  inflating: Tatoeba.en-hi.hi        \n",
            "  inflating: Tatoeba.en-hi.xml       \n",
            "Archive:  en-tr.txt.zip\n",
            "  inflating: README                  \n",
            "  inflating: LICENSE                 \n",
            "  inflating: Tatoeba.en-tr.en        \n",
            "  inflating: Tatoeba.en-tr.tr        \n",
            "  inflating: Tatoeba.en-tr.xml       \n",
            "Archive:  en-vi.txt.zip\n",
            "  inflating: README                  \n",
            "  inflating: LICENSE                 \n",
            "  inflating: Tatoeba.en-vi.en        \n",
            "  inflating: Tatoeba.en-vi.vi        \n",
            "  inflating: Tatoeba.en-vi.xml       \n",
            "Archive:  en-lt.txt.zip\n",
            "  inflating: README                  \n",
            "  inflating: LICENSE                 \n",
            "  inflating: Tatoeba.en-lt.en        \n",
            "  inflating: Tatoeba.en-lt.lt        \n",
            "  inflating: Tatoeba.en-lt.xml       \n",
            "Archive:  en-he.txt.zip\n",
            "  inflating: README                  \n",
            "  inflating: LICENSE                 \n",
            "  inflating: Tatoeba.en-he.en        \n",
            "  inflating: Tatoeba.en-he.he        \n",
            "  inflating: Tatoeba.en-he.xml       \n",
            "Archive:  ar-en.txt.zip\n",
            "  inflating: README                  \n",
            "  inflating: LICENSE                 \n",
            "  inflating: Tatoeba.ar-en.ar        \n",
            "  inflating: Tatoeba.ar-en.en        \n",
            "  inflating: Tatoeba.ar-en.xml       \n",
            "Archive:  en-is.txt.zip\n",
            "  inflating: README                  \n",
            "  inflating: LICENSE                 \n",
            "  inflating: Tatoeba.en-is.en        \n",
            "  inflating: Tatoeba.en-is.is        \n",
            "  inflating: Tatoeba.en-is.xml       \n"
          ],
          "name": "stdout"
        }
      ]
    },
    {
      "cell_type": "markdown",
      "metadata": {
        "id": "AxDDGXBOnbUz",
        "colab_type": "text"
      },
      "source": [
        "## Save to List"
      ]
    },
    {
      "cell_type": "code",
      "metadata": {
        "id": "ovw-Xomhoj2m",
        "colab_type": "code",
        "colab": {}
      },
      "source": [
        "f = open('Tatoeba.en-ru.en', 'r')\n",
        "enru_sentences_en = f.read().splitlines()\n",
        "f.close()\n",
        "f = open('Tatoeba.en-es.en', 'r')\n",
        "enes_sentences_en = f.read().splitlines()\n",
        "f.close()\n",
        "f = open('Tatoeba.en-fr.en', 'r')\n",
        "enfr_sentences_en = f.read().splitlines()\n",
        "f.close()\n",
        "f = open('Tatoeba.en-it.en', 'r')\n",
        "enit_sentences_en = f.read().splitlines()\n",
        "f.close()\n",
        "f = open('Tatoeba.de-en.en', 'r')\n",
        "deen_sentences_en = f.read().splitlines()\n",
        "f.close()\n",
        "f = open('Tatoeba.en-fi.en', 'r')\n",
        "enfi_sentences_en = f.read().splitlines()\n",
        "f.close()\n",
        "f = open('Tatoeba.en-ja.en', 'r')\n",
        "enja_sentences_en = f.read().splitlines()\n",
        "f.close()\n",
        "f = open('Tatoeba.en-hi.en', 'r')\n",
        "enhi_sentences_en = f.read().splitlines()\n",
        "f.close()\n",
        "f = open('Tatoeba.en-tr.en', 'r')\n",
        "entr_sentences_en = f.read().splitlines()\n",
        "f.close()\n",
        "f = open('Tatoeba.en-vi.en', 'r')\n",
        "envi_sentences_en = f.read().splitlines()\n",
        "f.close()\n",
        "f = open('Tatoeba.en-lt.en', 'r')\n",
        "enlt_sentences_en = f.read().splitlines()\n",
        "f.close()\n",
        "f = open('Tatoeba.en-he.en', 'r')\n",
        "enhe_sentences_en = f.read().splitlines()\n",
        "f.close()\n",
        "f = open('Tatoeba.ar-en.en', 'r')\n",
        "aren_sentences_en = f.read().splitlines()\n",
        "f.close()\n",
        "f = open('Tatoeba.en-is.en', 'r')\n",
        "enis_sentences_en = f.read().splitlines()\n",
        "f.close()\n",
        "\n",
        "f = open('Tatoeba.en-ru.ru', 'r')\n",
        "sentences_ru = f.read().splitlines()\n",
        "f.close()\n",
        "f = open('Tatoeba.en-es.es', 'r')\n",
        "sentences_es = f.read().splitlines()\n",
        "f.close()\n",
        "f = open('Tatoeba.en-fr.fr', 'r')\n",
        "sentences_fr = f.read().splitlines()\n",
        "f.close()\n",
        "f = open('Tatoeba.en-it.it', 'r')\n",
        "sentences_it = f.read().splitlines()\n",
        "f.close()\n",
        "f = open('Tatoeba.de-en.de', 'r')\n",
        "sentences_de = f.read().splitlines()\n",
        "f.close()\n",
        "f = open('Tatoeba.en-fi.fi', 'r')\n",
        "sentences_fi = f.read().splitlines()\n",
        "f.close()\n",
        "f = open('Tatoeba.en-ja.ja', 'r')\n",
        "sentences_ja = f.read().splitlines()\n",
        "f.close()\n",
        "f = open('Tatoeba.en-hi.hi', 'r')\n",
        "sentences_hi = f.read().splitlines()\n",
        "f.close()\n",
        "f = open('Tatoeba.en-tr.tr', 'r')\n",
        "sentences_tr = f.read().splitlines()\n",
        "f.close()\n",
        "f = open('Tatoeba.en-vi.vi', 'r')\n",
        "sentences_vi = f.read().splitlines()\n",
        "f.close()\n",
        "f = open('Tatoeba.en-lt.lt', 'r')\n",
        "sentences_lt = f.read().splitlines()\n",
        "f.close()\n",
        "f = open('Tatoeba.en-he.he', 'r')\n",
        "sentences_he = f.read().splitlines()\n",
        "f.close()\n",
        "f = open('Tatoeba.ar-en.ar', 'r')\n",
        "sentences_ar = f.read().splitlines()\n",
        "f.close()\n",
        "f = open('Tatoeba.en-is.is', 'r')\n",
        "sentences_is = f.read().splitlines()\n",
        "f.close()"
      ],
      "execution_count": 0,
      "outputs": []
    },
    {
      "cell_type": "markdown",
      "metadata": {
        "id": "dQYQ0JI4njBM",
        "colab_type": "text"
      },
      "source": [
        "# Results for Language Pairs"
      ]
    },
    {
      "cell_type": "markdown",
      "metadata": {
        "id": "IOmNNNc9Xz34",
        "colab_type": "text"
      },
      "source": [
        "## English - Russian"
      ]
    },
    {
      "cell_type": "code",
      "metadata": {
        "id": "F7mBfPWsX3KR",
        "colab_type": "code",
        "colab": {}
      },
      "source": [
        "LIMIT = 20000\n",
        "sourceLanguage = 'en'\n",
        "targetLanguage = 'ru'"
      ],
      "execution_count": 0,
      "outputs": []
    },
    {
      "cell_type": "markdown",
      "metadata": {
        "id": "Q-5aynUjwWj-",
        "colab_type": "text"
      },
      "source": [
        "### CLS Pooling"
      ]
    },
    {
      "cell_type": "code",
      "metadata": {
        "id": "z2GwMAjLGWLv",
        "colab_type": "code",
        "outputId": "975406cd-d3a0-4bd4-bcd9-4d7785b84d0e",
        "colab": {
          "base_uri": "https://localhost:8080/",
          "height": 183,
          "referenced_widgets": [
            "973e51bcb94246688ffe5eb0dd4b2b05",
            "a95ea328842346feb9526ba53c688540",
            "11b8f41c47bd4e0bb602a8a698a305fd",
            "b20ebebf23fc4cbe8d5975bce9258b7d",
            "21b426f492c94e6ea1f7b03d1abaad30",
            "31bf7e7348f34a098acf2f816ba19d63",
            "a55cae57ee82490eb6522f0bd5cd07d6",
            "30ba9e763c1b4bd696440c67b97ee4f0"
          ]
        }
      },
      "source": [
        "representation_type = 'CLS'\n",
        "cls_accuracy_dict_en2ru, resDF_source2target, cls_accuracy_dict_ru2en, resDF_target2source = get_results(enru_sentences_en[:LIMIT], sentences_ru[:LIMIT], sourceLanguage, targetLanguage, representation_type)\n",
        "\n",
        "resDF_source2target.to_csv('{}--{}-{}.csv'.format(representation_type, sourceLanguage, targetLanguage))\n",
        "resDF_target2source.to_csv('{}--{}-{}.csv'.format(representation_type, targetLanguage, sourceLanguage))"
      ],
      "execution_count": 0,
      "outputs": [
        {
          "output_type": "display_data",
          "data": {
            "application/vnd.jupyter.widget-view+json": {
              "model_id": "973e51bcb94246688ffe5eb0dd4b2b05",
              "version_minor": 0,
              "version_major": 2
            },
            "text/plain": [
              "HBox(children=(FloatProgress(value=1.0, bar_style='info', max=1.0), HTML(value='')))"
            ]
          },
          "metadata": {
            "tags": []
          }
        },
        {
          "output_type": "stream",
          "text": [
            "\rBatches:   0%|          | 0/157 [00:00<?, ?it/s]"
          ],
          "name": "stderr"
        },
        {
          "output_type": "stream",
          "text": [
            "\n",
            "We have 20000 pairs of sentences. Graph has 13886 components\n"
          ],
          "name": "stdout"
        },
        {
          "output_type": "stream",
          "text": [
            "Batches: 100%|██████████| 157/157 [00:37<00:00,  4.24it/s]\n",
            "Batches: 100%|██████████| 157/157 [00:43<00:00,  3.60it/s]\n"
          ],
          "name": "stderr"
        },
        {
          "output_type": "stream",
          "text": [
            "Shape of difference (TARGET-SOURCE) vector: (10000, 768)\n",
            "Shift source -> target vector: (768,)\n",
            "CLS = en -> ru : {'top-1': 0.1282, 'top-3': 0.2326, 'top-5': 0.2554}\n",
            "CLS = ru -> en : {'top-1': 0.0635, 'top-3': 0.1112, 'top-5': 0.1258}\n"
          ],
          "name": "stdout"
        }
      ]
    },
    {
      "cell_type": "code",
      "metadata": {
        "id": "mIND2YTWZrYc",
        "colab_type": "code",
        "outputId": "d026ac33-000c-4f4b-c577-602efb082825",
        "colab": {
          "base_uri": "https://localhost:8080/",
          "height": 262
        }
      },
      "source": [
        "print('Representation: {}'.format(representation_type))\n",
        "display('{} -> {}'.format(sourceLanguage, targetLanguage))\n",
        "display(accuracy_dict_source2target)\n",
        "display(resDF_source2target.head(10))\n",
        "\n",
        "display('{} -> {}'.format(targetLanguage, sourceLanguage ))\n",
        "display(accuracy_dict_target2source)\n",
        "display(resDF_target2source.head(10))"
      ],
      "execution_count": 0,
      "outputs": [
        {
          "output_type": "stream",
          "text": [
            "Representation: CLS\n"
          ],
          "name": "stdout"
        },
        {
          "output_type": "display_data",
          "data": {
            "text/plain": [
              "'en -> ru'"
            ]
          },
          "metadata": {
            "tags": []
          }
        },
        {
          "output_type": "error",
          "ename": "NameError",
          "evalue": "ignored",
          "traceback": [
            "\u001b[0;31m---------------------------------------------------------------------------\u001b[0m",
            "\u001b[0;31mNameError\u001b[0m                                 Traceback (most recent call last)",
            "\u001b[0;32m<ipython-input-19-f384aca9e3fe>\u001b[0m in \u001b[0;36m<module>\u001b[0;34m()\u001b[0m\n\u001b[1;32m      1\u001b[0m \u001b[0mprint\u001b[0m\u001b[0;34m(\u001b[0m\u001b[0;34m'Representation: {}'\u001b[0m\u001b[0;34m.\u001b[0m\u001b[0mformat\u001b[0m\u001b[0;34m(\u001b[0m\u001b[0mrepresentation_type\u001b[0m\u001b[0;34m)\u001b[0m\u001b[0;34m)\u001b[0m\u001b[0;34m\u001b[0m\u001b[0;34m\u001b[0m\u001b[0m\n\u001b[1;32m      2\u001b[0m \u001b[0mdisplay\u001b[0m\u001b[0;34m(\u001b[0m\u001b[0;34m'{} -> {}'\u001b[0m\u001b[0;34m.\u001b[0m\u001b[0mformat\u001b[0m\u001b[0;34m(\u001b[0m\u001b[0msourceLanguage\u001b[0m\u001b[0;34m,\u001b[0m \u001b[0mtargetLanguage\u001b[0m\u001b[0;34m)\u001b[0m\u001b[0;34m)\u001b[0m\u001b[0;34m\u001b[0m\u001b[0;34m\u001b[0m\u001b[0m\n\u001b[0;32m----> 3\u001b[0;31m \u001b[0mdisplay\u001b[0m\u001b[0;34m(\u001b[0m\u001b[0maccuracy_dict_source2target\u001b[0m\u001b[0;34m)\u001b[0m\u001b[0;34m\u001b[0m\u001b[0;34m\u001b[0m\u001b[0m\n\u001b[0m\u001b[1;32m      4\u001b[0m \u001b[0mdisplay\u001b[0m\u001b[0;34m(\u001b[0m\u001b[0mresDF_source2target\u001b[0m\u001b[0;34m.\u001b[0m\u001b[0mhead\u001b[0m\u001b[0;34m(\u001b[0m\u001b[0;36m10\u001b[0m\u001b[0;34m)\u001b[0m\u001b[0;34m)\u001b[0m\u001b[0;34m\u001b[0m\u001b[0;34m\u001b[0m\u001b[0m\n\u001b[1;32m      5\u001b[0m \u001b[0;34m\u001b[0m\u001b[0m\n",
            "\u001b[0;31mNameError\u001b[0m: name 'accuracy_dict_source2target' is not defined"
          ]
        }
      ]
    },
    {
      "cell_type": "markdown",
      "metadata": {
        "id": "Gm1DuwGRwapq",
        "colab_type": "text"
      },
      "source": [
        "### Max Pooling"
      ]
    },
    {
      "cell_type": "code",
      "metadata": {
        "id": "kBCs2pkSZPz_",
        "colab_type": "code",
        "outputId": "95a5258a-ddbb-4858-d03b-2497c3488a72",
        "colab": {
          "base_uri": "https://localhost:8080/",
          "height": 183,
          "referenced_widgets": [
            "58e060f805b74699add3e49bfb353300",
            "48d8bc3af7cb471881a81e07eb7349ff",
            "698715b3d19b47f2b71213116b851895",
            "c6e38bb63898455abcbbf2bcd6a4fbe3",
            "488e0a0ef12c400b928e3397a6130bc1",
            "2f92bdbd2ffa43ddbc0d52e6d2cca3d7",
            "5c70957e9f9942ce864b5d4fa9c2142b",
            "857d474ea8894bd5be9494ad5ff188f7"
          ]
        }
      },
      "source": [
        "representation_type = 'max'\n",
        "max_accuracy_dict_en2ru, resDF_source2target, max_accuracy_dict_ru2en, resDF_target2source = get_results(enru_sentences_en[:LIMIT], sentences_ru[:LIMIT], sourceLanguage, targetLanguage, representation_type)\n",
        "\n",
        "resDF_source2target.to_csv('{}--{}-{}.csv'.format(representation_type, sourceLanguage, targetLanguage))\n",
        "resDF_target2source.to_csv('{}--{}-{}.csv'.format(representation_type, targetLanguage, sourceLanguage))"
      ],
      "execution_count": 0,
      "outputs": [
        {
          "output_type": "display_data",
          "data": {
            "application/vnd.jupyter.widget-view+json": {
              "model_id": "58e060f805b74699add3e49bfb353300",
              "version_minor": 0,
              "version_major": 2
            },
            "text/plain": [
              "HBox(children=(FloatProgress(value=1.0, bar_style='info', max=1.0), HTML(value='')))"
            ]
          },
          "metadata": {
            "tags": []
          }
        },
        {
          "output_type": "stream",
          "text": [
            "\rBatches:   0%|          | 0/157 [00:00<?, ?it/s]"
          ],
          "name": "stderr"
        },
        {
          "output_type": "stream",
          "text": [
            "\n",
            "We have 20000 pairs of sentences. Graph has 13886 components\n"
          ],
          "name": "stdout"
        },
        {
          "output_type": "stream",
          "text": [
            "Batches: 100%|██████████| 157/157 [00:36<00:00,  4.24it/s]\n",
            "Batches: 100%|██████████| 157/157 [00:43<00:00,  3.61it/s]\n"
          ],
          "name": "stderr"
        },
        {
          "output_type": "stream",
          "text": [
            "Shape of difference (TARGET-SOURCE) vector: (10000, 768)\n",
            "Shift source -> target vector: (768,)\n",
            "max = en -> ru : {'top-1': 0.1712, 'top-3': 0.2984, 'top-5': 0.3317}\n",
            "max = ru -> en : {'top-1': 0.1254, 'top-3': 0.2034, 'top-5': 0.2263}\n"
          ],
          "name": "stdout"
        }
      ]
    },
    {
      "cell_type": "code",
      "metadata": {
        "id": "3h4nBMukac1Z",
        "colab_type": "code",
        "outputId": "adada93c-8992-45fa-d99a-fad2df950a56",
        "colab": {
          "base_uri": "https://localhost:8080/",
          "height": 262
        }
      },
      "source": [
        "print('Representation: {}'.format(representation_type))\n",
        "display('{} -> {}'.format(sourceLanguage, targetLanguage))\n",
        "display(accuracy_dict_source2target)\n",
        "display(resDF_source2target.head(10))\n",
        "\n",
        "display('{} -> {}'.format(targetLanguage, sourceLanguage ))\n",
        "display(accuracy_dict_target2source)\n",
        "display(resDF_target2source.head(10))"
      ],
      "execution_count": 0,
      "outputs": [
        {
          "output_type": "stream",
          "text": [
            "Representation: max\n"
          ],
          "name": "stdout"
        },
        {
          "output_type": "display_data",
          "data": {
            "text/plain": [
              "'en -> ru'"
            ]
          },
          "metadata": {
            "tags": []
          }
        },
        {
          "output_type": "error",
          "ename": "NameError",
          "evalue": "ignored",
          "traceback": [
            "\u001b[0;31m---------------------------------------------------------------------------\u001b[0m",
            "\u001b[0;31mNameError\u001b[0m                                 Traceback (most recent call last)",
            "\u001b[0;32m<ipython-input-21-f384aca9e3fe>\u001b[0m in \u001b[0;36m<module>\u001b[0;34m()\u001b[0m\n\u001b[1;32m      1\u001b[0m \u001b[0mprint\u001b[0m\u001b[0;34m(\u001b[0m\u001b[0;34m'Representation: {}'\u001b[0m\u001b[0;34m.\u001b[0m\u001b[0mformat\u001b[0m\u001b[0;34m(\u001b[0m\u001b[0mrepresentation_type\u001b[0m\u001b[0;34m)\u001b[0m\u001b[0;34m)\u001b[0m\u001b[0;34m\u001b[0m\u001b[0;34m\u001b[0m\u001b[0m\n\u001b[1;32m      2\u001b[0m \u001b[0mdisplay\u001b[0m\u001b[0;34m(\u001b[0m\u001b[0;34m'{} -> {}'\u001b[0m\u001b[0;34m.\u001b[0m\u001b[0mformat\u001b[0m\u001b[0;34m(\u001b[0m\u001b[0msourceLanguage\u001b[0m\u001b[0;34m,\u001b[0m \u001b[0mtargetLanguage\u001b[0m\u001b[0;34m)\u001b[0m\u001b[0;34m)\u001b[0m\u001b[0;34m\u001b[0m\u001b[0;34m\u001b[0m\u001b[0m\n\u001b[0;32m----> 3\u001b[0;31m \u001b[0mdisplay\u001b[0m\u001b[0;34m(\u001b[0m\u001b[0maccuracy_dict_source2target\u001b[0m\u001b[0;34m)\u001b[0m\u001b[0;34m\u001b[0m\u001b[0;34m\u001b[0m\u001b[0m\n\u001b[0m\u001b[1;32m      4\u001b[0m \u001b[0mdisplay\u001b[0m\u001b[0;34m(\u001b[0m\u001b[0mresDF_source2target\u001b[0m\u001b[0;34m.\u001b[0m\u001b[0mhead\u001b[0m\u001b[0;34m(\u001b[0m\u001b[0;36m10\u001b[0m\u001b[0;34m)\u001b[0m\u001b[0;34m)\u001b[0m\u001b[0;34m\u001b[0m\u001b[0;34m\u001b[0m\u001b[0m\n\u001b[1;32m      5\u001b[0m \u001b[0;34m\u001b[0m\u001b[0m\n",
            "\u001b[0;31mNameError\u001b[0m: name 'accuracy_dict_source2target' is not defined"
          ]
        }
      ]
    },
    {
      "cell_type": "markdown",
      "metadata": {
        "id": "y7d1kxpOwjBV",
        "colab_type": "text"
      },
      "source": [
        "### Mean Pooling"
      ]
    },
    {
      "cell_type": "code",
      "metadata": {
        "id": "HrXxb0zpVlmG",
        "colab_type": "code",
        "outputId": "db0e1343-b0d9-4eaa-da70-8a778b2cfb6b",
        "colab": {
          "base_uri": "https://localhost:8080/",
          "height": 183,
          "referenced_widgets": [
            "641d0aaa1a404f3da47b9c319a1822a7",
            "c93cf7ebecd04b4887368555937682a2",
            "c7f688010c764a1580c5fe5f7c22a8f3",
            "ecf0b20eb5934af0856e02129ef46207",
            "c5366083ba4140fbb3697a80f2eddae3",
            "9ea9617ac1da42038915a50e55a68bbc",
            "d8ee0539422b4562b7d672ef239afa27",
            "39660b6b9dd8428b9545d174b28603bd"
          ]
        }
      },
      "source": [
        "representation_type = 'mean'\n",
        "mean_accuracy_dict_en2ru, resDF_source2target, mean_accuracy_dict_ru2en, resDF_target2source = get_results(enru_sentences_en[:LIMIT], sentences_ru[:LIMIT], sourceLanguage, targetLanguage, representation_type)\n",
        "\n",
        "resDF_source2target.to_csv('{}--{}-{}.csv'.format(representation_type, sourceLanguage, targetLanguage))\n",
        "resDF_target2source.to_csv('{}--{}-{}.csv'.format(representation_type, targetLanguage, sourceLanguage))"
      ],
      "execution_count": 0,
      "outputs": [
        {
          "output_type": "display_data",
          "data": {
            "application/vnd.jupyter.widget-view+json": {
              "model_id": "641d0aaa1a404f3da47b9c319a1822a7",
              "version_minor": 0,
              "version_major": 2
            },
            "text/plain": [
              "HBox(children=(FloatProgress(value=1.0, bar_style='info', max=1.0), HTML(value='')))"
            ]
          },
          "metadata": {
            "tags": []
          }
        },
        {
          "output_type": "stream",
          "text": [
            "Batches:   1%|▏         | 2/157 [00:00<00:08, 19.09it/s]"
          ],
          "name": "stderr"
        },
        {
          "output_type": "stream",
          "text": [
            "\n",
            "We have 20000 pairs of sentences. Graph has 13886 components\n"
          ],
          "name": "stdout"
        },
        {
          "output_type": "stream",
          "text": [
            "Batches: 100%|██████████| 157/157 [00:12<00:00, 12.27it/s]\n",
            "Batches: 100%|██████████| 157/157 [00:15<00:00, 10.33it/s]\n"
          ],
          "name": "stderr"
        },
        {
          "output_type": "stream",
          "text": [
            "Shape of difference (TARGET-SOURCE) vector: (10000, 768)\n",
            "Shift source -> target vector: (768,)\n",
            "mean = en -> ru : {'top-1': 0.2346, 'top-3': 0.4106, 'top-5': 0.4449}\n",
            "mean = ru -> en : {'top-1': 0.15, 'top-3': 0.2554, 'top-5': 0.2818}\n"
          ],
          "name": "stdout"
        }
      ]
    },
    {
      "cell_type": "code",
      "metadata": {
        "id": "FIoTBtVtRKDY",
        "colab_type": "code",
        "outputId": "eb275a66-98cf-46c7-b2a1-a87410749461",
        "colab": {
          "base_uri": "https://localhost:8080/",
          "height": 641
        }
      },
      "source": [
        "print('Representation: {}'.format(representation_type))\n",
        "display('{} -> {}'.format(sourceLanguage, targetLanguage))\n",
        "display(accuracy_dict_source2target)\n",
        "display(resDF_source2target.head(10))\n",
        "\n",
        "display('{} -> {}'.format(targetLanguage, sourceLanguage ))\n",
        "display(accuracy_dict_target2source)\n",
        "display(resDF_target2source.head(10))"
      ],
      "execution_count": 0,
      "outputs": [
        {
          "output_type": "execute_result",
          "data": {
            "text/html": [
              "<div>\n",
              "<style scoped>\n",
              "    .dataframe tbody tr th:only-of-type {\n",
              "        vertical-align: middle;\n",
              "    }\n",
              "\n",
              "    .dataframe tbody tr th {\n",
              "        vertical-align: top;\n",
              "    }\n",
              "\n",
              "    .dataframe thead th {\n",
              "        text-align: right;\n",
              "    }\n",
              "</style>\n",
              "<table border=\"1\" class=\"dataframe\">\n",
              "  <thead>\n",
              "    <tr style=\"text-align: right;\">\n",
              "      <th></th>\n",
              "      <th>source</th>\n",
              "      <th>target</th>\n",
              "      <th>1 translate</th>\n",
              "      <th>2 translate</th>\n",
              "      <th>3 translate</th>\n",
              "      <th>4 translate</th>\n",
              "      <th>5 translate</th>\n",
              "      <th>label</th>\n",
              "    </tr>\n",
              "  </thead>\n",
              "  <tbody>\n",
              "    <tr>\n",
              "      <th>0</th>\n",
              "      <td>I can't live like this.</td>\n",
              "      <td>Я так жить не могу.</td>\n",
              "      <td>Я думаю, вам лучше отдохнуть.</td>\n",
              "      <td>Я люблю тебя больше, чем ты меня.</td>\n",
              "      <td>Я не могу подумать о том, чтобы жить без тебя.</td>\n",
              "      <td>Извините, я не могу остаться надолго.</td>\n",
              "      <td>Я ничего от тебя не жду.</td>\n",
              "      <td>NaN</td>\n",
              "    </tr>\n",
              "    <tr>\n",
              "      <th>1</th>\n",
              "      <td>You should have told me a long time ago.</td>\n",
              "      <td>Тебе давно надо было мне об этом сказать.</td>\n",
              "      <td>Я хочу, чтобы ты поехала.</td>\n",
              "      <td>Я подумал над тем, что ты мне сказал.</td>\n",
              "      <td>То, что ты сказал, удивило меня.</td>\n",
              "      <td>Твоё письмо обрадовало меня.</td>\n",
              "      <td>Вам давно надо было мне об этом сказать.</td>\n",
              "      <td>top-5</td>\n",
              "    </tr>\n",
              "    <tr>\n",
              "      <th>2</th>\n",
              "      <td>Are you going to sing here?</td>\n",
              "      <td>Ты собираешься здесь петь?</td>\n",
              "      <td>Вы собираетесь здесь петь?</td>\n",
              "      <td>Ты собираешься здесь петь?</td>\n",
              "      <td>Ты обращаешься ко мне?</td>\n",
              "      <td>Вы звонили мне вчера вечером?</td>\n",
              "      <td>Ты скучал по мне?</td>\n",
              "      <td>top-3</td>\n",
              "    </tr>\n",
              "    <tr>\n",
              "      <th>3</th>\n",
              "      <td>I can't wait to go on a vacation.</td>\n",
              "      <td>Не могу дождаться отпуска.</td>\n",
              "      <td>Можешь поехать туда.</td>\n",
              "      <td>Ты должен много заниматься, чтобы догнать свой...</td>\n",
              "      <td>Не хочу идти в школу.</td>\n",
              "      <td>Не знаю, что и сказать.</td>\n",
              "      <td>Не знаю, что и сказать.</td>\n",
              "      <td>NaN</td>\n",
              "    </tr>\n",
              "    <tr>\n",
              "      <th>4</th>\n",
              "      <td>Creationism is a pseudo-science.</td>\n",
              "      <td>Креационизм — это псевдонаука.</td>\n",
              "      <td>Невинность - это прекрасная штука.</td>\n",
              "      <td>Дальше размышлять не имеет смысла.</td>\n",
              "      <td>Математика — она как любовь: идея-то проста, н...</td>\n",
              "      <td>Образование не ограничивается одним лишь изуче...</td>\n",
              "      <td>Есть вещи в этом мире, которые просто не могут...</td>\n",
              "      <td>NaN</td>\n",
              "    </tr>\n",
              "    <tr>\n",
              "      <th>5</th>\n",
              "      <td>For some reason I feel more alive at night.</td>\n",
              "      <td>Почему-то по ночам я бодрее.</td>\n",
              "      <td>Я жив, даже если не подаю никаких признаков жи...</td>\n",
              "      <td>Тебе нужно лучше следить за тем, что ты говоришь.</td>\n",
              "      <td>Меня никто не понимает.</td>\n",
              "      <td>Тебе лучше бы остаться сегодня в постели.</td>\n",
              "      <td>Я хочу знать, будете ли вы завтра свободны.</td>\n",
              "      <td>NaN</td>\n",
              "    </tr>\n",
              "    <tr>\n",
              "      <th>6</th>\n",
              "      <td>Thanks to you I've lost my appetite.</td>\n",
              "      <td>Я из-за тебя аппетит потерял.</td>\n",
              "      <td>Я хочу знать, будешь ли ты завтра свободен.</td>\n",
              "      <td>Я хочу знать, будете ли Вы завтра свободны.</td>\n",
              "      <td>Хочу вновь с вами увидеться.</td>\n",
              "      <td>Хочу вновь увидеть тебя.</td>\n",
              "      <td>Ты встаёшь не так рано, как твоя сестра.</td>\n",
              "      <td>NaN</td>\n",
              "    </tr>\n",
              "    <tr>\n",
              "      <th>7</th>\n",
              "      <td>All you have to do is wash the dishes.</td>\n",
              "      <td>Всё, что ты должен сделать, - помыть посуду.</td>\n",
              "      <td>Тебе нужно бросить курить.</td>\n",
              "      <td>Тебе нужно бросить курить.</td>\n",
              "      <td>Прежде чем купить обувь, примерь её.</td>\n",
              "      <td>Как готовишь свою постель, так и ложись в неё.</td>\n",
              "      <td>Тебе стоит бросить пить.</td>\n",
              "      <td>NaN</td>\n",
              "    </tr>\n",
              "    <tr>\n",
              "      <th>8</th>\n",
              "      <td>You look very tired.</td>\n",
              "      <td>Ты выглядишь очень уставшей.</td>\n",
              "      <td>Ты выглядишь очень бледным.</td>\n",
              "      <td>Ты выглядишь очень усталой.</td>\n",
              "      <td>Я думаю, что ты неправ.</td>\n",
              "      <td>Меня никто не понимает.</td>\n",
              "      <td>Ты достаточно взрослый, чтобы знать это.</td>\n",
              "      <td>top-3</td>\n",
              "    </tr>\n",
              "    <tr>\n",
              "      <th>9</th>\n",
              "      <td>I have to take medicine.</td>\n",
              "      <td>Я должен принимать лекарства.</td>\n",
              "      <td>Я из-за тебя аппетит потерял.</td>\n",
              "      <td>Тебе надо бы бросить курить.</td>\n",
              "      <td>Я из-за вас аппетит потерял.</td>\n",
              "      <td>Я не мог позвонить тебе - телефон не работал.</td>\n",
              "      <td>Если я найду ваш паспорт, то немедленно позвоню.</td>\n",
              "      <td>NaN</td>\n",
              "    </tr>\n",
              "  </tbody>\n",
              "</table>\n",
              "</div>"
            ],
            "text/plain": [
              "                                        source  ...  label\n",
              "0                      I can't live like this.  ...    NaN\n",
              "1     You should have told me a long time ago.  ...  top-5\n",
              "2                  Are you going to sing here?  ...  top-3\n",
              "3            I can't wait to go on a vacation.  ...    NaN\n",
              "4             Creationism is a pseudo-science.  ...    NaN\n",
              "5  For some reason I feel more alive at night.  ...    NaN\n",
              "6         Thanks to you I've lost my appetite.  ...    NaN\n",
              "7       All you have to do is wash the dishes.  ...    NaN\n",
              "8                         You look very tired.  ...  top-3\n",
              "9                     I have to take medicine.  ...    NaN\n",
              "\n",
              "[10 rows x 8 columns]"
            ]
          },
          "metadata": {
            "tags": []
          },
          "execution_count": 80
        }
      ]
    },
    {
      "cell_type": "markdown",
      "metadata": {
        "id": "VLlmAxfgyk8Y",
        "colab_type": "text"
      },
      "source": [
        "## English - Spanish"
      ]
    },
    {
      "cell_type": "markdown",
      "metadata": {
        "id": "K0eALJZNyE_U",
        "colab_type": "text"
      },
      "source": [
        "### CLS Pooling"
      ]
    },
    {
      "cell_type": "code",
      "metadata": {
        "colab_type": "code",
        "id": "U5V_M8hw1E32",
        "outputId": "f7bc1bcb-6cef-48cc-bcdf-869ac9efa73e",
        "colab": {
          "base_uri": "https://localhost:8080/",
          "height": 249,
          "referenced_widgets": [
            "6b5e4be4d4a7482fa33987c3016d16a9",
            "93d44f1faa3c40b885ce74683affdc62",
            "37e54679d8124d06a37aa23dc36c72e9",
            "cfd00094605645538ca00afbf6f71c9d",
            "c847ee2ea51d4926bba5756e1c68e2d2",
            "e582cffd73444a848491ccdaf753934c",
            "7bcee75245964fd8b80d4f33d974b127",
            "baa13e05c0f64996a1ba82de75d134aa",
            "855a508366754ae1b315b083b6e5601b",
            "98d102aa1b0f4a79aa27d111d766e42e",
            "f568d5351b704d979c6c70f94bc4bca9",
            "e4eaf1459de446d0926082199fa0a630",
            "fc912883768a4248ad3658844bee5034",
            "20d5da2411f74792b3991c5c03734528",
            "2cbfe0a68e9b4fb5a3a017eeebd4da70",
            "cebf002dd1914e8b940ffab358e2857a"
          ]
        }
      },
      "source": [
        "LIMIT = 20000\n",
        "sourceLanguage = 'en'\n",
        "targetLanguage = 'es'\n",
        "graph = build_graph(enes_sentences_en[:LIMIT], sentences_es[:LIMIT])\n",
        "\n",
        "representation_type = 'CLS'\n",
        "cls_accuracy_dict_en2es, resDF_source2target, cls_accuracy_dict_es2en, resDF_target2source = get_results(enes_sentences_en[:LIMIT], sentences_es[:LIMIT], sourceLanguage, targetLanguage, representation_type)\n",
        "\n",
        "resDF_source2target.to_csv('{}--{}-{}.csv'.format(representation_type, sourceLanguage, targetLanguage))\n",
        "resDF_target2source.to_csv('{}--{}-{}.csv'.format(representation_type, targetLanguage, sourceLanguage))"
      ],
      "execution_count": 0,
      "outputs": [
        {
          "output_type": "display_data",
          "data": {
            "application/vnd.jupyter.widget-view+json": {
              "model_id": "6b5e4be4d4a7482fa33987c3016d16a9",
              "version_minor": 0,
              "version_major": 2
            },
            "text/plain": [
              "HBox(children=(FloatProgress(value=1.0, bar_style='info', max=1.0), HTML(value='')))"
            ]
          },
          "metadata": {
            "tags": []
          }
        },
        {
          "output_type": "stream",
          "text": [
            "\n",
            "We have 20000 pairs of sentences. Graph has 16235 components\n"
          ],
          "name": "stdout"
        },
        {
          "output_type": "display_data",
          "data": {
            "application/vnd.jupyter.widget-view+json": {
              "model_id": "855a508366754ae1b315b083b6e5601b",
              "version_minor": 0,
              "version_major": 2
            },
            "text/plain": [
              "HBox(children=(FloatProgress(value=1.0, bar_style='info', max=1.0), HTML(value='')))"
            ]
          },
          "metadata": {
            "tags": []
          }
        },
        {
          "output_type": "stream",
          "text": [
            "\rBatches:   0%|          | 0/157 [00:00<?, ?it/s]"
          ],
          "name": "stderr"
        },
        {
          "output_type": "stream",
          "text": [
            "\n",
            "We have 20000 pairs of sentences. Graph has 16235 components\n"
          ],
          "name": "stdout"
        },
        {
          "output_type": "stream",
          "text": [
            "Batches: 100%|██████████| 157/157 [00:38<00:00,  4.06it/s]\n",
            "Batches: 100%|██████████| 157/157 [00:40<00:00,  3.86it/s]\n"
          ],
          "name": "stderr"
        },
        {
          "output_type": "stream",
          "text": [
            "Shape of difference (TARGET-SOURCE) vector: (10000, 768)\n",
            "Shift source -> target vector: (768,)\n",
            "CLS = en -> es : {'top-1': 0.2302, 'top-3': 0.3278, 'top-5': 0.349}\n",
            "CLS = es -> en : {'top-1': 0.0574, 'top-3': 0.0879, 'top-5': 0.0972}\n"
          ],
          "name": "stdout"
        }
      ]
    },
    {
      "cell_type": "markdown",
      "metadata": {
        "id": "hquF5VuFyI57",
        "colab_type": "text"
      },
      "source": [
        "### Max Pooling"
      ]
    },
    {
      "cell_type": "code",
      "metadata": {
        "id": "9j3JGvsU2CUq",
        "colab_type": "code",
        "outputId": "d1c9ea30-0094-469d-fc65-90855b26c3bb",
        "colab": {
          "base_uri": "https://localhost:8080/",
          "height": 183,
          "referenced_widgets": [
            "c2b7061d63e342d1a74b67e77c7ce34e",
            "48dcaa9645ec47129381673d8b4214d7",
            "eeba67a79bea483ead83a7e2ec8c9323",
            "97a700132dae4d828229d6aa4ded867a",
            "a111025a81e34d7a977c73c22b863a83",
            "500b8a76f7ff4d32be5bb6b9dcf77935",
            "0e4fe94691404f8db9439e51a8a52860",
            "358c08c2b0614be2818a2e3edb815ecb"
          ]
        }
      },
      "source": [
        "representation_type = 'max'\n",
        "max_accuracy_dict_en2es, resDF_source2target, max_accuracy_dict_es2en, resDF_target2source = get_results(enes_sentences_en[:LIMIT], sentences_es[:LIMIT], sourceLanguage, targetLanguage, representation_type)\n",
        "\n",
        "resDF_source2target.to_csv('{}--{}-{}.csv'.format(representation_type, sourceLanguage, targetLanguage))\n",
        "resDF_target2source.to_csv('{}--{}-{}.csv'.format(representation_type, targetLanguage, sourceLanguage))"
      ],
      "execution_count": 0,
      "outputs": [
        {
          "output_type": "display_data",
          "data": {
            "application/vnd.jupyter.widget-view+json": {
              "model_id": "c2b7061d63e342d1a74b67e77c7ce34e",
              "version_minor": 0,
              "version_major": 2
            },
            "text/plain": [
              "HBox(children=(FloatProgress(value=1.0, bar_style='info', max=1.0), HTML(value='')))"
            ]
          },
          "metadata": {
            "tags": []
          }
        },
        {
          "output_type": "stream",
          "text": [
            "\rBatches:   0%|          | 0/157 [00:00<?, ?it/s]"
          ],
          "name": "stderr"
        },
        {
          "output_type": "stream",
          "text": [
            "\n",
            "We have 20000 pairs of sentences. Graph has 16235 components\n"
          ],
          "name": "stdout"
        },
        {
          "output_type": "stream",
          "text": [
            "Batches: 100%|██████████| 157/157 [00:38<00:00,  4.10it/s]\n",
            "Batches: 100%|██████████| 157/157 [00:40<00:00,  3.86it/s]\n"
          ],
          "name": "stderr"
        },
        {
          "output_type": "stream",
          "text": [
            "Shape of difference (TARGET-SOURCE) vector: (10000, 768)\n",
            "Shift source -> target vector: (768,)\n",
            "max = en -> es : {'top-1': 0.3033, 'top-3': 0.4244, 'top-5': 0.4455}\n",
            "max = es -> en : {'top-1': 0.2074, 'top-3': 0.2789, 'top-5': 0.2936}\n"
          ],
          "name": "stdout"
        }
      ]
    },
    {
      "cell_type": "markdown",
      "metadata": {
        "id": "Pl590dttyLN5",
        "colab_type": "text"
      },
      "source": [
        "### Mean Pooling"
      ]
    },
    {
      "cell_type": "code",
      "metadata": {
        "id": "D74EU8yA2Gtu",
        "colab_type": "code",
        "outputId": "bb9d18fa-f5a2-4c2c-e704-75f55374cb52",
        "colab": {
          "base_uri": "https://localhost:8080/",
          "height": 183,
          "referenced_widgets": [
            "ba3b4d0b001b401b891b1b17c98f0de3",
            "f10d1d8db2b44402854f25acb41d0bcf",
            "a823aff1b1b54438b6b65a3caa86598a",
            "50bd331249e74b35b706c23cfc433fdd",
            "693648d91f57490098bf243e0eb50549",
            "fae6c9acbcee470fa5fe02846b7b6316",
            "15673651f676411897a93e2d8c79041e",
            "1e16cb8d31c84254945853e4d01c0a46"
          ]
        }
      },
      "source": [
        "representation_type = 'mean'\n",
        "mean_accuracy_dict_en2es, resDF_source2target, mean_accuracy_dict_es2en, resDF_target2source = get_results(enes_sentences_en[:LIMIT], sentences_es[:LIMIT], sourceLanguage, targetLanguage, representation_type)\n",
        "\n",
        "resDF_source2target.to_csv('{}--{}-{}.csv'.format(representation_type, sourceLanguage, targetLanguage))\n",
        "resDF_target2source.to_csv('{}--{}-{}.csv'.format(representation_type, targetLanguage, sourceLanguage))"
      ],
      "execution_count": 0,
      "outputs": [
        {
          "output_type": "display_data",
          "data": {
            "application/vnd.jupyter.widget-view+json": {
              "model_id": "ba3b4d0b001b401b891b1b17c98f0de3",
              "version_minor": 0,
              "version_major": 2
            },
            "text/plain": [
              "HBox(children=(FloatProgress(value=1.0, bar_style='info', max=1.0), HTML(value='')))"
            ]
          },
          "metadata": {
            "tags": []
          }
        },
        {
          "output_type": "stream",
          "text": [
            "\rBatches:   0%|          | 0/157 [00:00<?, ?it/s]"
          ],
          "name": "stderr"
        },
        {
          "output_type": "stream",
          "text": [
            "\n",
            "We have 20000 pairs of sentences. Graph has 16235 components\n"
          ],
          "name": "stdout"
        },
        {
          "output_type": "stream",
          "text": [
            "Batches: 100%|██████████| 157/157 [00:38<00:00,  4.10it/s]\n",
            "Batches: 100%|██████████| 157/157 [00:40<00:00,  3.88it/s]\n"
          ],
          "name": "stderr"
        },
        {
          "output_type": "stream",
          "text": [
            "Shape of difference (TARGET-SOURCE) vector: (10000, 768)\n",
            "Shift source -> target vector: (768,)\n",
            "mean = en -> ru : {'top-1': 0.364, 'top-3': 0.4991, 'top-5': 0.52}\n",
            "mean = ru -> en : {'top-1': 0.2236, 'top-3': 0.312, 'top-5': 0.3315}\n"
          ],
          "name": "stdout"
        }
      ]
    },
    {
      "cell_type": "markdown",
      "metadata": {
        "id": "kaK28ssWzBOd",
        "colab_type": "text"
      },
      "source": [
        "## English - French"
      ]
    },
    {
      "cell_type": "markdown",
      "metadata": {
        "id": "206dVRCeyOZh",
        "colab_type": "text"
      },
      "source": [
        "### CLS Pooling"
      ]
    },
    {
      "cell_type": "code",
      "metadata": {
        "id": "fDojc4IG2v9o",
        "colab_type": "code",
        "outputId": "cbfaef3b-0135-4d45-baed-d8ec36559b18",
        "colab": {
          "base_uri": "https://localhost:8080/",
          "height": 249,
          "referenced_widgets": [
            "058f86c1e6fb4ce0afd1047233168715",
            "a4d59bc8a2b84fe692243628746f6d7d",
            "de0fc557b4274fb293545adb4a622f0b",
            "423e304dd99c40aab314e4d443409223",
            "61f7bbca498e4215af84c23525fa79b0",
            "630c31ba12d84f3fae368b5b56633fea",
            "ce3c9f696ee3403886dba32c36e1a3a4",
            "2fee86845ca84c3fa7e58edb29fd9990",
            "c06020266a404e5dab369d615a99a69a",
            "33aa5dfb44f94d5c9c477d990344bbf8",
            "238587ce39b84819bd5b3c279a52bfe3",
            "c63f530c464546538f54c34b203216cc",
            "d04822e9dea8450090e714488b7bce20",
            "a27898eaa4d04de19bc228a88d31e5c6",
            "a6afe26fb3344246bd74bed93f26d549",
            "48d57f17bed44c6db627939165e8b99e"
          ]
        }
      },
      "source": [
        "LIMIT = 20000\n",
        "sourceLanguage = 'en'\n",
        "targetLanguage = 'fr'\n",
        "graph = build_graph(enfr_sentences_en[:LIMIT], sentences_fr[:LIMIT])\n",
        "\n",
        "representation_type = 'CLS'\n",
        "cls_accuracy_dict_en2fr, resDF_source2target, cls_accuracy_dict_fr2en, resDF_target2source = get_results(enfr_sentences_en[:LIMIT], sentences_fr[:LIMIT], sourceLanguage, targetLanguage, representation_type)\n",
        "\n",
        "resDF_source2target.to_csv('{}--{}-{}.csv'.format(representation_type, sourceLanguage, targetLanguage))\n",
        "resDF_target2source.to_csv('{}--{}-{}.csv'.format(representation_type, targetLanguage, sourceLanguage))"
      ],
      "execution_count": 0,
      "outputs": [
        {
          "output_type": "display_data",
          "data": {
            "application/vnd.jupyter.widget-view+json": {
              "model_id": "058f86c1e6fb4ce0afd1047233168715",
              "version_minor": 0,
              "version_major": 2
            },
            "text/plain": [
              "HBox(children=(FloatProgress(value=1.0, bar_style='info', max=1.0), HTML(value='')))"
            ]
          },
          "metadata": {
            "tags": []
          }
        },
        {
          "output_type": "stream",
          "text": [
            "\n",
            "We have 20000 pairs of sentences. Graph has 15434 components\n"
          ],
          "name": "stdout"
        },
        {
          "output_type": "display_data",
          "data": {
            "application/vnd.jupyter.widget-view+json": {
              "model_id": "c06020266a404e5dab369d615a99a69a",
              "version_minor": 0,
              "version_major": 2
            },
            "text/plain": [
              "HBox(children=(FloatProgress(value=1.0, bar_style='info', max=1.0), HTML(value='')))"
            ]
          },
          "metadata": {
            "tags": []
          }
        },
        {
          "output_type": "stream",
          "text": [
            "Batches:   1%|▏         | 2/157 [00:00<00:08, 18.47it/s]"
          ],
          "name": "stderr"
        },
        {
          "output_type": "stream",
          "text": [
            "\n",
            "We have 19999 pairs of sentences. Graph has 15433 components\n"
          ],
          "name": "stdout"
        },
        {
          "output_type": "stream",
          "text": [
            "Batches: 100%|██████████| 157/157 [00:13<00:00, 11.56it/s]\n",
            "Batches: 100%|██████████| 157/157 [00:16<00:00,  9.72it/s]\n"
          ],
          "name": "stderr"
        },
        {
          "output_type": "stream",
          "text": [
            "Shape of difference (TARGET-SOURCE) vector: (9999, 768)\n",
            "Shift source -> target vector: (768,)\n",
            "CLS = en -> fr : {'top-1': 0.1992, 'top-3': 0.2871, 'top-5': 0.308}\n",
            "CLS = fr -> en : {'top-1': 0.0873, 'top-3': 0.1511, 'top-5': 0.1663}\n"
          ],
          "name": "stdout"
        }
      ]
    },
    {
      "cell_type": "markdown",
      "metadata": {
        "id": "Jm7ysn7_yPx7",
        "colab_type": "text"
      },
      "source": [
        "### Max Pooling"
      ]
    },
    {
      "cell_type": "code",
      "metadata": {
        "id": "9vBfj7pF3sFq",
        "colab_type": "code",
        "outputId": "1ffe170b-20be-4e5a-ad82-d982f6466e04",
        "colab": {
          "base_uri": "https://localhost:8080/",
          "height": 183,
          "referenced_widgets": [
            "9a880cad530d478fb41aaf6cf52eef77",
            "fd8dc021a93b4075a3da7c4487364bff",
            "d229439326f14f8d8b984dfac1483f70",
            "27067d079a04400cae8dc5bf75c737c0",
            "d8ea9d29f8c845f8a4f0b40c0d3a6ca7",
            "956df2df27fc4df08cc07cf8fb6f17e8",
            "3861ec57a4c341018d5bc17bcd681174",
            "220d1894b3e14423b30371e8ebd724b7"
          ]
        }
      },
      "source": [
        "representation_type = 'max'\n",
        "max_accuracy_dict_en2fr, resDF_source2target, max_accuracy_dict_fr2en, resDF_target2source = get_results(enfr_sentences_en[:LIMIT], sentences_fr[:LIMIT], sourceLanguage, targetLanguage, representation_type)\n",
        "\n",
        "resDF_source2target.to_csv('{}--{}-{}.csv'.format(representation_type, sourceLanguage, targetLanguage))\n",
        "resDF_target2source.to_csv('{}--{}-{}.csv'.format(representation_type, targetLanguage, sourceLanguage))"
      ],
      "execution_count": 0,
      "outputs": [
        {
          "output_type": "display_data",
          "data": {
            "application/vnd.jupyter.widget-view+json": {
              "model_id": "9a880cad530d478fb41aaf6cf52eef77",
              "version_minor": 0,
              "version_major": 2
            },
            "text/plain": [
              "HBox(children=(FloatProgress(value=1.0, bar_style='info', max=1.0), HTML(value='')))"
            ]
          },
          "metadata": {
            "tags": []
          }
        },
        {
          "output_type": "stream",
          "text": [
            "Batches:   1%|▏         | 2/157 [00:00<00:08, 18.74it/s]"
          ],
          "name": "stderr"
        },
        {
          "output_type": "stream",
          "text": [
            "\n",
            "We have 19999 pairs of sentences. Graph has 15433 components\n"
          ],
          "name": "stdout"
        },
        {
          "output_type": "stream",
          "text": [
            "Batches: 100%|██████████| 157/157 [00:13<00:00, 11.39it/s]\n",
            "Batches: 100%|██████████| 157/157 [00:16<00:00,  9.55it/s]\n"
          ],
          "name": "stderr"
        },
        {
          "output_type": "stream",
          "text": [
            "Shape of difference (TARGET-SOURCE) vector: (9999, 768)\n",
            "Shift source -> target vector: (768,)\n",
            "max = en -> fr : {'top-1': 0.2677, 'top-3': 0.3825, 'top-5': 0.4039}\n",
            "max = fr -> en : {'top-1': 0.2185, 'top-3': 0.3224, 'top-5': 0.346}\n"
          ],
          "name": "stdout"
        }
      ]
    },
    {
      "cell_type": "markdown",
      "metadata": {
        "id": "EOyQUkuQyRgn",
        "colab_type": "text"
      },
      "source": [
        "### Mean Pooling"
      ]
    },
    {
      "cell_type": "code",
      "metadata": {
        "id": "Wog0cS2J34Ry",
        "colab_type": "code",
        "outputId": "9640a75f-30dc-4f52-b93b-227fbc6a0658",
        "colab": {
          "base_uri": "https://localhost:8080/",
          "height": 183,
          "referenced_widgets": [
            "0f7815cd444340439df8a2395bd773b3",
            "4dc8802b0158446ab2c0d52442b9b318",
            "3c3a53d734f74e3ca31f2e67411bb441",
            "545346463c7544049155e28f1189d178",
            "5fcf49305d9644e19da24b7ed71bad84",
            "e504ae9d3e784c74b155539048156a91",
            "aad35a30a95f446db7de3587483bf721",
            "c15ae3fab33c4a80af609aee4640ef2e"
          ]
        }
      },
      "source": [
        "representation_type = 'mean'\n",
        "mean_accuracy_dict_en2fr, resDF_source2target, mean_accuracy_dict_fr2en, resDF_target2source = get_results(enfr_sentences_en[:LIMIT], sentences_fr[:LIMIT], sourceLanguage, targetLanguage, representation_type)\n",
        "\n",
        "resDF_source2target.to_csv('{}--{}-{}.csv'.format(representation_type, sourceLanguage, targetLanguage))\n",
        "resDF_target2source.to_csv('{}--{}-{}.csv'.format(representation_type, targetLanguage, sourceLanguage))"
      ],
      "execution_count": 0,
      "outputs": [
        {
          "output_type": "display_data",
          "data": {
            "application/vnd.jupyter.widget-view+json": {
              "model_id": "0f7815cd444340439df8a2395bd773b3",
              "version_minor": 0,
              "version_major": 2
            },
            "text/plain": [
              "HBox(children=(FloatProgress(value=1.0, bar_style='info', max=1.0), HTML(value='')))"
            ]
          },
          "metadata": {
            "tags": []
          }
        },
        {
          "output_type": "stream",
          "text": [
            "Batches:   1%|▏         | 2/157 [00:00<00:08, 19.34it/s]"
          ],
          "name": "stderr"
        },
        {
          "output_type": "stream",
          "text": [
            "\n",
            "We have 19999 pairs of sentences. Graph has 15433 components\n"
          ],
          "name": "stdout"
        },
        {
          "output_type": "stream",
          "text": [
            "Batches: 100%|██████████| 157/157 [00:13<00:00, 11.46it/s]\n",
            "Batches: 100%|██████████| 157/157 [00:16<00:00,  9.69it/s]\n"
          ],
          "name": "stderr"
        },
        {
          "output_type": "stream",
          "text": [
            "Shape of difference (TARGET-SOURCE) vector: (9999, 768)\n",
            "Shift source -> target vector: (768,)\n",
            "mean = en -> fr : {'top-1': 0.2985, 'top-3': 0.4375, 'top-5': 0.4663}\n",
            "mean = fr -> en : {'top-1': 0.2337, 'top-3': 0.3561, 'top-5': 0.379}\n"
          ],
          "name": "stdout"
        }
      ]
    },
    {
      "cell_type": "markdown",
      "metadata": {
        "id": "zb6HGb_GxWyp",
        "colab_type": "text"
      },
      "source": [
        "## English - Italian"
      ]
    },
    {
      "cell_type": "markdown",
      "metadata": {
        "id": "wW3HYXnqyT2V",
        "colab_type": "text"
      },
      "source": [
        "### CLS Pooling"
      ]
    },
    {
      "cell_type": "code",
      "metadata": {
        "id": "1JgYxW9VySlz",
        "colab_type": "code",
        "outputId": "240e900d-2009-4eea-92bb-60c30e302852",
        "colab": {
          "base_uri": "https://localhost:8080/",
          "height": 266,
          "referenced_widgets": [
            "1335499dbc1f4e7095365a23ae0d869a",
            "b28928dad6244d1289b254add35b71df",
            "a411a6111f564dd68838faf9da82343e",
            "82fc180d9f6f48609b6b3ee7208797af",
            "6c5bab69e601459495bdfc33e7d1c83e",
            "18011cb68b6e4dd6bfc3ed23db6f2b3b",
            "5ad7377649224f29a5f7a4683ad07b45",
            "d8d85e6807704a78936b76cc06c6195a",
            "7f92e8762ae647fc97427c3304edf82a",
            "8220222d1c954dc594ac5d97dee90269",
            "1f36e1ae42c54e1682d81d40d4146da8",
            "6a1dfc096085487ca2b821fda021765c",
            "962d7846a4fd4f289f07b021962171e6",
            "776c77ada48a46b399639bfacbacb7f8",
            "ea4a8a30ae974006b103c9c9eeb4dc9c",
            "eed6d122519347e5854d9b4bd2522169"
          ]
        }
      },
      "source": [
        "LIMIT = 20000\n",
        "sourceLanguage = 'en'\n",
        "targetLanguage = 'it'\n",
        "graph = build_graph(enit_sentences_en[:LIMIT], sentences_it[:LIMIT])\n",
        "\n",
        "representation_type = 'CLS'\n",
        "cls_accuracy_dict_en2it, resDF_source2target, cls_accuracy_dict_it2en, resDF_target2source = get_results(enit_sentences_en[:LIMIT], sentences_it[:LIMIT], sourceLanguage, targetLanguage, representation_type)\n",
        "\n",
        "resDF_source2target.to_csv('{}--{}-{}.csv'.format(representation_type, sourceLanguage, targetLanguage))\n",
        "resDF_target2source.to_csv('{}--{}-{}.csv'.format(representation_type, targetLanguage, sourceLanguage))"
      ],
      "execution_count": 0,
      "outputs": [
        {
          "output_type": "display_data",
          "data": {
            "application/vnd.jupyter.widget-view+json": {
              "model_id": "1335499dbc1f4e7095365a23ae0d869a",
              "version_minor": 0,
              "version_major": 2
            },
            "text/plain": [
              "HBox(children=(FloatProgress(value=1.0, bar_style='info', max=1.0), HTML(value='')))"
            ]
          },
          "metadata": {
            "tags": []
          }
        },
        {
          "output_type": "stream",
          "text": [
            "\n",
            "We have 20000 pairs of sentences. Graph has 8555 components\n"
          ],
          "name": "stdout"
        },
        {
          "output_type": "display_data",
          "data": {
            "application/vnd.jupyter.widget-view+json": {
              "model_id": "7f92e8762ae647fc97427c3304edf82a",
              "version_minor": 0,
              "version_major": 2
            },
            "text/plain": [
              "HBox(children=(FloatProgress(value=1.0, bar_style='info', max=1.0), HTML(value='')))"
            ]
          },
          "metadata": {
            "tags": []
          }
        },
        {
          "output_type": "stream",
          "text": [
            "\rBatches:   0%|          | 0/157 [00:00<?, ?it/s]"
          ],
          "name": "stderr"
        },
        {
          "output_type": "stream",
          "text": [
            "\n",
            "We have 19999 pairs of sentences. Graph has 8554 components\n"
          ],
          "name": "stdout"
        },
        {
          "output_type": "stream",
          "text": [
            "Batches: 100%|██████████| 157/157 [00:35<00:00,  4.49it/s]\n",
            "Batches: 100%|██████████| 157/157 [00:37<00:00,  4.16it/s]\n"
          ],
          "name": "stderr"
        },
        {
          "output_type": "stream",
          "text": [
            "Shape of difference (TARGET-SOURCE) vector: (9999, 768)\n",
            "Shift source -> target vector: (768,)\n",
            "CLS = en -> it : {'top-1': 0.1079, 'top-3': 0.2953, 'top-5': 0.3204}\n",
            "CLS = it -> en : {'top-1': 0.024, 'top-3': 0.0613, 'top-5': 0.0692}\n",
            "--- 99.99169158935547 seconds ---\n"
          ],
          "name": "stdout"
        }
      ]
    },
    {
      "cell_type": "code",
      "metadata": {
        "id": "DFhgODqcyWLU",
        "colab_type": "code",
        "outputId": "7465e47d-1080-46ef-e7cf-ab61dc7ba165",
        "colab": {
          "base_uri": "https://localhost:8080/",
          "height": 262
        }
      },
      "source": [
        "print('Representation: {}'.format(representation_type))\n",
        "display('{} -> {}'.format(sourceLanguage, targetLanguage))\n",
        "display(cls_accuracy_dict_en2it)\n",
        "display(resDF_source2target.head(10))\n",
        "\n",
        "display('{} -> {}'.format(targetLanguage, sourceLanguage ))\n",
        "display(cls_accuracy_dict_it2en)\n",
        "display(resDF_target2source.head(10))"
      ],
      "execution_count": 0,
      "outputs": [
        {
          "output_type": "stream",
          "text": [
            "Representation: CLS\n"
          ],
          "name": "stdout"
        },
        {
          "output_type": "display_data",
          "data": {
            "text/plain": [
              "'en -> it'"
            ]
          },
          "metadata": {
            "tags": []
          }
        },
        {
          "output_type": "error",
          "ename": "NameError",
          "evalue": "ignored",
          "traceback": [
            "\u001b[0;31m---------------------------------------------------------------------------\u001b[0m",
            "\u001b[0;31mNameError\u001b[0m                                 Traceback (most recent call last)",
            "\u001b[0;32m<ipython-input-68-f384aca9e3fe>\u001b[0m in \u001b[0;36m<module>\u001b[0;34m()\u001b[0m\n\u001b[1;32m      1\u001b[0m \u001b[0mprint\u001b[0m\u001b[0;34m(\u001b[0m\u001b[0;34m'Representation: {}'\u001b[0m\u001b[0;34m.\u001b[0m\u001b[0mformat\u001b[0m\u001b[0;34m(\u001b[0m\u001b[0mrepresentation_type\u001b[0m\u001b[0;34m)\u001b[0m\u001b[0;34m)\u001b[0m\u001b[0;34m\u001b[0m\u001b[0;34m\u001b[0m\u001b[0m\n\u001b[1;32m      2\u001b[0m \u001b[0mdisplay\u001b[0m\u001b[0;34m(\u001b[0m\u001b[0;34m'{} -> {}'\u001b[0m\u001b[0;34m.\u001b[0m\u001b[0mformat\u001b[0m\u001b[0;34m(\u001b[0m\u001b[0msourceLanguage\u001b[0m\u001b[0;34m,\u001b[0m \u001b[0mtargetLanguage\u001b[0m\u001b[0;34m)\u001b[0m\u001b[0;34m)\u001b[0m\u001b[0;34m\u001b[0m\u001b[0;34m\u001b[0m\u001b[0m\n\u001b[0;32m----> 3\u001b[0;31m \u001b[0mdisplay\u001b[0m\u001b[0;34m(\u001b[0m\u001b[0maccuracy_dict_source2target\u001b[0m\u001b[0;34m)\u001b[0m\u001b[0;34m\u001b[0m\u001b[0;34m\u001b[0m\u001b[0m\n\u001b[0m\u001b[1;32m      4\u001b[0m \u001b[0mdisplay\u001b[0m\u001b[0;34m(\u001b[0m\u001b[0mresDF_source2target\u001b[0m\u001b[0;34m.\u001b[0m\u001b[0mhead\u001b[0m\u001b[0;34m(\u001b[0m\u001b[0;36m10\u001b[0m\u001b[0;34m)\u001b[0m\u001b[0;34m)\u001b[0m\u001b[0;34m\u001b[0m\u001b[0;34m\u001b[0m\u001b[0m\n\u001b[1;32m      5\u001b[0m \u001b[0;34m\u001b[0m\u001b[0m\n",
            "\u001b[0;31mNameError\u001b[0m: name 'accuracy_dict_source2target' is not defined"
          ]
        }
      ]
    },
    {
      "cell_type": "markdown",
      "metadata": {
        "id": "H0EeuQcOyjFO",
        "colab_type": "text"
      },
      "source": [
        "### Max Pooling"
      ]
    },
    {
      "cell_type": "code",
      "metadata": {
        "id": "Dg9_mLf0yW1w",
        "colab_type": "code",
        "outputId": "38822f17-69c7-46d9-af79-9252cacafcee",
        "colab": {
          "base_uri": "https://localhost:8080/",
          "height": 183,
          "referenced_widgets": [
            "0e20caef60154ff1aab1ac6de3f0ffbe",
            "ed9e50ff4be647959b2b23cd7340b102",
            "e446bf46c56641d997c8cd4e8444d852",
            "d35ef7689d274dcfa421e111513f48fb",
            "06f1eb47be844915b2d4b8018e346521",
            "0e0397f8e21c4c7f8b1905fc19c8c5b0",
            "3bb711d6db1d4c36bd08a2b610d2c112",
            "6fb2e324c67c49e3a36aa12c60e0d2f9"
          ]
        }
      },
      "source": [
        "representation_type = 'max'\n",
        "max_accuracy_dict_en2it, resDF_source2target, max_accuracy_dict_it2en, resDF_target2source = get_results(enit_sentences_en[:LIMIT], sentences_it[:LIMIT], sourceLanguage, targetLanguage, representation_type)\n",
        "\n",
        "resDF_source2target.to_csv('{}--{}-{}.csv'.format(representation_type, sourceLanguage, targetLanguage))\n",
        "resDF_target2source.to_csv('{}--{}-{}.csv'.format(representation_type, targetLanguage, sourceLanguage))"
      ],
      "execution_count": 0,
      "outputs": [
        {
          "output_type": "display_data",
          "data": {
            "application/vnd.jupyter.widget-view+json": {
              "model_id": "0e20caef60154ff1aab1ac6de3f0ffbe",
              "version_minor": 0,
              "version_major": 2
            },
            "text/plain": [
              "HBox(children=(FloatProgress(value=1.0, bar_style='info', max=1.0), HTML(value='')))"
            ]
          },
          "metadata": {
            "tags": []
          }
        },
        {
          "output_type": "stream",
          "text": [
            "Batches:   1%|▏         | 2/157 [00:00<00:07, 19.51it/s]"
          ],
          "name": "stderr"
        },
        {
          "output_type": "stream",
          "text": [
            "\n",
            "We have 19999 pairs of sentences. Graph has 8554 components\n"
          ],
          "name": "stdout"
        },
        {
          "output_type": "stream",
          "text": [
            "Batches: 100%|██████████| 157/157 [00:12<00:00, 12.76it/s]\n",
            "Batches: 100%|██████████| 157/157 [00:13<00:00, 11.93it/s]\n"
          ],
          "name": "stderr"
        },
        {
          "output_type": "stream",
          "text": [
            "Shape of difference (TARGET-SOURCE) vector: (9999, 768)\n",
            "Shift source -> target vector: (768,)\n",
            "max = en -> de : {'top-1': 0.1446, 'top-3': 0.3998, 'top-5': 0.4272}\n",
            "max = de -> en : {'top-1': 0.0777, 'top-3': 0.1843, 'top-5': 0.1975}\n"
          ],
          "name": "stdout"
        }
      ]
    },
    {
      "cell_type": "code",
      "metadata": {
        "id": "UHrrQUjNyaZ_",
        "colab_type": "code",
        "colab": {}
      },
      "source": [
        "print('Representation: {}'.format(representation_type))\n",
        "display('{} -> {}'.format(sourceLanguage, targetLanguage))\n",
        "display(accuracy_dict_source2target)\n",
        "display(resDF_source2target.head(10))\n",
        "\n",
        "display('{} -> {}'.format(targetLanguage, sourceLanguage ))\n",
        "display(accuracy_dict_target2source)\n",
        "display(resDF_target2source.head(10))"
      ],
      "execution_count": 0,
      "outputs": []
    },
    {
      "cell_type": "markdown",
      "metadata": {
        "id": "w-YLejXLynNI",
        "colab_type": "text"
      },
      "source": [
        "### Mean Pooling"
      ]
    },
    {
      "cell_type": "code",
      "metadata": {
        "id": "FpPP5CwmzyRN",
        "colab_type": "code",
        "outputId": "076aabae-da47-4268-d1b4-457d5a129f5c",
        "colab": {
          "base_uri": "https://localhost:8080/",
          "height": 183,
          "referenced_widgets": [
            "749e05edd0454f418426fc7a59022a04",
            "84c80003edbb4aff8f70a1298730eaf3",
            "81874406880c4d7fa8779dc8cf241163",
            "8ba63cab608a47ea84c4ecabc4c10bda",
            "b4e87aaafc4642fdbd60e2d4d9137a79",
            "fc3096f1e9e94edab118e7046ca85160",
            "d9c4a4a600b4475eb146d831ec73c27c",
            "476b23151e2b4820be775e60865b2515"
          ]
        }
      },
      "source": [
        "representation_type = 'mean'\n",
        "mean_accuracy_dict_en2it, resDF_source2target, mean_accuracy_dict_it2en, resDF_target2source = get_results(enit_sentences_en[:LIMIT], sentences_it[:LIMIT], sourceLanguage, targetLanguage, representation_type)\n",
        "\n",
        "resDF_source2target.to_csv('{}--{}-{}.csv'.format(representation_type, sourceLanguage, targetLanguage))\n",
        "resDF_target2source.to_csv('{}--{}-{}.csv'.format(representation_type, targetLanguage, sourceLanguage))"
      ],
      "execution_count": 0,
      "outputs": [
        {
          "output_type": "display_data",
          "data": {
            "application/vnd.jupyter.widget-view+json": {
              "model_id": "749e05edd0454f418426fc7a59022a04",
              "version_minor": 0,
              "version_major": 2
            },
            "text/plain": [
              "HBox(children=(FloatProgress(value=1.0, bar_style='info', max=1.0), HTML(value='')))"
            ]
          },
          "metadata": {
            "tags": []
          }
        },
        {
          "output_type": "stream",
          "text": [
            "\rBatches:   0%|          | 0/157 [00:00<?, ?it/s]"
          ],
          "name": "stderr"
        },
        {
          "output_type": "stream",
          "text": [
            "\n",
            "We have 19999 pairs of sentences. Graph has 8554 components\n"
          ],
          "name": "stdout"
        },
        {
          "output_type": "stream",
          "text": [
            "Batches: 100%|██████████| 157/157 [00:12<00:00, 13.01it/s]\n",
            "Batches: 100%|██████████| 157/157 [00:13<00:00, 12.07it/s]\n"
          ],
          "name": "stderr"
        },
        {
          "output_type": "stream",
          "text": [
            "Shape of difference (TARGET-SOURCE) vector: (9999, 768)\n",
            "Shift source -> target vector: (768,)\n",
            "mean = en -> de : {'top-1': 0.1789, 'top-3': 0.4731, 'top-5': 0.5073}\n",
            "mean = de -> en : {'top-1': 0.0845, 'top-3': 0.2223, 'top-5': 0.2376}\n"
          ],
          "name": "stdout"
        }
      ]
    },
    {
      "cell_type": "markdown",
      "metadata": {
        "id": "3-ZXcC4PzKF8",
        "colab_type": "text"
      },
      "source": [
        "## English - German"
      ]
    },
    {
      "cell_type": "markdown",
      "metadata": {
        "id": "aP5c2AlPyq2c",
        "colab_type": "text"
      },
      "source": [
        "### CLS Pooling"
      ]
    },
    {
      "cell_type": "code",
      "metadata": {
        "id": "biboNKA15Pro",
        "colab_type": "code",
        "outputId": "d518ad02-0848-459d-e9d2-e41ab11a1a37",
        "colab": {
          "base_uri": "https://localhost:8080/",
          "height": 249,
          "referenced_widgets": [
            "8861c3c9b440408d86571bf72a5e88fb",
            "b6ce5d74e93a4fe0a8259a2da4b47b44",
            "a91f96384c514a638cf0896cb6dbda3d",
            "6cc7a553762d4979980eb6cf68d30eed",
            "a30f0ca10dc54b13a4d2fa07081aa4bf",
            "d417b5868a6e4f6cb025e770f8eca9ba",
            "d550325508ce4e66a9315ae6c2434893",
            "78bf9a2de1294641bdaa1c30f9644a0d",
            "23efd9ff7a04471aaf05feb368d2fed5",
            "e93a0791eb2d4c5eb21231b839f6397c",
            "5d0e74d1e6824c1881c17a654e016476",
            "c2e974675b3549a68290a9c508d5d07a",
            "e962b6a23f3644beae536010219594ea",
            "ebf56a0fb569468ab79691ce50561cda",
            "23e1a00529474292903954e5f26245bc",
            "bd27702cff8c427e8e6ba96d10318062"
          ]
        }
      },
      "source": [
        "LIMIT = 20000\n",
        "sourceLanguage = 'en'\n",
        "targetLanguage = 'de'\n",
        "graph = build_graph(deen_sentences_en[:LIMIT], sentences_de[:LIMIT])\n",
        "\n",
        "representation_type = 'CLS'\n",
        "cls_accuracy_dict_en2de, resDF_source2target, cls_accuracy_dict_de2en, resDF_target2source = get_results(deen_sentences_en[:LIMIT], sentences_de[:LIMIT], sourceLanguage, targetLanguage, representation_type)\n",
        "\n",
        "resDF_source2target.to_csv('{}--{}-{}.csv'.format(representation_type, sourceLanguage, targetLanguage))\n",
        "resDF_target2source.to_csv('{}--{}-{}.csv'.format(representation_type, targetLanguage, sourceLanguage))"
      ],
      "execution_count": 0,
      "outputs": [
        {
          "output_type": "display_data",
          "data": {
            "application/vnd.jupyter.widget-view+json": {
              "model_id": "8861c3c9b440408d86571bf72a5e88fb",
              "version_minor": 0,
              "version_major": 2
            },
            "text/plain": [
              "HBox(children=(FloatProgress(value=1.0, bar_style='info', max=1.0), HTML(value='')))"
            ]
          },
          "metadata": {
            "tags": []
          }
        },
        {
          "output_type": "stream",
          "text": [
            "\n",
            "We have 20000 pairs of sentences. Graph has 14742 components\n"
          ],
          "name": "stdout"
        },
        {
          "output_type": "display_data",
          "data": {
            "application/vnd.jupyter.widget-view+json": {
              "model_id": "23efd9ff7a04471aaf05feb368d2fed5",
              "version_minor": 0,
              "version_major": 2
            },
            "text/plain": [
              "HBox(children=(FloatProgress(value=1.0, bar_style='info', max=1.0), HTML(value='')))"
            ]
          },
          "metadata": {
            "tags": []
          }
        },
        {
          "output_type": "stream",
          "text": [
            "Batches:   1%|▏         | 2/157 [00:00<00:08, 19.15it/s]"
          ],
          "name": "stderr"
        },
        {
          "output_type": "stream",
          "text": [
            "\n",
            "We have 19999 pairs of sentences. Graph has 14741 components\n"
          ],
          "name": "stdout"
        },
        {
          "output_type": "stream",
          "text": [
            "Batches: 100%|██████████| 157/157 [00:13<00:00, 11.65it/s]\n",
            "Batches: 100%|██████████| 157/157 [00:15<00:00, 10.45it/s]\n"
          ],
          "name": "stderr"
        },
        {
          "output_type": "stream",
          "text": [
            "Shape of difference (TARGET-SOURCE) vector: (9999, 768)\n",
            "Shift source -> target vector: (768,)\n",
            "CLS = en -> de : {'top-1': 0.1604, 'top-3': 0.2518, 'top-5': 0.2716}\n",
            "CLS = de -> en : {'top-1': 0.0495, 'top-3': 0.0823, 'top-5': 0.0935}\n"
          ],
          "name": "stdout"
        }
      ]
    },
    {
      "cell_type": "markdown",
      "metadata": {
        "id": "a_mbN649yuEN",
        "colab_type": "text"
      },
      "source": [
        "### Max Pooling"
      ]
    },
    {
      "cell_type": "code",
      "metadata": {
        "id": "uF6V00uG5oGL",
        "colab_type": "code",
        "outputId": "1b11a5ec-b7f1-42f5-d2a2-a585ffbaf432",
        "colab": {
          "base_uri": "https://localhost:8080/",
          "height": 183,
          "referenced_widgets": [
            "849f51a0628042faa882a3309a955bdd",
            "1f6b78e049464b478826cc4c42db1b9a",
            "fe77331f92b945668697b6cb6a9a16cc",
            "97f1a4148fdf49d9b14fbfc21231aaf6",
            "f56dcab9cd5e406b8bb14584d2f3142a",
            "4fe4396df814446e96e03ff4a11e8bf7",
            "90eae0dffcb5451ab35cf032be885002",
            "068048b3ba0e43c2a3e90589919bcdd0"
          ]
        }
      },
      "source": [
        "representation_type = 'max'\n",
        "max_accuracy_dict_en2de, resDF_source2target, max_accuracy_dict_de2en, resDF_target2source = get_results(deen_sentences_en[:LIMIT], sentences_de[:LIMIT], sourceLanguage, targetLanguage, representation_type)\n",
        "\n",
        "resDF_source2target.to_csv('{}--{}-{}.csv'.format(representation_type, sourceLanguage, targetLanguage))\n",
        "resDF_target2source.to_csv('{}--{}-{}.csv'.format(representation_type, targetLanguage, sourceLanguage))"
      ],
      "execution_count": 0,
      "outputs": [
        {
          "output_type": "display_data",
          "data": {
            "application/vnd.jupyter.widget-view+json": {
              "model_id": "849f51a0628042faa882a3309a955bdd",
              "version_minor": 0,
              "version_major": 2
            },
            "text/plain": [
              "HBox(children=(FloatProgress(value=1.0, bar_style='info', max=1.0), HTML(value='')))"
            ]
          },
          "metadata": {
            "tags": []
          }
        },
        {
          "output_type": "stream",
          "text": [
            "Batches:   1%|▏         | 2/157 [00:00<00:08, 18.70it/s]"
          ],
          "name": "stderr"
        },
        {
          "output_type": "stream",
          "text": [
            "\n",
            "We have 19999 pairs of sentences. Graph has 14741 components\n"
          ],
          "name": "stdout"
        },
        {
          "output_type": "stream",
          "text": [
            "Batches: 100%|██████████| 157/157 [00:13<00:00, 11.57it/s]\n",
            "Batches: 100%|██████████| 157/157 [00:15<00:00, 10.33it/s]\n"
          ],
          "name": "stderr"
        },
        {
          "output_type": "stream",
          "text": [
            "Shape of difference (TARGET-SOURCE) vector: (9999, 768)\n",
            "Shift source -> target vector: (768,)\n",
            "max = en -> de : {'top-1': 0.2354, 'top-3': 0.3735, 'top-5': 0.3986}\n",
            "max = de -> en : {'top-1': 0.1688, 'top-3': 0.244, 'top-5': 0.2609}\n"
          ],
          "name": "stdout"
        }
      ]
    },
    {
      "cell_type": "markdown",
      "metadata": {
        "id": "UyDj201Oyw1r",
        "colab_type": "text"
      },
      "source": [
        "### Mean Pooling"
      ]
    },
    {
      "cell_type": "code",
      "metadata": {
        "id": "12OcRzmy5yaT",
        "colab_type": "code",
        "outputId": "7843848f-f244-4e35-b163-1f6f3cb578ea",
        "colab": {
          "base_uri": "https://localhost:8080/",
          "height": 183,
          "referenced_widgets": [
            "0537e10f8cf34fbfad07e27051a19c5c",
            "b1b1fc73637e4569ba2f951322167a70",
            "ca94f3da97c048239f81a461e77dcacb",
            "fbaf45d2a27845b29b4f7f38e0516a06",
            "3639ffe95f8244a997a0ff36d649390c",
            "69d17635a78c4bc3b037fc395af7ec00",
            "7f6737b2b5444981bbe1810b247ad455",
            "74759128b8e3493da8e3b593822e3f62"
          ]
        }
      },
      "source": [
        "representation_type = 'mean'\n",
        "mean_accuracy_dict_en2de, resDF_source2target, mean_accuracy_dict_de2en, resDF_target2source = get_results(deen_sentences_en[:LIMIT], sentences_de[:LIMIT], sourceLanguage, targetLanguage, representation_type)\n",
        "\n",
        "resDF_source2target.to_csv('{}--{}-{}.csv'.format(representation_type, sourceLanguage, targetLanguage))\n",
        "resDF_target2source.to_csv('{}--{}-{}.csv'.format(representation_type, targetLanguage, sourceLanguage))"
      ],
      "execution_count": 0,
      "outputs": [
        {
          "output_type": "display_data",
          "data": {
            "application/vnd.jupyter.widget-view+json": {
              "model_id": "0537e10f8cf34fbfad07e27051a19c5c",
              "version_minor": 0,
              "version_major": 2
            },
            "text/plain": [
              "HBox(children=(FloatProgress(value=1.0, bar_style='info', max=1.0), HTML(value='')))"
            ]
          },
          "metadata": {
            "tags": []
          }
        },
        {
          "output_type": "stream",
          "text": [
            "Batches:   1%|▏         | 2/157 [00:00<00:08, 19.21it/s]"
          ],
          "name": "stderr"
        },
        {
          "output_type": "stream",
          "text": [
            "\n",
            "We have 19999 pairs of sentences. Graph has 14741 components\n"
          ],
          "name": "stdout"
        },
        {
          "output_type": "stream",
          "text": [
            "Batches: 100%|██████████| 157/157 [00:13<00:00, 11.71it/s]\n",
            "Batches: 100%|██████████| 157/157 [00:15<00:00, 10.41it/s]\n"
          ],
          "name": "stderr"
        },
        {
          "output_type": "stream",
          "text": [
            "Shape of difference (TARGET-SOURCE) vector: (9999, 768)\n",
            "Shift source -> target vector: (768,)\n",
            "mean = en -> de : {'top-1': 0.2892, 'top-3': 0.4482, 'top-5': 0.4766}\n",
            "mean = de -> en : {'top-1': 0.1878, 'top-3': 0.2905, 'top-5': 0.3114}\n"
          ],
          "name": "stdout"
        }
      ]
    },
    {
      "cell_type": "markdown",
      "metadata": {
        "id": "Nbthi_PpzVT9",
        "colab_type": "text"
      },
      "source": [
        "## English - Finnish"
      ]
    },
    {
      "cell_type": "markdown",
      "metadata": {
        "id": "3rfiNfkCyyxN",
        "colab_type": "text"
      },
      "source": [
        "### CLS Pooling"
      ]
    },
    {
      "cell_type": "code",
      "metadata": {
        "id": "iJUskBN755ol",
        "colab_type": "code",
        "outputId": "57725a19-9f91-4272-9c18-8c62b8523e3f",
        "colab": {
          "base_uri": "https://localhost:8080/",
          "height": 249,
          "referenced_widgets": [
            "b153d458427541a8bb39d5bd12ed36ea",
            "e1949831e7e74941bb3669b746559b66",
            "c5ec28d38635498bb8a094081ffcffa7",
            "df200274fd2443ed926b4cb3cd835276",
            "c1e4ca3c9f3c4ada9b1f1e973f5ca87b",
            "64109b7681384adda84290f4ae2c08da",
            "2f494dff480a463a8394434bb41373d3",
            "58fc4dae9a86459e9b3f5fce0945b250",
            "cb551f0b57f24daca27220412b9df333",
            "44e80221621b4fc1834b7bd1448b2926",
            "5622db20669546888ff443e7a66892a6",
            "fc162016cc8f476998cd60cf1d569af6",
            "1940fc3a364a4f58b6a9959576f446d9",
            "942b50664113459facbf84be9005b107",
            "0561a8bf6ef44c8dba3309b9ba5faa1b",
            "9cf1d0ba61464312bbdbbf03f723eaf1"
          ]
        }
      },
      "source": [
        "LIMIT = 20000\n",
        "sourceLanguage = 'en'\n",
        "targetLanguage = 'fi'\n",
        "graph = build_graph(enfi_sentences_en[:LIMIT], sentences_fi[:LIMIT])\n",
        "\n",
        "representation_type = 'CLS'\n",
        "cls_accuracy_dict_en2fi, resDF_source2target, cls_accuracy_dict_fi2en, resDF_target2source = get_results(enfi_sentences_en[:LIMIT], sentences_fi[:LIMIT], sourceLanguage, targetLanguage, representation_type)\n",
        "\n",
        "resDF_source2target.to_csv('{}--{}-{}.csv'.format(representation_type, sourceLanguage, targetLanguage))\n",
        "resDF_target2source.to_csv('{}--{}-{}.csv'.format(representation_type, targetLanguage, sourceLanguage))"
      ],
      "execution_count": 0,
      "outputs": [
        {
          "output_type": "display_data",
          "data": {
            "application/vnd.jupyter.widget-view+json": {
              "model_id": "b153d458427541a8bb39d5bd12ed36ea",
              "version_minor": 0,
              "version_major": 2
            },
            "text/plain": [
              "HBox(children=(FloatProgress(value=1.0, bar_style='info', max=1.0), HTML(value='')))"
            ]
          },
          "metadata": {
            "tags": []
          }
        },
        {
          "output_type": "stream",
          "text": [
            "\n",
            "We have 20000 pairs of sentences. Graph has 13847 components\n"
          ],
          "name": "stdout"
        },
        {
          "output_type": "display_data",
          "data": {
            "application/vnd.jupyter.widget-view+json": {
              "model_id": "cb551f0b57f24daca27220412b9df333",
              "version_minor": 0,
              "version_major": 2
            },
            "text/plain": [
              "HBox(children=(FloatProgress(value=1.0, bar_style='info', max=1.0), HTML(value='')))"
            ]
          },
          "metadata": {
            "tags": []
          }
        },
        {
          "output_type": "stream",
          "text": [
            "\n"
          ],
          "name": "stdout"
        },
        {
          "output_type": "stream",
          "text": [
            "Batches:   1%|▏         | 2/157 [00:00<00:07, 19.79it/s]"
          ],
          "name": "stderr"
        },
        {
          "output_type": "stream",
          "text": [
            "We have 19994 pairs of sentences. Graph has 13841 components\n"
          ],
          "name": "stdout"
        },
        {
          "output_type": "stream",
          "text": [
            "Batches: 100%|██████████| 157/157 [00:12<00:00, 12.14it/s]\n",
            "Batches: 100%|██████████| 157/157 [00:15<00:00, 10.34it/s]\n"
          ],
          "name": "stderr"
        },
        {
          "output_type": "stream",
          "text": [
            "Shape of difference (TARGET-SOURCE) vector: (9997, 768)\n",
            "Shift source -> target vector: (768,)\n",
            "CLS = en -> fi : {'top-1': 0.06872061618485546, 'top-3': 0.15194558367510252, 'top-5': 0.1736520956286886}\n",
            "CLS = fi -> en : {'top-1': 0.008002400720216065, 'top-3': 0.01610483144943483, 'top-5': 0.01980594178253476}\n"
          ],
          "name": "stdout"
        }
      ]
    },
    {
      "cell_type": "markdown",
      "metadata": {
        "id": "vHXGsXYry0so",
        "colab_type": "text"
      },
      "source": [
        "### Max Pooling"
      ]
    },
    {
      "cell_type": "code",
      "metadata": {
        "id": "p4DdHQcA6ED8",
        "colab_type": "code",
        "outputId": "8215fc79-f127-453b-cb2e-94a5b72314a3",
        "colab": {
          "base_uri": "https://localhost:8080/",
          "height": 183,
          "referenced_widgets": [
            "13e2f290edc748039a79d0d7ab685a95",
            "1559fe65d7244749a3d761fbc0bf480a",
            "c6a2a228d6ba4a319c18a941ed52c4c5",
            "03101026dba948e4bed63890b1c1ce8a",
            "9f00b90a9f4d467586fe18992034d3b4",
            "21606505503b42ce96701de79279b9ee",
            "309f59ff5e9c4aad95e588b31e6bea31",
            "6999b7a09af749878834c03a4809a653"
          ]
        }
      },
      "source": [
        "representation_type = 'max'\n",
        "max_accuracy_dict_en2fi, resDF_source2target, max_accuracy_dict_fi2en, resDF_target2source = get_results(enfi_sentences_en[:LIMIT], sentences_fi[:LIMIT], sourceLanguage, targetLanguage, representation_type)\n",
        "\n",
        "resDF_source2target.to_csv('{}--{}-{}.csv'.format(representation_type, sourceLanguage, targetLanguage))\n",
        "resDF_target2source.to_csv('{}--{}-{}.csv'.format(representation_type, targetLanguage, sourceLanguage))"
      ],
      "execution_count": 0,
      "outputs": [
        {
          "output_type": "display_data",
          "data": {
            "application/vnd.jupyter.widget-view+json": {
              "model_id": "13e2f290edc748039a79d0d7ab685a95",
              "version_minor": 0,
              "version_major": 2
            },
            "text/plain": [
              "HBox(children=(FloatProgress(value=1.0, bar_style='info', max=1.0), HTML(value='')))"
            ]
          },
          "metadata": {
            "tags": []
          }
        },
        {
          "output_type": "stream",
          "text": [
            "\rBatches:   0%|          | 0/157 [00:00<?, ?it/s]"
          ],
          "name": "stderr"
        },
        {
          "output_type": "stream",
          "text": [
            "\n",
            "We have 19994 pairs of sentences. Graph has 13841 components\n"
          ],
          "name": "stdout"
        },
        {
          "output_type": "stream",
          "text": [
            "Batches: 100%|██████████| 157/157 [00:13<00:00, 12.03it/s]\n",
            "Batches: 100%|██████████| 157/157 [00:15<00:00, 10.26it/s]\n"
          ],
          "name": "stderr"
        },
        {
          "output_type": "stream",
          "text": [
            "Shape of difference (TARGET-SOURCE) vector: (9997, 768)\n",
            "Shift source -> target vector: (768,)\n",
            "max = en -> fi : {'top-1': 0.07942382714814444, 'top-3': 0.1604481344403321, 'top-5': 0.18135440632189656}\n",
            "max = fi -> en : {'top-1': 0.027908372511753526, 'top-3': 0.05511653496048815, 'top-5': 0.06481944583375013}\n"
          ],
          "name": "stdout"
        }
      ]
    },
    {
      "cell_type": "markdown",
      "metadata": {
        "id": "RZAynaVUy4zI",
        "colab_type": "text"
      },
      "source": [
        "### Mean Pooling"
      ]
    },
    {
      "cell_type": "code",
      "metadata": {
        "id": "R-LaEs3J6IbE",
        "colab_type": "code",
        "outputId": "d48b7bbf-4204-48f7-cb7e-178af8b27893",
        "colab": {
          "base_uri": "https://localhost:8080/",
          "height": 183,
          "referenced_widgets": [
            "18d27c4297924aeeae06c197997251ab",
            "0392526da8084206b17d7bb7b3e3cdd6",
            "33d0249269544c47aa648786fb2ac780",
            "b9fe5d070bf042c39584013b80e8d8c1",
            "827ce971a98f477fac89e06d3b73f09f",
            "7d4e4ee5135d49f190834ded3b8cb5d5",
            "4d99b00028c146278a4a49979738a754",
            "5dae90e535ec49a4a3a7a4b716db58ff"
          ]
        }
      },
      "source": [
        "representation_type = 'mean'\n",
        "mean_accuracy_dict_en2fi, resDF_source2target, mean_accuracy_dict_fi2en, resDF_target2source = get_results(enfi_sentences_en[:LIMIT], sentences_fi[:LIMIT], sourceLanguage, targetLanguage, representation_type)\n",
        "\n",
        "resDF_source2target.to_csv('{}--{}-{}.csv'.format(representation_type, sourceLanguage, targetLanguage))\n",
        "resDF_target2source.to_csv('{}--{}-{}.csv'.format(representation_type, targetLanguage, sourceLanguage))"
      ],
      "execution_count": 0,
      "outputs": [
        {
          "output_type": "display_data",
          "data": {
            "application/vnd.jupyter.widget-view+json": {
              "model_id": "18d27c4297924aeeae06c197997251ab",
              "version_minor": 0,
              "version_major": 2
            },
            "text/plain": [
              "HBox(children=(FloatProgress(value=1.0, bar_style='info', max=1.0), HTML(value='')))"
            ]
          },
          "metadata": {
            "tags": []
          }
        },
        {
          "output_type": "stream",
          "text": [
            "\rBatches:   0%|          | 0/157 [00:00<?, ?it/s]"
          ],
          "name": "stderr"
        },
        {
          "output_type": "stream",
          "text": [
            "\n",
            "We have 19994 pairs of sentences. Graph has 13841 components\n"
          ],
          "name": "stdout"
        },
        {
          "output_type": "stream",
          "text": [
            "Batches: 100%|██████████| 157/157 [00:12<00:00, 12.17it/s]\n",
            "Batches: 100%|██████████| 157/157 [00:15<00:00, 10.33it/s]\n"
          ],
          "name": "stderr"
        },
        {
          "output_type": "stream",
          "text": [
            "Shape of difference (TARGET-SOURCE) vector: (9997, 768)\n",
            "Shift source -> target vector: (768,)\n",
            "mean = en -> fi : {'top-1': 0.12243673101930579, 'top-3': 0.2546764029208763, 'top-5': 0.2770831249374812}\n",
            "mean = fi -> en : {'top-1': 0.04481344403320996, 'top-3': 0.08262478743623088, 'top-5': 0.09682904871461438}\n"
          ],
          "name": "stdout"
        }
      ]
    },
    {
      "cell_type": "markdown",
      "metadata": {
        "id": "pi0bVwFnzZQJ",
        "colab_type": "text"
      },
      "source": [
        "## English - Japanese"
      ]
    },
    {
      "cell_type": "markdown",
      "metadata": {
        "id": "BzCJ0mAxy6MH",
        "colab_type": "text"
      },
      "source": [
        "### CLS Pooling"
      ]
    },
    {
      "cell_type": "code",
      "metadata": {
        "id": "eC_Lyas09lxP",
        "colab_type": "code",
        "outputId": "9d4fea32-5300-42da-be23-fb3429446ed0",
        "colab": {
          "base_uri": "https://localhost:8080/",
          "height": 249,
          "referenced_widgets": [
            "f4fb818e90f244e1b0fade3460f3a1d8",
            "61901b7bd4134a86aea691a2e7e08c58",
            "2be0a6a351874c69a1a95ea9f184e96e",
            "998c6bfde90f40948beba2bc33579c04",
            "d39876e8f4bf4714982b2c5ae9c94d75",
            "100798ff10c64a0bb7bc057485c64342",
            "c4142639ebb744e7bc7589994aa2724f",
            "aa46903b6ac647b38da3bff4a70f1670",
            "8a195e7f2d844aae886ae4ea57322e56",
            "955a4b20ef7247609b4585b99bc28527",
            "dd2b4437ef4d4bb78c96431bb60323aa",
            "673d14e498a046d2ad5c69c38756c166",
            "41ea94052f8d4b67978915b6353c4bba",
            "69e62b2f674f4a909a952cf4f3fcf9a9",
            "504f4317dabf486fb47b6ebef65f7739",
            "e26495dae8f646918d31c815156ffa7e"
          ]
        }
      },
      "source": [
        "LIMIT = 20000\n",
        "sourceLanguage = 'en'\n",
        "targetLanguage = 'ja'\n",
        "graph = build_graph(enja_sentences_en[:LIMIT], sentences_ja[:LIMIT])\n",
        "\n",
        "representation_type = 'CLS'\n",
        "cls_accuracy_dict_en2ja, resDF_source2target, cls_accuracy_dict_ja2en, resDF_target2source = get_results(enja_sentences_en[:LIMIT], sentences_ja[:LIMIT], sourceLanguage, targetLanguage, representation_type)\n",
        "\n",
        "resDF_source2target.to_csv('{}--{}-{}.csv'.format(representation_type, sourceLanguage, targetLanguage))\n",
        "resDF_target2source.to_csv('{}--{}-{}.csv'.format(representation_type, targetLanguage, sourceLanguage))"
      ],
      "execution_count": 0,
      "outputs": [
        {
          "output_type": "display_data",
          "data": {
            "application/vnd.jupyter.widget-view+json": {
              "model_id": "f4fb818e90f244e1b0fade3460f3a1d8",
              "version_minor": 0,
              "version_major": 2
            },
            "text/plain": [
              "HBox(children=(FloatProgress(value=1.0, bar_style='info', max=1.0), HTML(value='')))"
            ]
          },
          "metadata": {
            "tags": []
          }
        },
        {
          "output_type": "stream",
          "text": [
            "\n",
            "We have 20000 pairs of sentences. Graph has 16178 components\n"
          ],
          "name": "stdout"
        },
        {
          "output_type": "display_data",
          "data": {
            "application/vnd.jupyter.widget-view+json": {
              "model_id": "8a195e7f2d844aae886ae4ea57322e56",
              "version_minor": 0,
              "version_major": 2
            },
            "text/plain": [
              "HBox(children=(FloatProgress(value=1.0, bar_style='info', max=1.0), HTML(value='')))"
            ]
          },
          "metadata": {
            "tags": []
          }
        },
        {
          "output_type": "stream",
          "text": [
            "Batches:   1%|▏         | 2/157 [00:00<00:08, 18.13it/s]"
          ],
          "name": "stderr"
        },
        {
          "output_type": "stream",
          "text": [
            "\n",
            "We have 20000 pairs of sentences. Graph has 16178 components\n"
          ],
          "name": "stdout"
        },
        {
          "output_type": "stream",
          "text": [
            "Batches: 100%|██████████| 157/157 [00:14<00:00, 10.87it/s]\n",
            "Batches: 100%|██████████| 157/157 [00:15<00:00,  9.92it/s]\n"
          ],
          "name": "stderr"
        },
        {
          "output_type": "stream",
          "text": [
            "Shape of difference (TARGET-SOURCE) vector: (10000, 768)\n",
            "Shift source -> target vector: (768,)\n",
            "CLS = en -> ja : {'top-1': 0.0641, 'top-3': 0.1105, 'top-5': 0.1286}\n",
            "CLS = ja -> en : {'top-1': 0.0318, 'top-3': 0.0585, 'top-5': 0.0683}\n"
          ],
          "name": "stdout"
        }
      ]
    },
    {
      "cell_type": "markdown",
      "metadata": {
        "id": "k8dYWl_fy9ut",
        "colab_type": "text"
      },
      "source": [
        "### Max Pooling"
      ]
    },
    {
      "cell_type": "code",
      "metadata": {
        "id": "MCCcdvXF08dl",
        "colab_type": "code",
        "outputId": "a1b3dda4-5495-4de0-f247-0af0bd4c4ec7",
        "colab": {
          "base_uri": "https://localhost:8080/",
          "height": 183,
          "referenced_widgets": [
            "244ea57a312e459bac1d0697158fc3cc",
            "3d4e098911b0488f8937c101c2ea161a",
            "0b7c85ce95eb4113b87deda70461b530",
            "dd3837b73c574cb8913cf183e86b5bf7",
            "0619228e7fbc4ff2b3182605370d5190",
            "f0a70463227f4792a0745d2bcbcda66a",
            "41ae06cbe36c446987c181294c75f984",
            "3236053679e54727b20c3fe288fd9e7f"
          ]
        }
      },
      "source": [
        "representation_type = 'max'\n",
        "max_accuracy_dict_en2ja, resDF_source2target, max_accuracy_dict_ja2en, resDF_target2source = get_results(enja_sentences_en[:LIMIT], sentences_ja[:LIMIT], sourceLanguage, targetLanguage, representation_type)\n",
        "\n",
        "resDF_source2target.to_csv('{}--{}-{}.csv'.format(representation_type, sourceLanguage, targetLanguage))\n",
        "resDF_target2source.to_csv('{}--{}-{}.csv'.format(representation_type, targetLanguage, sourceLanguage))"
      ],
      "execution_count": 0,
      "outputs": [
        {
          "output_type": "display_data",
          "data": {
            "application/vnd.jupyter.widget-view+json": {
              "model_id": "244ea57a312e459bac1d0697158fc3cc",
              "version_minor": 0,
              "version_major": 2
            },
            "text/plain": [
              "HBox(children=(FloatProgress(value=1.0, bar_style='info', max=1.0), HTML(value='')))"
            ]
          },
          "metadata": {
            "tags": []
          }
        },
        {
          "output_type": "stream",
          "text": [
            "Batches:   1%|▏         | 2/157 [00:00<00:08, 18.57it/s]"
          ],
          "name": "stderr"
        },
        {
          "output_type": "stream",
          "text": [
            "\n",
            "We have 20000 pairs of sentences. Graph has 16178 components\n"
          ],
          "name": "stdout"
        },
        {
          "output_type": "stream",
          "text": [
            "Batches: 100%|██████████| 157/157 [00:14<00:00, 10.70it/s]\n",
            "Batches: 100%|██████████| 157/157 [00:15<00:00,  9.83it/s]\n"
          ],
          "name": "stderr"
        },
        {
          "output_type": "stream",
          "text": [
            "Shape of difference (TARGET-SOURCE) vector: (10000, 768)\n",
            "Shift source -> target vector: (768,)\n",
            "max = en -> ja : {'top-1': 0.092, 'top-3': 0.1609, 'top-5': 0.1823}\n",
            "max = ja -> en : {'top-1': 0.0591, 'top-3': 0.1038, 'top-5': 0.1203}\n"
          ],
          "name": "stdout"
        }
      ]
    },
    {
      "cell_type": "markdown",
      "metadata": {
        "id": "kcN_mJMezABq",
        "colab_type": "text"
      },
      "source": [
        "### Mean Pooling"
      ]
    },
    {
      "cell_type": "code",
      "metadata": {
        "id": "nIsMD2M-02uQ",
        "colab_type": "code",
        "outputId": "223ff88f-fe42-44c7-ff38-7bad9198bedf",
        "colab": {
          "base_uri": "https://localhost:8080/",
          "height": 183,
          "referenced_widgets": [
            "e2dec42e113248b39b2fb9a437d091b7",
            "13b9b9fb24294f0286eca31618c32fdc",
            "0cf406c24cbd4477b05720992ba5240b",
            "12d20c18c69d4e029f166c6bac76b9ca",
            "2ec9f320133c476b8c567e356128b596",
            "90152949746146fb9044a3c306cb33ed",
            "51ef66b00ad6446c9b64dce36b9b626a",
            "bdf6acbdd73a4f6ca1d7874cc0c8d685"
          ]
        }
      },
      "source": [
        "representation_type = 'mean'\n",
        "mean_accuracy_dict_en2ja, resDF_source2target, mean_accuracy_dict_ja2en, resDF_target2source = get_results(enja_sentences_en[:LIMIT], sentences_ja[:LIMIT], sourceLanguage, targetLanguage, representation_type)\n",
        "\n",
        "resDF_source2target.to_csv('{}--{}-{}.csv'.format(representation_type, sourceLanguage, targetLanguage))\n",
        "resDF_target2source.to_csv('{}--{}-{}.csv'.format(representation_type, targetLanguage, sourceLanguage))"
      ],
      "execution_count": 0,
      "outputs": [
        {
          "output_type": "display_data",
          "data": {
            "application/vnd.jupyter.widget-view+json": {
              "model_id": "e2dec42e113248b39b2fb9a437d091b7",
              "version_minor": 0,
              "version_major": 2
            },
            "text/plain": [
              "HBox(children=(FloatProgress(value=1.0, bar_style='info', max=1.0), HTML(value='')))"
            ]
          },
          "metadata": {
            "tags": []
          }
        },
        {
          "output_type": "stream",
          "text": [
            "Batches:   1%|▏         | 2/157 [00:00<00:08, 18.75it/s]"
          ],
          "name": "stderr"
        },
        {
          "output_type": "stream",
          "text": [
            "\n",
            "We have 20000 pairs of sentences. Graph has 16178 components\n"
          ],
          "name": "stdout"
        },
        {
          "output_type": "stream",
          "text": [
            "Batches: 100%|██████████| 157/157 [00:14<00:00, 10.90it/s]\n",
            "Batches: 100%|██████████| 157/157 [00:15<00:00,  9.87it/s]\n"
          ],
          "name": "stderr"
        },
        {
          "output_type": "stream",
          "text": [
            "Shape of difference (TARGET-SOURCE) vector: (10000, 768)\n",
            "Shift source -> target vector: (768,)\n",
            "mean = en -> de : {'top-1': 0.1195, 'top-3': 0.2068, 'top-5': 0.2331}\n",
            "mean = de -> en : {'top-1': 0.0814, 'top-3': 0.1391, 'top-5': 0.1585}\n"
          ],
          "name": "stdout"
        }
      ]
    },
    {
      "cell_type": "markdown",
      "metadata": {
        "id": "v97-zgB4zd7U",
        "colab_type": "text"
      },
      "source": [
        "## English - Hindi"
      ]
    },
    {
      "cell_type": "markdown",
      "metadata": {
        "id": "RaVswnRezBzh",
        "colab_type": "text"
      },
      "source": [
        "### CLS Pooling"
      ]
    },
    {
      "cell_type": "code",
      "metadata": {
        "id": "oHstcq_p96Lv",
        "colab_type": "code",
        "outputId": "50b41071-dcf9-41f1-dd27-280e62a10344",
        "colab": {
          "base_uri": "https://localhost:8080/",
          "height": 249,
          "referenced_widgets": [
            "749180c0ed4d463c964cace079c5e3cd",
            "a59440f6fce64efdaeac0749c23d9b1e",
            "e9ab6b7c2880412f9271eb2006cc6461",
            "7f623cd0a66746b6b5b3b3bf6bfb4ba5",
            "18d7955c48784f738799f5a45a000e67",
            "a967285de43345c3b47fbabc705df050",
            "3411d886d2e54ea09b9ae3d94b4d666c",
            "3f6c8d5a4daa449da97c6a3d747e1f9c",
            "34d2f9358b2f4e1e8825bbbbac03ef52",
            "9bb3a7aab9244ffa873adcfe9e3ef92c",
            "d71ca112df4f4a34af53657bea6b8a78",
            "b1a18489b4e04e5d83012a52a0ff400d",
            "94eb936ed5a3494aa9613d2bc4388363",
            "1dc62f0c7ae64415b739ca3934a79ba4",
            "ad8e918b3b434304a360243a823336da",
            "7028e7fca03543889d3c8ea004c9a52d"
          ]
        }
      },
      "source": [
        "LIMIT = 20000\n",
        "sourceLanguage = 'en'\n",
        "targetLanguage = 'hi'\n",
        "graph = build_graph(enhi_sentences_en[:LIMIT], sentences_hi[:LIMIT])\n",
        "\n",
        "representation_type = 'CLS'\n",
        "cls_accuracy_dict_en2hi, resDF_source2target, cls_accuracy_dict_hi2en, resDF_target2source = get_results(enhi_sentences_en[:LIMIT], sentences_hi[:LIMIT], sourceLanguage, targetLanguage, representation_type)\n",
        "\n",
        "resDF_source2target.to_csv('{}--{}-{}.csv'.format(representation_type, sourceLanguage, targetLanguage))\n",
        "resDF_target2source.to_csv('{}--{}-{}.csv'.format(representation_type, targetLanguage, sourceLanguage))"
      ],
      "execution_count": 0,
      "outputs": [
        {
          "output_type": "display_data",
          "data": {
            "application/vnd.jupyter.widget-view+json": {
              "model_id": "749180c0ed4d463c964cace079c5e3cd",
              "version_minor": 0,
              "version_major": 2
            },
            "text/plain": [
              "HBox(children=(FloatProgress(value=1.0, bar_style='info', max=1.0), HTML(value='')))"
            ]
          },
          "metadata": {
            "tags": []
          }
        },
        {
          "output_type": "stream",
          "text": [
            "\n",
            "We have 10815 pairs of sentences. Graph has 8156 components\n"
          ],
          "name": "stdout"
        },
        {
          "output_type": "display_data",
          "data": {
            "application/vnd.jupyter.widget-view+json": {
              "model_id": "34d2f9358b2f4e1e8825bbbbac03ef52",
              "version_minor": 0,
              "version_major": 2
            },
            "text/plain": [
              "HBox(children=(FloatProgress(value=1.0, bar_style='info', max=1.0), HTML(value='')))"
            ]
          },
          "metadata": {
            "tags": []
          }
        },
        {
          "output_type": "stream",
          "text": [
            "\rBatches:   0%|          | 0/85 [00:00<?, ?it/s]"
          ],
          "name": "stderr"
        },
        {
          "output_type": "stream",
          "text": [
            "\n",
            "We have 10814 pairs of sentences. Graph has 8155 components\n"
          ],
          "name": "stdout"
        },
        {
          "output_type": "stream",
          "text": [
            "Batches: 100%|██████████| 85/85 [00:06<00:00, 13.48it/s]\n",
            "Batches: 100%|██████████| 85/85 [00:08<00:00,  9.62it/s]\n"
          ],
          "name": "stderr"
        },
        {
          "output_type": "stream",
          "text": [
            "Shape of difference (TARGET-SOURCE) vector: (5407, 768)\n",
            "Shift source -> target vector: (768,)\n",
            "CLS = en -> hi : {'top-1': 0.07989643055298687, 'top-3': 0.15387460699093766, 'top-5': 0.1803218050675051}\n",
            "CLS = hi -> en : {'top-1': 0.01424079896430553, 'top-3': 0.03495468836693175, 'top-5': 0.04142777880525245}\n"
          ],
          "name": "stdout"
        }
      ]
    },
    {
      "cell_type": "markdown",
      "metadata": {
        "id": "7_AKA91rzEPE",
        "colab_type": "text"
      },
      "source": [
        "### Max Pooling"
      ]
    },
    {
      "cell_type": "code",
      "metadata": {
        "id": "0rpq30UA1ln8",
        "colab_type": "code",
        "outputId": "12712b30-27e6-479d-e165-02c0f82def95",
        "colab": {
          "base_uri": "https://localhost:8080/",
          "height": 183,
          "referenced_widgets": [
            "40f0100345c44b0fa025a029e6a071f1",
            "ead9bd6578634a02885aaa245e51baa3",
            "7329ab1ff4694a3e9f3cf438afd1fca9",
            "733e55ed6b9c477cb028dcca0f02153d",
            "0baeec483f9d41a5979ae825c3ac5e28",
            "6f2d67fe3de74910921c6865d221187f",
            "2addb36ed18840b499feedd221230573",
            "ca701e154a724a0bb4ef82b7262af295"
          ]
        }
      },
      "source": [
        "representation_type = 'max'\n",
        "max_accuracy_dict_en2hi, resDF_source2target, max_accuracy_dict_hi2en, resDF_target2source = get_results(enhi_sentences_en[:LIMIT], sentences_hi[:LIMIT], sourceLanguage, targetLanguage, representation_type)\n",
        "\n",
        "resDF_source2target.to_csv('{}--{}-{}.csv'.format(representation_type, sourceLanguage, targetLanguage))\n",
        "resDF_target2source.to_csv('{}--{}-{}.csv'.format(representation_type, targetLanguage, sourceLanguage))"
      ],
      "execution_count": 0,
      "outputs": [
        {
          "output_type": "display_data",
          "data": {
            "application/vnd.jupyter.widget-view+json": {
              "model_id": "40f0100345c44b0fa025a029e6a071f1",
              "version_minor": 0,
              "version_major": 2
            },
            "text/plain": [
              "HBox(children=(FloatProgress(value=1.0, bar_style='info', max=1.0), HTML(value='')))"
            ]
          },
          "metadata": {
            "tags": []
          }
        },
        {
          "output_type": "stream",
          "text": [
            "Batches:   2%|▏         | 2/85 [00:00<00:04, 19.86it/s]"
          ],
          "name": "stderr"
        },
        {
          "output_type": "stream",
          "text": [
            "\n",
            "We have 10814 pairs of sentences. Graph has 8155 components\n"
          ],
          "name": "stdout"
        },
        {
          "output_type": "stream",
          "text": [
            "Batches: 100%|██████████| 85/85 [00:06<00:00, 13.40it/s]\n",
            "Batches: 100%|██████████| 85/85 [00:08<00:00,  9.45it/s]\n"
          ],
          "name": "stderr"
        },
        {
          "output_type": "stream",
          "text": [
            "Shape of difference (TARGET-SOURCE) vector: (5407, 768)\n",
            "Shift source -> target vector: (768,)\n",
            "max = en -> hi : {'top-1': 0.0948770112816719, 'top-3': 0.18161642315516924, 'top-5': 0.21361198446458296}\n",
            "max = hi -> en : {'top-1': 0.04808581468466802, 'top-3': 0.09117810245977437, 'top-5': 0.11004253745145182}\n"
          ],
          "name": "stdout"
        }
      ]
    },
    {
      "cell_type": "markdown",
      "metadata": {
        "id": "sql5wyTxzGWF",
        "colab_type": "text"
      },
      "source": [
        "### Mean Pooling"
      ]
    },
    {
      "cell_type": "code",
      "metadata": {
        "id": "q7kXPUPU1mi0",
        "colab_type": "code",
        "outputId": "92ff1ade-9816-4b0e-c6fd-a8cab292ec6e",
        "colab": {
          "base_uri": "https://localhost:8080/",
          "height": 183,
          "referenced_widgets": [
            "1c9bb1e632df45bcbe66ba2080a906ab",
            "4c186ca865734d3caf9e302189a77b16",
            "038dcb2c27eb4a7699572c81325d3ab0",
            "3c64997f945e4512b3ca9a36e1fa20b2",
            "26f696dc165e4cc497c66e9c61cd12d0",
            "a0851097eed6411f9be55a1d9d75ccae",
            "e6643d57cfe345529b488f3555ecd66f",
            "660cb7a25e1942b597cf8f397d6f0a84"
          ]
        }
      },
      "source": [
        "representation_type = 'mean'\n",
        "mean_accuracy_dict_en2hi, resDF_source2target, mean_accuracy_dict_hi2en, resDF_target2source = get_results(enhi_sentences_en[:LIMIT], sentences_hi[:LIMIT], sourceLanguage, targetLanguage, representation_type)\n",
        "\n",
        "resDF_source2target.to_csv('{}--{}-{}.csv'.format(representation_type, sourceLanguage, targetLanguage))\n",
        "resDF_target2source.to_csv('{}--{}-{}.csv'.format(representation_type, targetLanguage, sourceLanguage))"
      ],
      "execution_count": 0,
      "outputs": [
        {
          "output_type": "display_data",
          "data": {
            "application/vnd.jupyter.widget-view+json": {
              "model_id": "1c9bb1e632df45bcbe66ba2080a906ab",
              "version_minor": 0,
              "version_major": 2
            },
            "text/plain": [
              "HBox(children=(FloatProgress(value=1.0, bar_style='info', max=1.0), HTML(value='')))"
            ]
          },
          "metadata": {
            "tags": []
          }
        },
        {
          "output_type": "stream",
          "text": [
            "\n",
            "We have 10814 pairs of sentences. Graph has 8155 components\n"
          ],
          "name": "stdout"
        },
        {
          "output_type": "stream",
          "text": [
            "Batches: 100%|██████████| 85/85 [00:06<00:00, 13.48it/s]\n",
            "Batches: 100%|██████████| 85/85 [00:08<00:00,  9.58it/s]\n"
          ],
          "name": "stderr"
        },
        {
          "output_type": "stream",
          "text": [
            "Shape of difference (TARGET-SOURCE) vector: (5407, 768)\n",
            "Shift source -> target vector: (768,)\n",
            "mean = en -> hi : {'top-1': 0.14388755317181431, 'top-3': 0.2620676900314407, 'top-5': 0.30479008692435733}\n",
            "mean = hi -> en : {'top-1': 0.07064915849824302, 'top-3': 0.12594784538561124, 'top-5': 0.15073053449232476}\n"
          ],
          "name": "stdout"
        }
      ]
    },
    {
      "cell_type": "markdown",
      "metadata": {
        "id": "ulK7BITxzq40",
        "colab_type": "text"
      },
      "source": [
        "## English - Turkish"
      ]
    },
    {
      "cell_type": "markdown",
      "metadata": {
        "id": "gWXSkf0XzIL8",
        "colab_type": "text"
      },
      "source": [
        "### CLS Pooling"
      ]
    },
    {
      "cell_type": "code",
      "metadata": {
        "id": "QccazaW--RWF",
        "colab_type": "code",
        "outputId": "03f29f62-bbd6-46e7-87bc-3d1c7c3529a3",
        "colab": {
          "base_uri": "https://localhost:8080/",
          "height": 249,
          "referenced_widgets": [
            "660dab89ebea41008ad00dedc49916df",
            "4b29d77a3bb5432c8b1a47f5dbc590bd",
            "ca7cd9369426430d95243c64cf7714c3",
            "8253ba752f14438289cb2ccdf17654f0",
            "f84bf9912fec43308c55fe057c62d083",
            "4bfacbe86f7f458ab2918db30836ada7",
            "8de24d6490b94bd0b17979ee76a30f63",
            "9a9d6f62880c41829df6e7072209c2ee",
            "9da05117a92549ea94003763734083a2",
            "064ff9376c144545a5731e8a7c02cc90",
            "3886e443a0fe43eb94cc5dc5b988c438",
            "e5aa2b40ac6941b396fba4994884eb7a",
            "11fa0c225d66410b98b987dedaf48fff",
            "c9277da6e7b8448bb0f09d77a3d0dc60",
            "498c651c303c47e8bd5d7c6025244763",
            "b994c1dc7e834542b31081ec90d90e72"
          ]
        }
      },
      "source": [
        "LIMIT = 20000\n",
        "sourceLanguage = 'en'\n",
        "targetLanguage = 'tr'\n",
        "graph = build_graph(entr_sentences_en[:LIMIT], sentences_tr[:LIMIT])\n",
        "\n",
        "representation_type = 'CLS'\n",
        "cls_accuracy_dict_en2tr, resDF_source2target, cls_accuracy_dict_tr2en, resDF_target2source = get_results(entr_sentences_en[:LIMIT], sentences_tr[:LIMIT], sourceLanguage, targetLanguage, representation_type)\n",
        "\n",
        "resDF_source2target.to_csv('{}--{}-{}.csv'.format(representation_type, sourceLanguage, targetLanguage))\n",
        "resDF_target2source.to_csv('{}--{}-{}.csv'.format(representation_type, targetLanguage, sourceLanguage))"
      ],
      "execution_count": 0,
      "outputs": [
        {
          "output_type": "display_data",
          "data": {
            "application/vnd.jupyter.widget-view+json": {
              "model_id": "660dab89ebea41008ad00dedc49916df",
              "version_minor": 0,
              "version_major": 2
            },
            "text/plain": [
              "HBox(children=(FloatProgress(value=1.0, bar_style='info', max=1.0), HTML(value='')))"
            ]
          },
          "metadata": {
            "tags": []
          }
        },
        {
          "output_type": "stream",
          "text": [
            "\n",
            "We have 20000 pairs of sentences. Graph has 18457 components\n"
          ],
          "name": "stdout"
        },
        {
          "output_type": "display_data",
          "data": {
            "application/vnd.jupyter.widget-view+json": {
              "model_id": "9da05117a92549ea94003763734083a2",
              "version_minor": 0,
              "version_major": 2
            },
            "text/plain": [
              "HBox(children=(FloatProgress(value=1.0, bar_style='info', max=1.0), HTML(value='')))"
            ]
          },
          "metadata": {
            "tags": []
          }
        },
        {
          "output_type": "stream",
          "text": [
            "Batches:   1%|▏         | 2/157 [00:00<00:08, 18.77it/s]"
          ],
          "name": "stderr"
        },
        {
          "output_type": "stream",
          "text": [
            "\n",
            "We have 20000 pairs of sentences. Graph has 18457 components\n"
          ],
          "name": "stdout"
        },
        {
          "output_type": "stream",
          "text": [
            "Batches: 100%|██████████| 157/157 [00:13<00:00, 11.43it/s]\n",
            "Batches: 100%|██████████| 157/157 [00:15<00:00,  9.94it/s]\n"
          ],
          "name": "stderr"
        },
        {
          "output_type": "stream",
          "text": [
            "Shape of difference (TARGET-SOURCE) vector: (10000, 768)\n",
            "Shift source -> target vector: (768,)\n",
            "CLS = en -> tr : {'top-1': 0.0806, 'top-3': 0.1258, 'top-5': 0.1414}\n",
            "CLS = tr -> en : {'top-1': 0.0099, 'top-3': 0.0178, 'top-5': 0.0238}\n"
          ],
          "name": "stdout"
        }
      ]
    },
    {
      "cell_type": "markdown",
      "metadata": {
        "id": "F5txIDJGzMLf",
        "colab_type": "text"
      },
      "source": [
        "### Max Pooling"
      ]
    },
    {
      "cell_type": "code",
      "metadata": {
        "id": "P5cvL7cI2Fri",
        "colab_type": "code",
        "outputId": "30e6dd78-9eaa-4551-c535-0584b9fdc672",
        "colab": {
          "base_uri": "https://localhost:8080/",
          "height": 183,
          "referenced_widgets": [
            "1d3daf5b50c747c39c972753cccf07e4",
            "2b8c03e9975949c7a3f188e617dfdb81",
            "4a69d0dce14847ab8607769d5c3d6639",
            "a3ddccd05d3143f4b4517c2bbcc75e32",
            "847179db151a4b20814f66583f95b858",
            "9f9edfcd462244a2a5d3630964cc8ba3",
            "c6dd51920bc34baf8819215c4a0ad690",
            "8c9140143c1240d39831d1fea0168b6d"
          ]
        }
      },
      "source": [
        "representation_type = 'max'\n",
        "max_accuracy_dict_en2tr, resDF_source2target, max_accuracy_dict_tr2en, resDF_target2source = get_results(entr_sentences_en[:LIMIT], sentences_tr[:LIMIT], sourceLanguage, targetLanguage, representation_type)\n",
        "\n",
        "resDF_source2target.to_csv('{}--{}-{}.csv'.format(representation_type, sourceLanguage, targetLanguage))\n",
        "resDF_target2source.to_csv('{}--{}-{}.csv'.format(representation_type, targetLanguage, sourceLanguage))"
      ],
      "execution_count": 0,
      "outputs": [
        {
          "output_type": "display_data",
          "data": {
            "application/vnd.jupyter.widget-view+json": {
              "model_id": "1d3daf5b50c747c39c972753cccf07e4",
              "version_minor": 0,
              "version_major": 2
            },
            "text/plain": [
              "HBox(children=(FloatProgress(value=1.0, bar_style='info', max=1.0), HTML(value='')))"
            ]
          },
          "metadata": {
            "tags": []
          }
        },
        {
          "output_type": "stream",
          "text": [
            "Batches:   1%|▏         | 2/157 [00:00<00:08, 17.70it/s]"
          ],
          "name": "stderr"
        },
        {
          "output_type": "stream",
          "text": [
            "\n",
            "We have 20000 pairs of sentences. Graph has 18457 components\n"
          ],
          "name": "stdout"
        },
        {
          "output_type": "stream",
          "text": [
            "Batches: 100%|██████████| 157/157 [00:13<00:00, 11.32it/s]\n",
            "Batches: 100%|██████████| 157/157 [00:15<00:00,  9.90it/s]\n"
          ],
          "name": "stderr"
        },
        {
          "output_type": "stream",
          "text": [
            "Shape of difference (TARGET-SOURCE) vector: (10000, 768)\n",
            "Shift source -> target vector: (768,)\n",
            "max = en -> tr : {'top-1': 0.0766, 'top-3': 0.1166, 'top-5': 0.1342}\n",
            "max = tr -> en : {'top-1': 0.0365, 'top-3': 0.0565, 'top-5': 0.0662}\n"
          ],
          "name": "stdout"
        }
      ]
    },
    {
      "cell_type": "markdown",
      "metadata": {
        "id": "sWgmoSuxzOe0",
        "colab_type": "text"
      },
      "source": [
        "### Mean Pooling"
      ]
    },
    {
      "cell_type": "code",
      "metadata": {
        "id": "4vTNULHn2IMs",
        "colab_type": "code",
        "outputId": "4dac4834-a1b9-41e8-a338-39dde28934d7",
        "colab": {
          "base_uri": "https://localhost:8080/",
          "height": 183,
          "referenced_widgets": [
            "611d0f6067864b21b265673b935aebb7",
            "ab9a418dea9747808b86c2628737fa58",
            "37365fa77775463fbbdb2ed10351c288",
            "210c01b9eb96481caeb2075b5f1cea96",
            "00688dae383647b0a9f2674c6d76c266",
            "211cc35593a246c2a0901d0b75af9fca",
            "adfd7d93563544a083148cf77ff882de",
            "11af0eb464fe40ceb880534df15c40fb"
          ]
        }
      },
      "source": [
        "representation_type = 'mean'\n",
        "mean_accuracy_dict_en2tr, resDF_source2target, mean_accuracy_dict_tr2en, resDF_target2source = get_results(entr_sentences_en[:LIMIT], sentences_tr[:LIMIT], sourceLanguage, targetLanguage, representation_type)\n",
        "\n",
        "resDF_source2target.to_csv('{}--{}-{}.csv'.format(representation_type, sourceLanguage, targetLanguage))\n",
        "resDF_target2source.to_csv('{}--{}-{}.csv'.format(representation_type, targetLanguage, sourceLanguage))"
      ],
      "execution_count": 0,
      "outputs": [
        {
          "output_type": "display_data",
          "data": {
            "application/vnd.jupyter.widget-view+json": {
              "model_id": "611d0f6067864b21b265673b935aebb7",
              "version_minor": 0,
              "version_major": 2
            },
            "text/plain": [
              "HBox(children=(FloatProgress(value=1.0, bar_style='info', max=1.0), HTML(value='')))"
            ]
          },
          "metadata": {
            "tags": []
          }
        },
        {
          "output_type": "stream",
          "text": [
            "Batches:   1%|▏         | 2/157 [00:00<00:08, 18.51it/s]"
          ],
          "name": "stderr"
        },
        {
          "output_type": "stream",
          "text": [
            "\n",
            "We have 20000 pairs of sentences. Graph has 18457 components\n"
          ],
          "name": "stdout"
        },
        {
          "output_type": "stream",
          "text": [
            "Batches: 100%|██████████| 157/157 [00:13<00:00, 11.45it/s]\n",
            "Batches: 100%|██████████| 157/157 [00:15<00:00,  9.99it/s]\n"
          ],
          "name": "stderr"
        },
        {
          "output_type": "stream",
          "text": [
            "Shape of difference (TARGET-SOURCE) vector: (10000, 768)\n",
            "Shift source -> target vector: (768,)\n",
            "mean = en -> tr : {'top-1': 0.1339, 'top-3': 0.1947, 'top-5': 0.2191}\n",
            "mean = tr -> en : {'top-1': 0.0524, 'top-3': 0.0815, 'top-5': 0.0944}\n"
          ],
          "name": "stdout"
        }
      ]
    },
    {
      "cell_type": "markdown",
      "metadata": {
        "id": "4kkcsg5L0Urn",
        "colab_type": "text"
      },
      "source": [
        "## English - Vietnamese"
      ]
    },
    {
      "cell_type": "markdown",
      "metadata": {
        "id": "LfSAlZARzTxk",
        "colab_type": "text"
      },
      "source": [
        "### CLS Pooling"
      ]
    },
    {
      "cell_type": "code",
      "metadata": {
        "id": "5dFTtjy5-d7S",
        "colab_type": "code",
        "outputId": "a48d97a0-b712-45bc-b3e0-c31fa6f5f168",
        "colab": {
          "base_uri": "https://localhost:8080/",
          "height": 249,
          "referenced_widgets": [
            "fdaadee34ab04edfaf5473a87c842d24",
            "98de76c2a14144c082e4ee95e06b8454",
            "0db0787567914784982c377827c997c5",
            "a06baad9db56400488ee4d2d4e16429f",
            "4cc37b643dfb4942b8c82023ef711670",
            "6d2c0e55d3c04563afdbc542be60ec4e",
            "80fa4c208795428cad254d9c7c7f4ede",
            "bea27ab7a5b443079fddadd26f0ecaf4",
            "7d8855db890c4fe69c08b5c92c8d4775",
            "15873e115f5448308285ca1b38e1e048",
            "efc74a5e6ddd44478e631cf8ae91ff97",
            "e055d3cf062f401ca8ff5e866607e8e8",
            "c17aed9f6fff4988b5ee672aa0b366a8",
            "876ebbcd34584eee8eee826c834e2438",
            "767bd300cef84969bd8dced5e4d2dacb",
            "2db3967f5efd40fc914accea3c245917"
          ]
        }
      },
      "source": [
        "LIMIT = 20000\n",
        "sourceLanguage = 'en'\n",
        "targetLanguage = 'vi'\n",
        "graph = build_graph(envi_sentences_en[:LIMIT], sentences_vi[:LIMIT])\n",
        "\n",
        "representation_type = 'CLS'\n",
        "cls_accuracy_dict_en2vi, resDF_source2target, cls_accuracy_dict_vi2en, resDF_target2source = get_results(envi_sentences_en[:LIMIT], sentences_vi[:LIMIT], sourceLanguage, targetLanguage, representation_type)\n",
        "\n",
        "resDF_source2target.to_csv('{}--{}-{}.csv'.format(representation_type, sourceLanguage, targetLanguage))\n",
        "resDF_target2source.to_csv('{}--{}-{}.csv'.format(representation_type, targetLanguage, sourceLanguage))"
      ],
      "execution_count": 0,
      "outputs": [
        {
          "output_type": "display_data",
          "data": {
            "application/vnd.jupyter.widget-view+json": {
              "model_id": "fdaadee34ab04edfaf5473a87c842d24",
              "version_minor": 0,
              "version_major": 2
            },
            "text/plain": [
              "HBox(children=(FloatProgress(value=1.0, bar_style='info', max=1.0), HTML(value='')))"
            ]
          },
          "metadata": {
            "tags": []
          }
        },
        {
          "output_type": "stream",
          "text": [
            "\n",
            "We have 5318 pairs of sentences. Graph has 4677 components\n"
          ],
          "name": "stdout"
        },
        {
          "output_type": "display_data",
          "data": {
            "application/vnd.jupyter.widget-view+json": {
              "model_id": "7d8855db890c4fe69c08b5c92c8d4775",
              "version_minor": 0,
              "version_major": 2
            },
            "text/plain": [
              "HBox(children=(FloatProgress(value=1.0, bar_style='info', max=1.0), HTML(value='')))"
            ]
          },
          "metadata": {
            "tags": []
          }
        },
        {
          "output_type": "stream",
          "text": [
            "Batches:   5%|▍         | 2/42 [00:00<00:02, 17.75it/s]"
          ],
          "name": "stderr"
        },
        {
          "output_type": "stream",
          "text": [
            "\n",
            "We have 5315 pairs of sentences. Graph has 4675 components\n"
          ],
          "name": "stdout"
        },
        {
          "output_type": "stream",
          "text": [
            "Batches: 100%|██████████| 42/42 [00:03<00:00, 11.50it/s]\n",
            "Batches: 100%|██████████| 42/42 [00:04<00:00, 10.27it/s]\n"
          ],
          "name": "stderr"
        },
        {
          "output_type": "stream",
          "text": [
            "Shape of difference (TARGET-SOURCE) vector: (2657, 768)\n",
            "Shift source -> target vector: (768,)\n",
            "CLS = en -> vi : {'top-1': 0.2287434161023326, 'top-3': 0.33559066967644846, 'top-5': 0.3619262603461249}\n",
            "CLS = vi -> en : {'top-1': 0.12227238525206922, 'top-3': 0.17832957110609482, 'top-5': 0.19563581640331076}\n"
          ],
          "name": "stdout"
        }
      ]
    },
    {
      "cell_type": "markdown",
      "metadata": {
        "id": "1ZqvckFKzXB1",
        "colab_type": "text"
      },
      "source": [
        "### Max Pooling"
      ]
    },
    {
      "cell_type": "code",
      "metadata": {
        "id": "7kaFI9Jx2ios",
        "colab_type": "code",
        "outputId": "ffaaa272-8b84-4f0d-a87c-713c7e19e91e",
        "colab": {
          "base_uri": "https://localhost:8080/",
          "height": 183,
          "referenced_widgets": [
            "f6e009972a4245edbbf5b8c94cdd8c18",
            "ed34f7c9ef9c4eb6b798a93be9d0ae70",
            "79c29cdad2c74d27bb24a3cce59cc236",
            "479be3d9fce64d31857d94d26988d5a0",
            "c588bc5da1e647149884e49b8c3184aa",
            "5d3b77f2702f4039be14619792ade325",
            "9dc69b2f45a04a3e89004daf58c17c72",
            "ada7e03ec171469d94caa4a241766ac3"
          ]
        }
      },
      "source": [
        "representation_type = 'max'\n",
        "max_accuracy_dict_en2vi, resDF_source2target, max_accuracy_dict_vi2en, resDF_target2source = get_results(envi_sentences_en[:LIMIT], sentences_vi[:LIMIT], sourceLanguage, targetLanguage, representation_type)\n",
        "\n",
        "resDF_source2target.to_csv('{}--{}-{}.csv'.format(representation_type, sourceLanguage, targetLanguage))\n",
        "resDF_target2source.to_csv('{}--{}-{}.csv'.format(representation_type, targetLanguage, sourceLanguage))"
      ],
      "execution_count": 0,
      "outputs": [
        {
          "output_type": "display_data",
          "data": {
            "application/vnd.jupyter.widget-view+json": {
              "model_id": "f6e009972a4245edbbf5b8c94cdd8c18",
              "version_minor": 0,
              "version_major": 2
            },
            "text/plain": [
              "HBox(children=(FloatProgress(value=1.0, bar_style='info', max=1.0), HTML(value='')))"
            ]
          },
          "metadata": {
            "tags": []
          }
        },
        {
          "output_type": "stream",
          "text": [
            "\rBatches:   0%|          | 0/42 [00:00<?, ?it/s]"
          ],
          "name": "stderr"
        },
        {
          "output_type": "stream",
          "text": [
            "\n",
            "We have 5315 pairs of sentences. Graph has 4675 components\n"
          ],
          "name": "stdout"
        },
        {
          "output_type": "stream",
          "text": [
            "Batches: 100%|██████████| 42/42 [00:03<00:00, 11.55it/s]\n",
            "Batches: 100%|██████████| 42/42 [00:04<00:00, 10.31it/s]\n"
          ],
          "name": "stderr"
        },
        {
          "output_type": "stream",
          "text": [
            "Shape of difference (TARGET-SOURCE) vector: (2657, 768)\n",
            "Shift source -> target vector: (768,)\n",
            "max = en -> vi : {'top-1': 0.31715575620767494, 'top-3': 0.45560571858540255, 'top-5': 0.4932279909706546}\n",
            "max = vi -> en : {'top-1': 0.20842738901429647, 'top-3': 0.29533483822422874, 'top-5': 0.3258088788562829}\n"
          ],
          "name": "stdout"
        }
      ]
    },
    {
      "cell_type": "markdown",
      "metadata": {
        "id": "VLKZ-yvSzZKI",
        "colab_type": "text"
      },
      "source": [
        "### Mean Pooling"
      ]
    },
    {
      "cell_type": "code",
      "metadata": {
        "id": "BMqN9_uZ2mQi",
        "colab_type": "code",
        "outputId": "7772792f-31b9-465a-bf13-faa2fc7a1a35",
        "colab": {
          "base_uri": "https://localhost:8080/",
          "height": 183,
          "referenced_widgets": [
            "477cd424a28b40bf87b68e1b15bfec0e",
            "e24977a3d6e84ed3a3e4bab2075f661e",
            "927b3e06203f41f396b60397da2c383f",
            "4bc41b6c59f3432fa7a5a6413c041862",
            "cb8dce7753ee4b0999c93779b6eeafc7",
            "f1d303adcc4c482bb374da5c5b2a0051",
            "68047b536912487e99e46e201175be70",
            "1339d66e99f442beb796cbf05180e516"
          ]
        }
      },
      "source": [
        "representation_type = 'mean'\n",
        "mean_accuracy_dict_en2vi, resDF_source2target, mean_accuracy_dict_vi2en, resDF_target2source = get_results(envi_sentences_en[:LIMIT], sentences_vi[:LIMIT], sourceLanguage, targetLanguage, representation_type)\n",
        "\n",
        "resDF_source2target.to_csv('{}--{}-{}.csv'.format(representation_type, sourceLanguage, targetLanguage))\n",
        "resDF_target2source.to_csv('{}--{}-{}.csv'.format(representation_type, targetLanguage, sourceLanguage))"
      ],
      "execution_count": 0,
      "outputs": [
        {
          "output_type": "display_data",
          "data": {
            "application/vnd.jupyter.widget-view+json": {
              "model_id": "477cd424a28b40bf87b68e1b15bfec0e",
              "version_minor": 0,
              "version_major": 2
            },
            "text/plain": [
              "HBox(children=(FloatProgress(value=1.0, bar_style='info', max=1.0), HTML(value='')))"
            ]
          },
          "metadata": {
            "tags": []
          }
        },
        {
          "output_type": "stream",
          "text": [
            "\rBatches:   0%|          | 0/42 [00:00<?, ?it/s]"
          ],
          "name": "stderr"
        },
        {
          "output_type": "stream",
          "text": [
            "\n",
            "We have 5315 pairs of sentences. Graph has 4675 components\n"
          ],
          "name": "stdout"
        },
        {
          "output_type": "stream",
          "text": [
            "Batches: 100%|██████████| 42/42 [00:03<00:00, 11.67it/s]\n",
            "Batches: 100%|██████████| 42/42 [00:04<00:00, 10.35it/s]\n"
          ],
          "name": "stderr"
        },
        {
          "output_type": "stream",
          "text": [
            "Shape of difference (TARGET-SOURCE) vector: (2657, 768)\n",
            "Shift source -> target vector: (768,)\n",
            "mean = en -> vi : {'top-1': 0.3694507148231753, 'top-3': 0.5105342362678705, 'top-5': 0.5500376222723853}\n",
            "mean = vi -> en : {'top-1': 0.2656132430398796, 'top-3': 0.3623024830699774, 'top-5': 0.4006772009029345}\n"
          ],
          "name": "stdout"
        }
      ]
    },
    {
      "cell_type": "markdown",
      "metadata": {
        "id": "voRWW5MN0YJv",
        "colab_type": "text"
      },
      "source": [
        "## English - Lithuanian"
      ]
    },
    {
      "cell_type": "markdown",
      "metadata": {
        "id": "6EeOVapczanw",
        "colab_type": "text"
      },
      "source": [
        "### CLS Pooling"
      ]
    },
    {
      "cell_type": "code",
      "metadata": {
        "id": "lkMd4wkQ-tSM",
        "colab_type": "code",
        "outputId": "c48d6bba-1e28-4ee6-d911-5bfe8fad7ded",
        "colab": {
          "base_uri": "https://localhost:8080/",
          "height": 249,
          "referenced_widgets": [
            "0450cdb2350f4d4ea48ffaf60309c2e9",
            "f7a8750c54bb47ae90583e00f23c63c5",
            "803b60c388a7441c9c45dc39cfa21780",
            "e1e71042a9984759a5b5297f42c5e535",
            "f798fba20fcc498cbf38038aa91609f8",
            "20d92e0892fa4f07af54e5611108d3e9",
            "ec08ddf75dad4ed0838d8cc2d095324c",
            "5b05122341764ce180f197c3f4907242",
            "5b5b0509965d4ba18c89a25fc3754469",
            "c48b29b969d24c7eaa6d6b001ef3aeb1",
            "357e7e2bf49342838805c1ffac45fa93",
            "ff0e7b2936794bd793d4778cd61d41e6",
            "5aa0971493f742aabb707ae20d0de80d",
            "12a1ab694181403eb114c815b1fd7772",
            "82db23e16fc34f2a987d1bd0bab1a13c",
            "c1f4ab3d82c745999d2a0042c2a61143"
          ]
        }
      },
      "source": [
        "LIMIT = 20000\n",
        "sourceLanguage = 'en'\n",
        "targetLanguage = 'lt'\n",
        "graph = build_graph(enlt_sentences_en[:LIMIT], sentences_lt[:LIMIT])\n",
        "\n",
        "representation_type = 'CLS'\n",
        "cls_accuracy_dict_en2lt, resDF_source2target, cls_accuracy_dict_lt2en, resDF_target2source = get_results(enlt_sentences_en[:LIMIT], sentences_lt[:LIMIT], sourceLanguage, targetLanguage, representation_type)\n",
        "\n",
        "resDF_source2target.to_csv('{}--{}-{}.csv'.format(representation_type, sourceLanguage, targetLanguage))\n",
        "resDF_target2source.to_csv('{}--{}-{}.csv'.format(representation_type, targetLanguage, sourceLanguage))"
      ],
      "execution_count": 0,
      "outputs": [
        {
          "output_type": "display_data",
          "data": {
            "application/vnd.jupyter.widget-view+json": {
              "model_id": "0450cdb2350f4d4ea48ffaf60309c2e9",
              "version_minor": 0,
              "version_major": 2
            },
            "text/plain": [
              "HBox(children=(FloatProgress(value=1.0, bar_style='info', max=1.0), HTML(value='')))"
            ]
          },
          "metadata": {
            "tags": []
          }
        },
        {
          "output_type": "stream",
          "text": [
            "\n",
            "We have 8129 pairs of sentences. Graph has 7165 components\n"
          ],
          "name": "stdout"
        },
        {
          "output_type": "display_data",
          "data": {
            "application/vnd.jupyter.widget-view+json": {
              "model_id": "5b5b0509965d4ba18c89a25fc3754469",
              "version_minor": 0,
              "version_major": 2
            },
            "text/plain": [
              "HBox(children=(FloatProgress(value=1.0, bar_style='info', max=1.0), HTML(value='')))"
            ]
          },
          "metadata": {
            "tags": []
          }
        },
        {
          "output_type": "stream",
          "text": [
            "\rBatches:   0%|          | 0/64 [00:00<?, ?it/s]"
          ],
          "name": "stderr"
        },
        {
          "output_type": "stream",
          "text": [
            "\n",
            "We have 8128 pairs of sentences. Graph has 7164 components\n"
          ],
          "name": "stdout"
        },
        {
          "output_type": "stream",
          "text": [
            "Batches: 100%|██████████| 64/64 [00:04<00:00, 12.88it/s]\n",
            "Batches: 100%|██████████| 64/64 [00:05<00:00, 10.98it/s]\n"
          ],
          "name": "stderr"
        },
        {
          "output_type": "stream",
          "text": [
            "Shape of difference (TARGET-SOURCE) vector: (4064, 768)\n",
            "Shift source -> target vector: (768,)\n",
            "CLS = en -> lt : {'top-1': 0.07726377952755906, 'top-3': 0.12253937007874016, 'top-5': 0.14173228346456693}\n",
            "CLS = lt -> en : {'top-1': 0.010088582677165354, 'top-3': 0.019192913385826772, 'top-5': 0.02485236220472441}\n"
          ],
          "name": "stdout"
        }
      ]
    },
    {
      "cell_type": "markdown",
      "metadata": {
        "id": "vdlQy6oYzdlG",
        "colab_type": "text"
      },
      "source": [
        "### Max Pooling"
      ]
    },
    {
      "cell_type": "code",
      "metadata": {
        "id": "qafHvn2j25Nj",
        "colab_type": "code",
        "outputId": "a9730ccb-79e8-499f-9119-9fcd79e41cbc",
        "colab": {
          "base_uri": "https://localhost:8080/",
          "height": 183,
          "referenced_widgets": [
            "4a6fa1a664bf4ade8babce7c64673617",
            "8a0bbe9fa9fd4a10a92546ab06b72f67",
            "f1ee50b595ff42cc8ec156b77d733f74",
            "95a05a17f2e6427c9372a9ecc72f9e9b",
            "06dee8b307404e91ba2f467233994582",
            "f021f521077e44ba8e70bbf35ef20910",
            "e1c5e435df5844999c38569b48e28053",
            "c5542c2d114447bda19a65021970ae7b"
          ]
        }
      },
      "source": [
        "representation_type = 'max'\n",
        "max_accuracy_dict_en2lt, resDF_source2target, max_accuracy_dict_lt2en, resDF_target2source = get_results(enlt_sentences_en[:LIMIT], sentences_lt[:LIMIT], sourceLanguage, targetLanguage, representation_type)\n",
        "\n",
        "resDF_source2target.to_csv('{}--{}-{}.csv'.format(representation_type, sourceLanguage, targetLanguage))\n",
        "resDF_target2source.to_csv('{}--{}-{}.csv'.format(representation_type, targetLanguage, sourceLanguage))"
      ],
      "execution_count": 0,
      "outputs": [
        {
          "output_type": "display_data",
          "data": {
            "application/vnd.jupyter.widget-view+json": {
              "model_id": "4a6fa1a664bf4ade8babce7c64673617",
              "version_minor": 0,
              "version_major": 2
            },
            "text/plain": [
              "HBox(children=(FloatProgress(value=1.0, bar_style='info', max=1.0), HTML(value='')))"
            ]
          },
          "metadata": {
            "tags": []
          }
        },
        {
          "output_type": "stream",
          "text": [
            "\rBatches:   0%|          | 0/64 [00:00<?, ?it/s]"
          ],
          "name": "stderr"
        },
        {
          "output_type": "stream",
          "text": [
            "\n",
            "We have 8128 pairs of sentences. Graph has 7164 components\n"
          ],
          "name": "stdout"
        },
        {
          "output_type": "stream",
          "text": [
            "Batches: 100%|██████████| 64/64 [00:05<00:00, 12.64it/s]\n",
            "Batches: 100%|██████████| 64/64 [00:05<00:00, 10.87it/s]\n"
          ],
          "name": "stderr"
        },
        {
          "output_type": "stream",
          "text": [
            "Shape of difference (TARGET-SOURCE) vector: (4064, 768)\n",
            "Shift source -> target vector: (768,)\n",
            "max = en -> lt : {'top-1': 0.08513779527559055, 'top-3': 0.13065944881889763, 'top-5': 0.14714566929133857}\n",
            "max = lt -> en : {'top-1': 0.028543307086614175, 'top-3': 0.05044291338582677, 'top-5': 0.0625}\n"
          ],
          "name": "stdout"
        }
      ]
    },
    {
      "cell_type": "markdown",
      "metadata": {
        "id": "mif4WbbIze5g",
        "colab_type": "text"
      },
      "source": [
        "### Mean Pooling"
      ]
    },
    {
      "cell_type": "code",
      "metadata": {
        "id": "UECZv-Lc25_g",
        "colab_type": "code",
        "outputId": "3fc989f0-ac20-4373-c1dd-a5cad24fc83d",
        "colab": {
          "base_uri": "https://localhost:8080/",
          "height": 183,
          "referenced_widgets": [
            "0fa9727515cf4b56bc0004444dc3cd3e",
            "4d43d1896f58495a96e30282e66c23b8",
            "00436a89943f4aa88e37cbcb5d2a8872",
            "60cfa3b27b13478c80cad76400e0e13b",
            "bc54f29f916c4449bec3274cfa554b4b",
            "e117340f29494dda80cbe9532ac97f92",
            "ce83fd3949a84e5c962cd1907c8756b7",
            "e5d1199cad0a4d718b5f70b3260ad05c"
          ]
        }
      },
      "source": [
        "representation_type = 'mean'\n",
        "mean_accuracy_dict_en2lt, resDF_source2target, mean_accuracy_dict_lt2en, resDF_target2source = get_results(enlt_sentences_en[:LIMIT], sentences_lt[:LIMIT], sourceLanguage, targetLanguage, representation_type)\n",
        "\n",
        "resDF_source2target.to_csv('{}--{}-{}.csv'.format(representation_type, sourceLanguage, targetLanguage))\n",
        "resDF_target2source.to_csv('{}--{}-{}.csv'.format(representation_type, targetLanguage, sourceLanguage))"
      ],
      "execution_count": 0,
      "outputs": [
        {
          "output_type": "display_data",
          "data": {
            "application/vnd.jupyter.widget-view+json": {
              "model_id": "0fa9727515cf4b56bc0004444dc3cd3e",
              "version_minor": 0,
              "version_major": 2
            },
            "text/plain": [
              "HBox(children=(FloatProgress(value=1.0, bar_style='info', max=1.0), HTML(value='')))"
            ]
          },
          "metadata": {
            "tags": []
          }
        },
        {
          "output_type": "stream",
          "text": [
            "\n"
          ],
          "name": "stdout"
        },
        {
          "output_type": "stream",
          "text": [
            "Batches:   3%|▎         | 2/64 [00:00<00:03, 16.90it/s]"
          ],
          "name": "stderr"
        },
        {
          "output_type": "stream",
          "text": [
            "We have 8128 pairs of sentences. Graph has 7164 components\n"
          ],
          "name": "stdout"
        },
        {
          "output_type": "stream",
          "text": [
            "Batches: 100%|██████████| 64/64 [00:05<00:00, 12.78it/s]\n",
            "Batches: 100%|██████████| 64/64 [00:05<00:00, 10.97it/s]\n"
          ],
          "name": "stderr"
        },
        {
          "output_type": "stream",
          "text": [
            "Shape of difference (TARGET-SOURCE) vector: (4064, 768)\n",
            "Shift source -> target vector: (768,)\n",
            "mean = en -> lt : {'top-1': 0.12696850393700787, 'top-3': 0.19783464566929135, 'top-5': 0.2283464566929134}\n",
            "mean = lt -> en : {'top-1': 0.048474409448818895, 'top-3': 0.08562992125984252, 'top-5': 0.09940944881889764}\n"
          ],
          "name": "stdout"
        }
      ]
    },
    {
      "cell_type": "markdown",
      "metadata": {
        "id": "dgiHYGbe0jqN",
        "colab_type": "text"
      },
      "source": [
        "## English - Hebrew"
      ]
    },
    {
      "cell_type": "markdown",
      "metadata": {
        "id": "fWTwky-BzgMh",
        "colab_type": "text"
      },
      "source": [
        "### CLS Pooling"
      ]
    },
    {
      "cell_type": "code",
      "metadata": {
        "id": "WauKCw63-0qa",
        "colab_type": "code",
        "outputId": "361a5827-8893-406c-ab89-7ec64ff7308a",
        "colab": {
          "base_uri": "https://localhost:8080/",
          "height": 249,
          "referenced_widgets": [
            "e7c13a17dde44ce1b6e646d17dca75b2",
            "ef342e2f8f5245389f6bb6da38858e7d",
            "de6d7cfac8ce4032bd3c0e8ba976ecd3",
            "c2485c4426ad4775912d61faeeac22be",
            "518fa6c6795f4cd8bb1ed1d38f737099",
            "1032702f762a4be69091e11004a2eb5a",
            "ee1fc5cf6bf24c6e9ba38b2bc472a099",
            "2d60ec2510a64972ad32cad2b07a16c2",
            "c9c27854e24b407e89fd91ce9026021b",
            "69d4442931ba46739c5a816024b057a3",
            "4a9c56caf97c4f2893ce23e61fc627bb",
            "d0af4252a5d4467294e3535e005e42a3",
            "b4a358a215b64ef1bcf3ad8216a9d89d",
            "33aed5c8738546059a2111790e5e2c92",
            "92166d9748b542cabba31b37224a3442",
            "20888443601e45608fd50df07d892d53"
          ]
        }
      },
      "source": [
        "LIMIT = 20000\n",
        "sourceLanguage = 'en'\n",
        "targetLanguage = 'he'\n",
        "graph = build_graph(enhe_sentences_en[:LIMIT], sentences_he[:LIMIT])\n",
        "\n",
        "representation_type = 'CLS'\n",
        "cls_accuracy_dict_en2he, resDF_source2target, cls_accuracy_dict_he2en, resDF_target2source = get_results(enhe_sentences_en[:LIMIT], sentences_he[:LIMIT], sourceLanguage, targetLanguage, representation_type)\n",
        "\n",
        "resDF_source2target.to_csv('{}--{}-{}.csv'.format(representation_type, sourceLanguage, targetLanguage))\n",
        "resDF_target2source.to_csv('{}--{}-{}.csv'.format(representation_type, targetLanguage, sourceLanguage))"
      ],
      "execution_count": 0,
      "outputs": [
        {
          "output_type": "display_data",
          "data": {
            "application/vnd.jupyter.widget-view+json": {
              "model_id": "e7c13a17dde44ce1b6e646d17dca75b2",
              "version_minor": 0,
              "version_major": 2
            },
            "text/plain": [
              "HBox(children=(FloatProgress(value=1.0, bar_style='info', max=1.0), HTML(value='')))"
            ]
          },
          "metadata": {
            "tags": []
          }
        },
        {
          "output_type": "stream",
          "text": [
            "\n",
            "We have 20000 pairs of sentences. Graph has 14721 components\n"
          ],
          "name": "stdout"
        },
        {
          "output_type": "display_data",
          "data": {
            "application/vnd.jupyter.widget-view+json": {
              "model_id": "c9c27854e24b407e89fd91ce9026021b",
              "version_minor": 0,
              "version_major": 2
            },
            "text/plain": [
              "HBox(children=(FloatProgress(value=1.0, bar_style='info', max=1.0), HTML(value='')))"
            ]
          },
          "metadata": {
            "tags": []
          }
        },
        {
          "output_type": "stream",
          "text": [
            "\rBatches:   0%|          | 0/157 [00:00<?, ?it/s]"
          ],
          "name": "stderr"
        },
        {
          "output_type": "stream",
          "text": [
            "\n",
            "We have 20000 pairs of sentences. Graph has 14721 components\n"
          ],
          "name": "stdout"
        },
        {
          "output_type": "stream",
          "text": [
            "Batches: 100%|██████████| 157/157 [00:13<00:00, 12.04it/s]\n",
            "Batches: 100%|██████████| 157/157 [00:14<00:00, 10.68it/s]\n"
          ],
          "name": "stderr"
        },
        {
          "output_type": "stream",
          "text": [
            "Shape of difference (TARGET-SOURCE) vector: (10000, 768)\n",
            "Shift source -> target vector: (768,)\n",
            "CLS = en -> he : {'top-1': 0.0906, 'top-3': 0.1706, 'top-5': 0.1941}\n",
            "CLS = he -> en : {'top-1': 0.0166, 'top-3': 0.031, 'top-5': 0.0367}\n"
          ],
          "name": "stdout"
        }
      ]
    },
    {
      "cell_type": "markdown",
      "metadata": {
        "id": "AO9_FUzPzie9",
        "colab_type": "text"
      },
      "source": [
        "### Max Pooling"
      ]
    },
    {
      "cell_type": "code",
      "metadata": {
        "id": "x_k-SY6X3YOp",
        "colab_type": "code",
        "outputId": "dce7f867-7c4e-44e1-cc99-6183414d7495",
        "colab": {
          "base_uri": "https://localhost:8080/",
          "height": 183,
          "referenced_widgets": [
            "a7f6a665d7104f5e8a270bdfb99f8b60",
            "d0497a50928048bb990d010fc2ee3970",
            "cb7e4759aec549a4942cce1d179cb91e",
            "989c147aa9ad48f29bacce81bd031c9e",
            "bb363c5cc4ac4369a1afa6193e1ddc88",
            "29a3912e5fc64207b74205b4659bdec0",
            "6f22c1e9c8f94a93bdacd5793faef481",
            "9bbf51babda74ad7bade2b07a3becef8"
          ]
        }
      },
      "source": [
        "representation_type = 'max'\n",
        "max_accuracy_dict_en2he, resDF_source2target, max_accuracy_dict_he2en, resDF_target2source = get_results(enhe_sentences_en[:LIMIT], sentences_he[:LIMIT], sourceLanguage, targetLanguage, representation_type)\n",
        "\n",
        "resDF_source2target.to_csv('{}--{}-{}.csv'.format(representation_type, sourceLanguage, targetLanguage))\n",
        "resDF_target2source.to_csv('{}--{}-{}.csv'.format(representation_type, targetLanguage, sourceLanguage))"
      ],
      "execution_count": 0,
      "outputs": [
        {
          "output_type": "display_data",
          "data": {
            "application/vnd.jupyter.widget-view+json": {
              "model_id": "a7f6a665d7104f5e8a270bdfb99f8b60",
              "version_minor": 0,
              "version_major": 2
            },
            "text/plain": [
              "HBox(children=(FloatProgress(value=1.0, bar_style='info', max=1.0), HTML(value='')))"
            ]
          },
          "metadata": {
            "tags": []
          }
        },
        {
          "output_type": "stream",
          "text": [
            "Batches:   1%|▏         | 2/157 [00:00<00:08, 19.09it/s]"
          ],
          "name": "stderr"
        },
        {
          "output_type": "stream",
          "text": [
            "\n",
            "We have 20000 pairs of sentences. Graph has 14721 components\n"
          ],
          "name": "stdout"
        },
        {
          "output_type": "stream",
          "text": [
            "Batches: 100%|██████████| 157/157 [00:13<00:00, 11.84it/s]\n",
            "Batches: 100%|██████████| 157/157 [00:14<00:00, 10.62it/s]\n"
          ],
          "name": "stderr"
        },
        {
          "output_type": "stream",
          "text": [
            "Shape of difference (TARGET-SOURCE) vector: (10000, 768)\n",
            "Shift source -> target vector: (768,)\n",
            "max = en -> he : {'top-1': 0.1042, 'top-3': 0.1989, 'top-5': 0.2205}\n",
            "max = he -> en : {'top-1': 0.0633, 'top-3': 0.102, 'top-5': 0.1187}\n"
          ],
          "name": "stdout"
        }
      ]
    },
    {
      "cell_type": "markdown",
      "metadata": {
        "id": "suXEjIBvzj0n",
        "colab_type": "text"
      },
      "source": [
        "### Mean Pooling"
      ]
    },
    {
      "cell_type": "code",
      "metadata": {
        "id": "m1XhqllN3Por",
        "colab_type": "code",
        "outputId": "46ed127b-755a-4b50-cfbd-c3ef5210a624",
        "colab": {
          "base_uri": "https://localhost:8080/",
          "height": 183,
          "referenced_widgets": [
            "ebfbf554bbaf45278665e5b43866949c",
            "5e5cebb3e33440f4b0d7488e436be425",
            "bba67e51d89c4c988c93a05b840bfc3b",
            "ddb1f245a971489e81f59b7a0d8238fa",
            "e65703a9b45a4ddda4a526d94b214706",
            "59a2f194c61642ae974b6acdcf0ab5ec",
            "813794947bdf4dd5b8b19c2b251affc6",
            "bfbe06dbb1294623894005f4d8ac9050"
          ]
        }
      },
      "source": [
        "representation_type = 'mean'\n",
        "mean_accuracy_dict_en2he, resDF_source2target, mean_accuracy_dict_he2en, resDF_target2source = get_results(enhe_sentences_en[:LIMIT], sentences_he[:LIMIT], sourceLanguage, targetLanguage, representation_type)\n",
        "\n",
        "resDF_source2target.to_csv('{}--{}-{}.csv'.format(representation_type, sourceLanguage, targetLanguage))\n",
        "resDF_target2source.to_csv('{}--{}-{}.csv'.format(representation_type, targetLanguage, sourceLanguage))"
      ],
      "execution_count": 0,
      "outputs": [
        {
          "output_type": "display_data",
          "data": {
            "application/vnd.jupyter.widget-view+json": {
              "model_id": "ebfbf554bbaf45278665e5b43866949c",
              "version_minor": 0,
              "version_major": 2
            },
            "text/plain": [
              "HBox(children=(FloatProgress(value=1.0, bar_style='info', max=1.0), HTML(value='')))"
            ]
          },
          "metadata": {
            "tags": []
          }
        },
        {
          "output_type": "stream",
          "text": [
            "Batches:   1%|▏         | 2/157 [00:00<00:08, 19.36it/s]"
          ],
          "name": "stderr"
        },
        {
          "output_type": "stream",
          "text": [
            "\n",
            "We have 20000 pairs of sentences. Graph has 14721 components\n"
          ],
          "name": "stdout"
        },
        {
          "output_type": "stream",
          "text": [
            "Batches: 100%|██████████| 157/157 [00:13<00:00, 11.93it/s]\n",
            "Batches: 100%|██████████| 157/157 [00:14<00:00, 10.63it/s]\n"
          ],
          "name": "stderr"
        },
        {
          "output_type": "stream",
          "text": [
            "Shape of difference (TARGET-SOURCE) vector: (10000, 768)\n",
            "Shift source -> target vector: (768,)\n",
            "mean = en -> he : {'top-1': 0.1579, 'top-3': 0.2798, 'top-5': 0.3129}\n",
            "mean = he -> en : {'top-1': 0.0774, 'top-3': 0.1325, 'top-5': 0.1497}\n"
          ],
          "name": "stdout"
        }
      ]
    },
    {
      "cell_type": "markdown",
      "metadata": {
        "id": "ZWe2sEZ10ppL",
        "colab_type": "text"
      },
      "source": [
        "## English - Icelandic"
      ]
    },
    {
      "cell_type": "markdown",
      "metadata": {
        "id": "b2tFrWzszkyX",
        "colab_type": "text"
      },
      "source": [
        "### CLS Pooling"
      ]
    },
    {
      "cell_type": "code",
      "metadata": {
        "id": "dBekgi6J_Pv-",
        "colab_type": "code",
        "outputId": "0c23fd06-474c-4399-f2ac-d772bca38309",
        "colab": {
          "base_uri": "https://localhost:8080/",
          "height": 249,
          "referenced_widgets": [
            "7577cd2e52834e9ea4e1c02d4c7df232",
            "bcaca22a3a874ed194cdd261ab36fa28",
            "b3267fa8272643f28c39b7d43cf0c4aa",
            "c792233d7f2f47a1b32e62aae05b4697",
            "1286e17e45c5458aa6875f8030a09f3b",
            "be1680bd1244415a9f6ad80888e6492a",
            "88249479dc86450bad79645275cd6e00",
            "46aa342a9c7a4753856383daf5fc3d46",
            "47567c62b36e4b42899f45c8019f1614",
            "06e5b9a3837e4032bafaae8f11c9c8ef",
            "350461056e2f4777a954399984fa5eda",
            "31dfac8fd4f44c7cb1d00caed8737247",
            "e179c2916509478ebc29d01d51f9b594",
            "192c716430c24bcc8b56709311ceea15",
            "5fec274338294efeb28e13aa8fd3a99f",
            "d6119c938d7c48f5aafcf0f84e2c220f"
          ]
        }
      },
      "source": [
        "LIMIT = 20000\n",
        "sourceLanguage = 'en'\n",
        "targetLanguage = 'is'\n",
        "graph = build_graph(enis_sentences_en[:LIMIT], sentences_is[:LIMIT])\n",
        "\n",
        "representation_type = 'CLS'\n",
        "cls_accuracy_dict_en2is, resDF_source2target, cls_accuracy_dict_is2en, resDF_target2source = get_results(enis_sentences_en[:LIMIT], sentences_is[:LIMIT], sourceLanguage, targetLanguage, representation_type)\n",
        "\n",
        "resDF_source2target.to_csv('{}--{}-{}.csv'.format(representation_type, sourceLanguage, targetLanguage))\n",
        "resDF_target2source.to_csv('{}--{}-{}.csv'.format(representation_type, targetLanguage, sourceLanguage))"
      ],
      "execution_count": 0,
      "outputs": [
        {
          "output_type": "display_data",
          "data": {
            "application/vnd.jupyter.widget-view+json": {
              "model_id": "7577cd2e52834e9ea4e1c02d4c7df232",
              "version_minor": 0,
              "version_major": 2
            },
            "text/plain": [
              "HBox(children=(FloatProgress(value=1.0, bar_style='info', max=1.0), HTML(value='')))"
            ]
          },
          "metadata": {
            "tags": []
          }
        },
        {
          "output_type": "stream",
          "text": [
            "\n",
            "We have 9436 pairs of sentences. Graph has 7934 components\n"
          ],
          "name": "stdout"
        },
        {
          "output_type": "display_data",
          "data": {
            "application/vnd.jupyter.widget-view+json": {
              "model_id": "47567c62b36e4b42899f45c8019f1614",
              "version_minor": 0,
              "version_major": 2
            },
            "text/plain": [
              "HBox(children=(FloatProgress(value=1.0, bar_style='info', max=1.0), HTML(value='')))"
            ]
          },
          "metadata": {
            "tags": []
          }
        },
        {
          "output_type": "stream",
          "text": [
            "\rBatches:   0%|          | 0/74 [00:00<?, ?it/s]"
          ],
          "name": "stderr"
        },
        {
          "output_type": "stream",
          "text": [
            "\n",
            "We have 9436 pairs of sentences. Graph has 7934 components\n"
          ],
          "name": "stdout"
        },
        {
          "output_type": "stream",
          "text": [
            "Batches: 100%|██████████| 74/74 [00:06<00:00, 12.13it/s]\n",
            "Batches: 100%|██████████| 74/74 [00:07<00:00,  9.47it/s]\n"
          ],
          "name": "stderr"
        },
        {
          "output_type": "stream",
          "text": [
            "Shape of difference (TARGET-SOURCE) vector: (4718, 768)\n",
            "Shift source -> target vector: (768,)\n",
            "CLS = en -> is : {'top-1': 0.0847816871555744, 'top-3': 0.14497668503603223, 'top-5': 0.16701992369648155}\n",
            "CLS = is -> en : {'top-1': 0.011233573548113607, 'top-3': 0.020347604917337857, 'top-5': 0.024162780839338704}\n"
          ],
          "name": "stdout"
        }
      ]
    },
    {
      "cell_type": "markdown",
      "metadata": {
        "id": "pBXYYpjpzm9b",
        "colab_type": "text"
      },
      "source": [
        "### Max Pooling"
      ]
    },
    {
      "cell_type": "code",
      "metadata": {
        "id": "TtmcNlBS3ofv",
        "colab_type": "code",
        "outputId": "7476adf6-8e2a-4a9b-c589-90497a05836d",
        "colab": {
          "base_uri": "https://localhost:8080/",
          "height": 183,
          "referenced_widgets": [
            "aa293fe74e53403ca015e0348438d6f8",
            "0834491ec62f42f1a70e9d3e76ea0c2f",
            "363bf775a8a64608b760190c9aa2121d",
            "10802a2700d14be0aff6cdeebcdd2541",
            "5709932e1918440e9bee84ba6d2397db",
            "709c1d72e2fe44cdbf7bcdb564447116",
            "f545451129054d9da39f8a13a2a3e4fe",
            "57d346c0e306400c85e6dc229094e26a"
          ]
        }
      },
      "source": [
        "representation_type = 'max'\n",
        "max_accuracy_dict_en2is, resDF_source2target, max_accuracy_dict_is2en, resDF_target2source = get_results(enis_sentences_en[:LIMIT], sentences_is[:LIMIT], sourceLanguage, targetLanguage, representation_type)\n",
        "\n",
        "resDF_source2target.to_csv('{}--{}-{}.csv'.format(representation_type, sourceLanguage, targetLanguage))\n",
        "resDF_target2source.to_csv('{}--{}-{}.csv'.format(representation_type, targetLanguage, sourceLanguage))"
      ],
      "execution_count": 0,
      "outputs": [
        {
          "output_type": "display_data",
          "data": {
            "application/vnd.jupyter.widget-view+json": {
              "model_id": "aa293fe74e53403ca015e0348438d6f8",
              "version_minor": 0,
              "version_major": 2
            },
            "text/plain": [
              "HBox(children=(FloatProgress(value=1.0, bar_style='info', max=1.0), HTML(value='')))"
            ]
          },
          "metadata": {
            "tags": []
          }
        },
        {
          "output_type": "stream",
          "text": [
            "\rBatches:   0%|          | 0/74 [00:00<?, ?it/s]"
          ],
          "name": "stderr"
        },
        {
          "output_type": "stream",
          "text": [
            "\n",
            "We have 9436 pairs of sentences. Graph has 7934 components\n"
          ],
          "name": "stdout"
        },
        {
          "output_type": "stream",
          "text": [
            "Batches: 100%|██████████| 74/74 [00:06<00:00, 11.83it/s]\n",
            "Batches: 100%|██████████| 74/74 [00:07<00:00,  9.34it/s]\n"
          ],
          "name": "stderr"
        },
        {
          "output_type": "stream",
          "text": [
            "Shape of difference (TARGET-SOURCE) vector: (4718, 768)\n",
            "Shift source -> target vector: (768,)\n",
            "max = en -> is : {'top-1': 0.07799915218312845, 'top-3': 0.139041966935142, 'top-5': 0.1619330224671471}\n",
            "max = is -> en : {'top-1': 0.03603221704111912, 'top-3': 0.06464603645612547, 'top-5': 0.07587961000423908}\n"
          ],
          "name": "stdout"
        }
      ]
    },
    {
      "cell_type": "markdown",
      "metadata": {
        "id": "HnJtd5bxzoXq",
        "colab_type": "text"
      },
      "source": [
        "### Mean Pooling"
      ]
    },
    {
      "cell_type": "code",
      "metadata": {
        "id": "sbhWrAaQ3tAv",
        "colab_type": "code",
        "outputId": "b6223782-65ba-4f3f-a392-3677607e6ffb",
        "colab": {
          "base_uri": "https://localhost:8080/",
          "height": 183,
          "referenced_widgets": [
            "8150579bfff14866bf193bdc74dd15e9",
            "5351c029f553437a909ec6725f173c2c",
            "f1a4c1c083d5409db0a4f9671dcd06e0",
            "2f5c48925f324149967caeee15a27198",
            "ae04209d9bbc4a2d9e8f73b3071cf199",
            "4610d7c4f80e46e6a659b8ff2f7cb110",
            "4dab1fe84f5544e8907cf1e2c6f0d361",
            "6326f7cd7de04fd88ceff79d6eec853f"
          ]
        }
      },
      "source": [
        "representation_type = 'mean'\n",
        "mean_accuracy_dict_en2is, resDF_source2target, mean_accuracy_dict_is2en, resDF_target2source = get_results(enis_sentences_en[:LIMIT], sentences_is[:LIMIT], sourceLanguage, targetLanguage, representation_type)\n",
        "\n",
        "resDF_source2target.to_csv('{}--{}-{}.csv'.format(representation_type, sourceLanguage, targetLanguage))\n",
        "resDF_target2source.to_csv('{}--{}-{}.csv'.format(representation_type, targetLanguage, sourceLanguage))"
      ],
      "execution_count": 0,
      "outputs": [
        {
          "output_type": "display_data",
          "data": {
            "application/vnd.jupyter.widget-view+json": {
              "model_id": "8150579bfff14866bf193bdc74dd15e9",
              "version_minor": 0,
              "version_major": 2
            },
            "text/plain": [
              "HBox(children=(FloatProgress(value=1.0, bar_style='info', max=1.0), HTML(value='')))"
            ]
          },
          "metadata": {
            "tags": []
          }
        },
        {
          "output_type": "stream",
          "text": [
            "\n",
            "We have 9436 pairs of sentences. Graph has 7934 components\n"
          ],
          "name": "stdout"
        },
        {
          "output_type": "stream",
          "text": [
            "Batches: 100%|██████████| 74/74 [00:06<00:00, 12.07it/s]\n",
            "Batches: 100%|██████████| 74/74 [00:07<00:00,  9.46it/s]\n"
          ],
          "name": "stderr"
        },
        {
          "output_type": "stream",
          "text": [
            "Shape of difference (TARGET-SOURCE) vector: (4718, 768)\n",
            "Shift source -> target vector: (768,)\n",
            "mean = en -> is : {'top-1': 0.12568885120813905, 'top-3': 0.21343789741415853, 'top-5': 0.2414158541754981}\n",
            "mean = is -> en : {'top-1': 0.06252649427723611, 'top-3': 0.10640101738024586, 'top-5': 0.12462908011869436}\n"
          ],
          "name": "stdout"
        }
      ]
    },
    {
      "cell_type": "markdown",
      "metadata": {
        "id": "gRR-DjkD2Qwx",
        "colab_type": "text"
      },
      "source": [
        "## English - Arabic"
      ]
    },
    {
      "cell_type": "markdown",
      "metadata": {
        "id": "Txp-l2U7z6aD",
        "colab_type": "text"
      },
      "source": [
        "### CLS Pooling"
      ]
    },
    {
      "cell_type": "code",
      "metadata": {
        "id": "SVWD0ZbH2hTP",
        "colab_type": "code",
        "outputId": "fbc97998-cc12-487a-e895-ef5fd40d417f",
        "colab": {
          "base_uri": "https://localhost:8080/",
          "height": 249,
          "referenced_widgets": [
            "9335bb7af21b4c98b8900c875495173f",
            "30a8110b75844e8aa5fc0dd3fcb1fd59",
            "1f5af9627b2541018c84a141eb1a695e",
            "e3f90e50f0e04dfca90d16a178c1ca3c",
            "977abaf5da42401ab63af01eaf304e53",
            "096a4b996ae24ae8ac61afeb43991787",
            "8d5b43c9514146d5a53d1cc017463fc4",
            "da037f4c3f1e4635acd0b0f192634860",
            "bf69dd996f8449ac86b26ef0a1f981f4",
            "a1aefb6430a343baa33d2b42717b84e3",
            "220b3e1c179346ccb87f4896b1f4ca60",
            "74d37224fed84913bd5b538879b908db",
            "4c4eaff3c4004f9f8869fda5d2962a1c",
            "cf472d1f4310487d915b5720091a0794",
            "9125bebb8d4f4addb55be9d51c9fbf85",
            "d68094e23fb6414fbb9d3aab82378b6f"
          ]
        }
      },
      "source": [
        "LIMIT = 20000\n",
        "sourceLanguage = 'en'\n",
        "targetLanguage = 'ar'\n",
        "graph = build_graph(aren_sentences_en[:LIMIT], sentences_ar[:LIMIT])\n",
        "\n",
        "representation_type = 'CLS'\n",
        "cls_accuracy_dict_en2ar, resDF_source2target, cls_accuracy_dict_ar2en, resDF_target2source = get_results(aren_sentences_en[:LIMIT], sentences_ar[:LIMIT], sourceLanguage, targetLanguage, representation_type)\n",
        "\n",
        "resDF_source2target.to_csv('{}--{}-{}.csv'.format(representation_type, sourceLanguage, targetLanguage))\n",
        "resDF_target2source.to_csv('{}--{}-{}.csv'.format(representation_type, targetLanguage, sourceLanguage))"
      ],
      "execution_count": 0,
      "outputs": [
        {
          "output_type": "display_data",
          "data": {
            "application/vnd.jupyter.widget-view+json": {
              "model_id": "9335bb7af21b4c98b8900c875495173f",
              "version_minor": 0,
              "version_major": 2
            },
            "text/plain": [
              "HBox(children=(FloatProgress(value=1.0, bar_style='info', max=1.0), HTML(value='')))"
            ]
          },
          "metadata": {
            "tags": []
          }
        },
        {
          "output_type": "stream",
          "text": [
            "\n",
            "We have 20000 pairs of sentences. Graph has 16970 components\n"
          ],
          "name": "stdout"
        },
        {
          "output_type": "display_data",
          "data": {
            "application/vnd.jupyter.widget-view+json": {
              "model_id": "bf69dd996f8449ac86b26ef0a1f981f4",
              "version_minor": 0,
              "version_major": 2
            },
            "text/plain": [
              "HBox(children=(FloatProgress(value=1.0, bar_style='info', max=1.0), HTML(value='')))"
            ]
          },
          "metadata": {
            "tags": []
          }
        },
        {
          "output_type": "stream",
          "text": [
            "\rBatches:   0%|          | 0/157 [00:00<?, ?it/s]"
          ],
          "name": "stderr"
        },
        {
          "output_type": "stream",
          "text": [
            "\n",
            "We have 19971 pairs of sentences. Graph has 16941 components\n"
          ],
          "name": "stdout"
        },
        {
          "output_type": "stream",
          "text": [
            "Batches: 100%|██████████| 157/157 [00:12<00:00, 12.22it/s]\n",
            "Batches: 100%|██████████| 157/157 [00:16<00:00,  9.81it/s]\n"
          ],
          "name": "stderr"
        },
        {
          "output_type": "stream",
          "text": [
            "Shape of difference (TARGET-SOURCE) vector: (9985, 768)\n",
            "Shift source -> target vector: (768,)\n",
            "CLS = en -> ar : {'top-1': 0.06408972561586221, 'top-3': 0.10454636491087523, 'top-5': 0.12016823552974164}\n",
            "CLS = ar -> en : {'top-1': 0.009413178449829761, 'top-3': 0.020128179451231725, 'top-5': 0.025435609853795314}\n"
          ],
          "name": "stdout"
        }
      ]
    },
    {
      "cell_type": "markdown",
      "metadata": {
        "id": "xY4DQzCcz36R",
        "colab_type": "text"
      },
      "source": [
        "### Max Pooling"
      ]
    },
    {
      "cell_type": "code",
      "metadata": {
        "id": "lNcjEgsi2xvA",
        "colab_type": "code",
        "outputId": "68c14fd8-12c9-464e-aef3-36bf7c788a11",
        "colab": {
          "base_uri": "https://localhost:8080/",
          "height": 183,
          "referenced_widgets": [
            "2c48fd4b71d042afa03ea7058648bf94",
            "a28440ac6e84495a85f66a3150841d3b",
            "ee232ae0cb024d00a1e969b088e92e38",
            "ffa733e6e7a54c2ca22c681008f0a081",
            "e53f72c5703749b8aa8f418b8627befd",
            "8eae1784a1b44c0f955736e0af420d7f",
            "8e446924effe4f37879ad1dcaaf59036",
            "0bc47b237ea3405fb690eb9db02faa46"
          ]
        }
      },
      "source": [
        "representation_type = 'max'\n",
        "max_accuracy_dict_en2ar, resDF_source2target, max_accuracy_dict_ar2en, resDF_target2source = get_results(aren_sentences_en[:LIMIT], sentences_ar[:LIMIT], sourceLanguage, targetLanguage, representation_type)\n",
        "\n",
        "resDF_source2target.to_csv('{}--{}-{}.csv'.format(representation_type, sourceLanguage, targetLanguage))\n",
        "resDF_target2source.to_csv('{}--{}-{}.csv'.format(representation_type, targetLanguage, sourceLanguage))"
      ],
      "execution_count": 0,
      "outputs": [
        {
          "output_type": "display_data",
          "data": {
            "application/vnd.jupyter.widget-view+json": {
              "model_id": "2c48fd4b71d042afa03ea7058648bf94",
              "version_minor": 0,
              "version_major": 2
            },
            "text/plain": [
              "HBox(children=(FloatProgress(value=1.0, bar_style='info', max=1.0), HTML(value='')))"
            ]
          },
          "metadata": {
            "tags": []
          }
        },
        {
          "output_type": "stream",
          "text": [
            "\rBatches:   0%|          | 0/157 [00:00<?, ?it/s]"
          ],
          "name": "stderr"
        },
        {
          "output_type": "stream",
          "text": [
            "\n",
            "We have 19971 pairs of sentences. Graph has 16941 components\n"
          ],
          "name": "stdout"
        },
        {
          "output_type": "stream",
          "text": [
            "Batches: 100%|██████████| 157/157 [00:13<00:00, 12.02it/s]\n",
            "Batches: 100%|██████████| 157/157 [00:16<00:00,  9.69it/s]\n"
          ],
          "name": "stderr"
        },
        {
          "output_type": "stream",
          "text": [
            "Shape of difference (TARGET-SOURCE) vector: (9985, 768)\n",
            "Shift source -> target vector: (768,)\n",
            "max = en -> ar : {'top-1': 0.06809533346685359, 'top-3': 0.11686360905267375, 'top-5': 0.13248547967154015}\n",
            "max = ar -> en : {'top-1': 0.035349489284999, 'top-3': 0.060684958942519525, 'top-5': 0.0713999599439215}\n"
          ],
          "name": "stdout"
        }
      ]
    },
    {
      "cell_type": "markdown",
      "metadata": {
        "id": "XOBEaDlkz_yv",
        "colab_type": "text"
      },
      "source": [
        "### Mean Pooling"
      ]
    },
    {
      "cell_type": "code",
      "metadata": {
        "id": "8SRH_27B27q3",
        "colab_type": "code",
        "outputId": "ba2e4db3-d118-4f2d-b75e-696f4f8ba5b5",
        "colab": {
          "base_uri": "https://localhost:8080/",
          "height": 183,
          "referenced_widgets": [
            "7d8d96e4dc774115bb8cfa113ff9edf6",
            "a0164c0eade245c6bdccc61411833f68",
            "1ead2658854f4e0ea3ea674181578f93",
            "5e86b7a7c2c0441e881cb2581ea98545",
            "27e17508574a458e9364e1b52c868c86",
            "b88ea1b9bc9b4dff864f753d29e3fde8",
            "e01e6f0de21a443c81a61e0e62f807b4",
            "b8d9f9ee11df4df083f3974445f90cab"
          ]
        }
      },
      "source": [
        "representation_type = 'mean'\n",
        "mean_accuracy_dict_en2ar, resDF_source2target, mean_accuracy_dict_ar2en, resDF_target2source = get_results(aren_sentences_en[:LIMIT], sentences_ar[:LIMIT], sourceLanguage, targetLanguage, representation_type)\n",
        "\n",
        "resDF_source2target.to_csv('{}--{}-{}.csv'.format(representation_type, sourceLanguage, targetLanguage))\n",
        "resDF_target2source.to_csv('{}--{}-{}.csv'.format(representation_type, targetLanguage, sourceLanguage))"
      ],
      "execution_count": 0,
      "outputs": [
        {
          "output_type": "display_data",
          "data": {
            "application/vnd.jupyter.widget-view+json": {
              "model_id": "7d8d96e4dc774115bb8cfa113ff9edf6",
              "version_minor": 0,
              "version_major": 2
            },
            "text/plain": [
              "HBox(children=(FloatProgress(value=1.0, bar_style='info', max=1.0), HTML(value='')))"
            ]
          },
          "metadata": {
            "tags": []
          }
        },
        {
          "output_type": "stream",
          "text": [
            "Batches:   1%|▏         | 2/157 [00:00<00:07, 19.87it/s]"
          ],
          "name": "stderr"
        },
        {
          "output_type": "stream",
          "text": [
            "\n",
            "We have 19971 pairs of sentences. Graph has 16941 components\n"
          ],
          "name": "stdout"
        },
        {
          "output_type": "stream",
          "text": [
            "Batches: 100%|██████████| 157/157 [00:12<00:00, 12.16it/s]\n",
            "Batches: 100%|██████████| 157/157 [00:15<00:00,  9.83it/s]\n"
          ],
          "name": "stderr"
        },
        {
          "output_type": "stream",
          "text": [
            "Shape of difference (TARGET-SOURCE) vector: (9985, 768)\n",
            "Shift source -> target vector: (768,)\n",
            "mean = en -> ar : {'top-1': 0.11365912277188063, 'top-3': 0.18225515722010815, 'top-5': 0.2034848788303625}\n",
            "mean = ar -> en : {'top-1': 0.05127178049268977, 'top-3': 0.08662126977768876, 'top-5': 0.10114159823753255}\n"
          ],
          "name": "stdout"
        }
      ]
    },
    {
      "cell_type": "markdown",
      "metadata": {
        "id": "mRYf5IzyopdP",
        "colab_type": "text"
      },
      "source": [
        "# Comparison"
      ]
    },
    {
      "cell_type": "markdown",
      "metadata": {
        "id": "swXGokcRuuMs",
        "colab_type": "text"
      },
      "source": [
        "## CLS Pooling: Source(En) to Target"
      ]
    },
    {
      "cell_type": "code",
      "metadata": {
        "id": "Qo6PAa5nopNe",
        "colab_type": "code",
        "outputId": "64622c58-6310-444b-87f7-1de3d6d5e8ec",
        "colab": {
          "base_uri": "https://localhost:8080/",
          "height": 478
        }
      },
      "source": [
        "comparison_s2t_dict = dict() \n",
        "comparison_s2t_dict['EN --> RU'] = cls_accuracy_dict_en2ru['top-1'], cls_accuracy_dict_en2ru['top-3'], cls_accuracy_dict_en2ru['top-5']\n",
        "comparison_s2t_dict['EN --> ES'] = cls_accuracy_dict_en2es['top-1'], cls_accuracy_dict_en2es['top-3'], cls_accuracy_dict_en2es['top-5']\n",
        "comparison_s2t_dict['EN --> FR'] = cls_accuracy_dict_en2fr['top-1'], cls_accuracy_dict_en2fr['top-3'], cls_accuracy_dict_en2fr['top-5']\n",
        "comparison_s2t_dict['EN --> IT'] = cls_accuracy_dict_en2it['top-1'], cls_accuracy_dict_en2it['top-3'], cls_accuracy_dict_en2it['top-5']\n",
        "comparison_s2t_dict['EN --> DE'] = cls_accuracy_dict_en2de['top-1'], cls_accuracy_dict_en2de['top-3'], cls_accuracy_dict_en2de['top-5']\n",
        "comparison_s2t_dict['EN --> FI'] = cls_accuracy_dict_en2fi['top-1'], cls_accuracy_dict_en2fi['top-3'], cls_accuracy_dict_en2fi['top-5']\n",
        "comparison_s2t_dict['EN --> JA'] = cls_accuracy_dict_en2ja['top-1'], cls_accuracy_dict_en2ja['top-3'], cls_accuracy_dict_en2ja['top-5']\n",
        "comparison_s2t_dict['EN --> HI'] = cls_accuracy_dict_en2hi['top-1'], cls_accuracy_dict_en2hi['top-3'], cls_accuracy_dict_en2hi['top-5']\n",
        "comparison_s2t_dict['EN --> TR'] = cls_accuracy_dict_en2tr['top-1'], cls_accuracy_dict_en2tr['top-3'], cls_accuracy_dict_en2tr['top-5']\n",
        "comparison_s2t_dict['EN --> VI'] = cls_accuracy_dict_en2vi['top-1'], cls_accuracy_dict_en2vi['top-3'], cls_accuracy_dict_en2vi['top-5']\n",
        "comparison_s2t_dict['EN --> LT'] = cls_accuracy_dict_en2lt['top-1'], cls_accuracy_dict_en2lt['top-3'], cls_accuracy_dict_en2lt['top-5']\n",
        "comparison_s2t_dict['EN --> HE'] = cls_accuracy_dict_en2he['top-1'], cls_accuracy_dict_en2he['top-3'], cls_accuracy_dict_en2he['top-5']\n",
        "comparison_s2t_dict['EN --> AR'] = cls_accuracy_dict_en2ar['top-1'], cls_accuracy_dict_en2ar['top-3'], cls_accuracy_dict_en2ar['top-5']\n",
        "comparison_s2t_dict['EN --> IS'] = cls_accuracy_dict_en2is['top-1'], cls_accuracy_dict_en2is['top-3'], cls_accuracy_dict_en2is['top-5']\n",
        "comparison_s2t_df = pd.DataFrame(comparison_s2t_dict, index=['TOP1', 'TOP2', 'TOP3'])\n",
        "comparison_s2t_df = comparison_s2t_df.T\n",
        "print(\"***********CLS Pooling: Source(En) to Target*************\")\n",
        "comparison_s2t_df"
      ],
      "execution_count": 0,
      "outputs": [
        {
          "output_type": "stream",
          "text": [
            "***********CLS Pooling: Source(En) to Target*************\n"
          ],
          "name": "stdout"
        },
        {
          "output_type": "execute_result",
          "data": {
            "text/html": [
              "<div>\n",
              "<style scoped>\n",
              "    .dataframe tbody tr th:only-of-type {\n",
              "        vertical-align: middle;\n",
              "    }\n",
              "\n",
              "    .dataframe tbody tr th {\n",
              "        vertical-align: top;\n",
              "    }\n",
              "\n",
              "    .dataframe thead th {\n",
              "        text-align: right;\n",
              "    }\n",
              "</style>\n",
              "<table border=\"1\" class=\"dataframe\">\n",
              "  <thead>\n",
              "    <tr style=\"text-align: right;\">\n",
              "      <th></th>\n",
              "      <th>TOP1</th>\n",
              "      <th>TOP2</th>\n",
              "      <th>TOP3</th>\n",
              "    </tr>\n",
              "  </thead>\n",
              "  <tbody>\n",
              "    <tr>\n",
              "      <th>EN --&gt; RU</th>\n",
              "      <td>0.127400</td>\n",
              "      <td>0.233100</td>\n",
              "      <td>0.253000</td>\n",
              "    </tr>\n",
              "    <tr>\n",
              "      <th>EN --&gt; ES</th>\n",
              "      <td>0.225800</td>\n",
              "      <td>0.321000</td>\n",
              "      <td>0.343500</td>\n",
              "    </tr>\n",
              "    <tr>\n",
              "      <th>EN --&gt; FR</th>\n",
              "      <td>0.199200</td>\n",
              "      <td>0.287100</td>\n",
              "      <td>0.308000</td>\n",
              "    </tr>\n",
              "    <tr>\n",
              "      <th>EN --&gt; IT</th>\n",
              "      <td>0.106500</td>\n",
              "      <td>0.292300</td>\n",
              "      <td>0.317900</td>\n",
              "    </tr>\n",
              "    <tr>\n",
              "      <th>EN --&gt; DE</th>\n",
              "      <td>0.160400</td>\n",
              "      <td>0.251800</td>\n",
              "      <td>0.271600</td>\n",
              "    </tr>\n",
              "    <tr>\n",
              "      <th>EN --&gt; FI</th>\n",
              "      <td>0.068721</td>\n",
              "      <td>0.151946</td>\n",
              "      <td>0.173652</td>\n",
              "    </tr>\n",
              "    <tr>\n",
              "      <th>EN --&gt; JA</th>\n",
              "      <td>0.119500</td>\n",
              "      <td>0.206800</td>\n",
              "      <td>0.233100</td>\n",
              "    </tr>\n",
              "    <tr>\n",
              "      <th>EN --&gt; HI</th>\n",
              "      <td>0.079896</td>\n",
              "      <td>0.153875</td>\n",
              "      <td>0.180322</td>\n",
              "    </tr>\n",
              "    <tr>\n",
              "      <th>EN --&gt; TR</th>\n",
              "      <td>0.080600</td>\n",
              "      <td>0.125800</td>\n",
              "      <td>0.141400</td>\n",
              "    </tr>\n",
              "    <tr>\n",
              "      <th>EN --&gt; VI</th>\n",
              "      <td>0.228743</td>\n",
              "      <td>0.335591</td>\n",
              "      <td>0.361926</td>\n",
              "    </tr>\n",
              "    <tr>\n",
              "      <th>EN --&gt; LT</th>\n",
              "      <td>0.077264</td>\n",
              "      <td>0.122539</td>\n",
              "      <td>0.141732</td>\n",
              "    </tr>\n",
              "    <tr>\n",
              "      <th>EN --&gt; HE</th>\n",
              "      <td>0.090600</td>\n",
              "      <td>0.170600</td>\n",
              "      <td>0.194100</td>\n",
              "    </tr>\n",
              "    <tr>\n",
              "      <th>EN --&gt; AR</th>\n",
              "      <td>0.064090</td>\n",
              "      <td>0.104546</td>\n",
              "      <td>0.120168</td>\n",
              "    </tr>\n",
              "    <tr>\n",
              "      <th>EN --&gt; IS</th>\n",
              "      <td>0.084782</td>\n",
              "      <td>0.144977</td>\n",
              "      <td>0.167020</td>\n",
              "    </tr>\n",
              "  </tbody>\n",
              "</table>\n",
              "</div>"
            ],
            "text/plain": [
              "               TOP1      TOP2      TOP3\n",
              "EN --> RU  0.127400  0.233100  0.253000\n",
              "EN --> ES  0.225800  0.321000  0.343500\n",
              "EN --> FR  0.199200  0.287100  0.308000\n",
              "EN --> IT  0.106500  0.292300  0.317900\n",
              "EN --> DE  0.160400  0.251800  0.271600\n",
              "EN --> FI  0.068721  0.151946  0.173652\n",
              "EN --> JA  0.119500  0.206800  0.233100\n",
              "EN --> HI  0.079896  0.153875  0.180322\n",
              "EN --> TR  0.080600  0.125800  0.141400\n",
              "EN --> VI  0.228743  0.335591  0.361926\n",
              "EN --> LT  0.077264  0.122539  0.141732\n",
              "EN --> HE  0.090600  0.170600  0.194100\n",
              "EN --> AR  0.064090  0.104546  0.120168\n",
              "EN --> IS  0.084782  0.144977  0.167020"
            ]
          },
          "metadata": {
            "tags": []
          },
          "execution_count": 97
        }
      ]
    },
    {
      "cell_type": "markdown",
      "metadata": {
        "id": "SJijM95Su30p",
        "colab_type": "text"
      },
      "source": [
        "## CLS Pooling: Target to Source(En)"
      ]
    },
    {
      "cell_type": "code",
      "metadata": {
        "id": "8EtAW16bpncA",
        "colab_type": "code",
        "outputId": "aa8e263e-13fd-4ffe-8954-b6e6e226404f",
        "colab": {
          "base_uri": "https://localhost:8080/",
          "height": 478
        }
      },
      "source": [
        "comparison_t2s_dict = dict() \n",
        "comparison_t2s_dict['RU --> EN'] = cls_accuracy_dict_ru2en['top-1'], cls_accuracy_dict_ru2en['top-3'], cls_accuracy_dict_ru2en['top-5']\n",
        "comparison_t2s_dict['ES --> EN'] = cls_accuracy_dict_es2en['top-1'], cls_accuracy_dict_es2en['top-3'], cls_accuracy_dict_es2en['top-5']\n",
        "comparison_t2s_dict['FR --> EN'] = cls_accuracy_dict_fr2en['top-1'], cls_accuracy_dict_fr2en['top-3'], cls_accuracy_dict_fr2en['top-5']\n",
        "comparison_t2s_dict['IT --> EN'] = cls_accuracy_dict_it2en['top-1'], cls_accuracy_dict_it2en['top-3'], cls_accuracy_dict_it2en['top-5']\n",
        "comparison_t2s_dict['DE --> EN'] = cls_accuracy_dict_de2en['top-1'], cls_accuracy_dict_de2en['top-3'], cls_accuracy_dict_de2en['top-5']\n",
        "comparison_t2s_dict['FI --> EN'] = cls_accuracy_dict_fi2en['top-1'], cls_accuracy_dict_fi2en['top-3'], cls_accuracy_dict_fi2en['top-5']\n",
        "comparison_t2s_dict['JA --> EN'] = cls_accuracy_dict_ja2en['top-1'], cls_accuracy_dict_ja2en['top-3'], cls_accuracy_dict_ja2en['top-5']\n",
        "comparison_t2s_dict['HI --> EN'] = cls_accuracy_dict_hi2en['top-1'], cls_accuracy_dict_hi2en['top-3'], cls_accuracy_dict_hi2en['top-5']\n",
        "comparison_t2s_dict['TR --> EN'] = cls_accuracy_dict_tr2en['top-1'], cls_accuracy_dict_tr2en['top-3'], cls_accuracy_dict_tr2en['top-5']\n",
        "comparison_t2s_dict['VI --> EN'] = cls_accuracy_dict_vi2en['top-1'], cls_accuracy_dict_vi2en['top-3'], cls_accuracy_dict_vi2en['top-5']\n",
        "comparison_t2s_dict['LT --> EN'] = cls_accuracy_dict_lt2en['top-1'], cls_accuracy_dict_lt2en['top-3'], cls_accuracy_dict_lt2en['top-5']\n",
        "comparison_t2s_dict['HE --> EN'] = cls_accuracy_dict_he2en['top-1'], cls_accuracy_dict_he2en['top-3'], cls_accuracy_dict_he2en['top-5']\n",
        "comparison_t2s_dict['AR --> EN'] = cls_accuracy_dict_ar2en['top-1'], cls_accuracy_dict_ar2en['top-3'], cls_accuracy_dict_ar2en['top-5']\n",
        "comparison_t2s_dict['IS --> EN'] = cls_accuracy_dict_is2en['top-1'], cls_accuracy_dict_is2en['top-3'], cls_accuracy_dict_is2en['top-5']\n",
        "comparison_t2s_df = pd.DataFrame(comparison_t2s_dict, index=['TOP1', 'TOP2', 'TOP3'])\n",
        "comparison_t2s_df = comparison_t2s_df.T\n",
        "print(\"***********CLS Pooling: Target to Source*************\")\n",
        "comparison_t2s_df"
      ],
      "execution_count": 0,
      "outputs": [
        {
          "output_type": "stream",
          "text": [
            "***********CLS Pooling: Target to Source*************\n"
          ],
          "name": "stdout"
        },
        {
          "output_type": "execute_result",
          "data": {
            "text/html": [
              "<div>\n",
              "<style scoped>\n",
              "    .dataframe tbody tr th:only-of-type {\n",
              "        vertical-align: middle;\n",
              "    }\n",
              "\n",
              "    .dataframe tbody tr th {\n",
              "        vertical-align: top;\n",
              "    }\n",
              "\n",
              "    .dataframe thead th {\n",
              "        text-align: right;\n",
              "    }\n",
              "</style>\n",
              "<table border=\"1\" class=\"dataframe\">\n",
              "  <thead>\n",
              "    <tr style=\"text-align: right;\">\n",
              "      <th></th>\n",
              "      <th>TOP1</th>\n",
              "      <th>TOP2</th>\n",
              "      <th>TOP3</th>\n",
              "    </tr>\n",
              "  </thead>\n",
              "  <tbody>\n",
              "    <tr>\n",
              "      <th>RU --&gt; EN</th>\n",
              "      <td>0.063600</td>\n",
              "      <td>0.111300</td>\n",
              "      <td>0.126900</td>\n",
              "    </tr>\n",
              "    <tr>\n",
              "      <th>ES --&gt; EN</th>\n",
              "      <td>0.057000</td>\n",
              "      <td>0.087600</td>\n",
              "      <td>0.097200</td>\n",
              "    </tr>\n",
              "    <tr>\n",
              "      <th>FR --&gt; EN</th>\n",
              "      <td>0.087300</td>\n",
              "      <td>0.151100</td>\n",
              "      <td>0.166300</td>\n",
              "    </tr>\n",
              "    <tr>\n",
              "      <th>IT --&gt; EN</th>\n",
              "      <td>0.022600</td>\n",
              "      <td>0.059700</td>\n",
              "      <td>0.066800</td>\n",
              "    </tr>\n",
              "    <tr>\n",
              "      <th>DE --&gt; EN</th>\n",
              "      <td>0.049500</td>\n",
              "      <td>0.082300</td>\n",
              "      <td>0.093500</td>\n",
              "    </tr>\n",
              "    <tr>\n",
              "      <th>FI --&gt; EN</th>\n",
              "      <td>0.008002</td>\n",
              "      <td>0.016105</td>\n",
              "      <td>0.019806</td>\n",
              "    </tr>\n",
              "    <tr>\n",
              "      <th>JA --&gt; EN</th>\n",
              "      <td>0.081400</td>\n",
              "      <td>0.139100</td>\n",
              "      <td>0.158500</td>\n",
              "    </tr>\n",
              "    <tr>\n",
              "      <th>HI --&gt; EN</th>\n",
              "      <td>0.014241</td>\n",
              "      <td>0.034955</td>\n",
              "      <td>0.041428</td>\n",
              "    </tr>\n",
              "    <tr>\n",
              "      <th>TR --&gt; EN</th>\n",
              "      <td>0.009900</td>\n",
              "      <td>0.017800</td>\n",
              "      <td>0.023800</td>\n",
              "    </tr>\n",
              "    <tr>\n",
              "      <th>VI --&gt; EN</th>\n",
              "      <td>0.122272</td>\n",
              "      <td>0.178330</td>\n",
              "      <td>0.195636</td>\n",
              "    </tr>\n",
              "    <tr>\n",
              "      <th>LT --&gt; EN</th>\n",
              "      <td>0.010089</td>\n",
              "      <td>0.019193</td>\n",
              "      <td>0.024852</td>\n",
              "    </tr>\n",
              "    <tr>\n",
              "      <th>HE --&gt; EN</th>\n",
              "      <td>0.016600</td>\n",
              "      <td>0.031000</td>\n",
              "      <td>0.036700</td>\n",
              "    </tr>\n",
              "    <tr>\n",
              "      <th>AR --&gt; EN</th>\n",
              "      <td>0.009413</td>\n",
              "      <td>0.020128</td>\n",
              "      <td>0.025436</td>\n",
              "    </tr>\n",
              "    <tr>\n",
              "      <th>IS --&gt; EN</th>\n",
              "      <td>0.011234</td>\n",
              "      <td>0.020348</td>\n",
              "      <td>0.024163</td>\n",
              "    </tr>\n",
              "  </tbody>\n",
              "</table>\n",
              "</div>"
            ],
            "text/plain": [
              "               TOP1      TOP2      TOP3\n",
              "RU --> EN  0.063600  0.111300  0.126900\n",
              "ES --> EN  0.057000  0.087600  0.097200\n",
              "FR --> EN  0.087300  0.151100  0.166300\n",
              "IT --> EN  0.022600  0.059700  0.066800\n",
              "DE --> EN  0.049500  0.082300  0.093500\n",
              "FI --> EN  0.008002  0.016105  0.019806\n",
              "JA --> EN  0.081400  0.139100  0.158500\n",
              "HI --> EN  0.014241  0.034955  0.041428\n",
              "TR --> EN  0.009900  0.017800  0.023800\n",
              "VI --> EN  0.122272  0.178330  0.195636\n",
              "LT --> EN  0.010089  0.019193  0.024852\n",
              "HE --> EN  0.016600  0.031000  0.036700\n",
              "AR --> EN  0.009413  0.020128  0.025436\n",
              "IS --> EN  0.011234  0.020348  0.024163"
            ]
          },
          "metadata": {
            "tags": []
          },
          "execution_count": 98
        }
      ]
    },
    {
      "cell_type": "markdown",
      "metadata": {
        "id": "Ur4_HmRhvAx9",
        "colab_type": "text"
      },
      "source": [
        "## Max Pooling: Source(En) to Target"
      ]
    },
    {
      "cell_type": "code",
      "metadata": {
        "id": "IemVYTnlvyWu",
        "colab_type": "code",
        "outputId": "1ff94151-1dc2-4afe-f6a4-07903e08c38e",
        "colab": {
          "base_uri": "https://localhost:8080/",
          "height": 478
        }
      },
      "source": [
        "comparison_s2t_dict_max = dict() \n",
        "comparison_s2t_dict_max['EN --> RU'] = max_accuracy_dict_en2ru['top-1'], max_accuracy_dict_en2ru['top-3'], max_accuracy_dict_en2ru['top-5']\n",
        "comparison_s2t_dict_max['EN --> ES'] = max_accuracy_dict_en2es['top-1'], max_accuracy_dict_en2es['top-3'], max_accuracy_dict_en2es['top-5']\n",
        "comparison_s2t_dict_max['EN --> FR'] = max_accuracy_dict_en2fr['top-1'], max_accuracy_dict_en2fr['top-3'], max_accuracy_dict_en2fr['top-5']\n",
        "comparison_s2t_dict_max['EN --> IT'] = max_accuracy_dict_en2it['top-1'], max_accuracy_dict_en2it['top-3'], max_accuracy_dict_en2it['top-5']\n",
        "comparison_s2t_dict_max['EN --> DE'] = max_accuracy_dict_en2de['top-1'], max_accuracy_dict_en2de['top-3'], max_accuracy_dict_en2de['top-5']\n",
        "comparison_s2t_dict_max['EN --> FI'] = max_accuracy_dict_en2fi['top-1'], max_accuracy_dict_en2fi['top-3'], max_accuracy_dict_en2fi['top-5']\n",
        "comparison_s2t_dict_max['EN --> JA'] = max_accuracy_dict_en2ja['top-1'], max_accuracy_dict_en2ja['top-3'], max_accuracy_dict_en2ja['top-5']\n",
        "comparison_s2t_dict_max['EN --> HI'] = max_accuracy_dict_en2hi['top-1'], max_accuracy_dict_en2hi['top-3'], max_accuracy_dict_en2hi['top-5']\n",
        "comparison_s2t_dict_max['EN --> TR'] = max_accuracy_dict_en2tr['top-1'], max_accuracy_dict_en2tr['top-3'], max_accuracy_dict_en2tr['top-5']\n",
        "comparison_s2t_dict_max['EN --> VI'] = max_accuracy_dict_en2vi['top-1'], max_accuracy_dict_en2vi['top-3'], max_accuracy_dict_en2vi['top-5']\n",
        "comparison_s2t_dict_max['EN --> LT'] = max_accuracy_dict_en2lt['top-1'], max_accuracy_dict_en2lt['top-3'], max_accuracy_dict_en2lt['top-5']\n",
        "comparison_s2t_dict_max['EN --> HE'] = max_accuracy_dict_en2he['top-1'], max_accuracy_dict_en2he['top-3'], max_accuracy_dict_en2he['top-5']\n",
        "comparison_s2t_dict_max['EN --> AR'] = max_accuracy_dict_en2ar['top-1'], max_accuracy_dict_en2ar['top-3'], max_accuracy_dict_en2ar['top-5']\n",
        "comparison_s2t_dict_max['EN --> IS'] = max_accuracy_dict_en2is['top-1'], max_accuracy_dict_en2is['top-3'], max_accuracy_dict_en2is['top-5']\n",
        "comparison_s2t_df_max = pd.DataFrame(comparison_s2t_dict_max, index=['TOP1', 'TOP2', 'TOP3'])\n",
        "comparison_s2t_df_max = comparison_s2t_df_max.T\n",
        "print(\"***********Max Pooling: Source(En) to Target*************\")\n",
        "comparison_s2t_df_max"
      ],
      "execution_count": 0,
      "outputs": [
        {
          "output_type": "stream",
          "text": [
            "***********Max Pooling: Source(En) to Target*************\n"
          ],
          "name": "stdout"
        },
        {
          "output_type": "execute_result",
          "data": {
            "text/html": [
              "<div>\n",
              "<style scoped>\n",
              "    .dataframe tbody tr th:only-of-type {\n",
              "        vertical-align: middle;\n",
              "    }\n",
              "\n",
              "    .dataframe tbody tr th {\n",
              "        vertical-align: top;\n",
              "    }\n",
              "\n",
              "    .dataframe thead th {\n",
              "        text-align: right;\n",
              "    }\n",
              "</style>\n",
              "<table border=\"1\" class=\"dataframe\">\n",
              "  <thead>\n",
              "    <tr style=\"text-align: right;\">\n",
              "      <th></th>\n",
              "      <th>TOP1</th>\n",
              "      <th>TOP2</th>\n",
              "      <th>TOP3</th>\n",
              "    </tr>\n",
              "  </thead>\n",
              "  <tbody>\n",
              "    <tr>\n",
              "      <th>EN --&gt; RU</th>\n",
              "      <td>0.170500</td>\n",
              "      <td>0.297700</td>\n",
              "      <td>0.332600</td>\n",
              "    </tr>\n",
              "    <tr>\n",
              "      <th>EN --&gt; ES</th>\n",
              "      <td>0.309700</td>\n",
              "      <td>0.434200</td>\n",
              "      <td>0.458400</td>\n",
              "    </tr>\n",
              "    <tr>\n",
              "      <th>EN --&gt; FR</th>\n",
              "      <td>0.267700</td>\n",
              "      <td>0.382500</td>\n",
              "      <td>0.403900</td>\n",
              "    </tr>\n",
              "    <tr>\n",
              "      <th>EN --&gt; IT</th>\n",
              "      <td>0.144600</td>\n",
              "      <td>0.399800</td>\n",
              "      <td>0.427200</td>\n",
              "    </tr>\n",
              "    <tr>\n",
              "      <th>EN --&gt; DE</th>\n",
              "      <td>0.235400</td>\n",
              "      <td>0.373500</td>\n",
              "      <td>0.398600</td>\n",
              "    </tr>\n",
              "    <tr>\n",
              "      <th>EN --&gt; FI</th>\n",
              "      <td>0.079424</td>\n",
              "      <td>0.160448</td>\n",
              "      <td>0.181354</td>\n",
              "    </tr>\n",
              "    <tr>\n",
              "      <th>EN --&gt; JA</th>\n",
              "      <td>0.092000</td>\n",
              "      <td>0.160900</td>\n",
              "      <td>0.182300</td>\n",
              "    </tr>\n",
              "    <tr>\n",
              "      <th>EN --&gt; HI</th>\n",
              "      <td>0.094877</td>\n",
              "      <td>0.181616</td>\n",
              "      <td>0.213612</td>\n",
              "    </tr>\n",
              "    <tr>\n",
              "      <th>EN --&gt; TR</th>\n",
              "      <td>0.076600</td>\n",
              "      <td>0.116600</td>\n",
              "      <td>0.134200</td>\n",
              "    </tr>\n",
              "    <tr>\n",
              "      <th>EN --&gt; VI</th>\n",
              "      <td>0.317156</td>\n",
              "      <td>0.455606</td>\n",
              "      <td>0.493228</td>\n",
              "    </tr>\n",
              "    <tr>\n",
              "      <th>EN --&gt; LT</th>\n",
              "      <td>0.085138</td>\n",
              "      <td>0.130659</td>\n",
              "      <td>0.147146</td>\n",
              "    </tr>\n",
              "    <tr>\n",
              "      <th>EN --&gt; HE</th>\n",
              "      <td>0.104200</td>\n",
              "      <td>0.198900</td>\n",
              "      <td>0.220500</td>\n",
              "    </tr>\n",
              "    <tr>\n",
              "      <th>EN --&gt; AR</th>\n",
              "      <td>0.068095</td>\n",
              "      <td>0.116864</td>\n",
              "      <td>0.132485</td>\n",
              "    </tr>\n",
              "    <tr>\n",
              "      <th>EN --&gt; IS</th>\n",
              "      <td>0.077999</td>\n",
              "      <td>0.139042</td>\n",
              "      <td>0.161933</td>\n",
              "    </tr>\n",
              "  </tbody>\n",
              "</table>\n",
              "</div>"
            ],
            "text/plain": [
              "               TOP1      TOP2      TOP3\n",
              "EN --> RU  0.170500  0.297700  0.332600\n",
              "EN --> ES  0.309700  0.434200  0.458400\n",
              "EN --> FR  0.267700  0.382500  0.403900\n",
              "EN --> IT  0.144600  0.399800  0.427200\n",
              "EN --> DE  0.235400  0.373500  0.398600\n",
              "EN --> FI  0.079424  0.160448  0.181354\n",
              "EN --> JA  0.092000  0.160900  0.182300\n",
              "EN --> HI  0.094877  0.181616  0.213612\n",
              "EN --> TR  0.076600  0.116600  0.134200\n",
              "EN --> VI  0.317156  0.455606  0.493228\n",
              "EN --> LT  0.085138  0.130659  0.147146\n",
              "EN --> HE  0.104200  0.198900  0.220500\n",
              "EN --> AR  0.068095  0.116864  0.132485\n",
              "EN --> IS  0.077999  0.139042  0.161933"
            ]
          },
          "metadata": {
            "tags": []
          },
          "execution_count": 99
        }
      ]
    },
    {
      "cell_type": "markdown",
      "metadata": {
        "id": "HJrkyk_bu-VE",
        "colab_type": "text"
      },
      "source": [
        "## Max Pooling: Target to Source(En)"
      ]
    },
    {
      "cell_type": "code",
      "metadata": {
        "id": "Sr4RqX32ws_r",
        "colab_type": "code",
        "outputId": "eefb6da1-8c84-4ec0-b1ae-e1251d3bc5be",
        "colab": {
          "base_uri": "https://localhost:8080/",
          "height": 478
        }
      },
      "source": [
        "comparison_t2s_dict_max = dict() \n",
        "comparison_t2s_dict_max['RU --> EN'] = max_accuracy_dict_ru2en['top-1'], max_accuracy_dict_ru2en['top-3'], max_accuracy_dict_ru2en['top-5']\n",
        "comparison_t2s_dict_max['ES --> EN'] = max_accuracy_dict_es2en['top-1'], max_accuracy_dict_es2en['top-3'], max_accuracy_dict_es2en['top-5']\n",
        "comparison_t2s_dict_max['FR --> EN'] = max_accuracy_dict_fr2en['top-1'], max_accuracy_dict_fr2en['top-3'], max_accuracy_dict_fr2en['top-5']\n",
        "comparison_t2s_dict_max['IT --> EN'] = max_accuracy_dict_it2en['top-1'], max_accuracy_dict_it2en['top-3'], max_accuracy_dict_it2en['top-5']\n",
        "comparison_t2s_dict_max['DE --> EN'] = max_accuracy_dict_de2en['top-1'], max_accuracy_dict_de2en['top-3'], max_accuracy_dict_de2en['top-5']\n",
        "comparison_t2s_dict_max['FI --> EN'] = max_accuracy_dict_fi2en['top-1'], max_accuracy_dict_fi2en['top-3'], max_accuracy_dict_fi2en['top-5']\n",
        "comparison_t2s_dict_max['JA --> EN'] = max_accuracy_dict_ja2en['top-1'], max_accuracy_dict_ja2en['top-3'], max_accuracy_dict_ja2en['top-5']\n",
        "comparison_t2s_dict_max['HI --> EN'] = max_accuracy_dict_hi2en['top-1'], max_accuracy_dict_hi2en['top-3'], max_accuracy_dict_hi2en['top-5']\n",
        "comparison_t2s_dict_max['TR --> EN'] = max_accuracy_dict_tr2en['top-1'], max_accuracy_dict_tr2en['top-3'], max_accuracy_dict_tr2en['top-5']\n",
        "comparison_t2s_dict_max['VI --> EN'] = max_accuracy_dict_vi2en['top-1'], max_accuracy_dict_vi2en['top-3'], max_accuracy_dict_vi2en['top-5']\n",
        "comparison_t2s_dict_max['LT --> EN'] = max_accuracy_dict_lt2en['top-1'], max_accuracy_dict_lt2en['top-3'], max_accuracy_dict_lt2en['top-5']\n",
        "comparison_t2s_dict_max['HE --> EN'] = max_accuracy_dict_he2en['top-1'], max_accuracy_dict_he2en['top-3'], max_accuracy_dict_he2en['top-5']\n",
        "comparison_t2s_dict_max['AR --> EN'] = max_accuracy_dict_ar2en['top-1'], max_accuracy_dict_ar2en['top-3'], max_accuracy_dict_ar2en['top-5']\n",
        "comparison_t2s_dict_max['IS --> EN'] = max_accuracy_dict_is2en['top-1'], max_accuracy_dict_is2en['top-3'], max_accuracy_dict_is2en['top-5']\n",
        "comparison_t2s_df_max = pd.DataFrame(comparison_t2s_dict_max, index=['TOP1', 'TOP2', 'TOP3'])\n",
        "comparison_t2s_df_max = comparison_t2s_df_max.T\n",
        "print(\"***********Max Pooling: Target to Source*************\")\n",
        "comparison_t2s_df_max"
      ],
      "execution_count": 0,
      "outputs": [
        {
          "output_type": "stream",
          "text": [
            "***********Max Pooling: Target to Source*************\n"
          ],
          "name": "stdout"
        },
        {
          "output_type": "execute_result",
          "data": {
            "text/html": [
              "<div>\n",
              "<style scoped>\n",
              "    .dataframe tbody tr th:only-of-type {\n",
              "        vertical-align: middle;\n",
              "    }\n",
              "\n",
              "    .dataframe tbody tr th {\n",
              "        vertical-align: top;\n",
              "    }\n",
              "\n",
              "    .dataframe thead th {\n",
              "        text-align: right;\n",
              "    }\n",
              "</style>\n",
              "<table border=\"1\" class=\"dataframe\">\n",
              "  <thead>\n",
              "    <tr style=\"text-align: right;\">\n",
              "      <th></th>\n",
              "      <th>TOP1</th>\n",
              "      <th>TOP2</th>\n",
              "      <th>TOP3</th>\n",
              "    </tr>\n",
              "  </thead>\n",
              "  <tbody>\n",
              "    <tr>\n",
              "      <th>RU --&gt; EN</th>\n",
              "      <td>0.128800</td>\n",
              "      <td>0.209900</td>\n",
              "      <td>0.233200</td>\n",
              "    </tr>\n",
              "    <tr>\n",
              "      <th>ES --&gt; EN</th>\n",
              "      <td>0.213200</td>\n",
              "      <td>0.280000</td>\n",
              "      <td>0.297000</td>\n",
              "    </tr>\n",
              "    <tr>\n",
              "      <th>FR --&gt; EN</th>\n",
              "      <td>0.218500</td>\n",
              "      <td>0.322400</td>\n",
              "      <td>0.346000</td>\n",
              "    </tr>\n",
              "    <tr>\n",
              "      <th>IT --&gt; EN</th>\n",
              "      <td>0.077700</td>\n",
              "      <td>0.184300</td>\n",
              "      <td>0.197500</td>\n",
              "    </tr>\n",
              "    <tr>\n",
              "      <th>DE --&gt; EN</th>\n",
              "      <td>0.168800</td>\n",
              "      <td>0.244000</td>\n",
              "      <td>0.260900</td>\n",
              "    </tr>\n",
              "    <tr>\n",
              "      <th>FI --&gt; EN</th>\n",
              "      <td>0.027908</td>\n",
              "      <td>0.055117</td>\n",
              "      <td>0.064819</td>\n",
              "    </tr>\n",
              "    <tr>\n",
              "      <th>JA --&gt; EN</th>\n",
              "      <td>0.059100</td>\n",
              "      <td>0.103800</td>\n",
              "      <td>0.120300</td>\n",
              "    </tr>\n",
              "    <tr>\n",
              "      <th>HI --&gt; EN</th>\n",
              "      <td>0.048086</td>\n",
              "      <td>0.091178</td>\n",
              "      <td>0.110043</td>\n",
              "    </tr>\n",
              "    <tr>\n",
              "      <th>TR --&gt; EN</th>\n",
              "      <td>0.036500</td>\n",
              "      <td>0.056500</td>\n",
              "      <td>0.066200</td>\n",
              "    </tr>\n",
              "    <tr>\n",
              "      <th>VI --&gt; EN</th>\n",
              "      <td>0.208427</td>\n",
              "      <td>0.295335</td>\n",
              "      <td>0.325809</td>\n",
              "    </tr>\n",
              "    <tr>\n",
              "      <th>LT --&gt; EN</th>\n",
              "      <td>0.028543</td>\n",
              "      <td>0.050443</td>\n",
              "      <td>0.062500</td>\n",
              "    </tr>\n",
              "    <tr>\n",
              "      <th>HE --&gt; EN</th>\n",
              "      <td>0.063300</td>\n",
              "      <td>0.102000</td>\n",
              "      <td>0.118700</td>\n",
              "    </tr>\n",
              "    <tr>\n",
              "      <th>AR --&gt; EN</th>\n",
              "      <td>0.035349</td>\n",
              "      <td>0.060685</td>\n",
              "      <td>0.071400</td>\n",
              "    </tr>\n",
              "    <tr>\n",
              "      <th>IS --&gt; EN</th>\n",
              "      <td>0.036032</td>\n",
              "      <td>0.064646</td>\n",
              "      <td>0.075880</td>\n",
              "    </tr>\n",
              "  </tbody>\n",
              "</table>\n",
              "</div>"
            ],
            "text/plain": [
              "               TOP1      TOP2      TOP3\n",
              "RU --> EN  0.128800  0.209900  0.233200\n",
              "ES --> EN  0.213200  0.280000  0.297000\n",
              "FR --> EN  0.218500  0.322400  0.346000\n",
              "IT --> EN  0.077700  0.184300  0.197500\n",
              "DE --> EN  0.168800  0.244000  0.260900\n",
              "FI --> EN  0.027908  0.055117  0.064819\n",
              "JA --> EN  0.059100  0.103800  0.120300\n",
              "HI --> EN  0.048086  0.091178  0.110043\n",
              "TR --> EN  0.036500  0.056500  0.066200\n",
              "VI --> EN  0.208427  0.295335  0.325809\n",
              "LT --> EN  0.028543  0.050443  0.062500\n",
              "HE --> EN  0.063300  0.102000  0.118700\n",
              "AR --> EN  0.035349  0.060685  0.071400\n",
              "IS --> EN  0.036032  0.064646  0.075880"
            ]
          },
          "metadata": {
            "tags": []
          },
          "execution_count": 100
        }
      ]
    },
    {
      "cell_type": "markdown",
      "metadata": {
        "id": "hzPu0gj4vLg2",
        "colab_type": "text"
      },
      "source": [
        "## Mean Pooling: Source(En) to Target"
      ]
    },
    {
      "cell_type": "code",
      "metadata": {
        "id": "Vk0tfB0qx0_b",
        "colab_type": "code",
        "outputId": "aae50e98-18dc-4dcc-8f87-b2f33052f20d",
        "colab": {
          "base_uri": "https://localhost:8080/",
          "height": 478
        }
      },
      "source": [
        "comparison_s2t_dict_mean = dict() \n",
        "comparison_s2t_dict_mean['EN --> RU'] = mean_accuracy_dict_en2ru['top-1'], mean_accuracy_dict_en2ru['top-3'], mean_accuracy_dict_en2ru['top-5']\n",
        "comparison_s2t_dict_mean['EN --> ES'] = mean_accuracy_dict_en2es['top-1'], mean_accuracy_dict_en2es['top-3'], mean_accuracy_dict_en2es['top-5']\n",
        "comparison_s2t_dict_mean['EN --> FR'] = mean_accuracy_dict_en2fr['top-1'], mean_accuracy_dict_en2fr['top-3'], mean_accuracy_dict_en2fr['top-5']\n",
        "comparison_s2t_dict_mean['EN --> IT'] = mean_accuracy_dict_en2it['top-1'], mean_accuracy_dict_en2it['top-3'], mean_accuracy_dict_en2it['top-5']\n",
        "comparison_s2t_dict_mean['EN --> DE'] = mean_accuracy_dict_en2de['top-1'], mean_accuracy_dict_en2de['top-3'], mean_accuracy_dict_en2de['top-5']\n",
        "comparison_s2t_dict_mean['EN --> FI'] = mean_accuracy_dict_en2fi['top-1'], mean_accuracy_dict_en2fi['top-3'], mean_accuracy_dict_en2fi['top-5']\n",
        "comparison_s2t_dict_mean['EN --> JA'] = mean_accuracy_dict_en2ja['top-1'], mean_accuracy_dict_en2ja['top-3'], mean_accuracy_dict_en2ja['top-5']\n",
        "comparison_s2t_dict_mean['EN --> HI'] = mean_accuracy_dict_en2hi['top-1'], mean_accuracy_dict_en2hi['top-3'], mean_accuracy_dict_en2hi['top-5']\n",
        "comparison_s2t_dict_mean['EN --> TR'] = mean_accuracy_dict_en2tr['top-1'], mean_accuracy_dict_en2tr['top-3'], mean_accuracy_dict_en2tr['top-5']\n",
        "comparison_s2t_dict_mean['EN --> VI'] = mean_accuracy_dict_en2vi['top-1'], mean_accuracy_dict_en2vi['top-3'], mean_accuracy_dict_en2vi['top-5']\n",
        "comparison_s2t_dict_mean['EN --> LT'] = mean_accuracy_dict_en2lt['top-1'], mean_accuracy_dict_en2lt['top-3'], mean_accuracy_dict_en2lt['top-5']\n",
        "comparison_s2t_dict_mean['EN --> HE'] = mean_accuracy_dict_en2he['top-1'], mean_accuracy_dict_en2he['top-3'], mean_accuracy_dict_en2he['top-5']\n",
        "comparison_s2t_dict_mean['EN --> AR'] = mean_accuracy_dict_en2ar['top-1'], mean_accuracy_dict_en2ar['top-3'], mean_accuracy_dict_en2ar['top-5']\n",
        "comparison_s2t_dict_mean['EN --> IS'] = mean_accuracy_dict_en2is['top-1'], mean_accuracy_dict_en2is['top-3'], mean_accuracy_dict_en2is['top-5']\n",
        "comparison_s2t_df_mean = pd.DataFrame(comparison_s2t_dict_mean, index=['TOP1', 'TOP2', 'TOP3'])\n",
        "comparison_s2t_df_mean = comparison_s2t_df_mean.T\n",
        "print(\"***********Mean Pooling: Source(En) to Target*************\")\n",
        "comparison_s2t_df_mean"
      ],
      "execution_count": 0,
      "outputs": [
        {
          "output_type": "stream",
          "text": [
            "***********Mean Pooling: Source(En) to Target*************\n"
          ],
          "name": "stdout"
        },
        {
          "output_type": "execute_result",
          "data": {
            "text/html": [
              "<div>\n",
              "<style scoped>\n",
              "    .dataframe tbody tr th:only-of-type {\n",
              "        vertical-align: middle;\n",
              "    }\n",
              "\n",
              "    .dataframe tbody tr th {\n",
              "        vertical-align: top;\n",
              "    }\n",
              "\n",
              "    .dataframe thead th {\n",
              "        text-align: right;\n",
              "    }\n",
              "</style>\n",
              "<table border=\"1\" class=\"dataframe\">\n",
              "  <thead>\n",
              "    <tr style=\"text-align: right;\">\n",
              "      <th></th>\n",
              "      <th>TOP1</th>\n",
              "      <th>TOP2</th>\n",
              "      <th>TOP3</th>\n",
              "    </tr>\n",
              "  </thead>\n",
              "  <tbody>\n",
              "    <tr>\n",
              "      <th>EN --&gt; RU</th>\n",
              "      <td>0.234600</td>\n",
              "      <td>0.410600</td>\n",
              "      <td>0.444900</td>\n",
              "    </tr>\n",
              "    <tr>\n",
              "      <th>EN --&gt; ES</th>\n",
              "      <td>0.363700</td>\n",
              "      <td>0.499200</td>\n",
              "      <td>0.521700</td>\n",
              "    </tr>\n",
              "    <tr>\n",
              "      <th>EN --&gt; FR</th>\n",
              "      <td>0.298500</td>\n",
              "      <td>0.437500</td>\n",
              "      <td>0.466300</td>\n",
              "    </tr>\n",
              "    <tr>\n",
              "      <th>EN --&gt; IT</th>\n",
              "      <td>0.178900</td>\n",
              "      <td>0.473100</td>\n",
              "      <td>0.507300</td>\n",
              "    </tr>\n",
              "    <tr>\n",
              "      <th>EN --&gt; DE</th>\n",
              "      <td>0.289200</td>\n",
              "      <td>0.448200</td>\n",
              "      <td>0.476600</td>\n",
              "    </tr>\n",
              "    <tr>\n",
              "      <th>EN --&gt; FI</th>\n",
              "      <td>0.122437</td>\n",
              "      <td>0.254676</td>\n",
              "      <td>0.277083</td>\n",
              "    </tr>\n",
              "    <tr>\n",
              "      <th>EN --&gt; JA</th>\n",
              "      <td>0.119500</td>\n",
              "      <td>0.206800</td>\n",
              "      <td>0.233100</td>\n",
              "    </tr>\n",
              "    <tr>\n",
              "      <th>EN --&gt; HI</th>\n",
              "      <td>0.143888</td>\n",
              "      <td>0.262068</td>\n",
              "      <td>0.304790</td>\n",
              "    </tr>\n",
              "    <tr>\n",
              "      <th>EN --&gt; TR</th>\n",
              "      <td>0.133900</td>\n",
              "      <td>0.194700</td>\n",
              "      <td>0.219100</td>\n",
              "    </tr>\n",
              "    <tr>\n",
              "      <th>EN --&gt; VI</th>\n",
              "      <td>0.369451</td>\n",
              "      <td>0.510534</td>\n",
              "      <td>0.550038</td>\n",
              "    </tr>\n",
              "    <tr>\n",
              "      <th>EN --&gt; LT</th>\n",
              "      <td>0.126969</td>\n",
              "      <td>0.197835</td>\n",
              "      <td>0.228346</td>\n",
              "    </tr>\n",
              "    <tr>\n",
              "      <th>EN --&gt; HE</th>\n",
              "      <td>0.157900</td>\n",
              "      <td>0.279800</td>\n",
              "      <td>0.312900</td>\n",
              "    </tr>\n",
              "    <tr>\n",
              "      <th>EN --&gt; AR</th>\n",
              "      <td>0.113659</td>\n",
              "      <td>0.182255</td>\n",
              "      <td>0.203485</td>\n",
              "    </tr>\n",
              "    <tr>\n",
              "      <th>EN --&gt; IS</th>\n",
              "      <td>0.125689</td>\n",
              "      <td>0.213438</td>\n",
              "      <td>0.241416</td>\n",
              "    </tr>\n",
              "  </tbody>\n",
              "</table>\n",
              "</div>"
            ],
            "text/plain": [
              "               TOP1      TOP2      TOP3\n",
              "EN --> RU  0.234600  0.410600  0.444900\n",
              "EN --> ES  0.363700  0.499200  0.521700\n",
              "EN --> FR  0.298500  0.437500  0.466300\n",
              "EN --> IT  0.178900  0.473100  0.507300\n",
              "EN --> DE  0.289200  0.448200  0.476600\n",
              "EN --> FI  0.122437  0.254676  0.277083\n",
              "EN --> JA  0.119500  0.206800  0.233100\n",
              "EN --> HI  0.143888  0.262068  0.304790\n",
              "EN --> TR  0.133900  0.194700  0.219100\n",
              "EN --> VI  0.369451  0.510534  0.550038\n",
              "EN --> LT  0.126969  0.197835  0.228346\n",
              "EN --> HE  0.157900  0.279800  0.312900\n",
              "EN --> AR  0.113659  0.182255  0.203485\n",
              "EN --> IS  0.125689  0.213438  0.241416"
            ]
          },
          "metadata": {
            "tags": []
          },
          "execution_count": 104
        }
      ]
    },
    {
      "cell_type": "markdown",
      "metadata": {
        "id": "2112eK78vTci",
        "colab_type": "text"
      },
      "source": [
        "## Mean Pooling: Target to Source(En) "
      ]
    },
    {
      "cell_type": "code",
      "metadata": {
        "id": "IIa4JHcYxapl",
        "colab_type": "code",
        "outputId": "3c7e293b-a103-49c5-c9b6-dff68130f8ef",
        "colab": {
          "base_uri": "https://localhost:8080/",
          "height": 478
        }
      },
      "source": [
        "comparison_t2s_dict_mean = dict() \n",
        "comparison_t2s_dict_mean['RU --> EN'] = mean_accuracy_dict_ru2en['top-1'], mean_accuracy_dict_ru2en['top-3'], mean_accuracy_dict_ru2en['top-5']\n",
        "comparison_t2s_dict_mean['ES --> EN'] = mean_accuracy_dict_es2en['top-1'], mean_accuracy_dict_es2en['top-3'], mean_accuracy_dict_es2en['top-5']\n",
        "comparison_t2s_dict_mean['FR --> EN'] = mean_accuracy_dict_fr2en['top-1'], mean_accuracy_dict_fr2en['top-3'], mean_accuracy_dict_fr2en['top-5']\n",
        "comparison_t2s_dict_mean['IT --> EN'] = mean_accuracy_dict_it2en['top-1'], mean_accuracy_dict_it2en['top-3'], mean_accuracy_dict_it2en['top-5']\n",
        "comparison_t2s_dict_mean['DE --> EN'] = mean_accuracy_dict_de2en['top-1'], mean_accuracy_dict_de2en['top-3'], mean_accuracy_dict_de2en['top-5']\n",
        "comparison_t2s_dict_mean['FI --> EN'] = mean_accuracy_dict_fi2en['top-1'], mean_accuracy_dict_fi2en['top-3'], mean_accuracy_dict_fi2en['top-5']\n",
        "comparison_t2s_dict_mean['JA --> EN'] = mean_accuracy_dict_ja2en['top-1'], mean_accuracy_dict_ja2en['top-3'], mean_accuracy_dict_ja2en['top-5']\n",
        "comparison_t2s_dict_mean['HI --> EN'] = mean_accuracy_dict_hi2en['top-1'], mean_accuracy_dict_hi2en['top-3'], mean_accuracy_dict_hi2en['top-5']\n",
        "comparison_t2s_dict_mean['TR --> EN'] = mean_accuracy_dict_tr2en['top-1'], mean_accuracy_dict_tr2en['top-3'], mean_accuracy_dict_tr2en['top-5']\n",
        "comparison_t2s_dict_mean['VI --> EN'] = mean_accuracy_dict_vi2en['top-1'], mean_accuracy_dict_vi2en['top-3'], mean_accuracy_dict_vi2en['top-5']\n",
        "comparison_t2s_dict_mean['LT --> EN'] = mean_accuracy_dict_lt2en['top-1'], mean_accuracy_dict_lt2en['top-3'], mean_accuracy_dict_lt2en['top-5']\n",
        "comparison_t2s_dict_mean['HE --> EN'] = mean_accuracy_dict_he2en['top-1'], mean_accuracy_dict_he2en['top-3'], mean_accuracy_dict_he2en['top-5']\n",
        "comparison_t2s_dict_mean['AR --> EN'] = mean_accuracy_dict_ar2en['top-1'], mean_accuracy_dict_ar2en['top-3'], mean_accuracy_dict_ar2en['top-5']\n",
        "comparison_t2s_dict_mean['IS --> EN'] = mean_accuracy_dict_is2en['top-1'], mean_accuracy_dict_is2en['top-3'], mean_accuracy_dict_is2en['top-5']\n",
        "comparison_t2s_df_mean = pd.DataFrame(comparison_t2s_dict_mean, index=['TOP1', 'TOP2', 'TOP3'])\n",
        "comparison_t2s_df_mean = comparison_t2s_df_mean.T\n",
        "print(\"***********Mean Pooling: Target to Source*************\")\n",
        "comparison_t2s_df_mean"
      ],
      "execution_count": 0,
      "outputs": [
        {
          "output_type": "stream",
          "text": [
            "***********Mean Pooling: Target to Source*************\n"
          ],
          "name": "stdout"
        },
        {
          "output_type": "execute_result",
          "data": {
            "text/html": [
              "<div>\n",
              "<style scoped>\n",
              "    .dataframe tbody tr th:only-of-type {\n",
              "        vertical-align: middle;\n",
              "    }\n",
              "\n",
              "    .dataframe tbody tr th {\n",
              "        vertical-align: top;\n",
              "    }\n",
              "\n",
              "    .dataframe thead th {\n",
              "        text-align: right;\n",
              "    }\n",
              "</style>\n",
              "<table border=\"1\" class=\"dataframe\">\n",
              "  <thead>\n",
              "    <tr style=\"text-align: right;\">\n",
              "      <th></th>\n",
              "      <th>TOP1</th>\n",
              "      <th>TOP2</th>\n",
              "      <th>TOP3</th>\n",
              "    </tr>\n",
              "  </thead>\n",
              "  <tbody>\n",
              "    <tr>\n",
              "      <th>RU --&gt; EN</th>\n",
              "      <td>0.150000</td>\n",
              "      <td>0.255400</td>\n",
              "      <td>0.281800</td>\n",
              "    </tr>\n",
              "    <tr>\n",
              "      <th>ES --&gt; EN</th>\n",
              "      <td>0.229000</td>\n",
              "      <td>0.317100</td>\n",
              "      <td>0.337500</td>\n",
              "    </tr>\n",
              "    <tr>\n",
              "      <th>FR --&gt; EN</th>\n",
              "      <td>0.233700</td>\n",
              "      <td>0.356100</td>\n",
              "      <td>0.379000</td>\n",
              "    </tr>\n",
              "    <tr>\n",
              "      <th>IT --&gt; EN</th>\n",
              "      <td>0.084500</td>\n",
              "      <td>0.222300</td>\n",
              "      <td>0.237600</td>\n",
              "    </tr>\n",
              "    <tr>\n",
              "      <th>DE --&gt; EN</th>\n",
              "      <td>0.187800</td>\n",
              "      <td>0.290500</td>\n",
              "      <td>0.311400</td>\n",
              "    </tr>\n",
              "    <tr>\n",
              "      <th>FI --&gt; EN</th>\n",
              "      <td>0.044813</td>\n",
              "      <td>0.082625</td>\n",
              "      <td>0.096829</td>\n",
              "    </tr>\n",
              "    <tr>\n",
              "      <th>JA --&gt; EN</th>\n",
              "      <td>0.081400</td>\n",
              "      <td>0.139100</td>\n",
              "      <td>0.158500</td>\n",
              "    </tr>\n",
              "    <tr>\n",
              "      <th>HI --&gt; EN</th>\n",
              "      <td>0.070649</td>\n",
              "      <td>0.125948</td>\n",
              "      <td>0.150731</td>\n",
              "    </tr>\n",
              "    <tr>\n",
              "      <th>TR --&gt; EN</th>\n",
              "      <td>0.052400</td>\n",
              "      <td>0.081500</td>\n",
              "      <td>0.094400</td>\n",
              "    </tr>\n",
              "    <tr>\n",
              "      <th>VI --&gt; EN</th>\n",
              "      <td>0.265613</td>\n",
              "      <td>0.362302</td>\n",
              "      <td>0.400677</td>\n",
              "    </tr>\n",
              "    <tr>\n",
              "      <th>LT --&gt; EN</th>\n",
              "      <td>0.048474</td>\n",
              "      <td>0.085630</td>\n",
              "      <td>0.099409</td>\n",
              "    </tr>\n",
              "    <tr>\n",
              "      <th>HE --&gt; EN</th>\n",
              "      <td>0.077400</td>\n",
              "      <td>0.132500</td>\n",
              "      <td>0.149700</td>\n",
              "    </tr>\n",
              "    <tr>\n",
              "      <th>AR --&gt; EN</th>\n",
              "      <td>0.051272</td>\n",
              "      <td>0.086621</td>\n",
              "      <td>0.101142</td>\n",
              "    </tr>\n",
              "    <tr>\n",
              "      <th>IS --&gt; EN</th>\n",
              "      <td>0.062526</td>\n",
              "      <td>0.106401</td>\n",
              "      <td>0.124629</td>\n",
              "    </tr>\n",
              "  </tbody>\n",
              "</table>\n",
              "</div>"
            ],
            "text/plain": [
              "               TOP1      TOP2      TOP3\n",
              "RU --> EN  0.150000  0.255400  0.281800\n",
              "ES --> EN  0.229000  0.317100  0.337500\n",
              "FR --> EN  0.233700  0.356100  0.379000\n",
              "IT --> EN  0.084500  0.222300  0.237600\n",
              "DE --> EN  0.187800  0.290500  0.311400\n",
              "FI --> EN  0.044813  0.082625  0.096829\n",
              "JA --> EN  0.081400  0.139100  0.158500\n",
              "HI --> EN  0.070649  0.125948  0.150731\n",
              "TR --> EN  0.052400  0.081500  0.094400\n",
              "VI --> EN  0.265613  0.362302  0.400677\n",
              "LT --> EN  0.048474  0.085630  0.099409\n",
              "HE --> EN  0.077400  0.132500  0.149700\n",
              "AR --> EN  0.051272  0.086621  0.101142\n",
              "IS --> EN  0.062526  0.106401  0.124629"
            ]
          },
          "metadata": {
            "tags": []
          },
          "execution_count": 105
        }
      ]
    }
  ]
}